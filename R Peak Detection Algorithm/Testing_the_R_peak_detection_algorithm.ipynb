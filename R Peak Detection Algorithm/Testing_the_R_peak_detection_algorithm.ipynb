{
 "cells": [
  {
   "cell_type": "code",
   "execution_count": 1,
   "id": "insured-writing",
   "metadata": {},
   "outputs": [],
   "source": [
    "import numpy as np\n",
    "import math\n",
    "from numpy import load\n",
    "import pandas as pd\n",
    "import matplotlib.pyplot as plt\n",
    "import seaborn as sns\n",
    "from scipy.signal import butter, iirnotch, sosfilt, sosfreqz, lfilter, filtfilt\n",
    "import biosppy\n",
    "from sklearn.utils import resample\n",
    "from sklearn.model_selection import train_test_split\n",
    "from sklearn.metrics import classification_report, confusion_matrix"
   ]
  },
  {
   "cell_type": "code",
   "execution_count": 2,
   "id": "falling-tactics",
   "metadata": {},
   "outputs": [],
   "source": [
    "plt.rcParams[\"figure.figsize\"] = (10,5)"
   ]
  },
  {
   "cell_type": "code",
   "execution_count": 3,
   "id": "biblical-geneva",
   "metadata": {},
   "outputs": [],
   "source": [
    "def butter_highpass(cutoff, sample_rate, order, data):\n",
    "    nyq = 0.5 * sample_rate\n",
    "    normal_cutoff = cutoff / nyq\n",
    "    b, a = butter(order, normal_cutoff, btype='high', analog=False)\n",
    "    final_filtered_highpass = filtfilt(b, a, data)\n",
    "    return final_filtered_highpass\n",
    "\n",
    "\n",
    "def butter_lowpass(cutoff, sample_rate, order, data, slice=-1):\n",
    "    nyq = 0.5 * sample_rate\n",
    "    normal_cutoff = cutoff / nyq\n",
    "    b, a = butter(order, normal_cutoff, btype='low', analog=False)\n",
    "    filtered_lowpass = lfilter(b, a, data)\n",
    "    return filtered_lowpass\n",
    "\n",
    "\n",
    "def moving_average_filter(x, w):\n",
    "    m_a_filtered = np.convolve(x, np.ones(w), 'same') / w\n",
    "    return m_a_filtered\n",
    "\n",
    "\n",
    "def filter_data(data, sample_rate=100):\n",
    "    filtered_data_low = butter_lowpass(41.09, sample_rate, 5, data)\n",
    "    filtered_data_high = butter_highpass(0.48, sample_rate, 2, filtered_data_low)\n",
    "    #final_filtered_data = moving_average_filter(filtered_data_high, 3)\n",
    "    return filtered_data_high"
   ]
  },
  {
   "cell_type": "code",
   "execution_count": 4,
   "id": "recreational-minutes",
   "metadata": {},
   "outputs": [],
   "source": [
    "def correct_rpeaks(signal, rpeaks=None, sampling_rate=100, tol=0.05):\n",
    "    \"\"\"Correct R-peak locations to the maximum within a tolerance.\n",
    "    Parameters\n",
    "    ----------\n",
    "    signal : array\n",
    "        ECG signal.\n",
    "    rpeaks : array\n",
    "        R-peak location indices.\n",
    "    sampling_rate : int, float, optional\n",
    "        Sampling frequency (Hz).\n",
    "    tol : int, float, optional\n",
    "        Correction tolerance (seconds).\n",
    "    Returns\n",
    "    -------\n",
    "    rpeaks : array\n",
    "        Cerrected R-peak location indices.\n",
    "    Notes\n",
    "    -----\n",
    "    * The tolerance is defined as the time interval :math:`[R-tol, R+tol[`.\n",
    "    \"\"\"\n",
    "\n",
    "    # check inputs\n",
    "    if signal is None:\n",
    "        raise TypeError(\"Please specify an input signal.\")\n",
    "\n",
    "    if rpeaks is None:\n",
    "        raise TypeError(\"Please specify the input R-peaks.\")\n",
    "\n",
    "    tol = int(tol * sampling_rate)\n",
    "    length = len(signal)\n",
    "\n",
    "    newR = []\n",
    "    for r in rpeaks:\n",
    "        a = r - tol\n",
    "        if a < 0:\n",
    "            continue\n",
    "        b = r + tol\n",
    "        if b > length:\n",
    "            break\n",
    "        newR.append(a + np.argmax(signal[a:b]))\n",
    "\n",
    "    newR = sorted(list(set(newR)))\n",
    "    newR = np.array(newR, dtype='int')\n",
    "\n",
    "    return newR"
   ]
  },
  {
   "cell_type": "code",
   "execution_count": 5,
   "id": "certified-meter",
   "metadata": {},
   "outputs": [],
   "source": [
    "def _extract_heartbeats(signal=None, rpeaks=None, before=400, after=600):\n",
    "    \"\"\"Extract heartbeat templates from an ECG signal, given a list of\n",
    "    R-peak locations.\n",
    "    Parameters\n",
    "    ----------\n",
    "    signal : array\n",
    "        Input ECG signal.\n",
    "    rpeaks : array\n",
    "        R-peak location indices.\n",
    "    before : int, optional\n",
    "        Number of samples to include before the R peak.\n",
    "    after : int, optional\n",
    "        Number of samples to include after the R peak.\n",
    "    Returns\n",
    "    -------\n",
    "    templates : array\n",
    "        Extracted heartbeat templates.\n",
    "    rpeaks : array\n",
    "        Corresponding R-peak location indices of the extracted heartbeat\n",
    "        templates.\n",
    "    \"\"\"\n",
    "\n",
    "    R = np.sort(rpeaks)\n",
    "    length = len(signal)\n",
    "    templates = []\n",
    "    newR = []\n",
    "\n",
    "    for r in R:\n",
    "        a = r - before\n",
    "        if a < 0:\n",
    "            continue\n",
    "        b = r + after\n",
    "        if b > length:\n",
    "            break\n",
    "        templates.append(signal[a:b])\n",
    "        newR.append(r)\n",
    "\n",
    "    templates = np.array(templates)\n",
    "    newR = np.array(newR, dtype='int')\n",
    "\n",
    "    return templates, newR"
   ]
  },
  {
   "cell_type": "code",
   "execution_count": 6,
   "id": "interim-spring",
   "metadata": {},
   "outputs": [],
   "source": [
    "def extract_heartbeats(signal=None, rpeaks=None, sampling_rate=1000.,\n",
    "                       before=0.4, after=0.6):\n",
    "    \"\"\"Extract heartbeat templates from an ECG signal, given a list of\n",
    "    R-peak locations.\n",
    "    Parameters\n",
    "    ----------\n",
    "    signal : array\n",
    "        Input ECG signal.\n",
    "    rpeaks : array\n",
    "        R-peak location indices.\n",
    "    sampling_rate : int, float, optional\n",
    "        Sampling frequency (Hz).\n",
    "    before : float, optional\n",
    "        Window size to include before the R peak (seconds).\n",
    "    after : int, optional\n",
    "        Window size to include after the R peak (seconds).\n",
    "    Returns\n",
    "    -------\n",
    "    templates : array\n",
    "        Extracted heartbeat templates.\n",
    "    rpeaks : array\n",
    "        Corresponding R-peak location indices of the extracted heartbeat\n",
    "        templates.\n",
    "    \"\"\"\n",
    "\n",
    "    # check inputs\n",
    "    if signal is None:\n",
    "        raise TypeError(\"Please specify an input signal.\")\n",
    "\n",
    "    if rpeaks is None:\n",
    "        raise TypeError(\"Please specify the input R-peak locations.\")\n",
    "\n",
    "    if before < 0:\n",
    "        raise ValueError(\"Please specify a non-negative 'before' value.\")\n",
    "    if after < 0:\n",
    "        raise ValueError(\"Please specify a non-negative 'after' value.\")\n",
    "\n",
    "    # convert delimiters to samples\n",
    "    before = int(before * sampling_rate)\n",
    "    after = int(after * sampling_rate)\n",
    "\n",
    "    # get heartbeats\n",
    "    templates, newR = _extract_heartbeats(signal=signal,\n",
    "                                          rpeaks=rpeaks,\n",
    "                                          before=before,\n",
    "                                          after=after)\n",
    "\n",
    "    return templates, newR"
   ]
  },
  {
   "cell_type": "code",
   "execution_count": 7,
   "id": "opposed-detail",
   "metadata": {},
   "outputs": [],
   "source": [
    "def get_complete_Heartbit(sample, sampling_rate=100,plot=True):\n",
    "    filtered_sample = filter_data(sample,sampling_rate)\n",
    "    data = filtered_sample.T\n",
    "    signals = []\n",
    "    indices = []\n",
    "    count = 1\n",
    "    peaks = biosppy.signals.ecg.christov_segmenter(\n",
    "        signal=data, sampling_rate=sampling_rate)[0]\n",
    "    rpeaks = correct_rpeaks(signal=data,rpeaks=peaks, sampling_rate=100,tol=0.05)\n",
    "    print(rpeaks)\n",
    "    templates, rpeaks = extract_heartbeats(signal=data,rpeaks=rpeaks,sampling_rate=100,before=0.4,after=0.6)\n",
    "    if plot:\n",
    "        ts_tmpl = np.linspace(-0.4, 0.6, templates.shape[1], endpoint=False)\n",
    "        fig = plt.figure()\n",
    "        gs = gridspec.GridSpec(6, 2)\n",
    "        ax4 = fig.add_subplot(gs[1:5, 1])\n",
    "        plt.plot(ts_tmpl, templates.T, 'm', linewidth=1.5, alpha=0.7)\n",
    "        ax4.set_xlabel('Time (s)')\n",
    "        ax4.set_ylabel('Amplitude')\n",
    "        ax4.set_title('Templates')\n",
    "        ax4.grid()\n",
    "    #return templates, rpeaks\n",
    "    return templates"
   ]
  },
  {
   "cell_type": "code",
   "execution_count": 8,
   "id": "passing-passion",
   "metadata": {},
   "outputs": [],
   "source": [
    "def get_heart_beat(data):\n",
    "    templates = []\n",
    "    templates_aux = []\n",
    "    for i in range(len(data)-1): \n",
    "        templates_aux = get_complete_Heartbit(data[i], 100,False)\n",
    "        k = len(templates);\n",
    "        for j in range(len(templates_aux)-1):\n",
    "            templates.append(templates_aux[j])\n",
    "    return np.array(templates)"
   ]
  },
  {
   "cell_type": "code",
   "execution_count": 9,
   "id": "proof-short",
   "metadata": {},
   "outputs": [],
   "source": [
    "def maior_valor_sinal(sinal):\n",
    "    maior_valor = 0\n",
    "    for i in range(len(sinal)):\n",
    "        if(sinal[i] > maior_valor):\n",
    "            maior_valor = sinal[i]\n",
    "    return maior_valor"
   ]
  },
  {
   "cell_type": "code",
   "execution_count": 10,
   "id": "conceptual-morning",
   "metadata": {},
   "outputs": [],
   "source": [
    "def R_peak_detection(sinal):\n",
    "    sinal = filter_data(sinal,100)\n",
    "    indice_aux = 0\n",
    "    indice_maximo = []\n",
    "    valor_aux = 0\n",
    "    valor_maximo = []\n",
    "    flag_contagem = 0\n",
    "    indice_temp = 0\n",
    "    valor_temp = 0\n",
    "    i = 0\n",
    "    valor_referencia = maior_valor_sinal(sinal)*0.5\n",
    "    while i < len(sinal):\n",
    "        if(sinal[i] > (valor_referencia)):\n",
    "            indice_aux = i;\n",
    "            valor_aux = sinal[i];\n",
    "            for x in range(5):\n",
    "                if(sinal[indice_aux+x] > valor_aux):\n",
    "                    indice_temp = indice_aux + x\n",
    "                    valor_temp = sinal[indice_aux + x]\n",
    "                    valor_aux = sinal[indice_aux+x]\n",
    "                else:\n",
    "                    flag_contagem = flag_contagem + 1\n",
    "            indice_maximo.append(indice_temp) \n",
    "            valor_maximo.append(valor_temp) \n",
    "            if(flag_contagem == 5):\n",
    "                indice_maximo.append(i) \n",
    "                valor_maximo.append(sinal[i]) \n",
    "            flag_contagem = 0\n",
    "            indice_temp = 0\n",
    "            valor_temp = 0\n",
    "            indice_aux = 0\n",
    "            valor_aux = 0\n",
    "            #print(indice_temp+i)\n",
    "            #print(indice_maximo)\n",
    "            i = i + 10\n",
    "        i = i + 1\n",
    "    contador_zeros = 0\n",
    "    for j in range (len(indice_maximo)):\n",
    "        if(indice_maximo[j] == 0):\n",
    "            contador_zeros = contador_zeros + 1\n",
    "    for k in range (len(indice_maximo) - contador_zeros):\n",
    "        if(indice_maximo[k] == 0):\n",
    "            indice_maximo = np.delete(indice_maximo, k)\n",
    "    return indice_maximo"
   ]
  },
  {
   "cell_type": "markdown",
   "id": "incomplete-sound",
   "metadata": {},
   "source": [
    "### Testing the final function with data collected in the SimMan simulator (SR - with noise):"
   ]
  },
  {
   "cell_type": "code",
   "execution_count": 12,
   "id": "beginning-basics",
   "metadata": {},
   "outputs": [],
   "source": [
    "df = pd.read_csv(\"ecg_data_boneco_sr_com_ruido.csv\")\n",
    "X = df['values'].values.astype('float32')"
   ]
  },
  {
   "cell_type": "code",
   "execution_count": 13,
   "id": "executed-anthony",
   "metadata": {},
   "outputs": [
    {
     "name": "stdout",
     "output_type": "stream",
     "text": [
      "[  56  130  204  278  353  428  502  576  651  725  802  878  954 1031\n",
      " 1108 1185 1261 1338 1415 1492 1570 1646 1723 1800 1878 1955 2033 2110\n",
      " 2187 2263 2338 2412 2485 2559 2632 2705 2780 2855 2930 3006 3082 3159\n",
      " 3236 3312 3387 3464 3539 3615 3690 3764 3840 3916]\n"
     ]
    }
   ],
   "source": [
    "X_sr = get_complete_Heartbit(X, sampling_rate=100, plot=False)"
   ]
  },
  {
   "cell_type": "code",
   "execution_count": 14,
   "id": "checked-outreach",
   "metadata": {},
   "outputs": [
    {
     "data": {
      "text/plain": [
       "[56,\n",
       " 130,\n",
       " 204,\n",
       " 278,\n",
       " 353,\n",
       " 428,\n",
       " 502,\n",
       " 576,\n",
       " 651,\n",
       " 725,\n",
       " 802,\n",
       " 878,\n",
       " 954,\n",
       " 1031,\n",
       " 1108,\n",
       " 1185,\n",
       " 1261,\n",
       " 1338,\n",
       " 1415,\n",
       " 1492,\n",
       " 1570,\n",
       " 1646,\n",
       " 1723,\n",
       " 1800,\n",
       " 1878,\n",
       " 1955,\n",
       " 2033,\n",
       " 2110,\n",
       " 2187,\n",
       " 2263,\n",
       " 2338,\n",
       " 2412,\n",
       " 2485,\n",
       " 2559,\n",
       " 2632,\n",
       " 2705,\n",
       " 2780,\n",
       " 2855,\n",
       " 2930,\n",
       " 3006,\n",
       " 3082,\n",
       " 3159,\n",
       " 3236,\n",
       " 3312,\n",
       " 3387,\n",
       " 3464,\n",
       " 3539,\n",
       " 3615,\n",
       " 3690,\n",
       " 3764,\n",
       " 3840,\n",
       " 3916]"
      ]
     },
     "execution_count": 14,
     "metadata": {},
     "output_type": "execute_result"
    }
   ],
   "source": [
    "R_peak_detection(X)"
   ]
  },
  {
   "cell_type": "markdown",
   "id": "viral-plant",
   "metadata": {},
   "source": [
    "### Testing the final function with data collected in the SimMan simulator (SR - no noise):"
   ]
  },
  {
   "cell_type": "code",
   "execution_count": 16,
   "id": "broadband-opening",
   "metadata": {},
   "outputs": [],
   "source": [
    "df = pd.read_csv(\"ecg_data_boneco_sr_sem_ruido.csv\")\n",
    "X = df['values'].values.astype('float32')"
   ]
  },
  {
   "cell_type": "code",
   "execution_count": 17,
   "id": "compound-relation",
   "metadata": {},
   "outputs": [
    {
     "name": "stdout",
     "output_type": "stream",
     "text": [
      "[  65  143  218  293  367  440  515  589  662  736  809  883  957 1031\n",
      " 1104 1178 1253 1328 1403 1479 1555 1631 1706 1782 1857 1933 2008 2084\n",
      " 2159 2234 2309 2384 2459 2533 2608 2684 2759 2835 2912 2988]\n"
     ]
    }
   ],
   "source": [
    "X_sr = get_complete_Heartbit(X, sampling_rate=100, plot=False)"
   ]
  },
  {
   "cell_type": "code",
   "execution_count": 18,
   "id": "nominated-borough",
   "metadata": {},
   "outputs": [
    {
     "data": {
      "text/plain": [
       "[65,\n",
       " 143,\n",
       " 218,\n",
       " 293,\n",
       " 367,\n",
       " 440,\n",
       " 515,\n",
       " 589,\n",
       " 662,\n",
       " 736,\n",
       " 809,\n",
       " 883,\n",
       " 957,\n",
       " 1031,\n",
       " 1104,\n",
       " 1178,\n",
       " 1253,\n",
       " 1328,\n",
       " 1403,\n",
       " 1479,\n",
       " 1555,\n",
       " 1631,\n",
       " 1706,\n",
       " 1782,\n",
       " 1857,\n",
       " 1933,\n",
       " 2008,\n",
       " 2084,\n",
       " 2159,\n",
       " 2234,\n",
       " 2309,\n",
       " 2384,\n",
       " 2459,\n",
       " 2533,\n",
       " 2608,\n",
       " 2684,\n",
       " 2759,\n",
       " 2835,\n",
       " 2912,\n",
       " 2988]"
      ]
     },
     "execution_count": 18,
     "metadata": {},
     "output_type": "execute_result"
    }
   ],
   "source": [
    "R_peak_detection(X)"
   ]
  },
  {
   "cell_type": "markdown",
   "id": "compound-impression",
   "metadata": {},
   "source": [
    "### Testing the final function with data collected in the SimMan simulator (AFIB - with noise):"
   ]
  },
  {
   "cell_type": "code",
   "execution_count": 26,
   "id": "certified-belarus",
   "metadata": {},
   "outputs": [],
   "source": [
    "df = pd.read_csv(\"ecg_data_boneco_afib_com_ruido.csv\")\n",
    "X = df['values'].values.astype('float32')"
   ]
  },
  {
   "cell_type": "code",
   "execution_count": 27,
   "id": "congressional-cylinder",
   "metadata": {},
   "outputs": [
    {
     "name": "stdout",
     "output_type": "stream",
     "text": [
      "[  72  111  152  221  261  328  445  516  582  624  733  783  862  980\n",
      " 1049 1116 1158 1282 1346 1405 1442 1512 1598 1724 1793 1865 1908 2039\n",
      " 2077 2183 2316 2359 2481 2561 2685 2753 2821 2933 2989 3032 3102 3173\n",
      " 3212 3379 3451 3493 3602 3672 3781 3848 3913 4007 4085 4137 4179 4249\n",
      " 4317 4389 4454 4629 4698 4845 4976 5046 5294 5515 5623 5661 5767 5803\n",
      " 5871 5978 6081 6180 6252 6375 6463 6515 6572 6729 6919 6961 7046 7084\n",
      " 7127 7204 7251 7301 7367 7433 7475 7605 7647 7800 7859 7997 8132 8170\n",
      " 8212 8283 8399 8515 8726 8769 8911 8949 9022]\n"
     ]
    }
   ],
   "source": [
    "X_sr = get_complete_Heartbit(X, sampling_rate=100, plot=False)"
   ]
  },
  {
   "cell_type": "code",
   "execution_count": 28,
   "id": "automatic-specification",
   "metadata": {},
   "outputs": [
    {
     "data": {
      "text/plain": [
       "array([   3,   72,  111,  152,  221,  261,  328,  373,  516,  582,  624,\n",
       "        665,  733,  783,  862,  911,  980, 1049, 1116, 1158, 1282, 1346,\n",
       "       1405, 1442, 1512, 1560, 1598, 1667, 1724, 1793, 1865, 1908, 1980,\n",
       "       2077, 2117, 2183, 2251, 2316, 2359, 2419, 2522, 2561, 2600, 2645,\n",
       "       2753, 2821, 2867, 2989, 3032, 3102, 3173, 3212, 3323, 3379, 3451,\n",
       "       3493, 3563, 3602, 3743, 3781, 3913, 3953, 4007, 4045, 4085, 4137,\n",
       "       4179, 4249, 4317, 4389, 4454, 4493, 4558, 4629, 4698, 4778, 4845,\n",
       "       4911, 4976, 5046, 5085, 5153, 5224, 5333, 5477, 5515, 5583, 5623,\n",
       "       5661, 5699, 5767, 5803, 5871, 5909, 5978, 6017, 6081, 6119, 6180,\n",
       "       6252, 6292, 6375, 6421, 6463, 6515, 6572, 6612, 6729, 6768, 6807,\n",
       "       6879, 6919, 6961, 7046, 7084, 7127, 7166, 7204, 7251, 7301, 7367,\n",
       "       7433, 7475, 7535, 7605, 7647, 7685, 7735, 7800, 7859, 7897, 7936,\n",
       "       7997, 8132, 8212, 8283, 8322, 8361, 8399, 8446, 8515, 8582, 8655,\n",
       "       8726, 8769, 8841, 8911, 8949, 9022, 9049, 9061])"
      ]
     },
     "execution_count": 28,
     "metadata": {},
     "output_type": "execute_result"
    }
   ],
   "source": [
    "R_peak_detection(X)"
   ]
  },
  {
   "cell_type": "code",
   "execution_count": 30,
   "id": "strong-surfing",
   "metadata": {},
   "outputs": [
    {
     "data": {
      "text/plain": [
       "[<matplotlib.lines.Line2D at 0x2214d9d1760>]"
      ]
     },
     "execution_count": 30,
     "metadata": {},
     "output_type": "execute_result"
    },
    {
     "data": {
      "image/png": "[encoded data removed]",
      "text/plain": [
       "<Figure size 720x360 with 1 Axes>"
      ]
     },
     "metadata": {
      "needs_background": "light"
     },
     "output_type": "display_data"
    }
   ],
   "source": [
    "plt.plot(X[:100])"
   ]
  },
  {
   "cell_type": "code",
   "execution_count": 32,
   "id": "verified-rebecca",
   "metadata": {},
   "outputs": [
    {
     "data": {
      "text/plain": [
       "[<matplotlib.lines.Line2D at 0x2214daa8730>]"
      ]
     },
     "execution_count": 32,
     "metadata": {},
     "output_type": "execute_result"
    },
    {
     "data": {
      "image/png": "[encoded data removed]",
      "text/plain": [
       "<Figure size 720x360 with 1 Axes>"
      ]
     },
     "metadata": {
      "needs_background": "light"
     },
     "output_type": "display_data"
    }
   ],
   "source": [
    "plt.plot(X[250:450])"
   ]
  },
  {
   "cell_type": "markdown",
   "id": "dying-brisbane",
   "metadata": {},
   "source": [
    "### Testing the final function with data collected in the SimMan simulator (AFIB - no noise):"
   ]
  },
  {
   "cell_type": "code",
   "execution_count": 33,
   "id": "statistical-fantasy",
   "metadata": {},
   "outputs": [],
   "source": [
    "df = pd.read_csv(\"ecg_data_boneco_afib_sem_ruido.csv\")\n",
    "X = df['values'].values.astype('float32')"
   ]
  },
  {
   "cell_type": "code",
   "execution_count": 34,
   "id": "biblical-mission",
   "metadata": {},
   "outputs": [
    {
     "name": "stdout",
     "output_type": "stream",
     "text": [
      "[  27   98  179  219  279  349  388  449  494  566  638  708  749  823\n",
      "  896  969 1043 1107 1162 1224 1293 1354 1422 1529 1599 1668 1740 1808\n",
      " 1847 1917 1989 2054 2117 2188 2256 2297 2336 2375 2416 2483 2561 2599\n",
      " 2669 2707 2777 2821 2930 3040 3118 3189 3256 3327 3392 3518 3589 3663\n",
      " 3714 3755 3826 3865 3909 3982 4052 4092 4189 4261 4304 4383 4454 4494\n",
      " 4535 4605 4677 4719 4758 4797 4866 4906 4949 5021 5060 5129 5168 5237\n",
      " 5279 5349 5416 5454 5520 5589 5660 5730 5793 5864 5906 5945 5983 6023\n",
      " 6094 6164 6234 6349 6465 6570 6623 6693 6732 6776 6817 6856 6929 6983\n",
      " 7055 7118 7158 7269 7309 7380 7433 7510 7581 7620 7690 7734 7803 7876\n",
      " 7915 7988 8027 8068 8140 8180 8222 8261 8301 8370 8424 8464]\n"
     ]
    }
   ],
   "source": [
    "X_sr = get_complete_Heartbit(X, sampling_rate=100, plot=False)"
   ]
  },
  {
   "cell_type": "code",
   "execution_count": 35,
   "id": "suspected-possible",
   "metadata": {},
   "outputs": [
    {
     "data": {
      "text/plain": [
       "array([  27,   98,  139,  179,  219,  279,  349,  388,  449,  494,  566,\n",
       "        638,  708,  749,  823,  896,  969, 1043, 1107, 1162, 1224, 1293,\n",
       "       1354, 1422, 1460, 1529, 1599, 1668, 1740, 1808, 1847, 1917, 1989,\n",
       "       2054, 2117, 2188, 2256, 2297, 2336, 2375, 2416, 2483, 2522, 2561,\n",
       "       2599, 2669, 2707, 2777, 2821, 2861, 2930, 2999, 3040, 3079, 3118,\n",
       "       3189, 3256, 3327, 3392, 3454, 3518, 3589, 3663, 3714, 3755, 3826,\n",
       "       3865, 3909, 3982, 4052, 4092, 4134, 4189, 4261, 4304, 4343, 4383,\n",
       "       4454, 4494, 4535, 4605, 4677, 4719, 4758, 4797, 4866, 4906, 4949,\n",
       "       5021, 5060, 5129, 5168, 5237, 5279, 5349, 5416, 5454, 5520, 5589,\n",
       "       5660, 5730, 5793, 5864, 5906, 5945, 5983, 6023, 6094, 6164, 6234,\n",
       "       6279, 6349, 6396, 6465, 6532, 6570, 6623, 6693, 6732, 6776, 6817,\n",
       "       6856, 6929, 6983, 7055, 7118, 7158, 7199, 7269, 7309, 7380, 7433,\n",
       "       7472, 7510, 7581, 7620, 7690, 7734, 7803, 7876, 7915, 7988, 8027,\n",
       "       8068, 8140, 8180, 8222, 8261, 8301, 8370, 8424, 8464])"
      ]
     },
     "execution_count": 35,
     "metadata": {},
     "output_type": "execute_result"
    }
   ],
   "source": [
    "R_peak_detection(X)"
   ]
  },
  {
   "cell_type": "code",
   "execution_count": 36,
   "id": "racial-straight",
   "metadata": {},
   "outputs": [
    {
     "data": {
      "text/plain": [
       "[<matplotlib.lines.Line2D at 0x2214db1a520>]"
      ]
     },
     "execution_count": 36,
     "metadata": {},
     "output_type": "execute_result"
    },
    {
     "data": {
      "image/png": "[encoded data removed]",
      "text/plain": [
       "<Figure size 720x360 with 1 Axes>"
      ]
     },
     "metadata": {
      "needs_background": "light"
     },
     "output_type": "display_data"
    }
   ],
   "source": [
    "plt.plot(X[100:200])"
   ]
  }
 ],
 "metadata": {
  "kernelspec": {
   "display_name": "Python 3",
   "language": "python",
   "name": "python3"
  },
  "language_info": {
   "codemirror_mode": {
    "name": "ipython",
    "version": 3
   },
   "file_extension": ".py",
   "mimetype": "text/x-python",
   "name": "python",
   "nbconvert_exporter": "python",
   "pygments_lexer": "ipython3",
   "version": "3.8.3"
  }
 },
 "nbformat": 4,
 "nbformat_minor": 5
}
