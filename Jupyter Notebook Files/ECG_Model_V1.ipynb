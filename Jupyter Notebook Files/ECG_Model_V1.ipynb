{
 "cells": [
  {
   "cell_type": "markdown",
   "metadata": {},
   "source": [
    "# ECG Train Model V1"
   ]
  },
  {
   "cell_type": "markdown",
   "metadata": {},
   "source": [
    "## Import Libraries and setup"
   ]
  },
  {
   "cell_type": "code",
   "execution_count": 3,
   "metadata": {
    "ExecuteTime": {
     "end_time": "2021-06-01T18:52:45.475209Z",
     "start_time": "2021-06-01T18:52:45.463983Z"
    }
   },
   "outputs": [],
   "source": [
    "import numpy as np\n",
    "import pandas as pd\n",
    "import matplotlib.pyplot as plt\n",
    "import seaborn as sns\n",
    "from scipy.signal import butter, iirnotch, sosfilt, sosfreqz, lfilter, filtfilt\n",
    "import biosppy\n",
    "\n",
    "import tensorflow as tf\n",
    "from tensorflow.keras import Sequential,utils\n",
    "from tensorflow.keras.layers import Input, Flatten, Dense, Conv1D, MaxPooling1D, Dropout\n",
    "from tensorflow.keras.optimizers import Adam\n",
    "from tensorflow.keras.callbacks import EarlyStopping\n",
    "from tensorflow.keras.models import load_model\n",
    "\n",
    "from sklearn.utils import resample\n",
    "from sklearn.model_selection import train_test_split\n",
    "from sklearn.metrics import classification_report, confusion_matrix\n",
    "\n",
    "plt.rcParams[\"figure.figsize\"] = (10,5)"
   ]
  },
  {
   "cell_type": "markdown",
   "metadata": {},
   "source": [
    "## Main Functions"
   ]
  },
  {
   "cell_type": "code",
   "execution_count": 2,
   "metadata": {
    "ExecuteTime": {
     "end_time": "2021-06-01T14:39:06.595713Z",
     "start_time": "2021-06-01T14:39:06.589559Z"
    }
   },
   "outputs": [],
   "source": [
    "def butter_highpass(cutoff, sample_rate, order, data):\n",
    "    nyq = 0.5 * sample_rate\n",
    "    normal_cutoff = cutoff / nyq\n",
    "    b, a = butter(order, normal_cutoff, btype='high', analog=False)\n",
    "    final_filtered_highpass = filtfilt(b, a, data)\n",
    "    return final_filtered_highpass\n",
    "\n",
    "\n",
    "def butter_lowpass(cutoff, sample_rate, order, data, slice=-1):\n",
    "    nyq = 0.5 * sample_rate\n",
    "    normal_cutoff = cutoff / nyq\n",
    "    b, a = butter(order, normal_cutoff, btype='low', analog=False)\n",
    "    filtered_lowpass = lfilter(b, a, data)\n",
    "    return filtered_lowpass\n",
    "\n",
    "\n",
    "def moving_average_filter(x, w):\n",
    "    m_a_filtered = np.convolve(x, np.ones(w), 'same') / w\n",
    "    return m_a_filtered\n",
    "\n",
    "\n",
    "def filter_data(data, sample_rate=100):\n",
    "    filtered_data_low = butter_lowpass(41.09, sample_rate, 5, data)\n",
    "    filtered_data_high = butter_highpass(0.48, sample_rate, 2, filtered_data_low)\n",
    "    #final_filtered_data = moving_average_filter(filtered_data_high, 3)\n",
    "    return filtered_data_high"
   ]
  },
  {
   "cell_type": "code",
   "execution_count": 4,
   "metadata": {
    "ExecuteTime": {
     "end_time": "2021-06-01T14:39:49.624876Z",
     "start_time": "2021-06-01T14:39:49.617502Z"
    }
   },
   "outputs": [],
   "source": [
    "def correct_rpeaks(signal, rpeaks=None, sampling_rate=100, tol=0.05):\n",
    "    \"\"\"Correct R-peak locations to the maximum within a tolerance.\n",
    "    Parameters\n",
    "    ----------\n",
    "    signal : array\n",
    "        ECG signal.\n",
    "    rpeaks : array\n",
    "        R-peak location indices.\n",
    "    sampling_rate : int, float, optional\n",
    "        Sampling frequency (Hz).\n",
    "    tol : int, float, optional\n",
    "        Correction tolerance (seconds).\n",
    "    Returns\n",
    "    -------\n",
    "    rpeaks : array\n",
    "        Cerrected R-peak location indices.\n",
    "    Notes\n",
    "    -----\n",
    "    * The tolerance is defined as the time interval :math:`[R-tol, R+tol[`.\n",
    "    \"\"\"\n",
    "\n",
    "    # check inputs\n",
    "    if signal is None:\n",
    "        raise TypeError(\"Please specify an input signal.\")\n",
    "\n",
    "    if rpeaks is None:\n",
    "        raise TypeError(\"Please specify the input R-peaks.\")\n",
    "\n",
    "    tol = int(tol * sampling_rate)\n",
    "    length = len(signal)\n",
    "\n",
    "    newR = []\n",
    "    for r in rpeaks:\n",
    "        a = r - tol\n",
    "        if a < 0:\n",
    "            continue\n",
    "        b = r + tol\n",
    "        if b > length:\n",
    "            break\n",
    "        newR.append(a + np.argmax(signal[a:b]))\n",
    "\n",
    "    newR = sorted(list(set(newR)))\n",
    "    newR = np.array(newR, dtype='int')\n",
    "\n",
    "    return newR"
   ]
  },
  {
   "cell_type": "code",
   "execution_count": 5,
   "metadata": {
    "ExecuteTime": {
     "end_time": "2021-06-01T14:42:06.025549Z",
     "start_time": "2021-06-01T14:42:06.018800Z"
    }
   },
   "outputs": [],
   "source": [
    "def _extract_heartbeats(signal=None, rpeaks=None, before=200, after=400):\n",
    "    \"\"\"Extract heartbeat templates from an ECG signal, given a list of\n",
    "    R-peak locations.\n",
    "    Parameters\n",
    "    ----------\n",
    "    signal : array\n",
    "        Input ECG signal.\n",
    "    rpeaks : array\n",
    "        R-peak location indices.\n",
    "    before : int, optional\n",
    "        Number of samples to include before the R peak.\n",
    "    after : int, optional\n",
    "        Number of samples to include after the R peak.\n",
    "    Returns\n",
    "    -------\n",
    "    templates : array\n",
    "        Extracted heartbeat templates.\n",
    "    rpeaks : array\n",
    "        Corresponding R-peak location indices of the extracted heartbeat\n",
    "        templates.\n",
    "    \"\"\"\n",
    "\n",
    "    R = np.sort(rpeaks)\n",
    "    length = len(signal)\n",
    "    templates = []\n",
    "    newR = []\n",
    "\n",
    "    for r in R:\n",
    "        a = r - before\n",
    "        if a < 0:\n",
    "            continue\n",
    "        b = r + after\n",
    "        if b > length:\n",
    "            break\n",
    "        templates.append(signal[a:b])\n",
    "        newR.append(r)\n",
    "\n",
    "    templates = np.array(templates)\n",
    "    newR = np.array(newR, dtype='int')\n",
    "\n",
    "    return templates, newR"
   ]
  },
  {
   "cell_type": "code",
   "execution_count": 6,
   "metadata": {
    "ExecuteTime": {
     "end_time": "2021-06-01T14:39:52.821509Z",
     "start_time": "2021-06-01T14:39:52.816207Z"
    }
   },
   "outputs": [],
   "source": [
    "def extract_heartbeats(signal=None, rpeaks=None, sampling_rate=1000.,\n",
    "                       before=0.2, after=0.4):\n",
    "    \"\"\"Extract heartbeat templates from an ECG signal, given a list of\n",
    "    R-peak locations.\n",
    "    Parameters\n",
    "    ----------\n",
    "    signal : array\n",
    "        Input ECG signal.\n",
    "    rpeaks : array\n",
    "        R-peak location indices.\n",
    "    sampling_rate : int, float, optional\n",
    "        Sampling frequency (Hz).\n",
    "    before : float, optional\n",
    "        Window size to include before the R peak (seconds).\n",
    "    after : int, optional\n",
    "        Window size to include after the R peak (seconds).\n",
    "    Returns\n",
    "    -------\n",
    "    templates : array\n",
    "        Extracted heartbeat templates.\n",
    "    rpeaks : array\n",
    "        Corresponding R-peak location indices of the extracted heartbeat\n",
    "        templates.\n",
    "    \"\"\"\n",
    "\n",
    "    # check inputs\n",
    "    if signal is None:\n",
    "        raise TypeError(\"Please specify an input signal.\")\n",
    "\n",
    "    if rpeaks is None:\n",
    "        raise TypeError(\"Please specify the input R-peak locations.\")\n",
    "\n",
    "    if before < 0:\n",
    "        raise ValueError(\"Please specify a non-negative 'before' value.\")\n",
    "    if after < 0:\n",
    "        raise ValueError(\"Please specify a non-negative 'after' value.\")\n",
    "\n",
    "    # convert delimiters to samples\n",
    "    before = int(before * sampling_rate)\n",
    "    after = int(after * sampling_rate)\n",
    "\n",
    "    # get heartbeats\n",
    "    templates, newR = _extract_heartbeats(signal=signal,\n",
    "                                          rpeaks=rpeaks,\n",
    "                                          before=before,\n",
    "                                          after=after)\n",
    "\n",
    "    return templates, newR"
   ]
  },
  {
   "cell_type": "code",
   "execution_count": 7,
   "metadata": {
    "ExecuteTime": {
     "end_time": "2021-06-01T14:39:54.910861Z",
     "start_time": "2021-06-01T14:39:54.900032Z"
    }
   },
   "outputs": [],
   "source": [
    "def get_complete_Heartbit(sample, sampling_rate=100,plot=True):\n",
    "    filtered_sample = filter_data(sample,sampling_rate)\n",
    "    data = filtered_sample.T\n",
    "    signals = []\n",
    "    indices = []\n",
    "    count = 1\n",
    "    peaks = biosppy.signals.ecg.christov_segmenter(\n",
    "        signal=data, sampling_rate=sampling_rate)[0]\n",
    "    rpeaks = correct_rpeaks(signal=data,rpeaks=peaks, sampling_rate=100,tol=0.05)\n",
    "    templates, rpeaks = extract_heartbeats(signal=data,rpeaks=rpeaks,sampling_rate=100,before=0.2,after=0.4)\n",
    "    if plot:\n",
    "        ts_tmpl = np.linspace(-0.2, 0.4, templates.shape[1], endpoint=False)\n",
    "        fig = plt.figure()\n",
    "        gs = gridspec.GridSpec(6, 2)\n",
    "        ax4 = fig.add_subplot(gs[1:5, 1])\n",
    "        plt.plot(ts_tmpl, templates.T, 'm', linewidth=1.5, alpha=0.7)\n",
    "        ax4.set_xlabel('Time (s)')\n",
    "        ax4.set_ylabel('Amplitude')\n",
    "        ax4.set_title('Templates')\n",
    "        ax4.grid()\n",
    "    #return templates, rpeaks\n",
    "    return templates"
   ]
  },
  {
   "cell_type": "markdown",
   "metadata": {},
   "source": [
    "## Import dataset"
   ]
  },
  {
   "cell_type": "code",
   "execution_count": 8,
   "metadata": {
    "ExecuteTime": {
     "end_time": "2021-06-01T14:40:02.041461Z",
     "start_time": "2021-06-01T14:39:58.814276Z"
    }
   },
   "outputs": [
    {
     "data": {
      "text/plain": [
       "(21837, 1006)"
      ]
     },
     "execution_count": 8,
     "metadata": {},
     "output_type": "execute_result"
    }
   ],
   "source": [
    "df = pd.read_csv(\"ECG_Rhythm_Lead_I.csv\")\n",
    "del df[\"Unnamed: 0\"]\n",
    "df.shape"
   ]
  },
  {
   "cell_type": "code",
   "execution_count": 9,
   "metadata": {
    "ExecuteTime": {
     "end_time": "2021-06-01T14:40:02.164110Z",
     "start_time": "2021-06-01T14:40:02.127192Z"
    }
   },
   "outputs": [
    {
     "data": {
      "text/html": [
       "<div>\n",
       "<style scoped>\n",
       "    .dataframe tbody tr th:only-of-type {\n",
       "        vertical-align: middle;\n",
       "    }\n",
       "\n",
       "    .dataframe tbody tr th {\n",
       "        vertical-align: top;\n",
       "    }\n",
       "\n",
       "    .dataframe thead th {\n",
       "        text-align: right;\n",
       "    }\n",
       "</style>\n",
       "<table border=\"1\" class=\"dataframe\">\n",
       "  <thead>\n",
       "    <tr style=\"text-align: right;\">\n",
       "      <th></th>\n",
       "      <th>ecg_id</th>\n",
       "      <th>age</th>\n",
       "      <th>sex</th>\n",
       "      <th>height</th>\n",
       "      <th>weight</th>\n",
       "      <th>rhythm_diag</th>\n",
       "      <th>0</th>\n",
       "      <th>1</th>\n",
       "      <th>2</th>\n",
       "      <th>3</th>\n",
       "      <th>...</th>\n",
       "      <th>990</th>\n",
       "      <th>991</th>\n",
       "      <th>992</th>\n",
       "      <th>993</th>\n",
       "      <th>994</th>\n",
       "      <th>995</th>\n",
       "      <th>996</th>\n",
       "      <th>997</th>\n",
       "      <th>998</th>\n",
       "      <th>999</th>\n",
       "    </tr>\n",
       "  </thead>\n",
       "  <tbody>\n",
       "    <tr>\n",
       "      <th>0</th>\n",
       "      <td>1</td>\n",
       "      <td>56.0</td>\n",
       "      <td>1</td>\n",
       "      <td>NaN</td>\n",
       "      <td>63.0</td>\n",
       "      <td>SR</td>\n",
       "      <td>-0.119</td>\n",
       "      <td>-0.116</td>\n",
       "      <td>-0.120</td>\n",
       "      <td>-0.117</td>\n",
       "      <td>...</td>\n",
       "      <td>0.198</td>\n",
       "      <td>0.194</td>\n",
       "      <td>0.115</td>\n",
       "      <td>0.107</td>\n",
       "      <td>0.107</td>\n",
       "      <td>0.106</td>\n",
       "      <td>0.090</td>\n",
       "      <td>0.069</td>\n",
       "      <td>0.086</td>\n",
       "      <td>0.022</td>\n",
       "    </tr>\n",
       "    <tr>\n",
       "      <th>1</th>\n",
       "      <td>2</td>\n",
       "      <td>19.0</td>\n",
       "      <td>0</td>\n",
       "      <td>NaN</td>\n",
       "      <td>70.0</td>\n",
       "      <td>OTHER</td>\n",
       "      <td>0.004</td>\n",
       "      <td>-0.020</td>\n",
       "      <td>-0.053</td>\n",
       "      <td>-0.056</td>\n",
       "      <td>...</td>\n",
       "      <td>-0.035</td>\n",
       "      <td>-0.045</td>\n",
       "      <td>0.004</td>\n",
       "      <td>0.044</td>\n",
       "      <td>0.507</td>\n",
       "      <td>0.554</td>\n",
       "      <td>0.316</td>\n",
       "      <td>0.121</td>\n",
       "      <td>-0.326</td>\n",
       "      <td>-0.348</td>\n",
       "    </tr>\n",
       "  </tbody>\n",
       "</table>\n",
       "<p>2 rows × 1006 columns</p>\n",
       "</div>"
      ],
      "text/plain": [
       "   ecg_id   age  sex  height  weight rhythm_diag      0      1      2      3  \\\n",
       "0       1  56.0    1     NaN    63.0          SR -0.119 -0.116 -0.120 -0.117   \n",
       "1       2  19.0    0     NaN    70.0       OTHER  0.004 -0.020 -0.053 -0.056   \n",
       "\n",
       "   ...    990    991    992    993    994    995    996    997    998    999  \n",
       "0  ...  0.198  0.194  0.115  0.107  0.107  0.106  0.090  0.069  0.086  0.022  \n",
       "1  ... -0.035 -0.045  0.004  0.044  0.507  0.554  0.316  0.121 -0.326 -0.348  \n",
       "\n",
       "[2 rows x 1006 columns]"
      ]
     },
     "execution_count": 9,
     "metadata": {},
     "output_type": "execute_result"
    }
   ],
   "source": [
    "df.head(2)"
   ]
  },
  {
   "cell_type": "code",
   "execution_count": 10,
   "metadata": {
    "ExecuteTime": {
     "end_time": "2021-06-01T14:40:02.245101Z",
     "start_time": "2021-06-01T14:40:02.236231Z"
    }
   },
   "outputs": [
    {
     "data": {
      "text/plain": [
       "SR       16782\n",
       "OTHER     3541\n",
       "AFIB      1514\n",
       "Name: rhythm_diag, dtype: int64"
      ]
     },
     "execution_count": 10,
     "metadata": {},
     "output_type": "execute_result"
    }
   ],
   "source": [
    "df.rhythm_diag.value_counts()"
   ]
  },
  {
   "cell_type": "markdown",
   "metadata": {},
   "source": [
    "## Prepare data and split SR/AFIB"
   ]
  },
  {
   "cell_type": "code",
   "execution_count": 11,
   "metadata": {
    "ExecuteTime": {
     "end_time": "2021-06-01T14:40:05.224833Z",
     "start_time": "2021-06-01T14:40:05.115186Z"
    }
   },
   "outputs": [],
   "source": [
    "df = df.loc[df.rhythm_diag != 'OTHER']"
   ]
  },
  {
   "cell_type": "code",
   "execution_count": 12,
   "metadata": {
    "ExecuteTime": {
     "end_time": "2021-06-01T14:40:05.790548Z",
     "start_time": "2021-06-01T14:40:05.782084Z"
    }
   },
   "outputs": [
    {
     "data": {
      "text/plain": [
       "SR      16782\n",
       "AFIB     1514\n",
       "Name: rhythm_diag, dtype: int64"
      ]
     },
     "execution_count": 12,
     "metadata": {},
     "output_type": "execute_result"
    }
   ],
   "source": [
    "df.rhythm_diag.value_counts()"
   ]
  },
  {
   "cell_type": "code",
   "execution_count": 13,
   "metadata": {
    "ExecuteTime": {
     "end_time": "2021-06-01T14:40:06.499741Z",
     "start_time": "2021-06-01T14:40:06.493240Z"
    }
   },
   "outputs": [],
   "source": [
    "df['rhythm_diag'] = df['rhythm_diag'].map(dict(AFIB=1, SR=0))"
   ]
  },
  {
   "cell_type": "code",
   "execution_count": 14,
   "metadata": {
    "ExecuteTime": {
     "end_time": "2021-06-01T14:40:07.116053Z",
     "start_time": "2021-06-01T14:40:07.110335Z"
    }
   },
   "outputs": [
    {
     "data": {
      "text/plain": [
       "0    16782\n",
       "1     1514\n",
       "Name: rhythm_diag, dtype: int64"
      ]
     },
     "execution_count": 14,
     "metadata": {},
     "output_type": "execute_result"
    }
   ],
   "source": [
    "df.rhythm_diag.value_counts()"
   ]
  },
  {
   "cell_type": "code",
   "execution_count": 15,
   "metadata": {
    "ExecuteTime": {
     "end_time": "2021-06-01T14:40:08.053469Z",
     "start_time": "2021-06-01T14:40:07.862493Z"
    }
   },
   "outputs": [],
   "source": [
    "df_minority = df[df['rhythm_diag']==1]\n",
    "df_majority = df[df['rhythm_diag']==0]\n",
    "maj_class = resample(df_majority,\n",
    "                     replace=True,\n",
    "                     n_samples=1514,\n",
    "                     random_state=123)\n",
    "df=pd.concat([df_minority,maj_class])"
   ]
  },
  {
   "cell_type": "code",
   "execution_count": 16,
   "metadata": {
    "ExecuteTime": {
     "end_time": "2021-06-01T14:40:09.489123Z",
     "start_time": "2021-06-01T14:40:09.482521Z"
    }
   },
   "outputs": [
    {
     "data": {
      "text/plain": [
       "0    1514\n",
       "1    1514\n",
       "Name: rhythm_diag, dtype: int64"
      ]
     },
     "execution_count": 16,
     "metadata": {},
     "output_type": "execute_result"
    }
   ],
   "source": [
    "df.rhythm_diag.value_counts()"
   ]
  },
  {
   "cell_type": "code",
   "execution_count": 17,
   "metadata": {
    "ExecuteTime": {
     "end_time": "2021-06-01T14:40:10.431343Z",
     "start_time": "2021-06-01T14:40:10.374044Z"
    }
   },
   "outputs": [
    {
     "data": {
      "text/plain": [
       "(1514, 1000)"
      ]
     },
     "execution_count": 17,
     "metadata": {},
     "output_type": "execute_result"
    }
   ],
   "source": [
    "df_sr = df[df.rhythm_diag == 0]\n",
    "df_sr = df_sr.drop(['ecg_id', 'age', 'sex', 'height',\n",
    "                    'weight', 'rhythm_diag'], axis=1)\n",
    "df_sr.reset_index(drop= True ,inplace=True)\n",
    "df_sr.shape"
   ]
  },
  {
   "cell_type": "code",
   "execution_count": 18,
   "metadata": {
    "ExecuteTime": {
     "end_time": "2021-06-01T14:40:11.920216Z",
     "start_time": "2021-06-01T14:40:11.899725Z"
    }
   },
   "outputs": [
    {
     "data": {
      "text/plain": [
       "(1514, 1000)"
      ]
     },
     "execution_count": 18,
     "metadata": {},
     "output_type": "execute_result"
    }
   ],
   "source": [
    "df_afib = df[df.rhythm_diag == 1]\n",
    "df_afib = df_afib.drop(\n",
    "    ['ecg_id', 'age', 'sex', 'height', 'weight', 'rhythm_diag'], axis=1)\n",
    "df_afib.reset_index(drop=True, inplace=True)\n",
    "df_afib.shape"
   ]
  },
  {
   "cell_type": "code",
   "execution_count": 19,
   "metadata": {
    "ExecuteTime": {
     "end_time": "2021-06-01T14:40:12.937505Z",
     "start_time": "2021-06-01T14:40:12.934757Z"
    }
   },
   "outputs": [],
   "source": [
    "X_sr = df_sr.values\n",
    "X_afib = df_afib.values"
   ]
  },
  {
   "cell_type": "code",
   "execution_count": 20,
   "metadata": {},
   "outputs": [
    {
     "data": {
      "text/plain": [
       "(1000,)"
      ]
     },
     "execution_count": 20,
     "metadata": {},
     "output_type": "execute_result"
    }
   ],
   "source": [
    "X_sr[0].shape"
   ]
  },
  {
   "cell_type": "markdown",
   "metadata": {},
   "source": [
    "## Get individuals HeartBeats"
   ]
  },
  {
   "cell_type": "code",
   "execution_count": 21,
   "metadata": {
    "ExecuteTime": {
     "end_time": "2021-06-01T14:40:15.350761Z",
     "start_time": "2021-06-01T14:40:15.345834Z"
    }
   },
   "outputs": [],
   "source": [
    "def get_heart_beat(data):\n",
    "    templates = []\n",
    "    templates_aux = []\n",
    "    for i in range(len(data)-1): \n",
    "        templates_aux = get_complete_Heartbit(data[i], 100,False)\n",
    "        k = len(templates);\n",
    "        for j in range(len(templates_aux)-1):\n",
    "            templates.append(templates_aux[j])\n",
    "    return np.array(templates)"
   ]
  },
  {
   "cell_type": "code",
   "execution_count": 22,
   "metadata": {
    "ExecuteTime": {
     "end_time": "2021-06-01T14:42:47.343745Z",
     "start_time": "2021-06-01T14:42:15.212447Z"
    }
   },
   "outputs": [
    {
     "data": {
      "text/plain": [
       "(15369, 60)"
      ]
     },
     "execution_count": 22,
     "metadata": {},
     "output_type": "execute_result"
    }
   ],
   "source": [
    "X_sr = get_heart_beat(X_sr)\n",
    "X_sr.shape"
   ]
  },
  {
   "cell_type": "code",
   "execution_count": 23,
   "metadata": {
    "ExecuteTime": {
     "end_time": "2021-06-01T14:42:47.640009Z",
     "start_time": "2021-06-01T14:42:47.635375Z"
    }
   },
   "outputs": [
    {
     "data": {
      "text/plain": [
       "(15369,)"
      ]
     },
     "execution_count": 23,
     "metadata": {},
     "output_type": "execute_result"
    }
   ],
   "source": [
    "y_sr = np.zeros(len(X_sr))\n",
    "y_sr.shape"
   ]
  },
  {
   "cell_type": "code",
   "execution_count": 24,
   "metadata": {
    "ExecuteTime": {
     "end_time": "2021-06-01T14:43:21.543060Z",
     "start_time": "2021-06-01T14:42:47.926225Z"
    }
   },
   "outputs": [
    {
     "data": {
      "text/plain": [
       "(19039, 60)"
      ]
     },
     "execution_count": 24,
     "metadata": {},
     "output_type": "execute_result"
    }
   ],
   "source": [
    "X_afib = get_heart_beat(X_afib)\n",
    "X_afib.shape"
   ]
  },
  {
   "cell_type": "code",
   "execution_count": 25,
   "metadata": {
    "ExecuteTime": {
     "end_time": "2021-06-01T14:43:21.776567Z",
     "start_time": "2021-06-01T14:43:21.772980Z"
    }
   },
   "outputs": [
    {
     "data": {
      "text/plain": [
       "(19039,)"
      ]
     },
     "execution_count": 25,
     "metadata": {},
     "output_type": "execute_result"
    }
   ],
   "source": [
    "y_afib = np.ones(len(X_afib))\n",
    "y_afib.shape"
   ]
  },
  {
   "cell_type": "code",
   "execution_count": 26,
   "metadata": {
    "ExecuteTime": {
     "end_time": "2021-06-01T14:43:22.007131Z",
     "start_time": "2021-06-01T14:43:21.995231Z"
    }
   },
   "outputs": [
    {
     "data": {
      "text/plain": [
       "(34408, 60)"
      ]
     },
     "execution_count": 26,
     "metadata": {},
     "output_type": "execute_result"
    }
   ],
   "source": [
    "X = np.concatenate((X_sr, X_afib), axis=0)\n",
    "X.shape"
   ]
  },
  {
   "cell_type": "code",
   "execution_count": 27,
   "metadata": {
    "ExecuteTime": {
     "end_time": "2021-06-01T14:43:22.224424Z",
     "start_time": "2021-06-01T14:43:22.220211Z"
    }
   },
   "outputs": [
    {
     "data": {
      "text/plain": [
       "(34408,)"
      ]
     },
     "execution_count": 27,
     "metadata": {},
     "output_type": "execute_result"
    }
   ],
   "source": [
    "y = np.concatenate((y_sr, y_afib), axis=0)\n",
    "y.shape"
   ]
  },
  {
   "cell_type": "code",
   "execution_count": 28,
   "metadata": {
    "ExecuteTime": {
     "end_time": "2021-06-01T14:43:22.609728Z",
     "start_time": "2021-06-01T14:43:22.450631Z"
    }
   },
   "outputs": [
    {
     "data": {
      "image/png": "[encoded data removed]",
      "text/plain": [
       "<Figure size 720x360 with 1 Axes>"
      ]
     },
     "metadata": {
      "needs_background": "light"
     },
     "output_type": "display_data"
    }
   ],
   "source": [
    "plt.plot(X[2909])\n",
    "plt.title(\"ECG Sample\")\n",
    "plt.grid()\n",
    "plt.show()"
   ]
  },
  {
   "cell_type": "markdown",
   "metadata": {},
   "source": [
    "## Split and normalize data "
   ]
  },
  {
   "cell_type": "code",
   "execution_count": 29,
   "metadata": {
    "ExecuteTime": {
     "end_time": "2021-06-01T15:24:33.904261Z",
     "start_time": "2021-06-01T15:24:33.646033Z"
    }
   },
   "outputs": [],
   "source": [
    "X_train, X_test, y_train, y_test = train_test_split(X,y,\n",
    "                                                    test_size=0.20,\n",
    "                                                    random_state=21)"
   ]
  },
  {
   "cell_type": "code",
   "execution_count": 30,
   "metadata": {
    "ExecuteTime": {
     "end_time": "2021-06-01T15:24:34.988454Z",
     "start_time": "2021-06-01T15:24:34.980792Z"
    }
   },
   "outputs": [
    {
     "name": "stdout",
     "output_type": "stream",
     "text": [
      "-2.224608124516127 2.5213715388142184\n",
      "-2.0953599175448696 2.2400050655566703\n"
     ]
    }
   ],
   "source": [
    "print (X_train.min(), X_train.max())\n",
    "print (X_test.min(), X_test.max())"
   ]
  },
  {
   "cell_type": "code",
   "execution_count": 31,
   "metadata": {
    "ExecuteTime": {
     "end_time": "2021-06-01T15:24:39.445927Z",
     "start_time": "2021-06-01T15:24:39.424670Z"
    }
   },
   "outputs": [
    {
     "name": "stdout",
     "output_type": "stream",
     "text": [
      "0.0 1.0\n"
     ]
    }
   ],
   "source": [
    "X_train = X_train - X_train.min()\n",
    "X_train = X_train/X_train.max()\n",
    "print (X_train.min(), X_train.max())"
   ]
  },
  {
   "cell_type": "markdown",
   "metadata": {
    "ExecuteTime": {
     "end_time": "2021-06-01T13:05:33.190067Z",
     "start_time": "2021-06-01T13:05:33.185605Z"
    }
   },
   "source": [
    "Normalize X_test with X_train parameters"
   ]
  },
  {
   "cell_type": "code",
   "execution_count": 32,
   "metadata": {
    "ExecuteTime": {
     "end_time": "2021-06-01T15:24:47.625413Z",
     "start_time": "2021-06-01T15:24:47.617516Z"
    }
   },
   "outputs": [
    {
     "name": "stdout",
     "output_type": "stream",
     "text": [
      "0.0 1.0\n"
     ]
    }
   ],
   "source": [
    "X_test = X_test - X_test.min()\n",
    "X_test = X_test/X_test.max()\n",
    "print (X_test.min(), X_test.max())"
   ]
  },
  {
   "cell_type": "markdown",
   "metadata": {},
   "source": [
    "## Create DNN Model"
   ]
  },
  {
   "cell_type": "code",
   "execution_count": 32,
   "metadata": {
    "ExecuteTime": {
     "end_time": "2021-06-01T15:37:06.201103Z",
     "start_time": "2021-06-01T15:37:06.194597Z"
    }
   },
   "outputs": [
    {
     "data": {
      "text/plain": [
       "(27526, 60)"
      ]
     },
     "execution_count": 32,
     "metadata": {},
     "output_type": "execute_result"
    }
   ],
   "source": [
    "X_train.shape"
   ]
  },
  {
   "cell_type": "code",
   "execution_count": 33,
   "metadata": {
    "ExecuteTime": {
     "end_time": "2021-06-01T15:37:21.318751Z",
     "start_time": "2021-06-01T15:37:21.309745Z"
    }
   },
   "outputs": [],
   "source": [
    "input_shape = X.shape[1]"
   ]
  },
  {
   "cell_type": "code",
   "execution_count": 34,
   "metadata": {
    "ExecuteTime": {
     "end_time": "2021-06-01T16:45:01.878533Z",
     "start_time": "2021-06-01T16:45:01.872090Z"
    }
   },
   "outputs": [],
   "source": [
    "def creating_DNN_model(input_shape, lr=0.001, dropout=0.2):\n",
    "    model = Sequential()\n",
    "\n",
    "    model.add(Dense(units=64, activation='relu', input_shape=[input_shape]))\n",
    "    model.add(Dropout(dropout))   \n",
    "    model.add(Dense(units=32, activation='relu'))\n",
    "    model.add(Dropout(dropout))\n",
    "    model.add(Dense(units=1, activation='sigmoid'))\n",
    "\n",
    "    # For a binary classification problem\n",
    "    opt = Adam(learning_rate=lr)\n",
    "    model.compile(loss='binary_crossentropy',\n",
    "                  optimizer=opt,\n",
    "                  metrics=['accuracy'])\n",
    "    return model"
   ]
  },
  {
   "cell_type": "code",
   "execution_count": 35,
   "metadata": {
    "ExecuteTime": {
     "end_time": "2021-06-01T16:45:04.119977Z",
     "start_time": "2021-06-01T16:45:04.076828Z"
    }
   },
   "outputs": [
    {
     "name": "stdout",
     "output_type": "stream",
     "text": [
      "Model: \"sequential\"\n",
      "_________________________________________________________________\n",
      "Layer (type)                 Output Shape              Param #   \n",
      "=================================================================\n",
      "dense (Dense)                (None, 64)                3904      \n",
      "_________________________________________________________________\n",
      "dropout (Dropout)            (None, 64)                0         \n",
      "_________________________________________________________________\n",
      "dense_1 (Dense)              (None, 32)                2080      \n",
      "_________________________________________________________________\n",
      "dropout_1 (Dropout)          (None, 32)                0         \n",
      "_________________________________________________________________\n",
      "dense_2 (Dense)              (None, 1)                 33        \n",
      "=================================================================\n",
      "Total params: 6,017\n",
      "Trainable params: 6,017\n",
      "Non-trainable params: 0\n",
      "_________________________________________________________________\n"
     ]
    }
   ],
   "source": [
    "model = creating_DNN_model(input_shape, lr=0.0001)\n",
    "model.summary()"
   ]
  },
  {
   "cell_type": "markdown",
   "metadata": {},
   "source": [
    "## Train Model"
   ]
  },
  {
   "cell_type": "code",
   "execution_count": 36,
   "metadata": {
    "ExecuteTime": {
     "end_time": "2021-06-01T16:45:36.230806Z",
     "start_time": "2021-06-01T16:45:36.226600Z"
    }
   },
   "outputs": [],
   "source": [
    "early_stop = EarlyStopping(monitor='val_loss', \n",
    "                           mode='min', \n",
    "                           verbose=1, \n",
    "                           patience=25)"
   ]
  },
  {
   "cell_type": "code",
   "execution_count": 37,
   "metadata": {
    "ExecuteTime": {
     "end_time": "2021-06-01T16:45:37.809014Z",
     "start_time": "2021-06-01T16:45:37.806573Z"
    }
   },
   "outputs": [],
   "source": [
    "EPOCHS = 500"
   ]
  },
  {
   "cell_type": "code",
   "execution_count": 38,
   "metadata": {
    "ExecuteTime": {
     "end_time": "2021-06-01T16:48:17.518395Z",
     "start_time": "2021-06-01T16:45:45.848694Z"
    }
   },
   "outputs": [
    {
     "name": "stdout",
     "output_type": "stream",
     "text": [
      "Epoch 00334: early stopping\n"
     ]
    }
   ],
   "source": [
    "history = model.fit(X_train, \n",
    "                    y_train, \n",
    "                    epochs=EPOCHS, \n",
    "                    validation_split=0.2, \n",
    "                    verbose=0,\n",
    "                    callbacks=[early_stop]\n",
    "                    )"
   ]
  },
  {
   "cell_type": "code",
   "execution_count": 43,
   "metadata": {
    "ExecuteTime": {
     "end_time": "2021-06-01T16:48:17.899737Z",
     "start_time": "2021-06-01T16:48:17.894893Z"
    }
   },
   "outputs": [],
   "source": [
    "# summarize history for loss\n",
    "def summarize_loss(history):\n",
    "    plt.figure(figsize=(8,6))\n",
    "    plt.plot(history.history['loss'])\n",
    "    plt.plot(history.history['val_loss'])\n",
    "    plt.title('model loss')\n",
    "    plt.ylabel('loss')\n",
    "    plt.xlabel('epoch')\n",
    "    plt.legend(['train', 'validation'], loc='upper right')\n",
    "    plt.show()"
   ]
  },
  {
   "cell_type": "code",
   "execution_count": 40,
   "metadata": {
    "ExecuteTime": {
     "end_time": "2021-06-01T16:48:18.307354Z",
     "start_time": "2021-06-01T16:48:18.157349Z"
    }
   },
   "outputs": [
    {
     "data": {
      "image/png": "[encoded data removed]",
      "text/plain": [
       "<Figure size 576x432 with 1 Axes>"
      ]
     },
     "metadata": {
      "needs_background": "light"
     },
     "output_type": "display_data"
    }
   ],
   "source": [
    "summarize_loss(history)"
   ]
  },
  {
   "cell_type": "markdown",
   "metadata": {},
   "source": [
    "## Evaluate Model"
   ]
  },
  {
   "cell_type": "code",
   "execution_count": 41,
   "metadata": {
    "ExecuteTime": {
     "end_time": "2021-06-01T16:48:31.376598Z",
     "start_time": "2021-06-01T16:48:31.149666Z"
    }
   },
   "outputs": [
    {
     "data": {
      "text/plain": [
       "0.86"
      ]
     },
     "execution_count": 41,
     "metadata": {},
     "output_type": "execute_result"
    }
   ],
   "source": [
    "_, model_accuracy = model.evaluate(X_test, y_test, verbose=0)\n",
    "round (model_accuracy,2)"
   ]
  },
  {
   "cell_type": "code",
   "execution_count": 42,
   "metadata": {
    "ExecuteTime": {
     "end_time": "2021-06-01T16:48:34.113808Z",
     "start_time": "2021-06-01T16:48:33.952107Z"
    }
   },
   "outputs": [],
   "source": [
    "y_pred = model.predict(X_test)\n",
    "y_pred = y_pred > 0.5"
   ]
  },
  {
   "cell_type": "code",
   "execution_count": 112,
   "metadata": {},
   "outputs": [
    {
     "data": {
      "text/plain": [
       "array([[0.92187536],\n",
       "       [0.14242327],\n",
       "       [0.5671133 ],\n",
       "       ...,\n",
       "       [0.9057065 ],\n",
       "       [0.46823552],\n",
       "       [0.8934425 ]], dtype=float32)"
      ]
     },
     "execution_count": 112,
     "metadata": {},
     "output_type": "execute_result"
    }
   ],
   "source": [
    "y_pred"
   ]
  },
  {
   "cell_type": "code",
   "execution_count": 43,
   "metadata": {
    "ExecuteTime": {
     "end_time": "2021-06-01T16:48:34.981676Z",
     "start_time": "2021-06-01T16:48:34.961732Z"
    }
   },
   "outputs": [
    {
     "name": "stdout",
     "output_type": "stream",
     "text": [
      "              precision    recall  f1-score   support\n",
      "\n",
      "         0.0       0.85      0.84      0.85      3083\n",
      "         1.0       0.87      0.88      0.88      3799\n",
      "\n",
      "    accuracy                           0.86      6882\n",
      "   macro avg       0.86      0.86      0.86      6882\n",
      "weighted avg       0.86      0.86      0.86      6882\n",
      "\n"
     ]
    }
   ],
   "source": [
    "print(classification_report(y_test, y_pred))"
   ]
  },
  {
   "cell_type": "code",
   "execution_count": 46,
   "metadata": {
    "ExecuteTime": {
     "end_time": "2021-06-01T18:12:37.015258Z",
     "start_time": "2021-06-01T18:12:37.009986Z"
    }
   },
   "outputs": [],
   "source": [
    "def plot_conf_matrix(y_test, y_pred):\n",
    "    plt.figure(figsize=(8,6))\n",
    "    sns.heatmap(confusion_matrix(y_test,y_pred), cmap='Blues', annot=True, fmt='g');\n",
    "    plt.title('Confusion Matrix')\n",
    "    plt.xlabel(\"Predictions\")\n",
    "    plt.ylabel(\"Real values\")\n",
    "    plt.show()"
   ]
  },
  {
   "cell_type": "code",
   "execution_count": 45,
   "metadata": {
    "ExecuteTime": {
     "end_time": "2021-06-01T16:48:42.966294Z",
     "start_time": "2021-06-01T16:48:42.797160Z"
    }
   },
   "outputs": [
    {
     "data": {
      "image/png": "[encoded data removed]",
      "text/plain": [
       "<Figure size 576x432 with 2 Axes>"
      ]
     },
     "metadata": {
      "needs_background": "light"
     },
     "output_type": "display_data"
    }
   ],
   "source": [
    "plot_conf_matrix(y_test, y_pred)"
   ]
  },
  {
   "cell_type": "code",
   "execution_count": 51,
   "metadata": {},
   "outputs": [
    {
     "data": {
      "text/plain": [
       "[<matplotlib.lines.Line2D at 0x1d3aa8b9c10>]"
      ]
     },
     "execution_count": 51,
     "metadata": {},
     "output_type": "execute_result"
    },
    {
     "data": {
      "image/png": "[encoded data removed]",
      "text/plain": [
       "<Figure size 720x360 with 1 Axes>"
      ]
     },
     "metadata": {
      "needs_background": "light"
     },
     "output_type": "display_data"
    }
   ],
   "source": [
    "plt.plot(X_sr[29])"
   ]
  },
  {
   "cell_type": "code",
   "execution_count": 117,
   "metadata": {},
   "outputs": [],
   "source": [
    "y_pred = model.predict(X_test)"
   ]
  },
  {
   "cell_type": "code",
   "execution_count": 118,
   "metadata": {},
   "outputs": [
    {
     "data": {
      "text/plain": [
       "array([[0.92187536],\n",
       "       [0.14242327],\n",
       "       [0.5671133 ],\n",
       "       [0.09321621],\n",
       "       [0.889151  ],\n",
       "       [0.13092467],\n",
       "       [0.7882538 ],\n",
       "       [0.25608784],\n",
       "       [0.05014819],\n",
       "       [0.91999066]], dtype=float32)"
      ]
     },
     "execution_count": 118,
     "metadata": {},
     "output_type": "execute_result"
    }
   ],
   "source": [
    "y_pred[:10]"
   ]
  },
  {
   "cell_type": "code",
   "execution_count": 119,
   "metadata": {},
   "outputs": [
    {
     "data": {
      "text/plain": [
       "array([1., 0., 1., 0., 1., 0., 1., 0., 0., 1.])"
      ]
     },
     "execution_count": 119,
     "metadata": {},
     "output_type": "execute_result"
    }
   ],
   "source": [
    "y_test[:10]"
   ]
  },
  {
   "cell_type": "code",
   "execution_count": 120,
   "metadata": {},
   "outputs": [
    {
     "data": {
      "text/plain": [
       "array([[ True],\n",
       "       [False],\n",
       "       [ True],\n",
       "       [False],\n",
       "       [ True],\n",
       "       [False],\n",
       "       [ True],\n",
       "       [False],\n",
       "       [False],\n",
       "       [ True]])"
      ]
     },
     "execution_count": 120,
     "metadata": {},
     "output_type": "execute_result"
    }
   ],
   "source": [
    "y_pred = y_pred > 0.5\n",
    "y_pred[:10]"
   ]
  },
  {
   "cell_type": "code",
   "execution_count": 122,
   "metadata": {},
   "outputs": [
    {
     "data": {
      "text/plain": [
       "[<matplotlib.lines.Line2D at 0x1d3ac2b33a0>]"
      ]
     },
     "execution_count": 122,
     "metadata": {},
     "output_type": "execute_result"
    },
    {
     "data": {
      "image/png": "[encoded data removed]",
      "text/plain": [
       "<Figure size 720x360 with 1 Axes>"
      ]
     },
     "metadata": {
      "needs_background": "light"
     },
     "output_type": "display_data"
    }
   ],
   "source": [
    "plt.plot(X_test[0])"
   ]
  },
  {
   "cell_type": "code",
   "execution_count": 128,
   "metadata": {},
   "outputs": [],
   "source": [
    "predictionXy = model.predict(X_sr)"
   ]
  },
  {
   "cell_type": "code",
   "execution_count": 129,
   "metadata": {},
   "outputs": [
    {
     "data": {
      "text/plain": [
       "array([[0.8645451 ],\n",
       "       [0.7534262 ],\n",
       "       [0.9781506 ],\n",
       "       [0.75699365],\n",
       "       [0.5230733 ],\n",
       "       [0.8591238 ],\n",
       "       [0.7613734 ],\n",
       "       [0.78201455],\n",
       "       [0.8337507 ],\n",
       "       [0.97745717],\n",
       "       [0.88134134],\n",
       "       [0.9628266 ],\n",
       "       [0.902959  ],\n",
       "       [0.72421515],\n",
       "       [0.9905981 ],\n",
       "       [0.9181205 ],\n",
       "       [0.97274697],\n",
       "       [0.08810252],\n",
       "       [0.04825422],\n",
       "       [0.04642826]], dtype=float32)"
      ]
     },
     "execution_count": 129,
     "metadata": {},
     "output_type": "execute_result"
    }
   ],
   "source": [
    "predictionXy[:20]"
   ]
  },
  {
   "cell_type": "code",
   "execution_count": 114,
   "metadata": {},
   "outputs": [
    {
     "data": {
      "text/plain": [
       "(2, 60)"
      ]
     },
     "execution_count": 114,
     "metadata": {},
     "output_type": "execute_result"
    }
   ],
   "source": [
    "X_sr[2:4].shape"
   ]
  },
  {
   "cell_type": "code",
   "execution_count": 105,
   "metadata": {},
   "outputs": [
    {
     "data": {
      "text/plain": [
       "()"
      ]
     },
     "execution_count": 105,
     "metadata": {},
     "output_type": "execute_result"
    }
   ],
   "source": [
    "predictionX.shape"
   ]
  },
  {
   "cell_type": "code",
   "execution_count": 110,
   "metadata": {},
   "outputs": [
    {
     "data": {
      "text/plain": [
       "array([[0.8645451 ],\n",
       "       [0.7534262 ],\n",
       "       [0.9781506 ],\n",
       "       [0.75699365],\n",
       "       [0.5230733 ],\n",
       "       [0.8591238 ],\n",
       "       [0.7613734 ],\n",
       "       [0.78201455],\n",
       "       [0.8337507 ],\n",
       "       [0.97745717]], dtype=float32)"
      ]
     },
     "execution_count": 110,
     "metadata": {},
     "output_type": "execute_result"
    }
   ],
   "source": [
    "predictionX[:10]"
   ]
  },
  {
   "cell_type": "code",
   "execution_count": 103,
   "metadata": {},
   "outputs": [
    {
     "data": {
      "text/plain": [
       "array([3.0482803e-07], dtype=float32)"
      ]
     },
     "execution_count": 103,
     "metadata": {},
     "output_type": "execute_result"
    }
   ],
   "source": [
    "lengthpredictionX = len(predictionX)\n",
    "arrayWrongPredictions = []\n",
    "for i in range(lengthpredictionX):\n",
    "    if(predictionX[i][0] < 0.5):\n",
    "        arrayWrongPredictions.append(predictionX[i][0])\n",
    "predictionX[99]"
   ]
  },
  {
   "cell_type": "code",
   "execution_count": 112,
   "metadata": {
    "ExecuteTime": {
     "end_time": "2021-06-01T16:57:17.947860Z",
     "start_time": "2021-06-01T16:57:17.861197Z"
    }
   },
   "outputs": [],
   "source": [
    "model.save('../models/dnn_v1.h5')"
   ]
  },
  {
   "cell_type": "markdown",
   "metadata": {
    "ExecuteTime": {
     "end_time": "2021-06-01T16:58:58.606257Z",
     "start_time": "2021-06-01T16:58:58.603395Z"
    }
   },
   "source": [
    "# Model CNN - 1D\n",
    "Based on: [ECG Heartbeat Classification: A Deep Transferable Representation](https://arxiv.org/pdf/1805.00794.pdf)"
   ]
  },
  {
   "cell_type": "markdown",
   "metadata": {},
   "source": [
    "<img src=\"../models/cnn_v1.h5.png\">"
   ]
  },
  {
   "cell_type": "code",
   "execution_count": 33,
   "metadata": {
    "ExecuteTime": {
     "end_time": "2021-06-01T17:03:33.517965Z",
     "start_time": "2021-06-01T17:03:33.508921Z"
    }
   },
   "outputs": [],
   "source": [
    "X_train = np.expand_dims(X_train, 2)\n",
    "X_test = np.expand_dims(X_test, 2)"
   ]
  },
  {
   "cell_type": "code",
   "execution_count": 34,
   "metadata": {
    "ExecuteTime": {
     "end_time": "2021-06-01T17:04:03.764561Z",
     "start_time": "2021-06-01T17:04:03.761209Z"
    }
   },
   "outputs": [
    {
     "name": "stdout",
     "output_type": "stream",
     "text": [
      "(27526, 60, 1) (6882, 60, 1)\n"
     ]
    }
   ],
   "source": [
    "print(X_train.shape, X_test.shape)"
   ]
  },
  {
   "cell_type": "code",
   "execution_count": 35,
   "metadata": {
    "ExecuteTime": {
     "end_time": "2021-06-01T17:06:08.685773Z",
     "start_time": "2021-06-01T17:06:08.682544Z"
    }
   },
   "outputs": [],
   "source": [
    "samples, features, depht = X_train.shape"
   ]
  },
  {
   "cell_type": "code",
   "execution_count": 36,
   "metadata": {
    "ExecuteTime": {
     "end_time": "2021-06-01T17:23:28.977778Z",
     "start_time": "2021-06-01T17:23:28.973252Z"
    }
   },
   "outputs": [],
   "source": [
    "def group_layer(model):\n",
    "    model.add(\n",
    "        Conv1D(32,\n",
    "               kernel_size=5,\n",
    "               strides=1,\n",
    "               padding='same',\n",
    "               activation='relu'))\n",
    "    model.add(\n",
    "        Conv1D(32,\n",
    "               kernel_size=5,\n",
    "               strides=1,\n",
    "               padding='same',\n",
    "               activation='relu'))\n",
    "    model.add(MaxPooling1D(pool_size=5, strides=2))\n",
    "    return model"
   ]
  },
  {
   "cell_type": "code",
   "execution_count": 37,
   "metadata": {
    "ExecuteTime": {
     "end_time": "2021-06-01T17:28:54.574120Z",
     "start_time": "2021-06-01T17:28:54.473637Z"
    }
   },
   "outputs": [
    {
     "name": "stdout",
     "output_type": "stream",
     "text": [
      "WARNING:tensorflow:Please add `keras.layers.InputLayer` instead of `keras.Input` to Sequential model. `keras.Input` is intended to be used by Functional model.\n",
      "Model: \"sequential\"\n",
      "_________________________________________________________________\n",
      "Layer (type)                 Output Shape              Param #   \n",
      "=================================================================\n",
      "conv1d (Conv1D)              (None, 60, 32)            192       \n",
      "_________________________________________________________________\n",
      "conv1d_1 (Conv1D)            (None, 60, 32)            5152      \n",
      "_________________________________________________________________\n",
      "max_pooling1d (MaxPooling1D) (None, 28, 32)            0         \n",
      "_________________________________________________________________\n",
      "conv1d_2 (Conv1D)            (None, 28, 32)            5152      \n",
      "_________________________________________________________________\n",
      "conv1d_3 (Conv1D)            (None, 28, 32)            5152      \n",
      "_________________________________________________________________\n",
      "max_pooling1d_1 (MaxPooling1 (None, 12, 32)            0         \n",
      "_________________________________________________________________\n",
      "conv1d_4 (Conv1D)            (None, 12, 32)            5152      \n",
      "_________________________________________________________________\n",
      "conv1d_5 (Conv1D)            (None, 12, 32)            5152      \n",
      "_________________________________________________________________\n",
      "max_pooling1d_2 (MaxPooling1 (None, 4, 32)             0         \n",
      "_________________________________________________________________\n",
      "flatten (Flatten)            (None, 128)               0         \n",
      "_________________________________________________________________\n",
      "dense (Dense)                (None, 32)                4128      \n",
      "_________________________________________________________________\n",
      "dense_1 (Dense)              (None, 32)                1056      \n",
      "_________________________________________________________________\n",
      "dense_2 (Dense)              (None, 1)                 33        \n",
      "=================================================================\n",
      "Total params: 31,169\n",
      "Trainable params: 31,169\n",
      "Non-trainable params: 0\n",
      "_________________________________________________________________\n"
     ]
    }
   ],
   "source": [
    "model = Sequential()\n",
    "model.add(Input(shape=(features, depht)))\n",
    "model=group_layer(model)\n",
    "model=group_layer(model)\n",
    "model=group_layer(model)\n",
    "model.add(Flatten())\n",
    "model.add(Dense(32, activation='relu'))\n",
    "model.add(Dense(32, activation='relu'))\n",
    "model.add(Dense(1, activation='sigmoid'))\n",
    "model.summary()"
   ]
  },
  {
   "cell_type": "code",
   "execution_count": 38,
   "metadata": {
    "ExecuteTime": {
     "end_time": "2021-06-01T17:30:32.600492Z",
     "start_time": "2021-06-01T17:30:32.598281Z"
    }
   },
   "outputs": [],
   "source": [
    "lr = 0.001"
   ]
  },
  {
   "cell_type": "code",
   "execution_count": 39,
   "metadata": {
    "ExecuteTime": {
     "end_time": "2021-06-01T17:30:41.572361Z",
     "start_time": "2021-06-01T17:30:41.562260Z"
    }
   },
   "outputs": [],
   "source": [
    "opt = Adam(learning_rate=lr)\n",
    "model.compile(loss='binary_crossentropy',\n",
    "              optimizer=opt,\n",
    "              metrics=['accuracy'])"
   ]
  },
  {
   "cell_type": "code",
   "execution_count": 40,
   "metadata": {
    "ExecuteTime": {
     "end_time": "2021-06-01T17:33:22.786901Z",
     "start_time": "2021-06-01T17:33:22.784086Z"
    }
   },
   "outputs": [],
   "source": [
    "early_stop = EarlyStopping(monitor='val_loss', \n",
    "                           mode='min', \n",
    "                           verbose=1, \n",
    "                           patience=25)"
   ]
  },
  {
   "cell_type": "code",
   "execution_count": 41,
   "metadata": {
    "ExecuteTime": {
     "end_time": "2021-06-01T17:44:01.617772Z",
     "start_time": "2021-06-01T17:33:35.706109Z"
    }
   },
   "outputs": [
    {
     "name": "stdout",
     "output_type": "stream",
     "text": [
      "Epoch 1/100\n",
      "689/689 [==============================] - 10s 10ms/step - loss: 0.6248 - accuracy: 0.6363 - val_loss: 0.4665 - val_accuracy: 0.7950\n",
      "Epoch 2/100\n",
      "689/689 [==============================] - 6s 9ms/step - loss: 0.3816 - accuracy: 0.8451 - val_loss: 0.3207 - val_accuracy: 0.8758\n",
      "Epoch 3/100\n",
      "689/689 [==============================] - 8s 11ms/step - loss: 0.3308 - accuracy: 0.8712 - val_loss: 0.3419 - val_accuracy: 0.8587\n",
      "Epoch 4/100\n",
      "689/689 [==============================] - 8s 12ms/step - loss: 0.3083 - accuracy: 0.8782 - val_loss: 0.2973 - val_accuracy: 0.8825\n",
      "Epoch 5/100\n",
      "689/689 [==============================] - 8s 12ms/step - loss: 0.2928 - accuracy: 0.8835 - val_loss: 0.2879 - val_accuracy: 0.8867\n",
      "Epoch 6/100\n",
      "689/689 [==============================] - 8s 12ms/step - loss: 0.2863 - accuracy: 0.8846 - val_loss: 0.2866 - val_accuracy: 0.8936\n",
      "Epoch 7/100\n",
      "689/689 [==============================] - 7s 10ms/step - loss: 0.2823 - accuracy: 0.8884 - val_loss: 0.2655 - val_accuracy: 0.8968\n",
      "Epoch 8/100\n",
      "689/689 [==============================] - 7s 10ms/step - loss: 0.2761 - accuracy: 0.8907 - val_loss: 0.2663 - val_accuracy: 0.8970\n",
      "Epoch 9/100\n",
      "689/689 [==============================] - 6s 9ms/step - loss: 0.2757 - accuracy: 0.8886 - val_loss: 0.2774 - val_accuracy: 0.8870\n",
      "Epoch 10/100\n",
      "689/689 [==============================] - 7s 10ms/step - loss: 0.2656 - accuracy: 0.8949 - val_loss: 0.2657 - val_accuracy: 0.8977\n",
      "Epoch 11/100\n",
      "689/689 [==============================] - 7s 10ms/step - loss: 0.2643 - accuracy: 0.8970 - val_loss: 0.2600 - val_accuracy: 0.8988\n",
      "Epoch 12/100\n",
      "689/689 [==============================] - 7s 10ms/step - loss: 0.2596 - accuracy: 0.8959 - val_loss: 0.2564 - val_accuracy: 0.8997\n",
      "Epoch 13/100\n",
      "689/689 [==============================] - 7s 10ms/step - loss: 0.2587 - accuracy: 0.8967 - val_loss: 0.2608 - val_accuracy: 0.8974\n",
      "Epoch 14/100\n",
      "689/689 [==============================] - 6s 9ms/step - loss: 0.2565 - accuracy: 0.9000 - val_loss: 0.2537 - val_accuracy: 0.9016\n",
      "Epoch 15/100\n",
      "689/689 [==============================] - 6s 9ms/step - loss: 0.2504 - accuracy: 0.9026 - val_loss: 0.2489 - val_accuracy: 0.9076\n",
      "Epoch 16/100\n",
      "689/689 [==============================] - 7s 10ms/step - loss: 0.2485 - accuracy: 0.9025 - val_loss: 0.2528 - val_accuracy: 0.9025\n",
      "Epoch 17/100\n",
      "689/689 [==============================] - 6s 9ms/step - loss: 0.2470 - accuracy: 0.9049 - val_loss: 0.2698 - val_accuracy: 0.8970\n",
      "Epoch 18/100\n",
      "689/689 [==============================] - 6s 9ms/step - loss: 0.2468 - accuracy: 0.9045 - val_loss: 0.2371 - val_accuracy: 0.9116\n",
      "Epoch 19/100\n",
      "689/689 [==============================] - 6s 9ms/step - loss: 0.2383 - accuracy: 0.9092 - val_loss: 0.2511 - val_accuracy: 0.9016\n",
      "Epoch 20/100\n",
      "689/689 [==============================] - 6s 9ms/step - loss: 0.2337 - accuracy: 0.9088 - val_loss: 0.2358 - val_accuracy: 0.9134\n",
      "Epoch 21/100\n",
      "689/689 [==============================] - 6s 9ms/step - loss: 0.2349 - accuracy: 0.9085 - val_loss: 0.2438 - val_accuracy: 0.9041\n",
      "Epoch 22/100\n",
      "689/689 [==============================] - 6s 9ms/step - loss: 0.2319 - accuracy: 0.9093 - val_loss: 0.2348 - val_accuracy: 0.9074\n",
      "Epoch 23/100\n",
      "689/689 [==============================] - 6s 9ms/step - loss: 0.2263 - accuracy: 0.9123 - val_loss: 0.2254 - val_accuracy: 0.9145\n",
      "Epoch 24/100\n",
      "689/689 [==============================] - 6s 8ms/step - loss: 0.2253 - accuracy: 0.9148 - val_loss: 0.2460 - val_accuracy: 0.9079\n",
      "Epoch 25/100\n",
      "689/689 [==============================] - 6s 9ms/step - loss: 0.2200 - accuracy: 0.9149 - val_loss: 0.2455 - val_accuracy: 0.9007\n",
      "Epoch 26/100\n",
      "689/689 [==============================] - 6s 9ms/step - loss: 0.2212 - accuracy: 0.9155 - val_loss: 0.2315 - val_accuracy: 0.9101\n",
      "Epoch 27/100\n",
      "689/689 [==============================] - 6s 9ms/step - loss: 0.2193 - accuracy: 0.9144 - val_loss: 0.2327 - val_accuracy: 0.9139\n",
      "Epoch 28/100\n",
      "689/689 [==============================] - 6s 9ms/step - loss: 0.2169 - accuracy: 0.9176 - val_loss: 0.2230 - val_accuracy: 0.9152\n",
      "Epoch 29/100\n",
      "689/689 [==============================] - 6s 9ms/step - loss: 0.2184 - accuracy: 0.9162 - val_loss: 0.2202 - val_accuracy: 0.9174\n",
      "Epoch 30/100\n",
      "689/689 [==============================] - 7s 10ms/step - loss: 0.2140 - accuracy: 0.9180 - val_loss: 0.2154 - val_accuracy: 0.9186\n",
      "Epoch 31/100\n",
      "689/689 [==============================] - 6s 9ms/step - loss: 0.2115 - accuracy: 0.9186 - val_loss: 0.2305 - val_accuracy: 0.9126\n",
      "Epoch 32/100\n",
      "689/689 [==============================] - 6s 9ms/step - loss: 0.2090 - accuracy: 0.9198 - val_loss: 0.2190 - val_accuracy: 0.9157\n",
      "Epoch 33/100\n",
      "689/689 [==============================] - 6s 8ms/step - loss: 0.2066 - accuracy: 0.9214 - val_loss: 0.2251 - val_accuracy: 0.9159\n",
      "Epoch 34/100\n",
      "689/689 [==============================] - 6s 9ms/step - loss: 0.2049 - accuracy: 0.9213 - val_loss: 0.2098 - val_accuracy: 0.9188\n",
      "Epoch 35/100\n",
      "689/689 [==============================] - 6s 9ms/step - loss: 0.1981 - accuracy: 0.9238 - val_loss: 0.2130 - val_accuracy: 0.9208\n",
      "Epoch 36/100\n",
      "689/689 [==============================] - 6s 9ms/step - loss: 0.1978 - accuracy: 0.9236 - val_loss: 0.2161 - val_accuracy: 0.9181\n",
      "Epoch 37/100\n",
      "689/689 [==============================] - 8s 11ms/step - loss: 0.1947 - accuracy: 0.9246 - val_loss: 0.2101 - val_accuracy: 0.9203\n",
      "Epoch 38/100\n",
      "689/689 [==============================] - 7s 11ms/step - loss: 0.1958 - accuracy: 0.9248 - val_loss: 0.2079 - val_accuracy: 0.9203\n",
      "Epoch 39/100\n",
      "689/689 [==============================] - 7s 10ms/step - loss: 0.1935 - accuracy: 0.9267 - val_loss: 0.2344 - val_accuracy: 0.9105\n",
      "Epoch 40/100\n",
      "689/689 [==============================] - 6s 9ms/step - loss: 0.1928 - accuracy: 0.9264 - val_loss: 0.2120 - val_accuracy: 0.9185\n",
      "Epoch 41/100\n",
      "689/689 [==============================] - 6s 8ms/step - loss: 0.1877 - accuracy: 0.9272 - val_loss: 0.2141 - val_accuracy: 0.9215\n",
      "Epoch 42/100\n",
      "689/689 [==============================] - 7s 10ms/step - loss: 0.1888 - accuracy: 0.9290 - val_loss: 0.2189 - val_accuracy: 0.9195\n",
      "Epoch 43/100\n",
      "689/689 [==============================] - 6s 9ms/step - loss: 0.1868 - accuracy: 0.9279 - val_loss: 0.2015 - val_accuracy: 0.9243\n",
      "Epoch 44/100\n",
      "689/689 [==============================] - 6s 9ms/step - loss: 0.1843 - accuracy: 0.9280 - val_loss: 0.2218 - val_accuracy: 0.9179\n",
      "Epoch 45/100\n",
      "689/689 [==============================] - 6s 8ms/step - loss: 0.1809 - accuracy: 0.9303 - val_loss: 0.2126 - val_accuracy: 0.9205\n",
      "Epoch 46/100\n",
      "689/689 [==============================] - 6s 8ms/step - loss: 0.1808 - accuracy: 0.9291 - val_loss: 0.2124 - val_accuracy: 0.9183\n",
      "Epoch 47/100\n",
      "689/689 [==============================] - 6s 9ms/step - loss: 0.1744 - accuracy: 0.9339 - val_loss: 0.2160 - val_accuracy: 0.9221\n",
      "Epoch 48/100\n",
      "689/689 [==============================] - 7s 10ms/step - loss: 0.1755 - accuracy: 0.9323 - val_loss: 0.2078 - val_accuracy: 0.9221\n",
      "Epoch 49/100\n",
      "689/689 [==============================] - 6s 8ms/step - loss: 0.1741 - accuracy: 0.9319 - val_loss: 0.2046 - val_accuracy: 0.9221\n",
      "Epoch 50/100\n",
      "689/689 [==============================] - 6s 8ms/step - loss: 0.1695 - accuracy: 0.9354 - val_loss: 0.2112 - val_accuracy: 0.9219\n",
      "Epoch 51/100\n",
      "689/689 [==============================] - 7s 9ms/step - loss: 0.1684 - accuracy: 0.9363 - val_loss: 0.2104 - val_accuracy: 0.9203\n",
      "Epoch 52/100\n",
      "689/689 [==============================] - 7s 10ms/step - loss: 0.1669 - accuracy: 0.9361 - val_loss: 0.2071 - val_accuracy: 0.9239\n",
      "Epoch 53/100\n",
      "689/689 [==============================] - 6s 9ms/step - loss: 0.1646 - accuracy: 0.9373 - val_loss: 0.2266 - val_accuracy: 0.9117\n",
      "Epoch 54/100\n",
      "689/689 [==============================] - 6s 9ms/step - loss: 0.1674 - accuracy: 0.9356 - val_loss: 0.2208 - val_accuracy: 0.9195\n",
      "Epoch 55/100\n",
      "689/689 [==============================] - 6s 8ms/step - loss: 0.1651 - accuracy: 0.9368 - val_loss: 0.1950 - val_accuracy: 0.9281\n",
      "Epoch 56/100\n",
      "689/689 [==============================] - 6s 9ms/step - loss: 0.1616 - accuracy: 0.9386 - val_loss: 0.1933 - val_accuracy: 0.9268\n",
      "Epoch 57/100\n"
     ]
    },
    {
     "name": "stdout",
     "output_type": "stream",
     "text": [
      "689/689 [==============================] - 6s 9ms/step - loss: 0.1604 - accuracy: 0.9378 - val_loss: 0.2129 - val_accuracy: 0.9223\n",
      "Epoch 58/100\n",
      "689/689 [==============================] - 6s 9ms/step - loss: 0.1606 - accuracy: 0.9374 - val_loss: 0.2238 - val_accuracy: 0.9161\n",
      "Epoch 59/100\n",
      "689/689 [==============================] - 7s 9ms/step - loss: 0.1574 - accuracy: 0.9397 - val_loss: 0.2270 - val_accuracy: 0.9235\n",
      "Epoch 60/100\n",
      "689/689 [==============================] - 6s 9ms/step - loss: 0.1574 - accuracy: 0.9399 - val_loss: 0.2442 - val_accuracy: 0.9145\n",
      "Epoch 61/100\n",
      "689/689 [==============================] - 6s 9ms/step - loss: 0.1608 - accuracy: 0.9381 - val_loss: 0.1999 - val_accuracy: 0.9263\n",
      "Epoch 62/100\n",
      "689/689 [==============================] - 6s 9ms/step - loss: 0.1524 - accuracy: 0.9407 - val_loss: 0.1979 - val_accuracy: 0.9259\n",
      "Epoch 63/100\n",
      "689/689 [==============================] - 6s 8ms/step - loss: 0.1551 - accuracy: 0.9395 - val_loss: 0.2084 - val_accuracy: 0.9259\n",
      "Epoch 64/100\n",
      "689/689 [==============================] - 6s 9ms/step - loss: 0.1494 - accuracy: 0.9416 - val_loss: 0.2009 - val_accuracy: 0.9243\n",
      "Epoch 65/100\n",
      "689/689 [==============================] - 6s 8ms/step - loss: 0.1490 - accuracy: 0.9417 - val_loss: 0.2080 - val_accuracy: 0.9252\n",
      "Epoch 66/100\n",
      "689/689 [==============================] - 6s 9ms/step - loss: 0.1455 - accuracy: 0.9450 - val_loss: 0.2067 - val_accuracy: 0.9257\n",
      "Epoch 67/100\n",
      "689/689 [==============================] - 6s 9ms/step - loss: 0.1454 - accuracy: 0.9436 - val_loss: 0.1987 - val_accuracy: 0.9283\n",
      "Epoch 68/100\n",
      "689/689 [==============================] - 6s 9ms/step - loss: 0.1427 - accuracy: 0.9441 - val_loss: 0.2077 - val_accuracy: 0.9290\n",
      "Epoch 69/100\n",
      "689/689 [==============================] - 6s 9ms/step - loss: 0.1477 - accuracy: 0.9423 - val_loss: 0.1905 - val_accuracy: 0.9335\n",
      "Epoch 70/100\n",
      "689/689 [==============================] - 7s 9ms/step - loss: 0.1474 - accuracy: 0.9441 - val_loss: 0.1995 - val_accuracy: 0.9293\n",
      "Epoch 71/100\n",
      "689/689 [==============================] - 6s 9ms/step - loss: 0.1419 - accuracy: 0.9452 - val_loss: 0.2001 - val_accuracy: 0.9295\n",
      "Epoch 72/100\n",
      "689/689 [==============================] - 6s 9ms/step - loss: 0.1402 - accuracy: 0.9461 - val_loss: 0.2043 - val_accuracy: 0.9277\n",
      "Epoch 73/100\n",
      "689/689 [==============================] - 6s 9ms/step - loss: 0.1401 - accuracy: 0.9468 - val_loss: 0.2030 - val_accuracy: 0.9303\n",
      "Epoch 74/100\n",
      "689/689 [==============================] - 6s 9ms/step - loss: 0.1375 - accuracy: 0.9468 - val_loss: 0.1988 - val_accuracy: 0.9306\n",
      "Epoch 75/100\n",
      "689/689 [==============================] - 6s 9ms/step - loss: 0.1394 - accuracy: 0.9458 - val_loss: 0.1999 - val_accuracy: 0.9332\n",
      "Epoch 76/100\n",
      "689/689 [==============================] - 6s 9ms/step - loss: 0.1341 - accuracy: 0.9474 - val_loss: 0.2330 - val_accuracy: 0.9203\n",
      "Epoch 77/100\n",
      "689/689 [==============================] - 6s 9ms/step - loss: 0.1336 - accuracy: 0.9479 - val_loss: 0.2129 - val_accuracy: 0.9304\n",
      "Epoch 78/100\n",
      "689/689 [==============================] - 7s 9ms/step - loss: 0.1333 - accuracy: 0.9496 - val_loss: 0.2187 - val_accuracy: 0.9283\n",
      "Epoch 79/100\n",
      "689/689 [==============================] - 7s 10ms/step - loss: 0.1343 - accuracy: 0.9485 - val_loss: 0.2152 - val_accuracy: 0.9257\n",
      "Epoch 80/100\n",
      "689/689 [==============================] - 6s 9ms/step - loss: 0.1325 - accuracy: 0.9490 - val_loss: 0.1971 - val_accuracy: 0.9339\n",
      "Epoch 81/100\n",
      "689/689 [==============================] - 6s 8ms/step - loss: 0.1308 - accuracy: 0.9494 - val_loss: 0.2110 - val_accuracy: 0.9274\n",
      "Epoch 82/100\n",
      "689/689 [==============================] - 6s 8ms/step - loss: 0.1302 - accuracy: 0.9513 - val_loss: 0.1974 - val_accuracy: 0.9330\n",
      "Epoch 83/100\n",
      "689/689 [==============================] - 6s 9ms/step - loss: 0.1347 - accuracy: 0.9485 - val_loss: 0.2075 - val_accuracy: 0.9290\n",
      "Epoch 84/100\n",
      "689/689 [==============================] - 6s 9ms/step - loss: 0.1312 - accuracy: 0.9483 - val_loss: 0.1990 - val_accuracy: 0.9281\n",
      "Epoch 85/100\n",
      "689/689 [==============================] - 6s 8ms/step - loss: 0.1232 - accuracy: 0.9524 - val_loss: 0.1955 - val_accuracy: 0.9341\n",
      "Epoch 86/100\n",
      "689/689 [==============================] - 6s 9ms/step - loss: 0.1242 - accuracy: 0.9515 - val_loss: 0.2008 - val_accuracy: 0.9317\n",
      "Epoch 87/100\n",
      "689/689 [==============================] - 6s 8ms/step - loss: 0.1247 - accuracy: 0.9520 - val_loss: 0.2064 - val_accuracy: 0.9286\n",
      "Epoch 88/100\n",
      "689/689 [==============================] - 6s 9ms/step - loss: 0.1212 - accuracy: 0.9549 - val_loss: 0.2417 - val_accuracy: 0.9199\n",
      "Epoch 89/100\n",
      "689/689 [==============================] - 6s 9ms/step - loss: 0.1232 - accuracy: 0.9520 - val_loss: 0.2129 - val_accuracy: 0.9312\n",
      "Epoch 90/100\n",
      "689/689 [==============================] - 6s 9ms/step - loss: 0.1198 - accuracy: 0.9549 - val_loss: 0.2396 - val_accuracy: 0.9197\n",
      "Epoch 91/100\n",
      "689/689 [==============================] - 7s 10ms/step - loss: 0.1204 - accuracy: 0.9544 - val_loss: 0.2331 - val_accuracy: 0.9208\n",
      "Epoch 92/100\n",
      "689/689 [==============================] - 7s 10ms/step - loss: 0.1190 - accuracy: 0.9525 - val_loss: 0.2136 - val_accuracy: 0.9323\n",
      "Epoch 93/100\n",
      "689/689 [==============================] - 7s 10ms/step - loss: 0.1180 - accuracy: 0.9543 - val_loss: 0.2172 - val_accuracy: 0.9299\n",
      "Epoch 94/100\n",
      "689/689 [==============================] - 7s 10ms/step - loss: 0.1196 - accuracy: 0.9537 - val_loss: 0.2069 - val_accuracy: 0.9306\n",
      "Epoch 00094: early stopping\n"
     ]
    }
   ],
   "source": [
    "EPOCHS = 100\n",
    "\n",
    "history = model.fit(X_train,\n",
    "                    y_train,\n",
    "                    epochs=EPOCHS,\n",
    "                    validation_split=0.2,\n",
    "                    verbose=1,\n",
    "                    callbacks=[early_stop])"
   ]
  },
  {
   "cell_type": "code",
   "execution_count": 44,
   "metadata": {
    "ExecuteTime": {
     "end_time": "2021-06-01T17:50:03.469646Z",
     "start_time": "2021-06-01T17:50:03.016122Z"
    }
   },
   "outputs": [
    {
     "name": "stdout",
     "output_type": "stream",
     "text": [
      "Model Accuraccy:  0.92\n"
     ]
    },
    {
     "data": {
      "image/png": "[encoded data removed]",
      "text/plain": [
       "<Figure size 576x432 with 1 Axes>"
      ]
     },
     "metadata": {
      "needs_background": "light"
     },
     "output_type": "display_data"
    }
   ],
   "source": [
    "_, model_accuracy = model.evaluate(X_test, y_test, verbose=0)\n",
    "print(\"Model Accuraccy: \", round(model_accuracy, 2))\n",
    "summarize_loss(history)"
   ]
  },
  {
   "cell_type": "markdown",
   "metadata": {},
   "source": [
    "`Maybe train again with lower lr`"
   ]
  },
  {
   "cell_type": "code",
   "execution_count": 47,
   "metadata": {
    "ExecuteTime": {
     "end_time": "2021-06-01T18:12:42.398617Z",
     "start_time": "2021-06-01T18:12:41.950316Z"
    }
   },
   "outputs": [
    {
     "name": "stdout",
     "output_type": "stream",
     "text": [
      "              precision    recall  f1-score   support\n",
      "\n",
      "         0.0       0.90      0.92      0.91      3083\n",
      "         1.0       0.93      0.91      0.92      3799\n",
      "\n",
      "    accuracy                           0.92      6882\n",
      "   macro avg       0.92      0.92      0.92      6882\n",
      "weighted avg       0.92      0.92      0.92      6882\n",
      "\n"
     ]
    },
    {
     "data": {
      "image/png": "[encoded data removed]",
      "text/plain": [
       "<Figure size 576x432 with 2 Axes>"
      ]
     },
     "metadata": {
      "needs_background": "light"
     },
     "output_type": "display_data"
    }
   ],
   "source": [
    "y_pred = model.predict(X_test)\n",
    "y_pred = y_pred > 0.5\n",
    "print(classification_report(y_test, y_pred))\n",
    "plot_conf_matrix(y_test, y_pred)"
   ]
  },
  {
   "cell_type": "code",
   "execution_count": 48,
   "metadata": {},
   "outputs": [
    {
     "data": {
      "text/plain": [
       "(6882, 60, 1)"
      ]
     },
     "execution_count": 48,
     "metadata": {},
     "output_type": "execute_result"
    }
   ],
   "source": [
    "X_test.shape"
   ]
  },
  {
   "cell_type": "code",
   "execution_count": 50,
   "metadata": {},
   "outputs": [
    {
     "name": "stdout",
     "output_type": "stream",
     "text": [
      "True\n",
      "False\n",
      "True\n",
      "True\n",
      "True\n",
      "True\n",
      "True\n",
      "True\n",
      "True\n",
      "True\n"
     ]
    }
   ],
   "source": [
    "for i in range(10):\n",
    "    ecg_pred = model.predict(X_sr[i].T.reshape(1,60,1))\n",
    "    ecg_pred = ecg_pred > 0.5\n",
    "    ecg_pred = ecg_pred[0][0]\n",
    "    print(ecg_pred)"
   ]
  },
  {
   "cell_type": "code",
   "execution_count": 172,
   "metadata": {},
   "outputs": [],
   "source": [
    "dfHome = pd.read_csv(\"ecg_homecare_data_10_s_100Hz_ADS1115.csv\")"
   ]
  },
  {
   "cell_type": "code",
   "execution_count": 173,
   "metadata": {},
   "outputs": [
    {
     "data": {
      "text/html": [
       "<div>\n",
       "<style scoped>\n",
       "    .dataframe tbody tr th:only-of-type {\n",
       "        vertical-align: middle;\n",
       "    }\n",
       "\n",
       "    .dataframe tbody tr th {\n",
       "        vertical-align: top;\n",
       "    }\n",
       "\n",
       "    .dataframe thead th {\n",
       "        text-align: right;\n",
       "    }\n",
       "</style>\n",
       "<table border=\"1\" class=\"dataframe\">\n",
       "  <thead>\n",
       "    <tr style=\"text-align: right;\">\n",
       "      <th></th>\n",
       "      <th>time</th>\n",
       "      <th>Unnamed: 1</th>\n",
       "      <th>samples</th>\n",
       "    </tr>\n",
       "  </thead>\n",
       "  <tbody>\n",
       "    <tr>\n",
       "      <th>0</th>\n",
       "      <td>15:56:57</td>\n",
       "      <td>57417.70</td>\n",
       "      <td>23</td>\n",
       "    </tr>\n",
       "    <tr>\n",
       "      <th>1</th>\n",
       "      <td>15:56:57</td>\n",
       "      <td>57417.70</td>\n",
       "      <td>36</td>\n",
       "    </tr>\n",
       "    <tr>\n",
       "      <th>2</th>\n",
       "      <td>15:56:57</td>\n",
       "      <td>57417.71</td>\n",
       "      <td>39</td>\n",
       "    </tr>\n",
       "    <tr>\n",
       "      <th>3</th>\n",
       "      <td>15:56:57</td>\n",
       "      <td>57417.72</td>\n",
       "      <td>55</td>\n",
       "    </tr>\n",
       "    <tr>\n",
       "      <th>4</th>\n",
       "      <td>15:56:57</td>\n",
       "      <td>57417.73</td>\n",
       "      <td>72</td>\n",
       "    </tr>\n",
       "    <tr>\n",
       "      <th>...</th>\n",
       "      <td>...</td>\n",
       "      <td>...</td>\n",
       "      <td>...</td>\n",
       "    </tr>\n",
       "    <tr>\n",
       "      <th>12960</th>\n",
       "      <td>15:59:07</td>\n",
       "      <td>57547.32</td>\n",
       "      <td>30</td>\n",
       "    </tr>\n",
       "    <tr>\n",
       "      <th>12961</th>\n",
       "      <td>15:59:07</td>\n",
       "      <td>57547.32</td>\n",
       "      <td>40</td>\n",
       "    </tr>\n",
       "    <tr>\n",
       "      <th>12962</th>\n",
       "      <td>15:59:07</td>\n",
       "      <td>57547.34</td>\n",
       "      <td>43</td>\n",
       "    </tr>\n",
       "    <tr>\n",
       "      <th>12963</th>\n",
       "      <td>15:59:07</td>\n",
       "      <td>57547.34</td>\n",
       "      <td>42</td>\n",
       "    </tr>\n",
       "    <tr>\n",
       "      <th>12964</th>\n",
       "      <td>15:59:07</td>\n",
       "      <td>57547.36</td>\n",
       "      <td>43</td>\n",
       "    </tr>\n",
       "  </tbody>\n",
       "</table>\n",
       "<p>12965 rows × 3 columns</p>\n",
       "</div>"
      ],
      "text/plain": [
       "           time  Unnamed: 1  samples\n",
       "0      15:56:57    57417.70       23\n",
       "1      15:56:57    57417.70       36\n",
       "2      15:56:57    57417.71       39\n",
       "3      15:56:57    57417.72       55\n",
       "4      15:56:57    57417.73       72\n",
       "...         ...         ...      ...\n",
       "12960  15:59:07    57547.32       30\n",
       "12961  15:59:07    57547.32       40\n",
       "12962  15:59:07    57547.34       43\n",
       "12963  15:59:07    57547.34       42\n",
       "12964  15:59:07    57547.36       43\n",
       "\n",
       "[12965 rows x 3 columns]"
      ]
     },
     "execution_count": 173,
     "metadata": {},
     "output_type": "execute_result"
    }
   ],
   "source": [
    "dfHome"
   ]
  },
  {
   "cell_type": "code",
   "execution_count": 175,
   "metadata": {},
   "outputs": [],
   "source": [
    "XhomeMeasure = dfHome.samples.values"
   ]
  },
  {
   "cell_type": "code",
   "execution_count": 176,
   "metadata": {},
   "outputs": [
    {
     "data": {
      "text/plain": [
       "(12965,)"
      ]
     },
     "execution_count": 176,
     "metadata": {},
     "output_type": "execute_result"
    }
   ],
   "source": [
    "XhomeMeasure.shape"
   ]
  },
  {
   "cell_type": "code",
   "execution_count": 189,
   "metadata": {},
   "outputs": [
    {
     "data": {
      "text/plain": [
       "12"
      ]
     },
     "execution_count": 189,
     "metadata": {},
     "output_type": "execute_result"
    }
   ],
   "source": [
    "int(12965/1000)"
   ]
  },
  {
   "cell_type": "code",
   "execution_count": 197,
   "metadata": {},
   "outputs": [
    {
     "name": "stdout",
     "output_type": "stream",
     "text": [
      "858\n",
      "1.0\n"
     ]
    }
   ],
   "source": [
    "XhomeMeasure = XhomeMeasure/XhomeMeasure.max()"
   ]
  },
  {
   "cell_type": "code",
   "execution_count": 201,
   "metadata": {},
   "outputs": [
    {
     "data": {
      "text/plain": [
       "array([ 0.02680653,  0.04195804,  0.04545455,  0.06410256,  0.08391608,\n",
       "        0.1048951 ,  0.12587413,  0.16200466,  0.17132867,  0.12121212,\n",
       "        0.04312354, -0.01282051, -0.01748252, -0.01398601, -0.01048951,\n",
       "       -0.02331002, -0.05361305, -0.09090909, -0.1025641 , -0.08857809,\n",
       "       -0.06410256, -0.03846154, -0.00815851,  0.01515152,  0.05244755,\n",
       "        0.03846154,  0.        , -0.04195804, -0.03729604,  0.01165501,\n",
       "        0.04195804,  0.06293706,  0.06410256,  0.06293706,  0.07226107,\n",
       "        0.08158508,  0.1013986 ,  0.09090909,  0.05477855,  0.04312354,\n",
       "        0.05594406,  0.05944056,  0.03263403,  0.01515152,  0.05361305,\n",
       "        0.08275058,  0.07925408,  0.05128205, -0.004662  , -0.05710956,\n",
       "       -0.0979021 , -0.09440559, -0.07692308, -0.05710956, -0.03846154,\n",
       "       -0.02097902, -0.01864802, -0.00815851,  0.12121212,  0.52097902,\n",
       "        0.87995338,  0.67482517, -0.05944056, -0.60722611, -0.5955711 ,\n",
       "       -0.28787879, -0.1013986 , -0.01048951,  0.01398601,  0.01515152,\n",
       "        0.01515152,  0.03379953,  0.01748252, -0.00815851, -0.00815851,\n",
       "        0.00932401,  0.03263403,  0.01398601, -0.01631702, -0.03729604,\n",
       "       -0.01398601,  0.03496503,  0.03846154,  0.01515152,  0.0011655 ,\n",
       "        0.04079254,  0.05594406,  0.02447552, -0.02564103, -0.01864802,\n",
       "       -0.01631702, -0.04895105, -0.08624709, -0.08275058, -0.07226107,\n",
       "       -0.08158508, -0.0955711 , -0.06526807, -0.05710956, -0.07342657])"
      ]
     },
     "execution_count": 201,
     "metadata": {},
     "output_type": "execute_result"
    }
   ],
   "source": [
    "XhomeMeasure[0:100]"
   ]
  },
  {
   "cell_type": "code",
   "execution_count": 67,
   "metadata": {
    "ExecuteTime": {
     "end_time": "2021-06-01T17:59:19.088787Z",
     "start_time": "2021-06-01T17:59:19.032842Z"
    }
   },
   "outputs": [],
   "source": [
    "model.save('models/cnn_v1.h5')"
   ]
  },
  {
   "cell_type": "markdown",
   "metadata": {},
   "source": [
    "## Simple CNN"
   ]
  },
  {
   "cell_type": "code",
   "execution_count": 68,
   "metadata": {
    "ExecuteTime": {
     "end_time": "2021-06-01T18:38:57.990505Z",
     "start_time": "2021-06-01T18:38:57.786966Z"
    }
   },
   "outputs": [
    {
     "name": "stdout",
     "output_type": "stream",
     "text": [
      "WARNING:tensorflow:Please add `keras.layers.InputLayer` instead of `keras.Input` to Sequential model. `keras.Input` is intended to be used by Functional model.\n",
      "Model: \"sequential_2\"\n",
      "_________________________________________________________________\n",
      "Layer (type)                 Output Shape              Param #   \n",
      "=================================================================\n",
      "conv1d_6 (Conv1D)            (None, 60, 32)            128       \n",
      "_________________________________________________________________\n",
      "max_pooling1d_3 (MaxPooling1 (None, 58, 32)            0         \n",
      "_________________________________________________________________\n",
      "flatten_1 (Flatten)          (None, 1856)              0         \n",
      "_________________________________________________________________\n",
      "dense_6 (Dense)              (None, 32)                59424     \n",
      "_________________________________________________________________\n",
      "dense_7 (Dense)              (None, 1)                 33        \n",
      "=================================================================\n",
      "Total params: 59,585\n",
      "Trainable params: 59,585\n",
      "Non-trainable params: 0\n",
      "_________________________________________________________________\n"
     ]
    }
   ],
   "source": [
    "model = Sequential()\n",
    "model.add(Input(shape=(features, depht)))\n",
    "model.add(\n",
    "    Conv1D(32,\n",
    "           kernel_size=3,\n",
    "           strides=1,\n",
    "           padding='same',\n",
    "           activation='relu'))\n",
    "model.add(MaxPooling1D(pool_size=3, strides=1))\n",
    "model.add(Flatten())\n",
    "model.add(Dense(32, activation='relu'))\n",
    "model.add(Dense(1, activation='sigmoid'))\n",
    "model.summary()"
   ]
  },
  {
   "cell_type": "code",
   "execution_count": 69,
   "metadata": {
    "ExecuteTime": {
     "end_time": "2021-06-01T18:40:58.003531Z",
     "start_time": "2021-06-01T18:40:57.998553Z"
    }
   },
   "outputs": [],
   "source": [
    "lr = 0.001\n",
    "EPOCHS=100"
   ]
  },
  {
   "cell_type": "code",
   "execution_count": 70,
   "metadata": {
    "ExecuteTime": {
     "end_time": "2021-06-01T18:44:05.351213Z",
     "start_time": "2021-06-01T18:40:59.442523Z"
    }
   },
   "outputs": [
    {
     "name": "stdout",
     "output_type": "stream",
     "text": [
      "Epoch 1/100\n",
      "689/689 [==============================] - 3s 4ms/step - loss: 0.6746 - accuracy: 0.5663 - val_loss: 0.6380 - val_accuracy: 0.6028\n",
      "Epoch 2/100\n",
      "689/689 [==============================] - 2s 3ms/step - loss: 0.5828 - accuracy: 0.7197 - val_loss: 0.5492 - val_accuracy: 0.7219\n",
      "Epoch 3/100\n",
      "689/689 [==============================] - 2s 3ms/step - loss: 0.4989 - accuracy: 0.7850 - val_loss: 0.4598 - val_accuracy: 0.8100\n",
      "Epoch 4/100\n",
      "689/689 [==============================] - 2s 3ms/step - loss: 0.4542 - accuracy: 0.8191 - val_loss: 0.4335 - val_accuracy: 0.8347\n",
      "Epoch 5/100\n",
      "689/689 [==============================] - 2s 3ms/step - loss: 0.4275 - accuracy: 0.8348 - val_loss: 0.4184 - val_accuracy: 0.8345\n",
      "Epoch 6/100\n",
      "689/689 [==============================] - 2s 3ms/step - loss: 0.4143 - accuracy: 0.8457 - val_loss: 0.3915 - val_accuracy: 0.8551\n",
      "Epoch 7/100\n",
      "689/689 [==============================] - 2s 3ms/step - loss: 0.4008 - accuracy: 0.8518 - val_loss: 0.3857 - val_accuracy: 0.8651\n",
      "Epoch 8/100\n",
      "689/689 [==============================] - 3s 4ms/step - loss: 0.3901 - accuracy: 0.8569 - val_loss: 0.3996 - val_accuracy: 0.8467\n",
      "Epoch 9/100\n",
      "689/689 [==============================] - 3s 4ms/step - loss: 0.3884 - accuracy: 0.8577 - val_loss: 0.3684 - val_accuracy: 0.8669\n",
      "Epoch 10/100\n",
      "689/689 [==============================] - 3s 4ms/step - loss: 0.3804 - accuracy: 0.8604 - val_loss: 0.3848 - val_accuracy: 0.8503\n",
      "Epoch 11/100\n",
      "689/689 [==============================] - 3s 4ms/step - loss: 0.3753 - accuracy: 0.8616 - val_loss: 0.3692 - val_accuracy: 0.8607\n",
      "Epoch 12/100\n",
      "689/689 [==============================] - 3s 4ms/step - loss: 0.3731 - accuracy: 0.8612 - val_loss: 0.3554 - val_accuracy: 0.8745\n",
      "Epoch 13/100\n",
      "689/689 [==============================] - 2s 3ms/step - loss: 0.3666 - accuracy: 0.8641 - val_loss: 0.3562 - val_accuracy: 0.8718\n",
      "Epoch 14/100\n",
      "689/689 [==============================] - 2s 4ms/step - loss: 0.3600 - accuracy: 0.8658 - val_loss: 0.3465 - val_accuracy: 0.8696\n",
      "Epoch 15/100\n",
      "689/689 [==============================] - 2s 3ms/step - loss: 0.3554 - accuracy: 0.8657 - val_loss: 0.3391 - val_accuracy: 0.8783\n",
      "Epoch 16/100\n",
      "689/689 [==============================] - 2s 3ms/step - loss: 0.3494 - accuracy: 0.8698 - val_loss: 0.3623 - val_accuracy: 0.8565\n",
      "Epoch 17/100\n",
      "689/689 [==============================] - 2s 3ms/step - loss: 0.3465 - accuracy: 0.8682 - val_loss: 0.3427 - val_accuracy: 0.8738\n",
      "Epoch 18/100\n",
      "689/689 [==============================] - 2s 3ms/step - loss: 0.3385 - accuracy: 0.8723 - val_loss: 0.3265 - val_accuracy: 0.8803\n",
      "Epoch 19/100\n",
      "689/689 [==============================] - 2s 3ms/step - loss: 0.3361 - accuracy: 0.8699 - val_loss: 0.3195 - val_accuracy: 0.8839\n",
      "Epoch 20/100\n",
      "689/689 [==============================] - 3s 4ms/step - loss: 0.3286 - accuracy: 0.8755 - val_loss: 0.3157 - val_accuracy: 0.8905\n",
      "Epoch 21/100\n",
      "689/689 [==============================] - 3s 4ms/step - loss: 0.3249 - accuracy: 0.8757 - val_loss: 0.3447 - val_accuracy: 0.8641\n",
      "Epoch 22/100\n",
      "689/689 [==============================] - 3s 4ms/step - loss: 0.3257 - accuracy: 0.8737 - val_loss: 0.3349 - val_accuracy: 0.8712\n",
      "Epoch 23/100\n",
      "689/689 [==============================] - 3s 4ms/step - loss: 0.3192 - accuracy: 0.8775 - val_loss: 0.3057 - val_accuracy: 0.8938\n",
      "Epoch 24/100\n",
      "689/689 [==============================] - 2s 4ms/step - loss: 0.3146 - accuracy: 0.8788 - val_loss: 0.3126 - val_accuracy: 0.8807\n",
      "Epoch 25/100\n",
      "689/689 [==============================] - 2s 3ms/step - loss: 0.3141 - accuracy: 0.8792 - val_loss: 0.3049 - val_accuracy: 0.8865\n",
      "Epoch 26/100\n",
      "689/689 [==============================] - 2s 3ms/step - loss: 0.3103 - accuracy: 0.8807 - val_loss: 0.2967 - val_accuracy: 0.8899\n",
      "Epoch 27/100\n",
      "689/689 [==============================] - 2s 3ms/step - loss: 0.3081 - accuracy: 0.8792 - val_loss: 0.2975 - val_accuracy: 0.8874\n",
      "Epoch 28/100\n",
      "689/689 [==============================] - 2s 3ms/step - loss: 0.3063 - accuracy: 0.8827 - val_loss: 0.2966 - val_accuracy: 0.8874\n",
      "Epoch 29/100\n",
      "689/689 [==============================] - 2s 3ms/step - loss: 0.3037 - accuracy: 0.8839 - val_loss: 0.2952 - val_accuracy: 0.8910\n",
      "Epoch 30/100\n",
      "689/689 [==============================] - 2s 3ms/step - loss: 0.3008 - accuracy: 0.8831 - val_loss: 0.3062 - val_accuracy: 0.8812\n",
      "Epoch 31/100\n",
      "689/689 [==============================] - 2s 3ms/step - loss: 0.3009 - accuracy: 0.8843 - val_loss: 0.2905 - val_accuracy: 0.8901\n",
      "Epoch 32/100\n",
      "689/689 [==============================] - 2s 3ms/step - loss: 0.2961 - accuracy: 0.8868 - val_loss: 0.2879 - val_accuracy: 0.8890\n",
      "Epoch 33/100\n",
      "689/689 [==============================] - 2s 3ms/step - loss: 0.2963 - accuracy: 0.8861 - val_loss: 0.2889 - val_accuracy: 0.8898\n",
      "Epoch 34/100\n",
      "689/689 [==============================] - 2s 3ms/step - loss: 0.2952 - accuracy: 0.8875 - val_loss: 0.2865 - val_accuracy: 0.8945\n",
      "Epoch 35/100\n",
      "689/689 [==============================] - 2s 3ms/step - loss: 0.2905 - accuracy: 0.8892 - val_loss: 0.2894 - val_accuracy: 0.8839\n",
      "Epoch 36/100\n",
      "689/689 [==============================] - 2s 3ms/step - loss: 0.2901 - accuracy: 0.8878 - val_loss: 0.3266 - val_accuracy: 0.8709\n",
      "Epoch 37/100\n",
      "689/689 [==============================] - 2s 3ms/step - loss: 0.2887 - accuracy: 0.8891 - val_loss: 0.2778 - val_accuracy: 0.8956\n",
      "Epoch 38/100\n",
      "689/689 [==============================] - 2s 3ms/step - loss: 0.2834 - accuracy: 0.8900 - val_loss: 0.3151 - val_accuracy: 0.8767\n",
      "Epoch 39/100\n",
      "689/689 [==============================] - 2s 3ms/step - loss: 0.2832 - accuracy: 0.8915 - val_loss: 0.2714 - val_accuracy: 0.8977\n",
      "Epoch 40/100\n",
      "689/689 [==============================] - 2s 3ms/step - loss: 0.2822 - accuracy: 0.8919 - val_loss: 0.2798 - val_accuracy: 0.8930\n",
      "Epoch 41/100\n",
      "689/689 [==============================] - 2s 3ms/step - loss: 0.2790 - accuracy: 0.8934 - val_loss: 0.2682 - val_accuracy: 0.8979\n",
      "Epoch 42/100\n",
      "689/689 [==============================] - 2s 3ms/step - loss: 0.2782 - accuracy: 0.8937 - val_loss: 0.2726 - val_accuracy: 0.8972\n",
      "Epoch 43/100\n",
      "689/689 [==============================] - 2s 3ms/step - loss: 0.2769 - accuracy: 0.8940 - val_loss: 0.2770 - val_accuracy: 0.8950\n",
      "Epoch 44/100\n",
      "689/689 [==============================] - 2s 3ms/step - loss: 0.2737 - accuracy: 0.8960 - val_loss: 0.2662 - val_accuracy: 0.8997\n",
      "Epoch 45/100\n",
      "689/689 [==============================] - 2s 3ms/step - loss: 0.2717 - accuracy: 0.8957 - val_loss: 0.3068 - val_accuracy: 0.8798\n",
      "Epoch 46/100\n",
      "689/689 [==============================] - 3s 4ms/step - loss: 0.2704 - accuracy: 0.8978 - val_loss: 0.2617 - val_accuracy: 0.9010\n",
      "Epoch 47/100\n",
      "689/689 [==============================] - 3s 5ms/step - loss: 0.2700 - accuracy: 0.8985 - val_loss: 0.2624 - val_accuracy: 0.8992\n",
      "Epoch 48/100\n",
      "689/689 [==============================] - 3s 4ms/step - loss: 0.2679 - accuracy: 0.8981 - val_loss: 0.2637 - val_accuracy: 0.8992\n",
      "Epoch 49/100\n",
      "689/689 [==============================] - 3s 4ms/step - loss: 0.2683 - accuracy: 0.8980 - val_loss: 0.2741 - val_accuracy: 0.8985\n",
      "Epoch 50/100\n",
      "689/689 [==============================] - 3s 4ms/step - loss: 0.2674 - accuracy: 0.8990 - val_loss: 0.2647 - val_accuracy: 0.9008\n",
      "Epoch 51/100\n",
      "689/689 [==============================] - 3s 4ms/step - loss: 0.2643 - accuracy: 0.8998 - val_loss: 0.2675 - val_accuracy: 0.9005\n",
      "Epoch 52/100\n",
      "689/689 [==============================] - 3s 4ms/step - loss: 0.2647 - accuracy: 0.8998 - val_loss: 0.2553 - val_accuracy: 0.9023\n",
      "Epoch 53/100\n",
      "689/689 [==============================] - 3s 4ms/step - loss: 0.2647 - accuracy: 0.9001 - val_loss: 0.2578 - val_accuracy: 0.8999\n",
      "Epoch 54/100\n",
      "689/689 [==============================] - 2s 3ms/step - loss: 0.2623 - accuracy: 0.8997 - val_loss: 0.2657 - val_accuracy: 0.8977\n",
      "Epoch 55/100\n",
      "689/689 [==============================] - 3s 4ms/step - loss: 0.2620 - accuracy: 0.9007 - val_loss: 0.2557 - val_accuracy: 0.9030\n",
      "Epoch 56/100\n",
      "689/689 [==============================] - 2s 3ms/step - loss: 0.2598 - accuracy: 0.9038 - val_loss: 0.2561 - val_accuracy: 0.9034\n",
      "Epoch 57/100\n",
      "689/689 [==============================] - 2s 3ms/step - loss: 0.2605 - accuracy: 0.9011 - val_loss: 0.2558 - val_accuracy: 0.9052\n"
     ]
    },
    {
     "name": "stdout",
     "output_type": "stream",
     "text": [
      "Epoch 58/100\n",
      "689/689 [==============================] - 2s 4ms/step - loss: 0.2611 - accuracy: 0.9021 - val_loss: 0.2554 - val_accuracy: 0.9027\n",
      "Epoch 59/100\n",
      "689/689 [==============================] - 2s 3ms/step - loss: 0.2615 - accuracy: 0.9008 - val_loss: 0.2515 - val_accuracy: 0.9034\n",
      "Epoch 60/100\n",
      "689/689 [==============================] - 2s 3ms/step - loss: 0.2568 - accuracy: 0.9037 - val_loss: 0.2571 - val_accuracy: 0.9028\n",
      "Epoch 61/100\n",
      "689/689 [==============================] - 2s 3ms/step - loss: 0.2563 - accuracy: 0.9035 - val_loss: 0.2514 - val_accuracy: 0.9039\n",
      "Epoch 62/100\n",
      "689/689 [==============================] - 2s 3ms/step - loss: 0.2568 - accuracy: 0.9024 - val_loss: 0.2660 - val_accuracy: 0.8990\n",
      "Epoch 63/100\n",
      "689/689 [==============================] - 2s 4ms/step - loss: 0.2578 - accuracy: 0.9030 - val_loss: 0.2496 - val_accuracy: 0.9076\n",
      "Epoch 64/100\n",
      "689/689 [==============================] - 2s 4ms/step - loss: 0.2571 - accuracy: 0.9026 - val_loss: 0.2698 - val_accuracy: 0.8963\n",
      "Epoch 65/100\n",
      "689/689 [==============================] - 2s 3ms/step - loss: 0.2559 - accuracy: 0.9019 - val_loss: 0.2680 - val_accuracy: 0.8967\n",
      "Epoch 66/100\n",
      "689/689 [==============================] - 2s 3ms/step - loss: 0.2571 - accuracy: 0.9026 - val_loss: 0.2492 - val_accuracy: 0.9061\n",
      "Epoch 67/100\n",
      "689/689 [==============================] - 2s 3ms/step - loss: 0.2548 - accuracy: 0.9035 - val_loss: 0.2621 - val_accuracy: 0.8992\n",
      "Epoch 68/100\n",
      "689/689 [==============================] - 2s 3ms/step - loss: 0.2544 - accuracy: 0.9045 - val_loss: 0.2521 - val_accuracy: 0.9059\n",
      "Epoch 69/100\n",
      "689/689 [==============================] - 2s 3ms/step - loss: 0.2513 - accuracy: 0.9047 - val_loss: 0.2454 - val_accuracy: 0.9070\n",
      "Epoch 70/100\n",
      "689/689 [==============================] - 2s 3ms/step - loss: 0.2506 - accuracy: 0.9044 - val_loss: 0.2505 - val_accuracy: 0.9050\n",
      "Epoch 71/100\n",
      "689/689 [==============================] - 2s 3ms/step - loss: 0.2551 - accuracy: 0.9047 - val_loss: 0.2698 - val_accuracy: 0.8972\n",
      "Epoch 72/100\n",
      "689/689 [==============================] - 2s 3ms/step - loss: 0.2496 - accuracy: 0.9073 - val_loss: 0.2526 - val_accuracy: 0.9032\n",
      "Epoch 73/100\n",
      "689/689 [==============================] - 2s 3ms/step - loss: 0.2488 - accuracy: 0.9070 - val_loss: 0.2510 - val_accuracy: 0.9043\n",
      "Epoch 74/100\n",
      "689/689 [==============================] - 2s 3ms/step - loss: 0.2487 - accuracy: 0.9067 - val_loss: 0.2570 - val_accuracy: 0.9025\n",
      "Epoch 75/100\n",
      "689/689 [==============================] - 2s 4ms/step - loss: 0.2481 - accuracy: 0.9058 - val_loss: 0.2865 - val_accuracy: 0.8914\n",
      "Epoch 76/100\n",
      "689/689 [==============================] - 2s 4ms/step - loss: 0.2514 - accuracy: 0.9057 - val_loss: 0.2459 - val_accuracy: 0.9083\n",
      "Epoch 77/100\n",
      "689/689 [==============================] - 2s 3ms/step - loss: 0.2477 - accuracy: 0.9072 - val_loss: 0.2476 - val_accuracy: 0.9074\n",
      "Epoch 78/100\n",
      "689/689 [==============================] - 2s 3ms/step - loss: 0.2469 - accuracy: 0.9068 - val_loss: 0.2435 - val_accuracy: 0.9097\n",
      "Epoch 79/100\n",
      "689/689 [==============================] - 2s 3ms/step - loss: 0.2488 - accuracy: 0.9064 - val_loss: 0.2457 - val_accuracy: 0.9074\n",
      "Epoch 80/100\n",
      "689/689 [==============================] - 2s 3ms/step - loss: 0.2458 - accuracy: 0.9074 - val_loss: 0.2432 - val_accuracy: 0.9097\n",
      "Epoch 81/100\n",
      "689/689 [==============================] - 2s 3ms/step - loss: 0.2447 - accuracy: 0.9083 - val_loss: 0.2571 - val_accuracy: 0.9008\n",
      "Epoch 82/100\n",
      "689/689 [==============================] - 2s 3ms/step - loss: 0.2473 - accuracy: 0.9066 - val_loss: 0.2441 - val_accuracy: 0.9085\n",
      "Epoch 83/100\n",
      "689/689 [==============================] - 2s 3ms/step - loss: 0.2450 - accuracy: 0.9076 - val_loss: 0.2428 - val_accuracy: 0.9092\n",
      "Epoch 84/100\n",
      "689/689 [==============================] - 2s 3ms/step - loss: 0.2467 - accuracy: 0.9066 - val_loss: 0.2470 - val_accuracy: 0.9099\n",
      "Epoch 85/100\n",
      "689/689 [==============================] - 2s 3ms/step - loss: 0.2444 - accuracy: 0.9076 - val_loss: 0.2423 - val_accuracy: 0.9105\n",
      "Epoch 86/100\n",
      "689/689 [==============================] - 2s 3ms/step - loss: 0.2433 - accuracy: 0.9097 - val_loss: 0.2458 - val_accuracy: 0.9083\n",
      "Epoch 87/100\n",
      "689/689 [==============================] - 2s 3ms/step - loss: 0.2423 - accuracy: 0.9092 - val_loss: 0.2397 - val_accuracy: 0.9070\n",
      "Epoch 88/100\n",
      "689/689 [==============================] - 2s 3ms/step - loss: 0.2419 - accuracy: 0.9088 - val_loss: 0.2468 - val_accuracy: 0.9074\n",
      "Epoch 89/100\n",
      "689/689 [==============================] - 2s 3ms/step - loss: 0.2416 - accuracy: 0.9105 - val_loss: 0.2592 - val_accuracy: 0.9016\n",
      "Epoch 90/100\n",
      "689/689 [==============================] - 2s 4ms/step - loss: 0.2410 - accuracy: 0.9100 - val_loss: 0.2442 - val_accuracy: 0.9105\n",
      "Epoch 91/100\n",
      "689/689 [==============================] - 3s 4ms/step - loss: 0.2427 - accuracy: 0.9099 - val_loss: 0.2385 - val_accuracy: 0.9101\n",
      "Epoch 92/100\n",
      "689/689 [==============================] - 2s 4ms/step - loss: 0.2393 - accuracy: 0.9117 - val_loss: 0.2367 - val_accuracy: 0.9123\n",
      "Epoch 93/100\n",
      "689/689 [==============================] - 3s 4ms/step - loss: 0.2415 - accuracy: 0.9098 - val_loss: 0.2412 - val_accuracy: 0.9096\n",
      "Epoch 94/100\n",
      "689/689 [==============================] - 2s 3ms/step - loss: 0.2386 - accuracy: 0.9104 - val_loss: 0.2457 - val_accuracy: 0.9097\n",
      "Epoch 95/100\n",
      "689/689 [==============================] - 2s 3ms/step - loss: 0.2390 - accuracy: 0.9103 - val_loss: 0.2428 - val_accuracy: 0.9086\n",
      "Epoch 96/100\n",
      "689/689 [==============================] - 2s 3ms/step - loss: 0.2385 - accuracy: 0.9105 - val_loss: 0.2535 - val_accuracy: 0.9012\n",
      "Epoch 97/100\n",
      "689/689 [==============================] - 2s 3ms/step - loss: 0.2377 - accuracy: 0.9122 - val_loss: 0.2625 - val_accuracy: 0.9032\n",
      "Epoch 98/100\n",
      "689/689 [==============================] - 2s 3ms/step - loss: 0.2390 - accuracy: 0.9097 - val_loss: 0.2430 - val_accuracy: 0.9096\n",
      "Epoch 99/100\n",
      "689/689 [==============================] - 2s 3ms/step - loss: 0.2367 - accuracy: 0.9103 - val_loss: 0.2461 - val_accuracy: 0.9065\n",
      "Epoch 100/100\n",
      "689/689 [==============================] - 2s 3ms/step - loss: 0.2363 - accuracy: 0.9100 - val_loss: 0.2439 - val_accuracy: 0.9074\n",
      "Model Accuraccy:  0.8\n"
     ]
    },
    {
     "data": {
      "image/png": "[encoded data removed]",
      "text/plain": [
       "<Figure size 576x432 with 1 Axes>"
      ]
     },
     "metadata": {
      "needs_background": "light"
     },
     "output_type": "display_data"
    }
   ],
   "source": [
    "opt = Adam(learning_rate=lr)\n",
    "model.compile(loss='binary_crossentropy',\n",
    "              optimizer=opt,\n",
    "              metrics=['accuracy'])\n",
    "\n",
    "early_stop = EarlyStopping(monitor='val_loss', \n",
    "                           mode='min', \n",
    "                           verbose=1, \n",
    "                           patience=25)\n",
    "\n",
    "history = model.fit(X_train,\n",
    "                    y_train,\n",
    "                    epochs=EPOCHS,\n",
    "                    validation_split=0.2,\n",
    "                    verbose=1,\n",
    "                    callbacks=[early_stop])\n",
    "\n",
    "_, model_accuracy = model.evaluate(X_test, y_test, verbose=0)\n",
    "print(\"Model Accuraccy: \", round(model_accuracy, 2))\n",
    "summarize_loss(history)"
   ]
  },
  {
   "cell_type": "code",
   "execution_count": 71,
   "metadata": {
    "ExecuteTime": {
     "end_time": "2021-06-01T18:45:39.690124Z",
     "start_time": "2021-06-01T18:45:39.662410Z"
    }
   },
   "outputs": [
    {
     "name": "stdout",
     "output_type": "stream",
     "text": [
      "INFO:tensorflow:Assets written to: models/cnn_v0.h6\\assets\n"
     ]
    }
   ],
   "source": [
    "model.save('models/cnn_v0.h6')"
   ]
  },
  {
   "cell_type": "code",
   "execution_count": 160,
   "metadata": {
    "ExecuteTime": {
     "end_time": "2021-06-01T19:01:31.205555Z",
     "start_time": "2021-06-01T19:01:29.322767Z"
    }
   },
   "outputs": [
    {
     "name": "stdout",
     "output_type": "stream",
     "text": [
      "INFO:tensorflow:Assets written to: ../models/cnn_v0/assets\n"
     ]
    }
   ],
   "source": [
    "model_cnn_v0 = load_model('../models/cnn_v0.h5')\n",
    "model_cnn_v0.save('../models/cnn_v0')"
   ]
  },
  {
   "cell_type": "markdown",
   "metadata": {},
   "source": [
    "# Converting model to TF-Lite and TF-Micro"
   ]
  },
  {
   "cell_type": "code",
   "execution_count": 163,
   "metadata": {
    "ExecuteTime": {
     "end_time": "2021-06-01T19:12:48.795539Z",
     "start_time": "2021-06-01T19:12:48.777167Z"
    }
   },
   "outputs": [],
   "source": [
    "# Function: Convert some hex value into an array for C programming\n",
    "def hex_to_c_array(hex_data, var_name):\n",
    "\n",
    "    c_str = ''\n",
    "\n",
    "    # Create header guard\n",
    "    c_str += '#ifndef ' + var_name.upper() + '_H\\n'\n",
    "    c_str += '#define ' + var_name.upper() + '_H\\n\\n'\n",
    "\n",
    "    # Add array length at top of file\n",
    "    c_str += '\\nunsigned int ' + var_name + '_len = ' + str(len(hex_data)) + ';\\n'\n",
    "\n",
    "    # Declare C variable\n",
    "    c_str += 'unsigned char ' + var_name + '[] = {'\n",
    "    hex_array = []\n",
    "    for i, val in enumerate(hex_data) :\n",
    "\n",
    "        # Construct string from hex\n",
    "        hex_str = format(val, '#04x')\n",
    "\n",
    "        # Add formatting so each line stays within 80 characters\n",
    "        if (i + 1) < len(hex_data):\n",
    "            hex_str += ','\n",
    "        if (i + 1) % 12 == 0:\n",
    "            hex_str += '\\n '\n",
    "        hex_array.append(hex_str)\n",
    "\n",
    "    # Add closing brace\n",
    "    c_str += '\\n ' + format(' '.join(hex_array)) + '\\n};\\n\\n'\n",
    "\n",
    "    # Close out header guard\n",
    "    c_str += '#endif //' + var_name.upper() + '_H'\n",
    "\n",
    "    return c_str"
   ]
  },
  {
   "cell_type": "code",
   "execution_count": 171,
   "metadata": {
    "ExecuteTime": {
     "end_time": "2021-06-01T19:27:46.989445Z",
     "start_time": "2021-06-01T19:27:46.047147Z"
    }
   },
   "outputs": [
    {
     "name": "stdout",
     "output_type": "stream",
     "text": [
      "INFO:tensorflow:Assets written to: /var/folders/ss/f643n9x53s754jfn9_g46s800000gn/T/tmprhz0tfp2/assets\n"
     ]
    },
    {
     "name": "stderr",
     "output_type": "stream",
     "text": [
      "INFO:tensorflow:Assets written to: /var/folders/ss/f643n9x53s754jfn9_g46s800000gn/T/tmprhz0tfp2/assets\n"
     ]
    },
    {
     "data": {
      "text/plain": [
       "63904"
      ]
     },
     "execution_count": 171,
     "metadata": {},
     "output_type": "execute_result"
    }
   ],
   "source": [
    "# Convert TF model to a tflite model\n",
    "model_cnn_v0 = load_model('../models/cnn_v0')\n",
    "converter = tf.lite.TFLiteConverter.from_keras_model(model_cnn_v0)\n",
    "converter.optimizations = [tf.lite.Optimize.OPTIMIZE_FOR_SIZE]\n",
    "tflite_model = converter.convert()\n",
    "\n",
    "open(\"../models/cnn_v0.tflite\",\"wb\").write(tflite_model)"
   ]
  },
  {
   "cell_type": "code",
   "execution_count": 172,
   "metadata": {
    "ExecuteTime": {
     "end_time": "2021-06-01T19:28:01.292570Z",
     "start_time": "2021-06-01T19:28:01.289176Z"
    }
   },
   "outputs": [],
   "source": [
    "c_model_name = '../models/cnn_v0'"
   ]
  },
  {
   "cell_type": "code",
   "execution_count": 173,
   "metadata": {
    "ExecuteTime": {
     "end_time": "2021-06-01T19:28:02.766515Z",
     "start_time": "2021-06-01T19:28:02.715206Z"
    }
   },
   "outputs": [],
   "source": [
    "# Write TFLite model to a C source (or header) file\n",
    "with open(c_model_name + '.h', 'w') as file:\n",
    "    file.write(hex_to_c_array(tflite_model, c_model_name))"
   ]
  },
  {
   "cell_type": "markdown",
   "metadata": {},
   "source": [
    "`The model has 59K trainable params and uses 394Kb of memory`"
   ]
  },
  {
   "cell_type": "markdown",
   "metadata": {},
   "source": [
    "### CNN V1"
   ]
  },
  {
   "cell_type": "code",
   "execution_count": 174,
   "metadata": {
    "ExecuteTime": {
     "end_time": "2021-06-01T19:29:23.429489Z",
     "start_time": "2021-06-01T19:29:23.426714Z"
    }
   },
   "outputs": [],
   "source": [
    "c_model_name = '../models/cnn_v1'"
   ]
  },
  {
   "cell_type": "code",
   "execution_count": 170,
   "metadata": {
    "ExecuteTime": {
     "end_time": "2021-06-01T19:26:43.067400Z",
     "start_time": "2021-06-01T19:26:41.289352Z"
    }
   },
   "outputs": [
    {
     "name": "stdout",
     "output_type": "stream",
     "text": [
      "INFO:tensorflow:Assets written to: ../models/cnn_v1/assets\n"
     ]
    },
    {
     "name": "stderr",
     "output_type": "stream",
     "text": [
      "INFO:tensorflow:Assets written to: ../models/cnn_v1/assets\n"
     ]
    }
   ],
   "source": [
    "model_cnn_v1 = load_model('../models/cnn_v1.h5')\n",
    "model_cnn_v1.save('../models/cnn_v1')"
   ]
  },
  {
   "cell_type": "code",
   "execution_count": 175,
   "metadata": {
    "ExecuteTime": {
     "end_time": "2021-06-01T19:30:17.546690Z",
     "start_time": "2021-06-01T19:30:14.974969Z"
    }
   },
   "outputs": [
    {
     "name": "stdout",
     "output_type": "stream",
     "text": [
      "INFO:tensorflow:Assets written to: /var/folders/ss/f643n9x53s754jfn9_g46s800000gn/T/tmp2de5tslx/assets\n"
     ]
    },
    {
     "name": "stderr",
     "output_type": "stream",
     "text": [
      "INFO:tensorflow:Assets written to: /var/folders/ss/f643n9x53s754jfn9_g46s800000gn/T/tmp2de5tslx/assets\n"
     ]
    }
   ],
   "source": [
    "# Convert TF model to a tflite model\n",
    "model_cnn_v1 = load_model('../models/cnn_v1')\n",
    "converter = tf.lite.TFLiteConverter.from_keras_model(model_cnn_v1)\n",
    "converter.optimizations = [tf.lite.Optimize.OPTIMIZE_FOR_SIZE]\n",
    "tflite_model = converter.convert()\n",
    "\n",
    "open(\"../models/cnn_v1.tflite\",\"wb\").write(tflite_model)\n",
    "\n",
    "with open(c_model_name + '.h', 'w') as file:\n",
    "    file.write(hex_to_c_array(tflite_model, c_model_name))"
   ]
  },
  {
   "cell_type": "markdown",
   "metadata": {},
   "source": [
    "`The model has 31K trainable params and uses 289Kb of memory`"
   ]
  },
  {
   "cell_type": "code",
   "execution_count": null,
   "metadata": {},
   "outputs": [],
   "source": []
  }
 ],
 "metadata": {
  "hide_input": false,
  "kernelspec": {
   "display_name": "Python 3",
   "language": "python",
   "name": "python3"
  },
  "language_info": {
   "codemirror_mode": {
    "name": "ipython",
    "version": 3
   },
   "file_extension": ".py",
   "mimetype": "text/x-python",
   "name": "python",
   "nbconvert_exporter": "python",
   "pygments_lexer": "ipython3",
   "version": "3.8.3"
  },
  "nbTranslate": {
   "displayLangs": [
    "*"
   ],
   "hotkey": "alt-t",
   "langInMainMenu": true,
   "sourceLang": "en",
   "targetLang": "fr",
   "useGoogleTranslate": true
  },
  "toc": {
   "base_numbering": 1,
   "nav_menu": {},
   "number_sections": true,
   "sideBar": true,
   "skip_h1_title": true,
   "title_cell": "Table of Contents",
   "title_sidebar": "Contents",
   "toc_cell": false,
   "toc_position": {},
   "toc_section_display": true,
   "toc_window_display": true
  },
  "varInspector": {
   "cols": {
    "lenName": 16,
    "lenType": 16,
    "lenVar": 40
   },
   "kernels_config": {
    "python": {
     "delete_cmd_postfix": "",
     "delete_cmd_prefix": "del ",
     "library": "var_list.py",
     "varRefreshCmd": "print(var_dic_list())"
    },
    "r": {
     "delete_cmd_postfix": ") ",
     "delete_cmd_prefix": "rm(",
     "library": "var_list.r",
     "varRefreshCmd": "cat(var_dic_list()) "
    }
   },
   "types_to_exclude": [
    "module",
    "function",
    "builtin_function_or_method",
    "instance",
    "_Feature"
   ],
   "window_display": false
  }
 },
 "nbformat": 4,
 "nbformat_minor": 4
}
