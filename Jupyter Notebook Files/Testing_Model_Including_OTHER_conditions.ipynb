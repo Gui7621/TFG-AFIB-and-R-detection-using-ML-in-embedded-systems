{
 "cells": [
  {
   "cell_type": "code",
   "execution_count": 17,
   "id": "expensive-fishing",
   "metadata": {},
   "outputs": [],
   "source": [
    "import math\n",
    "import numpy as np\n",
    "import pandas as pd\n",
    "import matplotlib.pyplot as plt\n",
    "import seaborn as sns\n",
    "from scipy.signal import butter, iirnotch, sosfilt, sosfreqz, lfilter, filtfilt\n",
    "import biosppy\n",
    "\n",
    "import tensorflow as tf\n",
    "from tensorflow.keras import Sequential,utils\n",
    "from tensorflow.keras.layers import Input, Flatten, Dense, Conv1D, MaxPooling1D, Dropout\n",
    "from tensorflow.keras.optimizers import Adam\n",
    "from tensorflow.keras.callbacks import EarlyStopping, LearningRateScheduler\n",
    "from tensorflow.keras.models import load_model\n",
    "\n",
    "from sklearn.utils import resample\n",
    "from sklearn.model_selection import train_test_split\n",
    "from sklearn.metrics import classification_report, confusion_matrix\n",
    "\n",
    "plt.rcParams[\"figure.figsize\"] = (10,5)"
   ]
  },
  {
   "cell_type": "code",
   "execution_count": 18,
   "id": "million-munich",
   "metadata": {},
   "outputs": [],
   "source": [
    "def butter_highpass(cutoff, sample_rate, order, data):\n",
    "    nyq = 0.5 * sample_rate\n",
    "    normal_cutoff = cutoff / nyq\n",
    "    b, a = butter(order, normal_cutoff, btype='high', analog=False)\n",
    "    final_filtered_highpass = filtfilt(b, a, data)\n",
    "    return final_filtered_highpass\n",
    "\n",
    "\n",
    "def butter_lowpass(cutoff, sample_rate, order, data, slice=-1):\n",
    "    nyq = 0.5 * sample_rate\n",
    "    normal_cutoff = cutoff / nyq\n",
    "    b, a = butter(order, normal_cutoff, btype='low', analog=False)\n",
    "    filtered_lowpass = lfilter(b, a, data)\n",
    "    return filtered_lowpass\n",
    "\n",
    "\n",
    "def moving_average_filter(x, w):\n",
    "    m_a_filtered = np.convolve(x, np.ones(w), 'same') / w\n",
    "    return m_a_filtered\n",
    "\n",
    "\n",
    "def filter_data(data, sample_rate=100):\n",
    "    filtered_data_low = butter_lowpass(41.09, sample_rate, 5, data)\n",
    "    filtered_data_high = butter_highpass(0.48, sample_rate, 2, filtered_data_low)\n",
    "    #final_filtered_data = moving_average_filter(filtered_data_high, 3)\n",
    "    return filtered_data_high"
   ]
  },
  {
   "cell_type": "code",
   "execution_count": 19,
   "id": "supreme-depression",
   "metadata": {},
   "outputs": [],
   "source": [
    "def correct_rpeaks(signal, rpeaks=None, sampling_rate=100, tol=0.05):\n",
    "    \"\"\"Correct R-peak locations to the maximum within a tolerance.\n",
    "    Parameters\n",
    "    ----------\n",
    "    signal : array\n",
    "        ECG signal.\n",
    "    rpeaks : array\n",
    "        R-peak location indices.\n",
    "    sampling_rate : int, float, optional\n",
    "        Sampling frequency (Hz).\n",
    "    tol : int, float, optional\n",
    "        Correction tolerance (seconds).\n",
    "    Returns\n",
    "    -------\n",
    "    rpeaks : array\n",
    "        Cerrected R-peak location indices.\n",
    "    Notes\n",
    "    -----\n",
    "    * The tolerance is defined as the time interval :math:`[R-tol, R+tol[`.\n",
    "    \"\"\"\n",
    "\n",
    "    # check inputs\n",
    "    if signal is None:\n",
    "        raise TypeError(\"Please specify an input signal.\")\n",
    "\n",
    "    if rpeaks is None:\n",
    "        raise TypeError(\"Please specify the input R-peaks.\")\n",
    "\n",
    "    tol = int(tol * sampling_rate)\n",
    "    length = len(signal)\n",
    "\n",
    "    newR = []\n",
    "    for r in rpeaks:\n",
    "        a = r - tol\n",
    "        if a < 0:\n",
    "            continue\n",
    "        b = r + tol\n",
    "        if b > length:\n",
    "            break\n",
    "        newR.append(a + np.argmax(signal[a:b]))\n",
    "\n",
    "    newR = sorted(list(set(newR)))\n",
    "    newR = np.array(newR, dtype='int')\n",
    "\n",
    "    return newR"
   ]
  },
  {
   "cell_type": "code",
   "execution_count": 20,
   "id": "damaged-reproduction",
   "metadata": {},
   "outputs": [],
   "source": [
    "def _extract_heartbeats(signal=None, rpeaks=None, before=200, after=400):\n",
    "    \"\"\"Extract heartbeat templates from an ECG signal, given a list of\n",
    "    R-peak locations.\n",
    "    Parameters\n",
    "    ----------\n",
    "    signal : array\n",
    "        Input ECG signal.\n",
    "    rpeaks : array\n",
    "        R-peak location indices.\n",
    "    before : int, optional\n",
    "        Number of samples to include before the R peak.\n",
    "    after : int, optional\n",
    "        Number of samples to include after the R peak.\n",
    "    Returns\n",
    "    -------\n",
    "    templates : array\n",
    "        Extracted heartbeat templates.\n",
    "    rpeaks : array\n",
    "        Corresponding R-peak location indices of the extracted heartbeat\n",
    "        templates.\n",
    "    \"\"\"\n",
    "\n",
    "    R = np.sort(rpeaks)\n",
    "    length = len(signal)\n",
    "    templates = []\n",
    "    newR = []\n",
    "\n",
    "    for r in R:\n",
    "        a = r - before\n",
    "        if a < 0:\n",
    "            continue\n",
    "        b = r + after\n",
    "        if b > length:\n",
    "            break\n",
    "        templates.append(signal[a:b])\n",
    "        newR.append(r)\n",
    "\n",
    "    templates = np.array(templates)\n",
    "    newR = np.array(newR, dtype='int')\n",
    "\n",
    "    return templates, newR"
   ]
  },
  {
   "cell_type": "code",
   "execution_count": 21,
   "id": "catholic-congress",
   "metadata": {},
   "outputs": [],
   "source": [
    "def extract_heartbeats(signal=None, rpeaks=None, sampling_rate=1000.,\n",
    "                       before=0.2, after=0.4):\n",
    "    \"\"\"Extract heartbeat templates from an ECG signal, given a list of\n",
    "    R-peak locations.\n",
    "    Parameters\n",
    "    ----------\n",
    "    signal : array\n",
    "        Input ECG signal.\n",
    "    rpeaks : array\n",
    "        R-peak location indices.\n",
    "    sampling_rate : int, float, optional\n",
    "        Sampling frequency (Hz).\n",
    "    before : float, optional\n",
    "        Window size to include before the R peak (seconds).\n",
    "    after : int, optional\n",
    "        Window size to include after the R peak (seconds).\n",
    "    Returns\n",
    "    -------\n",
    "    templates : array\n",
    "        Extracted heartbeat templates.\n",
    "    rpeaks : array\n",
    "        Corresponding R-peak location indices of the extracted heartbeat\n",
    "        templates.\n",
    "    \"\"\"\n",
    "\n",
    "    # check inputs\n",
    "    if signal is None:\n",
    "        raise TypeError(\"Please specify an input signal.\")\n",
    "\n",
    "    if rpeaks is None:\n",
    "        raise TypeError(\"Please specify the input R-peak locations.\")\n",
    "\n",
    "    if before < 0:\n",
    "        raise ValueError(\"Please specify a non-negative 'before' value.\")\n",
    "    if after < 0:\n",
    "        raise ValueError(\"Please specify a non-negative 'after' value.\")\n",
    "\n",
    "    # convert delimiters to samples\n",
    "    before = int(before * sampling_rate)\n",
    "    after = int(after * sampling_rate)\n",
    "\n",
    "    # get heartbeats\n",
    "    templates, newR = _extract_heartbeats(signal=signal,\n",
    "                                          rpeaks=rpeaks,\n",
    "                                          before=before,\n",
    "                                          after=after)\n",
    "\n",
    "    return templates, newR"
   ]
  },
  {
   "cell_type": "code",
   "execution_count": 22,
   "id": "constant-qualification",
   "metadata": {},
   "outputs": [],
   "source": [
    "def get_complete_Heartbit(sample, sampling_rate=100,plot=True):\n",
    "    filtered_sample = filter_data(sample,sampling_rate)\n",
    "    data = filtered_sample.T\n",
    "    signals = []\n",
    "    indices = []\n",
    "    count = 1\n",
    "    peaks = biosppy.signals.ecg.christov_segmenter(\n",
    "        signal=data, sampling_rate=sampling_rate)[0]\n",
    "    rpeaks = correct_rpeaks(signal=data,rpeaks=peaks, sampling_rate=100,tol=0.05)\n",
    "    templates, rpeaks = extract_heartbeats(signal=data,rpeaks=rpeaks,sampling_rate=100,before=0.2,after=0.4)\n",
    "    if plot:\n",
    "        ts_tmpl = np.linspace(-0.2, 0.4, templates.shape[1], endpoint=False)\n",
    "        fig = plt.figure()\n",
    "        gs = gridspec.GridSpec(6, 2)\n",
    "        ax4 = fig.add_subplot(gs[1:5, 1])\n",
    "        plt.plot(ts_tmpl, templates.T, 'm', linewidth=1.5, alpha=0.7)\n",
    "        ax4.set_xlabel('Time (s)')\n",
    "        ax4.set_ylabel('Amplitude')\n",
    "        ax4.set_title('Templates')\n",
    "        ax4.grid()\n",
    "    #return templates, rpeaks\n",
    "    return templates"
   ]
  },
  {
   "cell_type": "code",
   "execution_count": 23,
   "id": "medieval-prospect",
   "metadata": {},
   "outputs": [],
   "source": [
    "def get_heart_beat(data):\n",
    "    templates = []\n",
    "    templates_aux = []\n",
    "    for i in range(len(data)-1): \n",
    "        templates_aux = get_complete_Heartbit(data[i], 100,False)\n",
    "        k = len(templates);\n",
    "        for j in range(len(templates_aux)-1):\n",
    "            templates.append(templates_aux[j])\n",
    "    return np.array(templates)"
   ]
  },
  {
   "cell_type": "code",
   "execution_count": 24,
   "id": "fatal-speech",
   "metadata": {},
   "outputs": [],
   "source": [
    "def plot_conf_matrix(y_test, y_pred):\n",
    "    plt.figure(figsize=(8,6))\n",
    "    sns.heatmap(confusion_matrix(y_test,y_pred), cmap='Blues', annot=True, fmt='g');\n",
    "    plt.title('Confusion Matrix')\n",
    "    plt.xlabel(\"Predictions\")\n",
    "    plt.ylabel(\"Real values\")\n",
    "    plt.show()"
   ]
  },
  {
   "cell_type": "code",
   "execution_count": 25,
   "id": "appointed-banana",
   "metadata": {},
   "outputs": [
    {
     "data": {
      "text/plain": [
       "(21837, 1006)"
      ]
     },
     "execution_count": 25,
     "metadata": {},
     "output_type": "execute_result"
    }
   ],
   "source": [
    "df = pd.read_csv(\"ECG_Rhythm_Lead_I.csv\")\n",
    "del df[\"Unnamed: 0\"]\n",
    "df.shape"
   ]
  },
  {
   "cell_type": "code",
   "execution_count": 26,
   "id": "sufficient-jimmy",
   "metadata": {},
   "outputs": [
    {
     "data": {
      "text/html": [
       "<div>\n",
       "<style scoped>\n",
       "    .dataframe tbody tr th:only-of-type {\n",
       "        vertical-align: middle;\n",
       "    }\n",
       "\n",
       "    .dataframe tbody tr th {\n",
       "        vertical-align: top;\n",
       "    }\n",
       "\n",
       "    .dataframe thead th {\n",
       "        text-align: right;\n",
       "    }\n",
       "</style>\n",
       "<table border=\"1\" class=\"dataframe\">\n",
       "  <thead>\n",
       "    <tr style=\"text-align: right;\">\n",
       "      <th></th>\n",
       "      <th>ecg_id</th>\n",
       "      <th>age</th>\n",
       "      <th>sex</th>\n",
       "      <th>height</th>\n",
       "      <th>weight</th>\n",
       "      <th>rhythm_diag</th>\n",
       "      <th>0</th>\n",
       "      <th>1</th>\n",
       "      <th>2</th>\n",
       "      <th>3</th>\n",
       "      <th>...</th>\n",
       "      <th>990</th>\n",
       "      <th>991</th>\n",
       "      <th>992</th>\n",
       "      <th>993</th>\n",
       "      <th>994</th>\n",
       "      <th>995</th>\n",
       "      <th>996</th>\n",
       "      <th>997</th>\n",
       "      <th>998</th>\n",
       "      <th>999</th>\n",
       "    </tr>\n",
       "  </thead>\n",
       "  <tbody>\n",
       "    <tr>\n",
       "      <th>0</th>\n",
       "      <td>1</td>\n",
       "      <td>56.0</td>\n",
       "      <td>1</td>\n",
       "      <td>NaN</td>\n",
       "      <td>63.0</td>\n",
       "      <td>SR</td>\n",
       "      <td>-0.119</td>\n",
       "      <td>-0.116</td>\n",
       "      <td>-0.120</td>\n",
       "      <td>-0.117</td>\n",
       "      <td>...</td>\n",
       "      <td>0.198</td>\n",
       "      <td>0.194</td>\n",
       "      <td>0.115</td>\n",
       "      <td>0.107</td>\n",
       "      <td>0.107</td>\n",
       "      <td>0.106</td>\n",
       "      <td>0.090</td>\n",
       "      <td>0.069</td>\n",
       "      <td>0.086</td>\n",
       "      <td>0.022</td>\n",
       "    </tr>\n",
       "    <tr>\n",
       "      <th>1</th>\n",
       "      <td>2</td>\n",
       "      <td>19.0</td>\n",
       "      <td>0</td>\n",
       "      <td>NaN</td>\n",
       "      <td>70.0</td>\n",
       "      <td>OTHER</td>\n",
       "      <td>0.004</td>\n",
       "      <td>-0.020</td>\n",
       "      <td>-0.053</td>\n",
       "      <td>-0.056</td>\n",
       "      <td>...</td>\n",
       "      <td>-0.035</td>\n",
       "      <td>-0.045</td>\n",
       "      <td>0.004</td>\n",
       "      <td>0.044</td>\n",
       "      <td>0.507</td>\n",
       "      <td>0.554</td>\n",
       "      <td>0.316</td>\n",
       "      <td>0.121</td>\n",
       "      <td>-0.326</td>\n",
       "      <td>-0.348</td>\n",
       "    </tr>\n",
       "    <tr>\n",
       "      <th>2</th>\n",
       "      <td>3</td>\n",
       "      <td>37.0</td>\n",
       "      <td>1</td>\n",
       "      <td>NaN</td>\n",
       "      <td>69.0</td>\n",
       "      <td>SR</td>\n",
       "      <td>-0.029</td>\n",
       "      <td>-0.035</td>\n",
       "      <td>-0.054</td>\n",
       "      <td>-0.078</td>\n",
       "      <td>...</td>\n",
       "      <td>-0.040</td>\n",
       "      <td>-0.051</td>\n",
       "      <td>-0.026</td>\n",
       "      <td>-0.032</td>\n",
       "      <td>-0.052</td>\n",
       "      <td>-0.039</td>\n",
       "      <td>-0.034</td>\n",
       "      <td>-0.029</td>\n",
       "      <td>-0.048</td>\n",
       "      <td>-0.049</td>\n",
       "    </tr>\n",
       "    <tr>\n",
       "      <th>3</th>\n",
       "      <td>4</td>\n",
       "      <td>24.0</td>\n",
       "      <td>0</td>\n",
       "      <td>NaN</td>\n",
       "      <td>82.0</td>\n",
       "      <td>SR</td>\n",
       "      <td>-0.054</td>\n",
       "      <td>-0.053</td>\n",
       "      <td>-0.063</td>\n",
       "      <td>-0.060</td>\n",
       "      <td>...</td>\n",
       "      <td>-0.312</td>\n",
       "      <td>-0.511</td>\n",
       "      <td>-0.280</td>\n",
       "      <td>-0.076</td>\n",
       "      <td>-0.012</td>\n",
       "      <td>0.001</td>\n",
       "      <td>-0.003</td>\n",
       "      <td>0.026</td>\n",
       "      <td>0.026</td>\n",
       "      <td>0.028</td>\n",
       "    </tr>\n",
       "    <tr>\n",
       "      <th>4</th>\n",
       "      <td>5</td>\n",
       "      <td>19.0</td>\n",
       "      <td>1</td>\n",
       "      <td>NaN</td>\n",
       "      <td>70.0</td>\n",
       "      <td>SR</td>\n",
       "      <td>-0.034</td>\n",
       "      <td>-0.038</td>\n",
       "      <td>-0.057</td>\n",
       "      <td>-0.066</td>\n",
       "      <td>...</td>\n",
       "      <td>0.005</td>\n",
       "      <td>0.001</td>\n",
       "      <td>0.003</td>\n",
       "      <td>0.013</td>\n",
       "      <td>0.018</td>\n",
       "      <td>-0.001</td>\n",
       "      <td>0.007</td>\n",
       "      <td>0.000</td>\n",
       "      <td>-0.003</td>\n",
       "      <td>-0.012</td>\n",
       "    </tr>\n",
       "    <tr>\n",
       "      <th>...</th>\n",
       "      <td>...</td>\n",
       "      <td>...</td>\n",
       "      <td>...</td>\n",
       "      <td>...</td>\n",
       "      <td>...</td>\n",
       "      <td>...</td>\n",
       "      <td>...</td>\n",
       "      <td>...</td>\n",
       "      <td>...</td>\n",
       "      <td>...</td>\n",
       "      <td>...</td>\n",
       "      <td>...</td>\n",
       "      <td>...</td>\n",
       "      <td>...</td>\n",
       "      <td>...</td>\n",
       "      <td>...</td>\n",
       "      <td>...</td>\n",
       "      <td>...</td>\n",
       "      <td>...</td>\n",
       "      <td>...</td>\n",
       "      <td>...</td>\n",
       "    </tr>\n",
       "    <tr>\n",
       "      <th>21832</th>\n",
       "      <td>21833</td>\n",
       "      <td>67.0</td>\n",
       "      <td>1</td>\n",
       "      <td>NaN</td>\n",
       "      <td>NaN</td>\n",
       "      <td>OTHER</td>\n",
       "      <td>-0.052</td>\n",
       "      <td>-0.077</td>\n",
       "      <td>-0.042</td>\n",
       "      <td>0.008</td>\n",
       "      <td>...</td>\n",
       "      <td>-0.143</td>\n",
       "      <td>-0.125</td>\n",
       "      <td>-0.104</td>\n",
       "      <td>-0.097</td>\n",
       "      <td>-0.052</td>\n",
       "      <td>0.010</td>\n",
       "      <td>0.019</td>\n",
       "      <td>-0.024</td>\n",
       "      <td>-0.061</td>\n",
       "      <td>-0.050</td>\n",
       "    </tr>\n",
       "    <tr>\n",
       "      <th>21833</th>\n",
       "      <td>21834</td>\n",
       "      <td>93.0</td>\n",
       "      <td>0</td>\n",
       "      <td>NaN</td>\n",
       "      <td>NaN</td>\n",
       "      <td>SR</td>\n",
       "      <td>-0.050</td>\n",
       "      <td>-0.032</td>\n",
       "      <td>0.008</td>\n",
       "      <td>0.014</td>\n",
       "      <td>...</td>\n",
       "      <td>-0.023</td>\n",
       "      <td>-0.052</td>\n",
       "      <td>-0.062</td>\n",
       "      <td>-0.059</td>\n",
       "      <td>-0.074</td>\n",
       "      <td>-0.069</td>\n",
       "      <td>-0.107</td>\n",
       "      <td>0.058</td>\n",
       "      <td>0.501</td>\n",
       "      <td>0.584</td>\n",
       "    </tr>\n",
       "    <tr>\n",
       "      <th>21834</th>\n",
       "      <td>21835</td>\n",
       "      <td>59.0</td>\n",
       "      <td>1</td>\n",
       "      <td>NaN</td>\n",
       "      <td>NaN</td>\n",
       "      <td>SR</td>\n",
       "      <td>0.038</td>\n",
       "      <td>0.078</td>\n",
       "      <td>-0.014</td>\n",
       "      <td>0.072</td>\n",
       "      <td>...</td>\n",
       "      <td>-0.081</td>\n",
       "      <td>0.012</td>\n",
       "      <td>0.504</td>\n",
       "      <td>0.613</td>\n",
       "      <td>0.328</td>\n",
       "      <td>0.061</td>\n",
       "      <td>0.037</td>\n",
       "      <td>-0.106</td>\n",
       "      <td>-0.045</td>\n",
       "      <td>0.463</td>\n",
       "    </tr>\n",
       "    <tr>\n",
       "      <th>21835</th>\n",
       "      <td>21836</td>\n",
       "      <td>64.0</td>\n",
       "      <td>1</td>\n",
       "      <td>NaN</td>\n",
       "      <td>NaN</td>\n",
       "      <td>SR</td>\n",
       "      <td>-0.057</td>\n",
       "      <td>-0.041</td>\n",
       "      <td>0.003</td>\n",
       "      <td>0.000</td>\n",
       "      <td>...</td>\n",
       "      <td>0.074</td>\n",
       "      <td>0.112</td>\n",
       "      <td>0.116</td>\n",
       "      <td>0.115</td>\n",
       "      <td>0.112</td>\n",
       "      <td>0.096</td>\n",
       "      <td>0.051</td>\n",
       "      <td>0.033</td>\n",
       "      <td>0.027</td>\n",
       "      <td>-0.006</td>\n",
       "    </tr>\n",
       "    <tr>\n",
       "      <th>21836</th>\n",
       "      <td>21837</td>\n",
       "      <td>68.0</td>\n",
       "      <td>0</td>\n",
       "      <td>NaN</td>\n",
       "      <td>NaN</td>\n",
       "      <td>SR</td>\n",
       "      <td>-0.049</td>\n",
       "      <td>-0.049</td>\n",
       "      <td>-0.059</td>\n",
       "      <td>-0.066</td>\n",
       "      <td>...</td>\n",
       "      <td>-0.029</td>\n",
       "      <td>-0.047</td>\n",
       "      <td>-0.068</td>\n",
       "      <td>-0.060</td>\n",
       "      <td>-0.040</td>\n",
       "      <td>-0.024</td>\n",
       "      <td>0.000</td>\n",
       "      <td>0.091</td>\n",
       "      <td>0.175</td>\n",
       "      <td>0.166</td>\n",
       "    </tr>\n",
       "  </tbody>\n",
       "</table>\n",
       "<p>21837 rows × 1006 columns</p>\n",
       "</div>"
      ],
      "text/plain": [
       "       ecg_id   age  sex  height  weight rhythm_diag      0      1      2  \\\n",
       "0           1  56.0    1     NaN    63.0          SR -0.119 -0.116 -0.120   \n",
       "1           2  19.0    0     NaN    70.0       OTHER  0.004 -0.020 -0.053   \n",
       "2           3  37.0    1     NaN    69.0          SR -0.029 -0.035 -0.054   \n",
       "3           4  24.0    0     NaN    82.0          SR -0.054 -0.053 -0.063   \n",
       "4           5  19.0    1     NaN    70.0          SR -0.034 -0.038 -0.057   \n",
       "...       ...   ...  ...     ...     ...         ...    ...    ...    ...   \n",
       "21832   21833  67.0    1     NaN     NaN       OTHER -0.052 -0.077 -0.042   \n",
       "21833   21834  93.0    0     NaN     NaN          SR -0.050 -0.032  0.008   \n",
       "21834   21835  59.0    1     NaN     NaN          SR  0.038  0.078 -0.014   \n",
       "21835   21836  64.0    1     NaN     NaN          SR -0.057 -0.041  0.003   \n",
       "21836   21837  68.0    0     NaN     NaN          SR -0.049 -0.049 -0.059   \n",
       "\n",
       "           3  ...    990    991    992    993    994    995    996    997  \\\n",
       "0     -0.117  ...  0.198  0.194  0.115  0.107  0.107  0.106  0.090  0.069   \n",
       "1     -0.056  ... -0.035 -0.045  0.004  0.044  0.507  0.554  0.316  0.121   \n",
       "2     -0.078  ... -0.040 -0.051 -0.026 -0.032 -0.052 -0.039 -0.034 -0.029   \n",
       "3     -0.060  ... -0.312 -0.511 -0.280 -0.076 -0.012  0.001 -0.003  0.026   \n",
       "4     -0.066  ...  0.005  0.001  0.003  0.013  0.018 -0.001  0.007  0.000   \n",
       "...      ...  ...    ...    ...    ...    ...    ...    ...    ...    ...   \n",
       "21832  0.008  ... -0.143 -0.125 -0.104 -0.097 -0.052  0.010  0.019 -0.024   \n",
       "21833  0.014  ... -0.023 -0.052 -0.062 -0.059 -0.074 -0.069 -0.107  0.058   \n",
       "21834  0.072  ... -0.081  0.012  0.504  0.613  0.328  0.061  0.037 -0.106   \n",
       "21835  0.000  ...  0.074  0.112  0.116  0.115  0.112  0.096  0.051  0.033   \n",
       "21836 -0.066  ... -0.029 -0.047 -0.068 -0.060 -0.040 -0.024  0.000  0.091   \n",
       "\n",
       "         998    999  \n",
       "0      0.086  0.022  \n",
       "1     -0.326 -0.348  \n",
       "2     -0.048 -0.049  \n",
       "3      0.026  0.028  \n",
       "4     -0.003 -0.012  \n",
       "...      ...    ...  \n",
       "21832 -0.061 -0.050  \n",
       "21833  0.501  0.584  \n",
       "21834 -0.045  0.463  \n",
       "21835  0.027 -0.006  \n",
       "21836  0.175  0.166  \n",
       "\n",
       "[21837 rows x 1006 columns]"
      ]
     },
     "execution_count": 26,
     "metadata": {},
     "output_type": "execute_result"
    }
   ],
   "source": [
    "df"
   ]
  },
  {
   "cell_type": "code",
   "execution_count": 27,
   "id": "piano-percentage",
   "metadata": {},
   "outputs": [
    {
     "data": {
      "text/plain": [
       "SR       16782\n",
       "OTHER     3541\n",
       "AFIB      1514\n",
       "Name: rhythm_diag, dtype: int64"
      ]
     },
     "execution_count": 27,
     "metadata": {},
     "output_type": "execute_result"
    }
   ],
   "source": [
    "df.rhythm_diag.value_counts()"
   ]
  },
  {
   "cell_type": "code",
   "execution_count": 28,
   "id": "executive-anthony",
   "metadata": {},
   "outputs": [],
   "source": [
    "df['rhythm_diag'] = df['rhythm_diag'].map(dict(OTHER=2,AFIB=1, SR=0))"
   ]
  },
  {
   "cell_type": "code",
   "execution_count": 29,
   "id": "victorian-keyboard",
   "metadata": {},
   "outputs": [
    {
     "data": {
      "text/plain": [
       "0    16782\n",
       "2     3541\n",
       "1     1514\n",
       "Name: rhythm_diag, dtype: int64"
      ]
     },
     "execution_count": 29,
     "metadata": {},
     "output_type": "execute_result"
    }
   ],
   "source": [
    "df.rhythm_diag.value_counts()"
   ]
  },
  {
   "cell_type": "code",
   "execution_count": 30,
   "id": "unavailable-window",
   "metadata": {},
   "outputs": [],
   "source": [
    "df_minority = df[df['rhythm_diag']==1]\n",
    "df_majority = df[df['rhythm_diag']==0]\n",
    "df_other = df[df['rhythm_diag']==2]\n",
    "maj_class = resample(df_majority,\n",
    "                     replace=True,\n",
    "                     n_samples=1514,\n",
    "                     random_state=123)\n",
    "other_class = resample(df_other,\n",
    "                     replace=True,\n",
    "                     n_samples=1514,\n",
    "                     random_state=123)\n",
    "df=pd.concat([df_minority,maj_class,other_class])"
   ]
  },
  {
   "cell_type": "code",
   "execution_count": 31,
   "id": "speaking-plain",
   "metadata": {},
   "outputs": [
    {
     "data": {
      "text/plain": [
       "0    1514\n",
       "1    1514\n",
       "2    1514\n",
       "Name: rhythm_diag, dtype: int64"
      ]
     },
     "execution_count": 31,
     "metadata": {},
     "output_type": "execute_result"
    }
   ],
   "source": [
    "df.rhythm_diag.value_counts()"
   ]
  },
  {
   "cell_type": "code",
   "execution_count": 32,
   "id": "conceptual-waters",
   "metadata": {},
   "outputs": [
    {
     "data": {
      "text/plain": [
       "(1514, 1000)"
      ]
     },
     "execution_count": 32,
     "metadata": {},
     "output_type": "execute_result"
    }
   ],
   "source": [
    "df_sr = df[df.rhythm_diag == 0]\n",
    "df_sr = df_sr.drop(['ecg_id', 'age', 'sex', 'height',\n",
    "                    'weight', 'rhythm_diag'], axis=1)\n",
    "df_sr.reset_index(drop= True ,inplace=True)\n",
    "df_sr.shape"
   ]
  },
  {
   "cell_type": "code",
   "execution_count": 33,
   "id": "mounted-basket",
   "metadata": {},
   "outputs": [
    {
     "data": {
      "text/plain": [
       "(1514, 1000)"
      ]
     },
     "execution_count": 33,
     "metadata": {},
     "output_type": "execute_result"
    }
   ],
   "source": [
    "df_afib = df[df.rhythm_diag == 1]\n",
    "df_afib = df_afib.drop(\n",
    "    ['ecg_id', 'age', 'sex', 'height', 'weight', 'rhythm_diag'], axis=1)\n",
    "df_afib.reset_index(drop=True, inplace=True)\n",
    "df_afib.shape"
   ]
  },
  {
   "cell_type": "code",
   "execution_count": 34,
   "id": "mediterranean-warren",
   "metadata": {},
   "outputs": [
    {
     "data": {
      "text/plain": [
       "(1514, 1000)"
      ]
     },
     "execution_count": 34,
     "metadata": {},
     "output_type": "execute_result"
    }
   ],
   "source": [
    "df_other = df[df.rhythm_diag == 2]\n",
    "df_other = df_other.drop(\n",
    "    ['ecg_id', 'age', 'sex', 'height', 'weight', 'rhythm_diag'], axis=1)\n",
    "df_other.reset_index(drop=True, inplace=True)\n",
    "df_other.shape"
   ]
  },
  {
   "cell_type": "code",
   "execution_count": 35,
   "id": "electric-little",
   "metadata": {},
   "outputs": [],
   "source": [
    "X_sr = df_sr.values\n",
    "X_afib = df_afib.values\n",
    "X_other = df_other.values"
   ]
  },
  {
   "cell_type": "code",
   "execution_count": 36,
   "id": "horizontal-voice",
   "metadata": {},
   "outputs": [],
   "source": [
    "def get_heart_beat(data):\n",
    "    templates = []\n",
    "    templates_aux = []\n",
    "    for i in range(len(data)-1): \n",
    "        templates_aux = get_complete_Heartbit(data[i], 100,False)\n",
    "        k = len(templates);\n",
    "        for j in range(len(templates_aux)-1):\n",
    "            templates.append(templates_aux[j])\n",
    "    return np.array(templates)"
   ]
  },
  {
   "cell_type": "code",
   "execution_count": 37,
   "id": "unexpected-superior",
   "metadata": {},
   "outputs": [
    {
     "data": {
      "text/plain": [
       "(15369, 60)"
      ]
     },
     "execution_count": 37,
     "metadata": {},
     "output_type": "execute_result"
    }
   ],
   "source": [
    "X_sr = get_heart_beat(X_sr)\n",
    "X_sr.shape"
   ]
  },
  {
   "cell_type": "code",
   "execution_count": 38,
   "id": "quick-tyler",
   "metadata": {},
   "outputs": [
    {
     "data": {
      "text/plain": [
       "(15369,)"
      ]
     },
     "execution_count": 38,
     "metadata": {},
     "output_type": "execute_result"
    }
   ],
   "source": [
    "y_sr = np.zeros(len(X_sr))\n",
    "y_sr.shape"
   ]
  },
  {
   "cell_type": "code",
   "execution_count": 40,
   "id": "complete-battlefield",
   "metadata": {},
   "outputs": [
    {
     "data": {
      "text/plain": [
       "(19039, 60)"
      ]
     },
     "execution_count": 40,
     "metadata": {},
     "output_type": "execute_result"
    }
   ],
   "source": [
    "X_afib = get_heart_beat(X_afib)\n",
    "X_afib.shape"
   ]
  },
  {
   "cell_type": "code",
   "execution_count": 41,
   "id": "shaped-characterization",
   "metadata": {},
   "outputs": [
    {
     "data": {
      "text/plain": [
       "(19039,)"
      ]
     },
     "execution_count": 41,
     "metadata": {},
     "output_type": "execute_result"
    }
   ],
   "source": [
    "y_afib = np.ones(len(X_afib))\n",
    "y_afib.shape"
   ]
  },
  {
   "cell_type": "code",
   "execution_count": 42,
   "id": "preceding-gather",
   "metadata": {},
   "outputs": [
    {
     "data": {
      "text/plain": [
       "(16363, 60)"
      ]
     },
     "execution_count": 42,
     "metadata": {},
     "output_type": "execute_result"
    }
   ],
   "source": [
    "X_other = get_heart_beat(X_other)\n",
    "X_other.shape"
   ]
  },
  {
   "cell_type": "code",
   "execution_count": 43,
   "id": "removed-front",
   "metadata": {},
   "outputs": [
    {
     "data": {
      "text/plain": [
       "16363"
      ]
     },
     "execution_count": 43,
     "metadata": {},
     "output_type": "execute_result"
    }
   ],
   "source": [
    "len(X_other)"
   ]
  },
  {
   "cell_type": "code",
   "execution_count": 57,
   "id": "modified-wrapping",
   "metadata": {},
   "outputs": [],
   "source": [
    "y_other = []\n",
    "for i in range(len(X_other)):\n",
    "    y_other.append(2)"
   ]
  },
  {
   "cell_type": "code",
   "execution_count": 58,
   "id": "pretty-classics",
   "metadata": {},
   "outputs": [],
   "source": [
    "y_other = np.array(y_other)"
   ]
  },
  {
   "cell_type": "code",
   "execution_count": 61,
   "id": "typical-indonesian",
   "metadata": {},
   "outputs": [
    {
     "data": {
      "text/plain": [
       "(16363,)"
      ]
     },
     "execution_count": 61,
     "metadata": {},
     "output_type": "execute_result"
    }
   ],
   "source": [
    "y_other.shape"
   ]
  },
  {
   "cell_type": "code",
   "execution_count": 62,
   "id": "cosmetic-burns",
   "metadata": {},
   "outputs": [
    {
     "data": {
      "text/plain": [
       "(50771, 60)"
      ]
     },
     "execution_count": 62,
     "metadata": {},
     "output_type": "execute_result"
    }
   ],
   "source": [
    "X = np.concatenate((X_sr, X_afib,X_other), axis=0)\n",
    "X.shape"
   ]
  },
  {
   "cell_type": "code",
   "execution_count": 63,
   "id": "female-canvas",
   "metadata": {},
   "outputs": [
    {
     "data": {
      "text/plain": [
       "(50771,)"
      ]
     },
     "execution_count": 63,
     "metadata": {},
     "output_type": "execute_result"
    }
   ],
   "source": [
    "y = np.concatenate((y_sr, y_afib,y_other), axis=0)\n",
    "y.shape"
   ]
  },
  {
   "cell_type": "code",
   "execution_count": 64,
   "id": "noble-philippines",
   "metadata": {},
   "outputs": [],
   "source": [
    "Xt = X\n",
    "yt = y"
   ]
  },
  {
   "cell_type": "code",
   "execution_count": 65,
   "id": "greater-imagination",
   "metadata": {},
   "outputs": [
    {
     "data": {
      "image/png": "[encoded data removed]",
      "text/plain": [
       "<Figure size 720x360 with 1 Axes>"
      ]
     },
     "metadata": {
      "needs_background": "light"
     },
     "output_type": "display_data"
    }
   ],
   "source": [
    "plt.plot(Xt[0])\n",
    "plt.title(\"ECG Sample\")\n",
    "plt.grid()\n",
    "plt.show()"
   ]
  },
  {
   "cell_type": "code",
   "execution_count": 66,
   "id": "increasing-security",
   "metadata": {},
   "outputs": [],
   "source": [
    "# Split data, normalize and reshape\n",
    "X_train, X_test, y_train, y_test = train_test_split(Xt,yt,\n",
    "                                                    test_size=0.20,\n",
    "                                                    random_state=21)\n",
    "X_train = X_train - X_train.min()\n",
    "X_train = X_train/X_train.max()\n",
    "\n",
    "X_test = X_test - X_test.min()\n",
    "X_test = X_test/X_test.max()\n",
    "\n",
    "X_train = np.expand_dims(X_train, 2)\n",
    "X_test = np.expand_dims(X_test, 2)"
   ]
  },
  {
   "cell_type": "code",
   "execution_count": 67,
   "id": "interstate-webster",
   "metadata": {},
   "outputs": [
    {
     "name": "stdout",
     "output_type": "stream",
     "text": [
      "(40616, 60, 1) (10155, 60, 1)\n"
     ]
    }
   ],
   "source": [
    "print(X_train.shape, X_test.shape)\n",
    "samples, features, depht = X_train.shape"
   ]
  },
  {
   "cell_type": "code",
   "execution_count": 68,
   "id": "higher-virtue",
   "metadata": {},
   "outputs": [],
   "source": [
    "def group_layer(model):\n",
    "    model.add(\n",
    "        Conv1D(32,\n",
    "               kernel_size=5,\n",
    "               strides=1,\n",
    "               padding='same',\n",
    "               activation='relu'))\n",
    "    model.add(\n",
    "        Conv1D(32,\n",
    "               kernel_size=5,\n",
    "               strides=1,\n",
    "               padding='same',\n",
    "               activation='relu'))\n",
    "    model.add(MaxPooling1D(pool_size=5, strides=2))\n",
    "    return model"
   ]
  },
  {
   "cell_type": "code",
   "execution_count": 75,
   "id": "known-salem",
   "metadata": {},
   "outputs": [
    {
     "name": "stdout",
     "output_type": "stream",
     "text": [
      "WARNING:tensorflow:Please add `keras.layers.InputLayer` instead of `keras.Input` to Sequential model. `keras.Input` is intended to be used by Functional model.\n"
     ]
    }
   ],
   "source": [
    "model = Sequential()\n",
    "model.add(Input(shape=(features, depht)))\n",
    "model=group_layer(model)\n",
    "model=group_layer(model)\n",
    "model=group_layer(model)\n",
    "model.add(Flatten())\n",
    "model.add(Dense(32, activation='relu'))\n",
    "model.add(Dense(32, activation='relu'))\n",
    "model.add(Dense(3, activation='sigmoid'))"
   ]
  },
  {
   "cell_type": "code",
   "execution_count": 76,
   "id": "dying-fancy",
   "metadata": {},
   "outputs": [
    {
     "name": "stdout",
     "output_type": "stream",
     "text": [
      "Model: \"sequential_1\"\n",
      "_________________________________________________________________\n",
      "Layer (type)                 Output Shape              Param #   \n",
      "=================================================================\n",
      "conv1d_6 (Conv1D)            (None, 60, 32)            192       \n",
      "_________________________________________________________________\n",
      "conv1d_7 (Conv1D)            (None, 60, 32)            5152      \n",
      "_________________________________________________________________\n",
      "max_pooling1d_3 (MaxPooling1 (None, 28, 32)            0         \n",
      "_________________________________________________________________\n",
      "conv1d_8 (Conv1D)            (None, 28, 32)            5152      \n",
      "_________________________________________________________________\n",
      "conv1d_9 (Conv1D)            (None, 28, 32)            5152      \n",
      "_________________________________________________________________\n",
      "max_pooling1d_4 (MaxPooling1 (None, 12, 32)            0         \n",
      "_________________________________________________________________\n",
      "conv1d_10 (Conv1D)           (None, 12, 32)            5152      \n",
      "_________________________________________________________________\n",
      "conv1d_11 (Conv1D)           (None, 12, 32)            5152      \n",
      "_________________________________________________________________\n",
      "max_pooling1d_5 (MaxPooling1 (None, 4, 32)             0         \n",
      "_________________________________________________________________\n",
      "flatten_1 (Flatten)          (None, 128)               0         \n",
      "_________________________________________________________________\n",
      "dense_3 (Dense)              (None, 32)                4128      \n",
      "_________________________________________________________________\n",
      "dense_4 (Dense)              (None, 32)                1056      \n",
      "_________________________________________________________________\n",
      "dense_5 (Dense)              (None, 3)                 99        \n",
      "=================================================================\n",
      "Total params: 31,235\n",
      "Trainable params: 31,235\n",
      "Non-trainable params: 0\n",
      "_________________________________________________________________\n"
     ]
    }
   ],
   "source": [
    "model.summary()"
   ]
  },
  {
   "cell_type": "code",
   "execution_count": 71,
   "id": "charming-experiment",
   "metadata": {},
   "outputs": [],
   "source": [
    "lr = 0.001"
   ]
  },
  {
   "cell_type": "code",
   "execution_count": 78,
   "id": "living-doctor",
   "metadata": {},
   "outputs": [],
   "source": [
    "opt = Adam(learning_rate=lr)\n",
    "model.compile(loss='sparse_categorical_crossentropy',\n",
    "              optimizer=opt,\n",
    "              metrics=['accuracy'])"
   ]
  },
  {
   "cell_type": "code",
   "execution_count": 79,
   "id": "suspended-logan",
   "metadata": {},
   "outputs": [],
   "source": [
    "early_stop = EarlyStopping(monitor='val_loss', \n",
    "                           mode='min', \n",
    "                           verbose=1, \n",
    "                           patience=25)"
   ]
  },
  {
   "cell_type": "code",
   "execution_count": 80,
   "id": "black-prayer",
   "metadata": {},
   "outputs": [
    {
     "name": "stdout",
     "output_type": "stream",
     "text": [
      "Epoch 1/100\n",
      "1016/1016 [==============================] - 13s 10ms/step - loss: 1.0008 - accuracy: 0.4622 - val_loss: 0.8306 - val_accuracy: 0.5995\n",
      "Epoch 2/100\n",
      "1016/1016 [==============================] - 10s 10ms/step - loss: 0.8136 - accuracy: 0.6075 - val_loss: 0.7871 - val_accuracy: 0.6356\n",
      "Epoch 3/100\n",
      "1016/1016 [==============================] - 10s 10ms/step - loss: 0.7740 - accuracy: 0.6416 - val_loss: 0.7705 - val_accuracy: 0.6439\n",
      "Epoch 4/100\n",
      "1016/1016 [==============================] - 10s 10ms/step - loss: 0.7516 - accuracy: 0.6533 - val_loss: 0.7740 - val_accuracy: 0.6476\n",
      "Epoch 5/100\n",
      "1016/1016 [==============================] - 10s 10ms/step - loss: 0.7400 - accuracy: 0.6636 - val_loss: 0.7239 - val_accuracy: 0.6769\n",
      "Epoch 6/100\n",
      "1016/1016 [==============================] - 10s 10ms/step - loss: 0.7268 - accuracy: 0.6704 - val_loss: 0.7285 - val_accuracy: 0.6738\n",
      "Epoch 7/100\n",
      "1016/1016 [==============================] - 10s 10ms/step - loss: 0.7182 - accuracy: 0.6752 - val_loss: 0.7095 - val_accuracy: 0.6846\n",
      "Epoch 8/100\n",
      "1016/1016 [==============================] - 12s 12ms/step - loss: 0.7087 - accuracy: 0.6808 - val_loss: 0.7148 - val_accuracy: 0.6839\n",
      "Epoch 9/100\n",
      "1016/1016 [==============================] - 12s 12ms/step - loss: 0.7012 - accuracy: 0.6850 - val_loss: 0.7004 - val_accuracy: 0.6857\n",
      "Epoch 10/100\n",
      "1016/1016 [==============================] - 12s 12ms/step - loss: 0.6942 - accuracy: 0.6879 - val_loss: 0.7041 - val_accuracy: 0.6829\n",
      "Epoch 11/100\n",
      "1016/1016 [==============================] - 12s 12ms/step - loss: 0.6860 - accuracy: 0.6928 - val_loss: 0.7024 - val_accuracy: 0.6807\n",
      "Epoch 12/100\n",
      "1016/1016 [==============================] - 12s 12ms/step - loss: 0.6807 - accuracy: 0.6952 - val_loss: 0.6790 - val_accuracy: 0.6979\n",
      "Epoch 13/100\n",
      "1016/1016 [==============================] - 12s 12ms/step - loss: 0.6714 - accuracy: 0.7016 - val_loss: 0.6892 - val_accuracy: 0.6857\n",
      "Epoch 14/100\n",
      "1016/1016 [==============================] - 12s 12ms/step - loss: 0.6673 - accuracy: 0.7011 - val_loss: 0.6724 - val_accuracy: 0.6999\n",
      "Epoch 15/100\n",
      "1016/1016 [==============================] - 12s 12ms/step - loss: 0.6590 - accuracy: 0.7048 - val_loss: 0.6717 - val_accuracy: 0.6995\n",
      "Epoch 16/100\n",
      "1016/1016 [==============================] - 12s 12ms/step - loss: 0.6539 - accuracy: 0.7079 - val_loss: 0.6760 - val_accuracy: 0.6956\n",
      "Epoch 17/100\n",
      "1016/1016 [==============================] - 12s 12ms/step - loss: 0.6481 - accuracy: 0.7111 - val_loss: 0.6774 - val_accuracy: 0.7016\n",
      "Epoch 18/100\n",
      "1016/1016 [==============================] - 11s 11ms/step - loss: 0.6425 - accuracy: 0.7146 - val_loss: 0.6612 - val_accuracy: 0.7115\n",
      "Epoch 19/100\n",
      "1016/1016 [==============================] - 11s 11ms/step - loss: 0.6301 - accuracy: 0.7189 - val_loss: 0.6732 - val_accuracy: 0.7016\n",
      "Epoch 20/100\n",
      "1016/1016 [==============================] - 12s 12ms/step - loss: 0.6260 - accuracy: 0.7247 - val_loss: 0.6401 - val_accuracy: 0.7224\n",
      "Epoch 21/100\n",
      "1016/1016 [==============================] - 12s 11ms/step - loss: 0.6193 - accuracy: 0.7269 - val_loss: 0.6402 - val_accuracy: 0.7237\n",
      "Epoch 22/100\n",
      "1016/1016 [==============================] - 12s 11ms/step - loss: 0.6139 - accuracy: 0.7288 - val_loss: 0.6412 - val_accuracy: 0.7208\n",
      "Epoch 23/100\n",
      "1016/1016 [==============================] - 12s 12ms/step - loss: 0.6082 - accuracy: 0.7320 - val_loss: 0.6292 - val_accuracy: 0.7200\n",
      "Epoch 24/100\n",
      "1016/1016 [==============================] - 12s 12ms/step - loss: 0.6014 - accuracy: 0.7356 - val_loss: 0.6285 - val_accuracy: 0.7278\n",
      "Epoch 25/100\n",
      "1016/1016 [==============================] - 12s 12ms/step - loss: 0.5950 - accuracy: 0.7369 - val_loss: 0.6319 - val_accuracy: 0.7224\n",
      "Epoch 26/100\n",
      "1016/1016 [==============================] - 13s 13ms/step - loss: 0.5932 - accuracy: 0.7386 - val_loss: 0.6464 - val_accuracy: 0.7171\n",
      "Epoch 27/100\n",
      "1016/1016 [==============================] - 12s 12ms/step - loss: 0.5858 - accuracy: 0.7448 - val_loss: 0.6338 - val_accuracy: 0.7160\n",
      "Epoch 28/100\n",
      "1016/1016 [==============================] - 12s 12ms/step - loss: 0.5789 - accuracy: 0.7479 - val_loss: 0.6338 - val_accuracy: 0.7251\n",
      "Epoch 29/100\n",
      "1016/1016 [==============================] - 12s 12ms/step - loss: 0.5779 - accuracy: 0.7446 - val_loss: 0.6412 - val_accuracy: 0.7275\n",
      "Epoch 30/100\n",
      "1016/1016 [==============================] - 11s 11ms/step - loss: 0.5676 - accuracy: 0.7507 - val_loss: 0.6196 - val_accuracy: 0.7368\n",
      "Epoch 31/100\n",
      "1016/1016 [==============================] - 12s 12ms/step - loss: 0.5642 - accuracy: 0.7547 - val_loss: 0.6239 - val_accuracy: 0.7286\n",
      "Epoch 32/100\n",
      "1016/1016 [==============================] - 12s 12ms/step - loss: 0.5642 - accuracy: 0.7545 - val_loss: 0.6167 - val_accuracy: 0.7367\n",
      "Epoch 33/100\n",
      "1016/1016 [==============================] - 12s 12ms/step - loss: 0.5579 - accuracy: 0.7593 - val_loss: 0.6018 - val_accuracy: 0.7377\n",
      "Epoch 34/100\n",
      "1016/1016 [==============================] - 13s 12ms/step - loss: 0.5518 - accuracy: 0.7605 - val_loss: 0.6023 - val_accuracy: 0.7434\n",
      "Epoch 35/100\n",
      "1016/1016 [==============================] - 12s 12ms/step - loss: 0.5466 - accuracy: 0.7630 - val_loss: 0.6013 - val_accuracy: 0.7432\n",
      "Epoch 36/100\n",
      "1016/1016 [==============================] - 12s 12ms/step - loss: 0.5427 - accuracy: 0.7677 - val_loss: 0.5978 - val_accuracy: 0.7432\n",
      "Epoch 37/100\n",
      "1016/1016 [==============================] - 12s 12ms/step - loss: 0.5422 - accuracy: 0.7657 - val_loss: 0.6025 - val_accuracy: 0.7416\n",
      "Epoch 38/100\n",
      "1016/1016 [==============================] - 12s 12ms/step - loss: 0.5338 - accuracy: 0.7702 - val_loss: 0.6109 - val_accuracy: 0.7414\n",
      "Epoch 39/100\n",
      "1016/1016 [==============================] - 12s 12ms/step - loss: 0.5328 - accuracy: 0.7702 - val_loss: 0.6102 - val_accuracy: 0.7376\n",
      "Epoch 40/100\n",
      "1016/1016 [==============================] - 11s 11ms/step - loss: 0.5248 - accuracy: 0.7743 - val_loss: 0.6046 - val_accuracy: 0.7474\n",
      "Epoch 41/100\n",
      "1016/1016 [==============================] - 12s 12ms/step - loss: 0.5222 - accuracy: 0.7738 - val_loss: 0.5983 - val_accuracy: 0.7473\n",
      "Epoch 42/100\n",
      "1016/1016 [==============================] - 12s 12ms/step - loss: 0.5210 - accuracy: 0.7754 - val_loss: 0.6019 - val_accuracy: 0.7464\n",
      "Epoch 43/100\n",
      "1016/1016 [==============================] - 12s 12ms/step - loss: 0.5126 - accuracy: 0.7772 - val_loss: 0.6055 - val_accuracy: 0.7383\n",
      "Epoch 44/100\n",
      "1016/1016 [==============================] - 12s 12ms/step - loss: 0.5112 - accuracy: 0.7808 - val_loss: 0.5969 - val_accuracy: 0.7459\n",
      "Epoch 45/100\n",
      "1016/1016 [==============================] - 12s 12ms/step - loss: 0.5051 - accuracy: 0.7842 - val_loss: 0.6037 - val_accuracy: 0.7414\n",
      "Epoch 46/100\n",
      "1016/1016 [==============================] - 12s 11ms/step - loss: 0.5067 - accuracy: 0.7836 - val_loss: 0.5942 - val_accuracy: 0.7453\n",
      "Epoch 47/100\n",
      "1016/1016 [==============================] - 12s 12ms/step - loss: 0.5006 - accuracy: 0.7865 - val_loss: 0.6009 - val_accuracy: 0.7457\n",
      "Epoch 48/100\n",
      "1016/1016 [==============================] - 12s 12ms/step - loss: 0.4986 - accuracy: 0.7862 - val_loss: 0.6038 - val_accuracy: 0.7505\n",
      "Epoch 49/100\n",
      "1016/1016 [==============================] - 12s 12ms/step - loss: 0.4966 - accuracy: 0.7870 - val_loss: 0.5907 - val_accuracy: 0.7570\n",
      "Epoch 50/100\n",
      "1016/1016 [==============================] - 12s 12ms/step - loss: 0.4918 - accuracy: 0.7906 - val_loss: 0.6160 - val_accuracy: 0.7463\n",
      "Epoch 51/100\n",
      "1016/1016 [==============================] - 13s 12ms/step - loss: 0.4910 - accuracy: 0.7911 - val_loss: 0.5953 - val_accuracy: 0.7553\n",
      "Epoch 52/100\n",
      "1016/1016 [==============================] - 12s 12ms/step - loss: 0.4861 - accuracy: 0.7930 - val_loss: 0.5761 - val_accuracy: 0.7601\n",
      "Epoch 53/100\n",
      "1016/1016 [==============================] - 12s 11ms/step - loss: 0.4798 - accuracy: 0.7972 - val_loss: 0.5832 - val_accuracy: 0.7566\n",
      "Epoch 54/100\n",
      "1016/1016 [==============================] - 12s 11ms/step - loss: 0.4778 - accuracy: 0.7963 - val_loss: 0.5808 - val_accuracy: 0.7584\n",
      "Epoch 55/100\n",
      "1016/1016 [==============================] - 12s 12ms/step - loss: 0.4774 - accuracy: 0.7950 - val_loss: 0.5794 - val_accuracy: 0.7594\n",
      "Epoch 56/100\n",
      "1016/1016 [==============================] - 12s 11ms/step - loss: 0.4705 - accuracy: 0.8004 - val_loss: 0.6335 - val_accuracy: 0.7372\n",
      "Epoch 57/100\n",
      "1016/1016 [==============================] - 12s 11ms/step - loss: 0.4720 - accuracy: 0.8008 - val_loss: 0.5803 - val_accuracy: 0.7610\n",
      "Epoch 58/100\n",
      "1016/1016 [==============================] - 12s 12ms/step - loss: 0.4665 - accuracy: 0.8026 - val_loss: 0.5891 - val_accuracy: 0.7614\n",
      "Epoch 59/100\n",
      "1016/1016 [==============================] - 12s 12ms/step - loss: 0.4651 - accuracy: 0.8011 - val_loss: 0.5909 - val_accuracy: 0.7600\n",
      "Epoch 60/100\n",
      "1016/1016 [==============================] - 11s 11ms/step - loss: 0.4678 - accuracy: 0.8025 - val_loss: 0.6091 - val_accuracy: 0.7499\n",
      "Epoch 61/100\n",
      "1016/1016 [==============================] - 11s 11ms/step - loss: 0.4601 - accuracy: 0.8066 - val_loss: 0.5751 - val_accuracy: 0.7626\n",
      "Epoch 62/100\n",
      "1016/1016 [==============================] - 11s 11ms/step - loss: 0.4628 - accuracy: 0.8052 - val_loss: 0.5897 - val_accuracy: 0.7595\n",
      "Epoch 63/100\n",
      "1016/1016 [==============================] - 11s 11ms/step - loss: 0.4566 - accuracy: 0.8068 - val_loss: 0.5952 - val_accuracy: 0.7627\n",
      "Epoch 64/100\n",
      "1016/1016 [==============================] - 11s 11ms/step - loss: 0.4564 - accuracy: 0.8061 - val_loss: 0.5943 - val_accuracy: 0.7649\n",
      "Epoch 65/100\n",
      "1016/1016 [==============================] - 10s 10ms/step - loss: 0.4528 - accuracy: 0.8100 - val_loss: 0.5635 - val_accuracy: 0.7708\n",
      "Epoch 66/100\n",
      "1016/1016 [==============================] - 10s 10ms/step - loss: 0.4496 - accuracy: 0.8110 - val_loss: 0.5871 - val_accuracy: 0.7607\n",
      "Epoch 67/100\n",
      "1016/1016 [==============================] - 11s 11ms/step - loss: 0.4448 - accuracy: 0.8130 - val_loss: 0.6000 - val_accuracy: 0.7565\n",
      "Epoch 68/100\n",
      "1016/1016 [==============================] - 11s 11ms/step - loss: 0.4478 - accuracy: 0.8095 - val_loss: 0.5659 - val_accuracy: 0.7678\n",
      "Epoch 69/100\n",
      "1016/1016 [==============================] - 11s 11ms/step - loss: 0.4413 - accuracy: 0.8146 - val_loss: 0.5797 - val_accuracy: 0.7552\n",
      "Epoch 70/100\n",
      "1016/1016 [==============================] - 12s 12ms/step - loss: 0.4416 - accuracy: 0.8136 - val_loss: 0.5704 - val_accuracy: 0.7633\n",
      "Epoch 71/100\n",
      "1016/1016 [==============================] - 12s 12ms/step - loss: 0.4421 - accuracy: 0.8144 - val_loss: 0.5888 - val_accuracy: 0.7704\n",
      "Epoch 72/100\n",
      "1016/1016 [==============================] - 11s 11ms/step - loss: 0.4365 - accuracy: 0.8152 - val_loss: 0.5970 - val_accuracy: 0.7594\n",
      "Epoch 73/100\n",
      "1016/1016 [==============================] - 11s 11ms/step - loss: 0.4341 - accuracy: 0.8176 - val_loss: 0.5781 - val_accuracy: 0.7590\n",
      "Epoch 74/100\n",
      "1016/1016 [==============================] - 12s 12ms/step - loss: 0.4401 - accuracy: 0.8150 - val_loss: 0.5743 - val_accuracy: 0.7697\n",
      "Epoch 75/100\n",
      "1016/1016 [==============================] - 11s 11ms/step - loss: 0.4323 - accuracy: 0.8195 - val_loss: 0.5962 - val_accuracy: 0.7607\n",
      "Epoch 76/100\n",
      "1016/1016 [==============================] - 12s 12ms/step - loss: 0.4269 - accuracy: 0.8213 - val_loss: 0.5841 - val_accuracy: 0.7648\n",
      "Epoch 77/100\n",
      "1016/1016 [==============================] - 12s 12ms/step - loss: 0.4317 - accuracy: 0.8206 - val_loss: 0.5672 - val_accuracy: 0.7733\n",
      "Epoch 78/100\n",
      "1016/1016 [==============================] - 12s 12ms/step - loss: 0.4281 - accuracy: 0.8202 - val_loss: 0.5798 - val_accuracy: 0.7690\n",
      "Epoch 79/100\n",
      "1016/1016 [==============================] - 11s 11ms/step - loss: 0.4296 - accuracy: 0.8185 - val_loss: 0.5910 - val_accuracy: 0.7694\n",
      "Epoch 80/100\n",
      "1016/1016 [==============================] - 11s 11ms/step - loss: 0.4295 - accuracy: 0.8224 - val_loss: 0.5694 - val_accuracy: 0.7718\n",
      "Epoch 81/100\n",
      "1016/1016 [==============================] - 10s 10ms/step - loss: 0.4194 - accuracy: 0.8257 - val_loss: 0.5693 - val_accuracy: 0.7770\n",
      "Epoch 82/100\n",
      "1016/1016 [==============================] - 11s 11ms/step - loss: 0.4240 - accuracy: 0.8232 - val_loss: 0.5696 - val_accuracy: 0.7692\n",
      "Epoch 83/100\n",
      "1016/1016 [==============================] - 10s 10ms/step - loss: 0.4222 - accuracy: 0.8259 - val_loss: 0.5848 - val_accuracy: 0.7723\n",
      "Epoch 84/100\n",
      "1016/1016 [==============================] - 10s 10ms/step - loss: 0.4202 - accuracy: 0.8252 - val_loss: 0.5911 - val_accuracy: 0.7645\n",
      "Epoch 85/100\n",
      "1016/1016 [==============================] - 11s 10ms/step - loss: 0.4182 - accuracy: 0.8250 - val_loss: 0.5767 - val_accuracy: 0.7713\n",
      "Epoch 86/100\n",
      "1016/1016 [==============================] - 10s 10ms/step - loss: 0.4163 - accuracy: 0.8261 - val_loss: 0.5788 - val_accuracy: 0.7722\n",
      "Epoch 87/100\n",
      "1016/1016 [==============================] - 11s 11ms/step - loss: 0.4145 - accuracy: 0.8277 - val_loss: 0.6204 - val_accuracy: 0.7595\n",
      "Epoch 88/100\n",
      "1016/1016 [==============================] - 13s 12ms/step - loss: 0.4096 - accuracy: 0.8307 - val_loss: 0.5994 - val_accuracy: 0.7639\n",
      "Epoch 89/100\n",
      "1016/1016 [==============================] - 12s 12ms/step - loss: 0.4114 - accuracy: 0.8280 - val_loss: 0.5908 - val_accuracy: 0.7660\n",
      "Epoch 90/100\n",
      "1016/1016 [==============================] - 12s 12ms/step - loss: 0.4069 - accuracy: 0.8317 - val_loss: 0.5996 - val_accuracy: 0.7754\n",
      "Epoch 00090: early stopping\n"
     ]
    }
   ],
   "source": [
    "EPOCHS = 100\n",
    "\n",
    "history = model.fit(X_train,\n",
    "                    y_train,\n",
    "                    epochs=EPOCHS,\n",
    "                    validation_split=0.2,\n",
    "                    verbose=1,\n",
    "                    callbacks=[early_stop])"
   ]
  },
  {
   "cell_type": "code",
   "execution_count": 81,
   "id": "sudden-delivery",
   "metadata": {},
   "outputs": [],
   "source": [
    "# summarize history for loss\n",
    "def summarize_loss(history):\n",
    "    plt.figure(figsize=(8,6))\n",
    "    plt.plot(history.history['loss'])\n",
    "    plt.plot(history.history['val_loss'])\n",
    "    plt.title('model loss')\n",
    "    plt.ylabel('loss')\n",
    "    plt.xlabel('epoch')\n",
    "    plt.legend(['train', 'validation'], loc='upper right')\n",
    "    plt.show()"
   ]
  },
  {
   "cell_type": "code",
   "execution_count": 82,
   "id": "comic-stable",
   "metadata": {},
   "outputs": [
    {
     "name": "stdout",
     "output_type": "stream",
     "text": [
      "Model Accuraccy:  0.44\n"
     ]
    },
    {
     "data": {
      "image/png": "[encoded data removed]",
      "text/plain": [
       "<Figure size 576x432 with 1 Axes>"
      ]
     },
     "metadata": {
      "needs_background": "light"
     },
     "output_type": "display_data"
    }
   ],
   "source": [
    "_, model_accuracy = model.evaluate(X_test, y_test, verbose=0)\n",
    "print(\"Model Accuraccy: \", round(model_accuracy, 2))\n",
    "summarize_loss(history)"
   ]
  },
  {
   "cell_type": "code",
   "execution_count": 83,
   "id": "separate-ridge",
   "metadata": {},
   "outputs": [],
   "source": [
    "def plot_conf_matrix(y_test, y_pred):\n",
    "    plt.figure(figsize=(8,6))\n",
    "    sns.heatmap(confusion_matrix(y_test,y_pred), cmap='Blues', annot=True, fmt='g');\n",
    "    plt.title('Confusion Matrix')\n",
    "    plt.xlabel(\"Predictions\")\n",
    "    plt.ylabel(\"Real values\")\n",
    "    plt.show()"
   ]
  },
  {
   "cell_type": "code",
   "execution_count": 84,
   "id": "quarterly-crash",
   "metadata": {},
   "outputs": [
    {
     "data": {
      "text/plain": [
       "(10155, 60, 1)"
      ]
     },
     "execution_count": 84,
     "metadata": {},
     "output_type": "execute_result"
    }
   ],
   "source": [
    "X_test.shape"
   ]
  },
  {
   "cell_type": "code",
   "execution_count": 85,
   "id": "sporting-artwork",
   "metadata": {},
   "outputs": [
    {
     "data": {
      "text/plain": [
       "(10155,)"
      ]
     },
     "execution_count": 85,
     "metadata": {},
     "output_type": "execute_result"
    }
   ],
   "source": [
    "y_test.shape"
   ]
  }
 ],
 "metadata": {
  "kernelspec": {
   "display_name": "Python 3",
   "language": "python",
   "name": "python3"
  },
  "language_info": {
   "codemirror_mode": {
    "name": "ipython",
    "version": 3
   },
   "file_extension": ".py",
   "mimetype": "text/x-python",
   "name": "python",
   "nbconvert_exporter": "python",
   "pygments_lexer": "ipython3",
   "version": "3.8.3"
  }
 },
 "nbformat": 4,
 "nbformat_minor": 5
}
