{
 "cells": [
  {
   "cell_type": "code",
   "execution_count": 1,
   "id": "universal-trial",
   "metadata": {},
   "outputs": [],
   "source": [
    "import numpy as np\n",
    "import pandas as pd\n",
    "import matplotlib.pyplot as plt\n",
    "from scipy.signal import butter, iirnotch, lfilter, sosfilt, sosfreqz, filtfilt, sosfiltfilt\n",
    "import biosppy\n",
    "from biosppy.signals import ecg\n",
    "import matplotlib.gridspec as gridspec"
   ]
  },
  {
   "cell_type": "code",
   "execution_count": 2,
   "id": "owned-rescue",
   "metadata": {},
   "outputs": [],
   "source": [
    "plt.rcParams[\"figure.figsize\"] = (20,10)"
   ]
  },
  {
   "cell_type": "code",
   "execution_count": 3,
   "id": "curious-gambling",
   "metadata": {},
   "outputs": [],
   "source": [
    "def butter_bandpass(lowcut, highcut, fs=100, order=5):\n",
    "    nyq = 0.5 * fs\n",
    "    low = lowcut / nyq\n",
    "    high = highcut / nyq\n",
    "    sos = butter(order, [low, high], analog=False, btype='band', output='sos')\n",
    "    return sos\n",
    "\n",
    "\n",
    "def notch(cutoff, q):\n",
    "    nyq = 0.5*fs\n",
    "    freq = cutoff/nyq\n",
    "    b, a = iirnotch(freq, q)\n",
    "    return b, a\n",
    "\n",
    "\n",
    "def butter_bandpass_filter(data, lowcut, highcut, fs=100, order=5):\n",
    "    sos = butter_bandpass(lowcut, highcut, fs, order=order)\n",
    "    y = sosfilt(sos, data)\n",
    "    return y\n",
    "\n",
    "\n",
    "def notch_filter(data, powerline, q):\n",
    "    b, a = notch(powerline, q)\n",
    "    z = lfilter(b, a, data)\n",
    "    return z"
   ]
  },
  {
   "cell_type": "code",
   "execution_count": 4,
   "id": "extensive-toner",
   "metadata": {},
   "outputs": [],
   "source": [
    "def butter_highpass(cutoff, sample_rate, order, data):\n",
    "    nyq = 0.5 * sample_rate\n",
    "    normal_cutoff = cutoff / nyq\n",
    "    b, a = butter(order, normal_cutoff, btype='high', analog=False)\n",
    "    final_filtered_highpass = filtfilt(b, a, data)\n",
    "    return final_filtered_highpass\n",
    "\n",
    "\n",
    "def butter_lowpass(cutoff, sample_rate, order, data, slice=-1):\n",
    "    nyq = 0.5 * sample_rate\n",
    "    normal_cutoff = cutoff / nyq\n",
    "    b, a = butter(order, normal_cutoff, btype='low', analog=False)\n",
    "    filtered_lowpass = lfilter(b, a, data)\n",
    "    return filtered_lowpass\n",
    "\n",
    "\n",
    "def moving_average_filter(x, w):\n",
    "    m_a_filtered = np.convolve(x, np.ones(w), 'same') / w\n",
    "    return m_a_filtered\n",
    "\n",
    "\n",
    "def filter_data(data, sample_rate=100):\n",
    "    low_pass_filtering = butter_lowpass(41, sample_rate, 5, data)\n",
    "    high_pass_filtering = butter_highpass(0.5, sample_rate, 2, low_pass_filtering)\n",
    "    #m_a_filtered = moving_average_filter(high_pass_filtering, 3)\n",
    "    return high_pass_filtering\n",
    "\n",
    "\n",
    "def plot_signals_for_comparison(original_signal, filtered_signal):\n",
    "    fig, (ax1, ax2) = plt.subplots(2, 1, sharex=True)\n",
    "    ax1.set_title('Raw ECG')\n",
    "    ax1.plot(original_signal)\n",
    "    ax1.grid()\n",
    "    ax2.set_title('Filtered ECG [0.5Hz - 49Hz]')\n",
    "    ax2.plot(filtered_signal)\n",
    "    ax2.set_xlabel('Time [100 miliseconds]')\n",
    "    ax2.grid()\n",
    "    plt.tight_layout()\n",
    "    plt.show()"
   ]
  },
  {
   "cell_type": "code",
   "execution_count": 5,
   "id": "superb-taste",
   "metadata": {},
   "outputs": [],
   "source": [
    "def correct_rpeaks(signal, rpeaks=None, sampling_rate=100, tol=0.05):\n",
    "    \"\"\"Correct R-peak locations to the maximum within a tolerance.\n",
    "    Parameters\n",
    "    ----------\n",
    "    signal : array\n",
    "        ECG signal.\n",
    "    rpeaks : array\n",
    "        R-peak location indices.\n",
    "    sampling_rate : int, float, optional\n",
    "        Sampling frequency (Hz).\n",
    "    tol : int, float, optional\n",
    "        Correction tolerance (seconds).\n",
    "    Returns\n",
    "    -------\n",
    "    rpeaks : array\n",
    "        Cerrected R-peak location indices.\n",
    "    Notes\n",
    "    -----\n",
    "    * The tolerance is defined as the time interval :math:`[R-tol, R+tol[`.\n",
    "    \"\"\"\n",
    "\n",
    "    # check inputs\n",
    "    if signal is None:\n",
    "        raise TypeError(\"Please specify an input signal.\")\n",
    "\n",
    "    if rpeaks is None:\n",
    "        raise TypeError(\"Please specify the input R-peaks.\")\n",
    "\n",
    "    tol = int(tol * sampling_rate)\n",
    "    length = len(signal)\n",
    "\n",
    "    newR = []\n",
    "    for r in rpeaks:\n",
    "        a = r - tol\n",
    "        if a < 0:\n",
    "            continue\n",
    "        b = r + tol\n",
    "        if b > length:\n",
    "            break\n",
    "        newR.append(a + np.argmax(signal[a:b]))\n",
    "\n",
    "    newR = sorted(list(set(newR)))\n",
    "    newR = np.array(newR, dtype='int')\n",
    "\n",
    "    return newR"
   ]
  },
  {
   "cell_type": "code",
   "execution_count": 6,
   "id": "valued-latin",
   "metadata": {},
   "outputs": [],
   "source": [
    "def _extract_heartbeats(signal=None, rpeaks=None, before=200, after=400):\n",
    "    \"\"\"Extract heartbeat templates from an ECG signal, given a list of\n",
    "    R-peak locations.\n",
    "    Parameters\n",
    "    ----------\n",
    "    signal : array\n",
    "        Input ECG signal.\n",
    "    rpeaks : array\n",
    "        R-peak location indices.\n",
    "    before : int, optional\n",
    "        Number of samples to include before the R peak.\n",
    "    after : int, optional\n",
    "        Number of samples to include after the R peak.\n",
    "    Returns\n",
    "    -------\n",
    "    templates : array\n",
    "        Extracted heartbeat templates.\n",
    "    rpeaks : array\n",
    "        Corresponding R-peak location indices of the extracted heartbeat\n",
    "        templates.\n",
    "    \"\"\"\n",
    "\n",
    "    R = np.sort(rpeaks)\n",
    "    length = len(signal)\n",
    "    templates = []\n",
    "    newR = []\n",
    "\n",
    "    for r in R:\n",
    "        a = r - before\n",
    "        if a < 0:\n",
    "            continue\n",
    "        b = r + after\n",
    "        if b > length:\n",
    "            break\n",
    "        templates.append(signal[a:b])\n",
    "        newR.append(r)\n",
    "\n",
    "    templates = np.array(templates)\n",
    "    newR = np.array(newR, dtype='int')\n",
    "\n",
    "    return templates, newR"
   ]
  },
  {
   "cell_type": "code",
   "execution_count": 7,
   "id": "heavy-detective",
   "metadata": {},
   "outputs": [],
   "source": [
    "def extract_heartbeats(signal=None, rpeaks=None, sampling_rate=1000.,\n",
    "                       before=0.2, after=0.4):\n",
    "    \"\"\"Extract heartbeat templates from an ECG signal, given a list of\n",
    "    R-peak locations.\n",
    "    Parameters\n",
    "    ----------\n",
    "    signal : array\n",
    "        Input ECG signal.\n",
    "    rpeaks : array\n",
    "        R-peak location indices.\n",
    "    sampling_rate : int, float, optional\n",
    "        Sampling frequency (Hz).\n",
    "    before : float, optional\n",
    "        Window size to include before the R peak (seconds).\n",
    "    after : int, optional\n",
    "        Window size to include after the R peak (seconds).\n",
    "    Returns\n",
    "    -------\n",
    "    templates : array\n",
    "        Extracted heartbeat templates.\n",
    "    rpeaks : array\n",
    "        Corresponding R-peak location indices of the extracted heartbeat\n",
    "        templates.\n",
    "    \"\"\"\n",
    "\n",
    "    # check inputs\n",
    "    if signal is None:\n",
    "        raise TypeError(\"Please specify an input signal.\")\n",
    "\n",
    "    if rpeaks is None:\n",
    "        raise TypeError(\"Please specify the input R-peak locations.\")\n",
    "\n",
    "    if before < 0:\n",
    "        raise ValueError(\"Please specify a non-negative 'before' value.\")\n",
    "    if after < 0:\n",
    "        raise ValueError(\"Please specify a non-negative 'after' value.\")\n",
    "\n",
    "    # convert delimiters to samples\n",
    "    before = int(before * sampling_rate)\n",
    "    after = int(after * sampling_rate)\n",
    "\n",
    "    # get heartbeats\n",
    "    templates, newR = _extract_heartbeats(signal=signal,\n",
    "                                          rpeaks=rpeaks,\n",
    "                                          before=before,\n",
    "                                          after=after)\n",
    "\n",
    "    return templates, newR"
   ]
  },
  {
   "cell_type": "code",
   "execution_count": 8,
   "id": "suspected-tuner",
   "metadata": {},
   "outputs": [],
   "source": [
    "def get_complete_Heartbit(sample, sampling_rate=100,plot=True):\n",
    "    filtered_sample = filter_data(sample,sampling_rate)\n",
    "    data = filtered_sample.T\n",
    "    signals = []\n",
    "    indices = []\n",
    "    count = 1\n",
    "    peaks = biosppy.signals.ecg.christov_segmenter(\n",
    "        signal=data, sampling_rate=sampling_rate)[0]\n",
    "    rpeaks = correct_rpeaks(signal=data,rpeaks=peaks, sampling_rate=100,tol=0.05)\n",
    "    templates, rpeaks = extract_heartbeats(signal=data,rpeaks=rpeaks,sampling_rate=100,before=0.2,after=0.4)\n",
    "    if plot:\n",
    "        ts_tmpl = np.linspace(-0.2, 0.4, templates.shape[1], endpoint=False)\n",
    "        fig = plt.figure()\n",
    "        gs = gridspec.GridSpec(6, 2)\n",
    "        ax4 = fig.add_subplot(gs[1:5, 1])\n",
    "        plt.plot(ts_tmpl, templates.T, 'm', linewidth=1.5, alpha=0.7)\n",
    "        ax4.set_xlabel('Time (s)')\n",
    "        ax4.set_ylabel('Amplitude')\n",
    "        ax4.set_title('Templates')\n",
    "        ax4.grid()\n",
    "    #return templates, rpeaks\n",
    "    return templates"
   ]
  },
  {
   "cell_type": "code",
   "execution_count": 9,
   "id": "prepared-salvation",
   "metadata": {},
   "outputs": [
    {
     "data": {
      "text/plain": [
       "(21837, 1007)"
      ]
     },
     "execution_count": 9,
     "metadata": {},
     "output_type": "execute_result"
    }
   ],
   "source": [
    "df = pd.read_csv(\"ECG_Rhythm_Lead_I.csv\")\n",
    "df.shape"
   ]
  },
  {
   "cell_type": "code",
   "execution_count": 10,
   "id": "placed-newspaper",
   "metadata": {},
   "outputs": [
    {
     "data": {
      "text/html": [
       "<div>\n",
       "<style scoped>\n",
       "    .dataframe tbody tr th:only-of-type {\n",
       "        vertical-align: middle;\n",
       "    }\n",
       "\n",
       "    .dataframe tbody tr th {\n",
       "        vertical-align: top;\n",
       "    }\n",
       "\n",
       "    .dataframe thead th {\n",
       "        text-align: right;\n",
       "    }\n",
       "</style>\n",
       "<table border=\"1\" class=\"dataframe\">\n",
       "  <thead>\n",
       "    <tr style=\"text-align: right;\">\n",
       "      <th></th>\n",
       "      <th>Unnamed: 0</th>\n",
       "      <th>ecg_id</th>\n",
       "      <th>age</th>\n",
       "      <th>sex</th>\n",
       "      <th>height</th>\n",
       "      <th>weight</th>\n",
       "      <th>rhythm_diag</th>\n",
       "      <th>0</th>\n",
       "      <th>1</th>\n",
       "      <th>2</th>\n",
       "      <th>...</th>\n",
       "      <th>990</th>\n",
       "      <th>991</th>\n",
       "      <th>992</th>\n",
       "      <th>993</th>\n",
       "      <th>994</th>\n",
       "      <th>995</th>\n",
       "      <th>996</th>\n",
       "      <th>997</th>\n",
       "      <th>998</th>\n",
       "      <th>999</th>\n",
       "    </tr>\n",
       "  </thead>\n",
       "  <tbody>\n",
       "    <tr>\n",
       "      <th>0</th>\n",
       "      <td>0</td>\n",
       "      <td>1</td>\n",
       "      <td>56.0</td>\n",
       "      <td>1</td>\n",
       "      <td>NaN</td>\n",
       "      <td>63.0</td>\n",
       "      <td>SR</td>\n",
       "      <td>-0.119</td>\n",
       "      <td>-0.116</td>\n",
       "      <td>-0.120</td>\n",
       "      <td>...</td>\n",
       "      <td>0.198</td>\n",
       "      <td>0.194</td>\n",
       "      <td>0.115</td>\n",
       "      <td>0.107</td>\n",
       "      <td>0.107</td>\n",
       "      <td>0.106</td>\n",
       "      <td>0.090</td>\n",
       "      <td>0.069</td>\n",
       "      <td>0.086</td>\n",
       "      <td>0.022</td>\n",
       "    </tr>\n",
       "    <tr>\n",
       "      <th>1</th>\n",
       "      <td>1</td>\n",
       "      <td>2</td>\n",
       "      <td>19.0</td>\n",
       "      <td>0</td>\n",
       "      <td>NaN</td>\n",
       "      <td>70.0</td>\n",
       "      <td>OTHER</td>\n",
       "      <td>0.004</td>\n",
       "      <td>-0.020</td>\n",
       "      <td>-0.053</td>\n",
       "      <td>...</td>\n",
       "      <td>-0.035</td>\n",
       "      <td>-0.045</td>\n",
       "      <td>0.004</td>\n",
       "      <td>0.044</td>\n",
       "      <td>0.507</td>\n",
       "      <td>0.554</td>\n",
       "      <td>0.316</td>\n",
       "      <td>0.121</td>\n",
       "      <td>-0.326</td>\n",
       "      <td>-0.348</td>\n",
       "    </tr>\n",
       "    <tr>\n",
       "      <th>2</th>\n",
       "      <td>2</td>\n",
       "      <td>3</td>\n",
       "      <td>37.0</td>\n",
       "      <td>1</td>\n",
       "      <td>NaN</td>\n",
       "      <td>69.0</td>\n",
       "      <td>SR</td>\n",
       "      <td>-0.029</td>\n",
       "      <td>-0.035</td>\n",
       "      <td>-0.054</td>\n",
       "      <td>...</td>\n",
       "      <td>-0.040</td>\n",
       "      <td>-0.051</td>\n",
       "      <td>-0.026</td>\n",
       "      <td>-0.032</td>\n",
       "      <td>-0.052</td>\n",
       "      <td>-0.039</td>\n",
       "      <td>-0.034</td>\n",
       "      <td>-0.029</td>\n",
       "      <td>-0.048</td>\n",
       "      <td>-0.049</td>\n",
       "    </tr>\n",
       "    <tr>\n",
       "      <th>3</th>\n",
       "      <td>3</td>\n",
       "      <td>4</td>\n",
       "      <td>24.0</td>\n",
       "      <td>0</td>\n",
       "      <td>NaN</td>\n",
       "      <td>82.0</td>\n",
       "      <td>SR</td>\n",
       "      <td>-0.054</td>\n",
       "      <td>-0.053</td>\n",
       "      <td>-0.063</td>\n",
       "      <td>...</td>\n",
       "      <td>-0.312</td>\n",
       "      <td>-0.511</td>\n",
       "      <td>-0.280</td>\n",
       "      <td>-0.076</td>\n",
       "      <td>-0.012</td>\n",
       "      <td>0.001</td>\n",
       "      <td>-0.003</td>\n",
       "      <td>0.026</td>\n",
       "      <td>0.026</td>\n",
       "      <td>0.028</td>\n",
       "    </tr>\n",
       "    <tr>\n",
       "      <th>4</th>\n",
       "      <td>4</td>\n",
       "      <td>5</td>\n",
       "      <td>19.0</td>\n",
       "      <td>1</td>\n",
       "      <td>NaN</td>\n",
       "      <td>70.0</td>\n",
       "      <td>SR</td>\n",
       "      <td>-0.034</td>\n",
       "      <td>-0.038</td>\n",
       "      <td>-0.057</td>\n",
       "      <td>...</td>\n",
       "      <td>0.005</td>\n",
       "      <td>0.001</td>\n",
       "      <td>0.003</td>\n",
       "      <td>0.013</td>\n",
       "      <td>0.018</td>\n",
       "      <td>-0.001</td>\n",
       "      <td>0.007</td>\n",
       "      <td>0.000</td>\n",
       "      <td>-0.003</td>\n",
       "      <td>-0.012</td>\n",
       "    </tr>\n",
       "    <tr>\n",
       "      <th>...</th>\n",
       "      <td>...</td>\n",
       "      <td>...</td>\n",
       "      <td>...</td>\n",
       "      <td>...</td>\n",
       "      <td>...</td>\n",
       "      <td>...</td>\n",
       "      <td>...</td>\n",
       "      <td>...</td>\n",
       "      <td>...</td>\n",
       "      <td>...</td>\n",
       "      <td>...</td>\n",
       "      <td>...</td>\n",
       "      <td>...</td>\n",
       "      <td>...</td>\n",
       "      <td>...</td>\n",
       "      <td>...</td>\n",
       "      <td>...</td>\n",
       "      <td>...</td>\n",
       "      <td>...</td>\n",
       "      <td>...</td>\n",
       "      <td>...</td>\n",
       "    </tr>\n",
       "    <tr>\n",
       "      <th>21832</th>\n",
       "      <td>21832</td>\n",
       "      <td>21833</td>\n",
       "      <td>67.0</td>\n",
       "      <td>1</td>\n",
       "      <td>NaN</td>\n",
       "      <td>NaN</td>\n",
       "      <td>OTHER</td>\n",
       "      <td>-0.052</td>\n",
       "      <td>-0.077</td>\n",
       "      <td>-0.042</td>\n",
       "      <td>...</td>\n",
       "      <td>-0.143</td>\n",
       "      <td>-0.125</td>\n",
       "      <td>-0.104</td>\n",
       "      <td>-0.097</td>\n",
       "      <td>-0.052</td>\n",
       "      <td>0.010</td>\n",
       "      <td>0.019</td>\n",
       "      <td>-0.024</td>\n",
       "      <td>-0.061</td>\n",
       "      <td>-0.050</td>\n",
       "    </tr>\n",
       "    <tr>\n",
       "      <th>21833</th>\n",
       "      <td>21833</td>\n",
       "      <td>21834</td>\n",
       "      <td>93.0</td>\n",
       "      <td>0</td>\n",
       "      <td>NaN</td>\n",
       "      <td>NaN</td>\n",
       "      <td>SR</td>\n",
       "      <td>-0.050</td>\n",
       "      <td>-0.032</td>\n",
       "      <td>0.008</td>\n",
       "      <td>...</td>\n",
       "      <td>-0.023</td>\n",
       "      <td>-0.052</td>\n",
       "      <td>-0.062</td>\n",
       "      <td>-0.059</td>\n",
       "      <td>-0.074</td>\n",
       "      <td>-0.069</td>\n",
       "      <td>-0.107</td>\n",
       "      <td>0.058</td>\n",
       "      <td>0.501</td>\n",
       "      <td>0.584</td>\n",
       "    </tr>\n",
       "    <tr>\n",
       "      <th>21834</th>\n",
       "      <td>21834</td>\n",
       "      <td>21835</td>\n",
       "      <td>59.0</td>\n",
       "      <td>1</td>\n",
       "      <td>NaN</td>\n",
       "      <td>NaN</td>\n",
       "      <td>SR</td>\n",
       "      <td>0.038</td>\n",
       "      <td>0.078</td>\n",
       "      <td>-0.014</td>\n",
       "      <td>...</td>\n",
       "      <td>-0.081</td>\n",
       "      <td>0.012</td>\n",
       "      <td>0.504</td>\n",
       "      <td>0.613</td>\n",
       "      <td>0.328</td>\n",
       "      <td>0.061</td>\n",
       "      <td>0.037</td>\n",
       "      <td>-0.106</td>\n",
       "      <td>-0.045</td>\n",
       "      <td>0.463</td>\n",
       "    </tr>\n",
       "    <tr>\n",
       "      <th>21835</th>\n",
       "      <td>21835</td>\n",
       "      <td>21836</td>\n",
       "      <td>64.0</td>\n",
       "      <td>1</td>\n",
       "      <td>NaN</td>\n",
       "      <td>NaN</td>\n",
       "      <td>SR</td>\n",
       "      <td>-0.057</td>\n",
       "      <td>-0.041</td>\n",
       "      <td>0.003</td>\n",
       "      <td>...</td>\n",
       "      <td>0.074</td>\n",
       "      <td>0.112</td>\n",
       "      <td>0.116</td>\n",
       "      <td>0.115</td>\n",
       "      <td>0.112</td>\n",
       "      <td>0.096</td>\n",
       "      <td>0.051</td>\n",
       "      <td>0.033</td>\n",
       "      <td>0.027</td>\n",
       "      <td>-0.006</td>\n",
       "    </tr>\n",
       "    <tr>\n",
       "      <th>21836</th>\n",
       "      <td>21836</td>\n",
       "      <td>21837</td>\n",
       "      <td>68.0</td>\n",
       "      <td>0</td>\n",
       "      <td>NaN</td>\n",
       "      <td>NaN</td>\n",
       "      <td>SR</td>\n",
       "      <td>-0.049</td>\n",
       "      <td>-0.049</td>\n",
       "      <td>-0.059</td>\n",
       "      <td>...</td>\n",
       "      <td>-0.029</td>\n",
       "      <td>-0.047</td>\n",
       "      <td>-0.068</td>\n",
       "      <td>-0.060</td>\n",
       "      <td>-0.040</td>\n",
       "      <td>-0.024</td>\n",
       "      <td>0.000</td>\n",
       "      <td>0.091</td>\n",
       "      <td>0.175</td>\n",
       "      <td>0.166</td>\n",
       "    </tr>\n",
       "  </tbody>\n",
       "</table>\n",
       "<p>21837 rows × 1007 columns</p>\n",
       "</div>"
      ],
      "text/plain": [
       "       Unnamed: 0  ecg_id   age  sex  height  weight rhythm_diag      0  \\\n",
       "0               0       1  56.0    1     NaN    63.0          SR -0.119   \n",
       "1               1       2  19.0    0     NaN    70.0       OTHER  0.004   \n",
       "2               2       3  37.0    1     NaN    69.0          SR -0.029   \n",
       "3               3       4  24.0    0     NaN    82.0          SR -0.054   \n",
       "4               4       5  19.0    1     NaN    70.0          SR -0.034   \n",
       "...           ...     ...   ...  ...     ...     ...         ...    ...   \n",
       "21832       21832   21833  67.0    1     NaN     NaN       OTHER -0.052   \n",
       "21833       21833   21834  93.0    0     NaN     NaN          SR -0.050   \n",
       "21834       21834   21835  59.0    1     NaN     NaN          SR  0.038   \n",
       "21835       21835   21836  64.0    1     NaN     NaN          SR -0.057   \n",
       "21836       21836   21837  68.0    0     NaN     NaN          SR -0.049   \n",
       "\n",
       "           1      2  ...    990    991    992    993    994    995    996  \\\n",
       "0     -0.116 -0.120  ...  0.198  0.194  0.115  0.107  0.107  0.106  0.090   \n",
       "1     -0.020 -0.053  ... -0.035 -0.045  0.004  0.044  0.507  0.554  0.316   \n",
       "2     -0.035 -0.054  ... -0.040 -0.051 -0.026 -0.032 -0.052 -0.039 -0.034   \n",
       "3     -0.053 -0.063  ... -0.312 -0.511 -0.280 -0.076 -0.012  0.001 -0.003   \n",
       "4     -0.038 -0.057  ...  0.005  0.001  0.003  0.013  0.018 -0.001  0.007   \n",
       "...      ...    ...  ...    ...    ...    ...    ...    ...    ...    ...   \n",
       "21832 -0.077 -0.042  ... -0.143 -0.125 -0.104 -0.097 -0.052  0.010  0.019   \n",
       "21833 -0.032  0.008  ... -0.023 -0.052 -0.062 -0.059 -0.074 -0.069 -0.107   \n",
       "21834  0.078 -0.014  ... -0.081  0.012  0.504  0.613  0.328  0.061  0.037   \n",
       "21835 -0.041  0.003  ...  0.074  0.112  0.116  0.115  0.112  0.096  0.051   \n",
       "21836 -0.049 -0.059  ... -0.029 -0.047 -0.068 -0.060 -0.040 -0.024  0.000   \n",
       "\n",
       "         997    998    999  \n",
       "0      0.069  0.086  0.022  \n",
       "1      0.121 -0.326 -0.348  \n",
       "2     -0.029 -0.048 -0.049  \n",
       "3      0.026  0.026  0.028  \n",
       "4      0.000 -0.003 -0.012  \n",
       "...      ...    ...    ...  \n",
       "21832 -0.024 -0.061 -0.050  \n",
       "21833  0.058  0.501  0.584  \n",
       "21834 -0.106 -0.045  0.463  \n",
       "21835  0.033  0.027 -0.006  \n",
       "21836  0.091  0.175  0.166  \n",
       "\n",
       "[21837 rows x 1007 columns]"
      ]
     },
     "execution_count": 10,
     "metadata": {},
     "output_type": "execute_result"
    }
   ],
   "source": [
    "df"
   ]
  },
  {
   "cell_type": "code",
   "execution_count": 11,
   "id": "indian-classroom",
   "metadata": {},
   "outputs": [],
   "source": [
    "del df[\"Unnamed: 0\"]\n",
    "df = df.loc[df.rhythm_diag != 'OTHER']"
   ]
  },
  {
   "cell_type": "code",
   "execution_count": 13,
   "id": "employed-childhood",
   "metadata": {},
   "outputs": [
    {
     "data": {
      "text/plain": [
       "0    16782\n",
       "1     1514\n",
       "Name: rhythm_diag, dtype: int64"
      ]
     },
     "execution_count": 13,
     "metadata": {},
     "output_type": "execute_result"
    }
   ],
   "source": [
    "df.rhythm_diag.value_counts()\n",
    "df.replace({'rhythm_diag': {'SR': 0, 'AFIB': 1}}, inplace=True)\n",
    "df.rhythm_diag.value_counts()"
   ]
  },
  {
   "cell_type": "code",
   "execution_count": 14,
   "id": "honey-heather",
   "metadata": {},
   "outputs": [],
   "source": [
    "from sklearn.utils import resample\n",
    "df_minority = df[df['rhythm_diag']==1]\n",
    "df_majority = df[df['rhythm_diag']==0]\n",
    "maj_class = resample(df_majority,\n",
    "                     replace=True,\n",
    "                     n_samples=1514,\n",
    "                     random_state=123)\n",
    "df=pd.concat([df_minority,maj_class])"
   ]
  },
  {
   "cell_type": "code",
   "execution_count": 15,
   "id": "greek-salad",
   "metadata": {},
   "outputs": [
    {
     "data": {
      "text/html": [
       "<div>\n",
       "<style scoped>\n",
       "    .dataframe tbody tr th:only-of-type {\n",
       "        vertical-align: middle;\n",
       "    }\n",
       "\n",
       "    .dataframe tbody tr th {\n",
       "        vertical-align: top;\n",
       "    }\n",
       "\n",
       "    .dataframe thead th {\n",
       "        text-align: right;\n",
       "    }\n",
       "</style>\n",
       "<table border=\"1\" class=\"dataframe\">\n",
       "  <thead>\n",
       "    <tr style=\"text-align: right;\">\n",
       "      <th></th>\n",
       "      <th>ecg_id</th>\n",
       "      <th>age</th>\n",
       "      <th>sex</th>\n",
       "      <th>height</th>\n",
       "      <th>weight</th>\n",
       "      <th>rhythm_diag</th>\n",
       "      <th>0</th>\n",
       "      <th>1</th>\n",
       "      <th>2</th>\n",
       "      <th>3</th>\n",
       "      <th>...</th>\n",
       "      <th>990</th>\n",
       "      <th>991</th>\n",
       "      <th>992</th>\n",
       "      <th>993</th>\n",
       "      <th>994</th>\n",
       "      <th>995</th>\n",
       "      <th>996</th>\n",
       "      <th>997</th>\n",
       "      <th>998</th>\n",
       "      <th>999</th>\n",
       "    </tr>\n",
       "  </thead>\n",
       "  <tbody>\n",
       "    <tr>\n",
       "      <th>16</th>\n",
       "      <td>17</td>\n",
       "      <td>56.0</td>\n",
       "      <td>0</td>\n",
       "      <td>NaN</td>\n",
       "      <td>NaN</td>\n",
       "      <td>1</td>\n",
       "      <td>-0.041</td>\n",
       "      <td>-0.025</td>\n",
       "      <td>0.041</td>\n",
       "      <td>0.036</td>\n",
       "      <td>...</td>\n",
       "      <td>-0.074</td>\n",
       "      <td>-0.054</td>\n",
       "      <td>-0.036</td>\n",
       "      <td>-0.027</td>\n",
       "      <td>0.020</td>\n",
       "      <td>0.028</td>\n",
       "      <td>0.055</td>\n",
       "      <td>0.063</td>\n",
       "      <td>0.058</td>\n",
       "      <td>0.079</td>\n",
       "    </tr>\n",
       "    <tr>\n",
       "      <th>151</th>\n",
       "      <td>152</td>\n",
       "      <td>70.0</td>\n",
       "      <td>1</td>\n",
       "      <td>NaN</td>\n",
       "      <td>NaN</td>\n",
       "      <td>1</td>\n",
       "      <td>-0.008</td>\n",
       "      <td>-0.029</td>\n",
       "      <td>-0.026</td>\n",
       "      <td>-0.006</td>\n",
       "      <td>...</td>\n",
       "      <td>0.067</td>\n",
       "      <td>0.055</td>\n",
       "      <td>0.037</td>\n",
       "      <td>0.038</td>\n",
       "      <td>0.060</td>\n",
       "      <td>0.084</td>\n",
       "      <td>0.113</td>\n",
       "      <td>0.097</td>\n",
       "      <td>0.076</td>\n",
       "      <td>0.058</td>\n",
       "    </tr>\n",
       "    <tr>\n",
       "      <th>281</th>\n",
       "      <td>282</td>\n",
       "      <td>91.0</td>\n",
       "      <td>0</td>\n",
       "      <td>175.0</td>\n",
       "      <td>NaN</td>\n",
       "      <td>1</td>\n",
       "      <td>-0.262</td>\n",
       "      <td>-0.285</td>\n",
       "      <td>-0.293</td>\n",
       "      <td>-0.271</td>\n",
       "      <td>...</td>\n",
       "      <td>-0.160</td>\n",
       "      <td>-0.173</td>\n",
       "      <td>-0.238</td>\n",
       "      <td>-0.268</td>\n",
       "      <td>-0.270</td>\n",
       "      <td>-0.238</td>\n",
       "      <td>-0.204</td>\n",
       "      <td>-0.230</td>\n",
       "      <td>-0.247</td>\n",
       "      <td>-0.214</td>\n",
       "    </tr>\n",
       "    <tr>\n",
       "      <th>306</th>\n",
       "      <td>307</td>\n",
       "      <td>63.0</td>\n",
       "      <td>0</td>\n",
       "      <td>174.0</td>\n",
       "      <td>64.0</td>\n",
       "      <td>1</td>\n",
       "      <td>-0.043</td>\n",
       "      <td>-0.056</td>\n",
       "      <td>-0.071</td>\n",
       "      <td>-0.105</td>\n",
       "      <td>...</td>\n",
       "      <td>-0.010</td>\n",
       "      <td>-0.021</td>\n",
       "      <td>-0.013</td>\n",
       "      <td>-0.018</td>\n",
       "      <td>-0.010</td>\n",
       "      <td>-0.014</td>\n",
       "      <td>-0.010</td>\n",
       "      <td>-0.064</td>\n",
       "      <td>-0.128</td>\n",
       "      <td>-0.144</td>\n",
       "    </tr>\n",
       "    <tr>\n",
       "      <th>317</th>\n",
       "      <td>318</td>\n",
       "      <td>56.0</td>\n",
       "      <td>0</td>\n",
       "      <td>163.0</td>\n",
       "      <td>94.0</td>\n",
       "      <td>1</td>\n",
       "      <td>-0.199</td>\n",
       "      <td>-0.115</td>\n",
       "      <td>0.145</td>\n",
       "      <td>0.372</td>\n",
       "      <td>...</td>\n",
       "      <td>0.040</td>\n",
       "      <td>0.062</td>\n",
       "      <td>0.082</td>\n",
       "      <td>0.116</td>\n",
       "      <td>0.112</td>\n",
       "      <td>0.115</td>\n",
       "      <td>0.112</td>\n",
       "      <td>0.112</td>\n",
       "      <td>0.074</td>\n",
       "      <td>0.077</td>\n",
       "    </tr>\n",
       "    <tr>\n",
       "      <th>...</th>\n",
       "      <td>...</td>\n",
       "      <td>...</td>\n",
       "      <td>...</td>\n",
       "      <td>...</td>\n",
       "      <td>...</td>\n",
       "      <td>...</td>\n",
       "      <td>...</td>\n",
       "      <td>...</td>\n",
       "      <td>...</td>\n",
       "      <td>...</td>\n",
       "      <td>...</td>\n",
       "      <td>...</td>\n",
       "      <td>...</td>\n",
       "      <td>...</td>\n",
       "      <td>...</td>\n",
       "      <td>...</td>\n",
       "      <td>...</td>\n",
       "      <td>...</td>\n",
       "      <td>...</td>\n",
       "      <td>...</td>\n",
       "      <td>...</td>\n",
       "    </tr>\n",
       "    <tr>\n",
       "      <th>16495</th>\n",
       "      <td>16496</td>\n",
       "      <td>67.0</td>\n",
       "      <td>1</td>\n",
       "      <td>NaN</td>\n",
       "      <td>NaN</td>\n",
       "      <td>0</td>\n",
       "      <td>-0.060</td>\n",
       "      <td>-0.057</td>\n",
       "      <td>-0.049</td>\n",
       "      <td>-0.043</td>\n",
       "      <td>...</td>\n",
       "      <td>-0.043</td>\n",
       "      <td>-0.039</td>\n",
       "      <td>-0.031</td>\n",
       "      <td>0.020</td>\n",
       "      <td>0.007</td>\n",
       "      <td>-0.062</td>\n",
       "      <td>-0.078</td>\n",
       "      <td>-0.078</td>\n",
       "      <td>-0.078</td>\n",
       "      <td>-0.049</td>\n",
       "    </tr>\n",
       "    <tr>\n",
       "      <th>15682</th>\n",
       "      <td>15683</td>\n",
       "      <td>73.0</td>\n",
       "      <td>1</td>\n",
       "      <td>157.0</td>\n",
       "      <td>37.0</td>\n",
       "      <td>0</td>\n",
       "      <td>0.004</td>\n",
       "      <td>0.014</td>\n",
       "      <td>0.043</td>\n",
       "      <td>0.045</td>\n",
       "      <td>...</td>\n",
       "      <td>0.043</td>\n",
       "      <td>0.034</td>\n",
       "      <td>0.036</td>\n",
       "      <td>0.035</td>\n",
       "      <td>0.036</td>\n",
       "      <td>0.041</td>\n",
       "      <td>0.043</td>\n",
       "      <td>0.050</td>\n",
       "      <td>0.051</td>\n",
       "      <td>0.057</td>\n",
       "    </tr>\n",
       "    <tr>\n",
       "      <th>9062</th>\n",
       "      <td>9063</td>\n",
       "      <td>41.0</td>\n",
       "      <td>1</td>\n",
       "      <td>NaN</td>\n",
       "      <td>76.0</td>\n",
       "      <td>0</td>\n",
       "      <td>0.200</td>\n",
       "      <td>0.197</td>\n",
       "      <td>0.186</td>\n",
       "      <td>0.181</td>\n",
       "      <td>...</td>\n",
       "      <td>-0.088</td>\n",
       "      <td>-0.133</td>\n",
       "      <td>-0.126</td>\n",
       "      <td>-0.071</td>\n",
       "      <td>-0.048</td>\n",
       "      <td>-0.039</td>\n",
       "      <td>-0.009</td>\n",
       "      <td>-0.034</td>\n",
       "      <td>-0.040</td>\n",
       "      <td>0.031</td>\n",
       "    </tr>\n",
       "    <tr>\n",
       "      <th>7970</th>\n",
       "      <td>7971</td>\n",
       "      <td>85.0</td>\n",
       "      <td>0</td>\n",
       "      <td>NaN</td>\n",
       "      <td>NaN</td>\n",
       "      <td>0</td>\n",
       "      <td>-0.566</td>\n",
       "      <td>-0.578</td>\n",
       "      <td>-0.612</td>\n",
       "      <td>-0.400</td>\n",
       "      <td>...</td>\n",
       "      <td>0.363</td>\n",
       "      <td>0.846</td>\n",
       "      <td>0.475</td>\n",
       "      <td>0.013</td>\n",
       "      <td>-0.074</td>\n",
       "      <td>-0.102</td>\n",
       "      <td>-0.109</td>\n",
       "      <td>-0.125</td>\n",
       "      <td>-0.138</td>\n",
       "      <td>-0.128</td>\n",
       "    </tr>\n",
       "    <tr>\n",
       "      <th>202</th>\n",
       "      <td>203</td>\n",
       "      <td>46.0</td>\n",
       "      <td>0</td>\n",
       "      <td>NaN</td>\n",
       "      <td>69.0</td>\n",
       "      <td>0</td>\n",
       "      <td>-0.085</td>\n",
       "      <td>-0.085</td>\n",
       "      <td>-0.089</td>\n",
       "      <td>-0.092</td>\n",
       "      <td>...</td>\n",
       "      <td>-0.073</td>\n",
       "      <td>-0.086</td>\n",
       "      <td>-0.077</td>\n",
       "      <td>-0.056</td>\n",
       "      <td>-0.064</td>\n",
       "      <td>-0.069</td>\n",
       "      <td>-0.118</td>\n",
       "      <td>-0.031</td>\n",
       "      <td>0.058</td>\n",
       "      <td>0.043</td>\n",
       "    </tr>\n",
       "  </tbody>\n",
       "</table>\n",
       "<p>3028 rows × 1006 columns</p>\n",
       "</div>"
      ],
      "text/plain": [
       "       ecg_id   age  sex  height  weight  rhythm_diag      0      1      2  \\\n",
       "16         17  56.0    0     NaN     NaN            1 -0.041 -0.025  0.041   \n",
       "151       152  70.0    1     NaN     NaN            1 -0.008 -0.029 -0.026   \n",
       "281       282  91.0    0   175.0     NaN            1 -0.262 -0.285 -0.293   \n",
       "306       307  63.0    0   174.0    64.0            1 -0.043 -0.056 -0.071   \n",
       "317       318  56.0    0   163.0    94.0            1 -0.199 -0.115  0.145   \n",
       "...       ...   ...  ...     ...     ...          ...    ...    ...    ...   \n",
       "16495   16496  67.0    1     NaN     NaN            0 -0.060 -0.057 -0.049   \n",
       "15682   15683  73.0    1   157.0    37.0            0  0.004  0.014  0.043   \n",
       "9062     9063  41.0    1     NaN    76.0            0  0.200  0.197  0.186   \n",
       "7970     7971  85.0    0     NaN     NaN            0 -0.566 -0.578 -0.612   \n",
       "202       203  46.0    0     NaN    69.0            0 -0.085 -0.085 -0.089   \n",
       "\n",
       "           3  ...    990    991    992    993    994    995    996    997  \\\n",
       "16     0.036  ... -0.074 -0.054 -0.036 -0.027  0.020  0.028  0.055  0.063   \n",
       "151   -0.006  ...  0.067  0.055  0.037  0.038  0.060  0.084  0.113  0.097   \n",
       "281   -0.271  ... -0.160 -0.173 -0.238 -0.268 -0.270 -0.238 -0.204 -0.230   \n",
       "306   -0.105  ... -0.010 -0.021 -0.013 -0.018 -0.010 -0.014 -0.010 -0.064   \n",
       "317    0.372  ...  0.040  0.062  0.082  0.116  0.112  0.115  0.112  0.112   \n",
       "...      ...  ...    ...    ...    ...    ...    ...    ...    ...    ...   \n",
       "16495 -0.043  ... -0.043 -0.039 -0.031  0.020  0.007 -0.062 -0.078 -0.078   \n",
       "15682  0.045  ...  0.043  0.034  0.036  0.035  0.036  0.041  0.043  0.050   \n",
       "9062   0.181  ... -0.088 -0.133 -0.126 -0.071 -0.048 -0.039 -0.009 -0.034   \n",
       "7970  -0.400  ...  0.363  0.846  0.475  0.013 -0.074 -0.102 -0.109 -0.125   \n",
       "202   -0.092  ... -0.073 -0.086 -0.077 -0.056 -0.064 -0.069 -0.118 -0.031   \n",
       "\n",
       "         998    999  \n",
       "16     0.058  0.079  \n",
       "151    0.076  0.058  \n",
       "281   -0.247 -0.214  \n",
       "306   -0.128 -0.144  \n",
       "317    0.074  0.077  \n",
       "...      ...    ...  \n",
       "16495 -0.078 -0.049  \n",
       "15682  0.051  0.057  \n",
       "9062  -0.040  0.031  \n",
       "7970  -0.138 -0.128  \n",
       "202    0.058  0.043  \n",
       "\n",
       "[3028 rows x 1006 columns]"
      ]
     },
     "execution_count": 15,
     "metadata": {},
     "output_type": "execute_result"
    }
   ],
   "source": [
    "df"
   ]
  },
  {
   "cell_type": "code",
   "execution_count": 16,
   "id": "environmental-directory",
   "metadata": {},
   "outputs": [],
   "source": [
    "y = df.rhythm_diag.values"
   ]
  },
  {
   "cell_type": "code",
   "execution_count": 17,
   "id": "existing-stockholm",
   "metadata": {},
   "outputs": [
    {
     "data": {
      "text/plain": [
       "(3028,)"
      ]
     },
     "execution_count": 17,
     "metadata": {},
     "output_type": "execute_result"
    }
   ],
   "source": [
    "y.shape"
   ]
  },
  {
   "cell_type": "code",
   "execution_count": 18,
   "id": "aggregate-impact",
   "metadata": {},
   "outputs": [
    {
     "data": {
      "text/plain": [
       "(1514, 1000)"
      ]
     },
     "execution_count": 18,
     "metadata": {},
     "output_type": "execute_result"
    }
   ],
   "source": [
    "df_sr = df[df.rhythm_diag == 0]\n",
    "df_sr = df_sr.drop(['ecg_id', 'age', 'sex', 'height',\n",
    "                    'weight', 'rhythm_diag'], axis=1)\n",
    "df_sr.reset_index(drop= True ,inplace=True)\n",
    "df_sr.shape"
   ]
  },
  {
   "cell_type": "code",
   "execution_count": 19,
   "id": "existing-brick",
   "metadata": {},
   "outputs": [
    {
     "data": {
      "text/plain": [
       "(1514, 1000)"
      ]
     },
     "execution_count": 19,
     "metadata": {},
     "output_type": "execute_result"
    }
   ],
   "source": [
    "df_afib = df[df.rhythm_diag == 1]\n",
    "df_afib = df_afib.drop(['ecg_id', 'age', 'sex', 'height', 'weight', 'rhythm_diag'], axis=1)\n",
    "df_afib.reset_index(drop= True ,inplace=True)\n",
    "df_afib.shape"
   ]
  },
  {
   "cell_type": "code",
   "execution_count": 20,
   "id": "perfect-layer",
   "metadata": {},
   "outputs": [],
   "source": [
    "X_sr = df_sr.values\n",
    "X_afib = df_afib.values"
   ]
  },
  {
   "cell_type": "code",
   "execution_count": 21,
   "id": "conventional-sunglasses",
   "metadata": {},
   "outputs": [],
   "source": [
    "templates_full_sr = []\n",
    "templates_aux_sr = []\n",
    "for i in range(len(X_sr)-1): \n",
    "    templates_aux_sr = get_complete_Heartbit(X_sr[i], 100,False)\n",
    "    k = len(templates_full_sr);\n",
    "    for j in range(len(templates_aux_sr)-1):\n",
    "        templates_full_sr.append(templates_aux_sr[j])\n",
    "templates_full_array_sr = np.array(templates_full_sr)"
   ]
  },
  {
   "cell_type": "code",
   "execution_count": 22,
   "id": "diverse-stanford",
   "metadata": {},
   "outputs": [
    {
     "data": {
      "text/plain": [
       "(15368, 60)"
      ]
     },
     "execution_count": 22,
     "metadata": {},
     "output_type": "execute_result"
    }
   ],
   "source": [
    "templates_full_array_sr.shape"
   ]
  },
  {
   "cell_type": "code",
   "execution_count": 23,
   "id": "alert-affect",
   "metadata": {},
   "outputs": [
    {
     "data": {
      "text/plain": [
       "(15368,)"
      ]
     },
     "execution_count": 23,
     "metadata": {},
     "output_type": "execute_result"
    }
   ],
   "source": [
    "templates_full_array_sr_labels = np.zeros(len(templates_full_array_sr))\n",
    "templates_full_array_sr_labels.shape"
   ]
  },
  {
   "cell_type": "code",
   "execution_count": 24,
   "id": "embedded-catering",
   "metadata": {},
   "outputs": [],
   "source": [
    "templates_full_afib = []\n",
    "templates_aux_afib = []\n",
    "for i in range(len(X_afib)-1): \n",
    "    templates_aux_afib = get_complete_Heartbit(X_afib[i], 100,False)\n",
    "    k = len(templates_full_afib);\n",
    "    for j in range(len(templates_aux_afib)-1):\n",
    "        templates_full_afib.append(templates_aux_afib[j])\n",
    "templates_full_array_afib = np.array(templates_full_afib)"
   ]
  },
  {
   "cell_type": "code",
   "execution_count": 25,
   "id": "natural-transport",
   "metadata": {},
   "outputs": [
    {
     "data": {
      "text/plain": [
       "(19039, 60)"
      ]
     },
     "execution_count": 25,
     "metadata": {},
     "output_type": "execute_result"
    }
   ],
   "source": [
    "templates_full_array_afib.shape"
   ]
  },
  {
   "cell_type": "code",
   "execution_count": 26,
   "id": "herbal-amber",
   "metadata": {},
   "outputs": [
    {
     "data": {
      "text/plain": [
       "(19039,)"
      ]
     },
     "execution_count": 26,
     "metadata": {},
     "output_type": "execute_result"
    }
   ],
   "source": [
    "templates_full_array_afib_labels = np.ones(len(templates_full_array_afib))\n",
    "templates_full_array_afib_labels.shape"
   ]
  },
  {
   "cell_type": "code",
   "execution_count": 27,
   "id": "sized-quilt",
   "metadata": {},
   "outputs": [
    {
     "data": {
      "text/plain": [
       "(34407,)"
      ]
     },
     "execution_count": 27,
     "metadata": {},
     "output_type": "execute_result"
    }
   ],
   "source": [
    "templates_full_array_labels = np.concatenate((templates_full_array_sr_labels, templates_full_array_afib_labels), axis=0)\n",
    "templates_full_array_labels.shape"
   ]
  },
  {
   "cell_type": "code",
   "execution_count": 28,
   "id": "played-collection",
   "metadata": {},
   "outputs": [
    {
     "data": {
      "text/plain": [
       "(34407, 60)"
      ]
     },
     "execution_count": 28,
     "metadata": {},
     "output_type": "execute_result"
    }
   ],
   "source": [
    "templates_full_array = np.concatenate((templates_full_array_sr, templates_full_array_afib), axis=0)\n",
    "templates_full_array.shape"
   ]
  },
  {
   "cell_type": "code",
   "execution_count": 29,
   "id": "external-project",
   "metadata": {},
   "outputs": [
    {
     "name": "stdout",
     "output_type": "stream",
     "text": [
      "2.51761992148376\n",
      "-2.2229013259004193\n",
      "4.740521247384179\n"
     ]
    }
   ],
   "source": [
    "valorMaximo = templates_full_array.max()\n",
    "valorMinimo = templates_full_array.min()\n",
    "valorTotal = valorMaximo - (valorMinimo)\n",
    "print(valorMaximo)\n",
    "print(valorMinimo)\n",
    "print(valorTotal)"
   ]
  },
  {
   "cell_type": "markdown",
   "id": "handmade-gregory",
   "metadata": {},
   "source": [
    "#### Normalização"
   ]
  },
  {
   "cell_type": "code",
   "execution_count": 30,
   "id": "surprising-wichita",
   "metadata": {},
   "outputs": [
    {
     "name": "stdout",
     "output_type": "stream",
     "text": [
      "0.0\n"
     ]
    }
   ],
   "source": [
    "templates_full_array = templates_full_array - (valorMinimo)\n",
    "valorMinimo = templates_full_array.min()\n",
    "print(valorMinimo)"
   ]
  },
  {
   "cell_type": "code",
   "execution_count": 31,
   "id": "narrow-blackberry",
   "metadata": {},
   "outputs": [
    {
     "name": "stdout",
     "output_type": "stream",
     "text": [
      "1.0\n",
      "0.0\n"
     ]
    }
   ],
   "source": [
    "templates_full_array = templates_full_array/valorTotal\n",
    "valorMaximo = templates_full_array.max()\n",
    "valorMinimo = templates_full_array.min()\n",
    "print(valorMaximo)\n",
    "print(valorMinimo)"
   ]
  },
  {
   "cell_type": "markdown",
   "id": "velvet-lesbian",
   "metadata": {},
   "source": [
    "### Training"
   ]
  },
  {
   "cell_type": "code",
   "execution_count": 32,
   "id": "average-junior",
   "metadata": {},
   "outputs": [],
   "source": [
    "from sklearn.model_selection import train_test_split\n",
    "xtrain, xtest, ytrain, ytest = train_test_split(templates_full_array, templates_full_array_labels, test_size = 0.1)"
   ]
  },
  {
   "cell_type": "code",
   "execution_count": 33,
   "id": "institutional-produce",
   "metadata": {},
   "outputs": [],
   "source": [
    "from tensorflow.keras import Sequential,utils\n",
    "from tensorflow.keras.layers import Flatten, Dense, Conv1D, MaxPool1D, Dropout\n",
    "from sklearn.metrics import confusion_matrix, accuracy_score\n",
    "import keras\n",
    "import tensorflow as tf"
   ]
  },
  {
   "cell_type": "code",
   "execution_count": 34,
   "id": "impossible-handling",
   "metadata": {},
   "outputs": [
    {
     "data": {
      "text/plain": [
       "(30966, 60)"
      ]
     },
     "execution_count": 34,
     "metadata": {},
     "output_type": "execute_result"
    }
   ],
   "source": [
    "xtrain.shape"
   ]
  },
  {
   "cell_type": "code",
   "execution_count": 35,
   "id": "proprietary-somalia",
   "metadata": {},
   "outputs": [
    {
     "name": "stdout",
     "output_type": "stream",
     "text": [
      "Model: \"sequential\"\n",
      "_________________________________________________________________\n",
      "Layer (type)                 Output Shape              Param #   \n",
      "=================================================================\n",
      "dense (Dense)                (None, 30966)             1888926   \n",
      "_________________________________________________________________\n",
      "dense_1 (Dense)              (None, 1)                 30967     \n",
      "=================================================================\n",
      "Total params: 1,919,893\n",
      "Trainable params: 1,919,893\n",
      "Non-trainable params: 0\n",
      "_________________________________________________________________\n"
     ]
    }
   ],
   "source": [
    "model = Sequential()\n",
    "\n",
    "model.add(Dense(units=30966, activation='relu', input_shape=(60, )))\n",
    "#model.add(Dense(units=50,activation='relu'))\n",
    "model.add(Dense(units=1, activation='sigmoid'))\n",
    "\n",
    "# For a binary classification problem\n",
    "model.compile(loss='binary_crossentropy',\n",
    "              optimizer='adam',\n",
    "              metrics=['accuracy'])\n",
    "model.summary()"
   ]
  },
  {
   "cell_type": "code",
   "execution_count": 36,
   "id": "formed-wright",
   "metadata": {},
   "outputs": [
    {
     "name": "stdout",
     "output_type": "stream",
     "text": [
      "Epoch 1/20\n",
      "968/968 [==============================] - 17s 17ms/step - loss: 0.6844 - accuracy: 0.5611\n",
      "Epoch 2/20\n",
      "968/968 [==============================] - 17s 18ms/step - loss: 0.6296 - accuracy: 0.6621\n",
      "Epoch 3/20\n",
      "968/968 [==============================] - 15s 15ms/step - loss: 0.5780 - accuracy: 0.7230\n",
      "Epoch 4/20\n",
      "968/968 [==============================] - 16s 16ms/step - loss: 0.5576 - accuracy: 0.7350\n",
      "Epoch 5/20\n",
      "968/968 [==============================] - 15s 16ms/step - loss: 0.5465 - accuracy: 0.74090s - loss: 0.5458 - accuracy - ETA: 0s - loss: 0.545\n",
      "Epoch 6/20\n",
      "968/968 [==============================] - 15s 16ms/step - loss: 0.5352 - accuracy: 0.75550s - loss: 0.5354 - accu\n",
      "Epoch 7/20\n",
      "968/968 [==============================] - 16s 16ms/step - loss: 0.5261 - accuracy: 0.7606\n",
      "Epoch 8/20\n",
      "968/968 [==============================] - 16s 17ms/step - loss: 0.5241 - accuracy: 0.7601\n",
      "Epoch 9/20\n",
      "968/968 [==============================] - 16s 17ms/step - loss: 0.5149 - accuracy: 0.7695\n",
      "Epoch 10/20\n",
      "968/968 [==============================] - 16s 16ms/step - loss: 0.5119 - accuracy: 0.7717\n",
      "Epoch 11/20\n",
      "968/968 [==============================] - 15s 15ms/step - loss: 0.5033 - accuracy: 0.7795\n",
      "Epoch 12/20\n",
      "968/968 [==============================] - 15s 16ms/step - loss: 0.5045 - accuracy: 0.7746\n",
      "Epoch 13/20\n",
      "968/968 [==============================] - 15s 16ms/step - loss: 0.4992 - accuracy: 0.7821\n",
      "Epoch 14/20\n",
      "968/968 [==============================] - 16s 16ms/step - loss: 0.4948 - accuracy: 0.7873\n",
      "Epoch 15/20\n",
      "968/968 [==============================] - 16s 16ms/step - loss: 0.4894 - accuracy: 0.7930\n",
      "Epoch 16/20\n",
      "968/968 [==============================] - 15s 16ms/step - loss: 0.4853 - accuracy: 0.7946\n",
      "Epoch 17/20\n",
      "968/968 [==============================] - 16s 17ms/step - loss: 0.4868 - accuracy: 0.7935\n",
      "Epoch 18/20\n",
      "968/968 [==============================] - 15s 15ms/step - loss: 0.4816 - accuracy: 0.7992\n",
      "Epoch 19/20\n",
      "968/968 [==============================] - 17s 18ms/step - loss: 0.4781 - accuracy: 0.8015\n",
      "Epoch 20/20\n",
      "968/968 [==============================] - 15s 16ms/step - loss: 0.4764 - accuracy: 0.8027\n"
     ]
    }
   ],
   "source": [
    "history = model.fit(xtrain,\n",
    "                    ytrain,\n",
    "                    epochs=20)"
   ]
  },
  {
   "cell_type": "code",
   "execution_count": 37,
   "id": "practical-thought",
   "metadata": {},
   "outputs": [
    {
     "data": {
      "image/png": "[encoded data removed]",
      "text/plain": [
       "<Figure size 1440x720 with 1 Axes>"
      ]
     },
     "metadata": {
      "needs_background": "light"
     },
     "output_type": "display_data"
    }
   ],
   "source": [
    "plt.plot(history.history['loss'])\n",
    "plt.title('model loss')\n",
    "plt.ylabel('loss')\n",
    "plt.xlabel('epoch')\n",
    "plt.legend(['train'], loc='upper right')\n",
    "plt.show()"
   ]
  },
  {
   "cell_type": "code",
   "execution_count": 38,
   "id": "greek-wyoming",
   "metadata": {},
   "outputs": [
    {
     "data": {
      "image/png": "[encoded data removed]",
      "text/plain": [
       "<Figure size 1440x720 with 1 Axes>"
      ]
     },
     "metadata": {
      "needs_background": "light"
     },
     "output_type": "display_data"
    }
   ],
   "source": [
    "plt.plot(history.history['accuracy'])\n",
    "plt.title('model accuracy')\n",
    "plt.ylabel('accuracy')\n",
    "plt.xlabel('epoch')\n",
    "plt.legend(['train'], loc='upper right')\n",
    "plt.show()"
   ]
  },
  {
   "cell_type": "code",
   "execution_count": 39,
   "id": "promising-rwanda",
   "metadata": {},
   "outputs": [
    {
     "name": "stdout",
     "output_type": "stream",
     "text": [
      "108/108 [==============================] - 1s 4ms/step - loss: 0.4837 - accuracy: 0.7954\n"
     ]
    },
    {
     "data": {
      "text/plain": [
       "[0.48367148637771606, 0.795408308506012]"
      ]
     },
     "execution_count": 39,
     "metadata": {},
     "output_type": "execute_result"
    }
   ],
   "source": [
    "#evaluating the model\n",
    "model.evaluate(xtest, ytest)"
   ]
  }
 ],
 "metadata": {
  "kernelspec": {
   "display_name": "Python 3",
   "language": "python",
   "name": "python3"
  },
  "language_info": {
   "codemirror_mode": {
    "name": "ipython",
    "version": 3
   },
   "file_extension": ".py",
   "mimetype": "text/x-python",
   "name": "python",
   "nbconvert_exporter": "python",
   "pygments_lexer": "ipython3",
   "version": "3.8.3"
  }
 },
 "nbformat": 4,
 "nbformat_minor": 5
}
