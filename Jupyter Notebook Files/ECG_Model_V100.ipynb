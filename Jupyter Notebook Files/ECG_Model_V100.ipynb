{
 "cells": [
  {
   "cell_type": "markdown",
   "metadata": {},
   "source": [
    "# ECG Train Model V2\n",
    "- Base alemã - Lead I (SR/AFIB)\n",
    "- 100 points & New HB individual normalization"
   ]
  },
  {
   "cell_type": "markdown",
   "metadata": {},
   "source": [
    "## Import Libraries and setup"
   ]
  },
  {
   "cell_type": "code",
   "execution_count": 1,
   "metadata": {
    "ExecuteTime": {
     "end_time": "2021-06-30T14:40:42.015502Z",
     "start_time": "2021-06-30T14:40:42.004192Z"
    }
   },
   "outputs": [],
   "source": [
    "import math\n",
    "import numpy as np\n",
    "from numpy import load\n",
    "import pandas as pd\n",
    "import matplotlib.pyplot as plt\n",
    "import seaborn as sns\n",
    "from scipy.signal import butter, iirnotch, sosfilt, sosfreqz, lfilter, filtfilt\n",
    "import biosppy\n",
    "\n",
    "import tensorflow as tf\n",
    "from tensorflow.keras import Sequential,utils\n",
    "from tensorflow.keras.layers import Input, Flatten, Dense, Conv1D, MaxPooling1D, Dropout\n",
    "from tensorflow.keras.optimizers import Adam\n",
    "from tensorflow.keras.callbacks import EarlyStopping, LearningRateScheduler\n",
    "from tensorflow.keras.models import load_model\n",
    "\n",
    "from sklearn.utils import resample\n",
    "from sklearn.model_selection import train_test_split\n",
    "from sklearn.metrics import classification_report, confusion_matrix\n",
    "\n",
    "plt.rcParams[\"figure.figsize\"] = (10,5)"
   ]
  },
  {
   "cell_type": "markdown",
   "metadata": {},
   "source": [
    "## Main Functions"
   ]
  },
  {
   "cell_type": "code",
   "execution_count": 2,
   "metadata": {
    "ExecuteTime": {
     "end_time": "2021-06-29T18:25:41.244300Z",
     "start_time": "2021-06-29T18:25:41.237984Z"
    }
   },
   "outputs": [],
   "source": [
    "def butter_highpass(cutoff, sample_rate, order, data):\n",
    "    nyq = 0.5 * sample_rate\n",
    "    normal_cutoff = cutoff / nyq\n",
    "    b, a = butter(order, normal_cutoff, btype='high', analog=False)\n",
    "    final_filtered_highpass = filtfilt(b, a, data)\n",
    "    return final_filtered_highpass\n",
    "\n",
    "\n",
    "def butter_lowpass(cutoff, sample_rate, order, data, slice=-1):\n",
    "    nyq = 0.5 * sample_rate\n",
    "    normal_cutoff = cutoff / nyq\n",
    "    b, a = butter(order, normal_cutoff, btype='low', analog=False)\n",
    "    filtered_lowpass = lfilter(b, a, data)\n",
    "    return filtered_lowpass\n",
    "\n",
    "\n",
    "def moving_average_filter(x, w):\n",
    "    m_a_filtered = np.convolve(x, np.ones(w), 'same') / w\n",
    "    return m_a_filtered\n",
    "\n",
    "\n",
    "def filter_data(data, sample_rate=100):\n",
    "    filtered_data_low = butter_lowpass(41.09, sample_rate, 5, data)\n",
    "    filtered_data_high = butter_highpass(0.48, sample_rate, 2, filtered_data_low)\n",
    "    #final_filtered_data = moving_average_filter(filtered_data_high, 3)\n",
    "    return filtered_data_high"
   ]
  },
  {
   "cell_type": "code",
   "execution_count": 3,
   "metadata": {
    "ExecuteTime": {
     "end_time": "2021-06-29T18:25:41.262520Z",
     "start_time": "2021-06-29T18:25:41.256359Z"
    }
   },
   "outputs": [],
   "source": [
    "def correct_rpeaks(signal, rpeaks=None, sampling_rate=100, tol=0.05):\n",
    "    \"\"\"Correct R-peak locations to the maximum within a tolerance.\n",
    "    Parameters\n",
    "    ----------\n",
    "    signal : array\n",
    "        ECG signal.\n",
    "    rpeaks : array\n",
    "        R-peak location indices.\n",
    "    sampling_rate : int, float, optional\n",
    "        Sampling frequency (Hz).\n",
    "    tol : int, float, optional\n",
    "        Correction tolerance (seconds).\n",
    "    Returns\n",
    "    -------\n",
    "    rpeaks : array\n",
    "        Cerrected R-peak location indices.\n",
    "    Notes\n",
    "    -----\n",
    "    * The tolerance is defined as the time interval :math:`[R-tol, R+tol[`.\n",
    "    \"\"\"\n",
    "\n",
    "    # check inputs\n",
    "    if signal is None:\n",
    "        raise TypeError(\"Please specify an input signal.\")\n",
    "\n",
    "    if rpeaks is None:\n",
    "        raise TypeError(\"Please specify the input R-peaks.\")\n",
    "\n",
    "    tol = int(tol * sampling_rate)\n",
    "    length = len(signal)\n",
    "\n",
    "    newR = []\n",
    "    for r in rpeaks:\n",
    "        a = r - tol\n",
    "        if a < 0:\n",
    "            continue\n",
    "        b = r + tol\n",
    "        if b > length:\n",
    "            break\n",
    "        newR.append(a + np.argmax(signal[a:b]))\n",
    "\n",
    "    newR = sorted(list(set(newR)))\n",
    "    newR = np.array(newR, dtype='int')\n",
    "\n",
    "    return newR"
   ]
  },
  {
   "cell_type": "code",
   "execution_count": 4,
   "metadata": {
    "ExecuteTime": {
     "end_time": "2021-06-29T18:25:48.968210Z",
     "start_time": "2021-06-29T18:25:48.961365Z"
    }
   },
   "outputs": [],
   "source": [
    "def _extract_heartbeats(signal=None, rpeaks=None, before=400, after=600):\n",
    "    \"\"\"Extract heartbeat templates from an ECG signal, given a list of\n",
    "    R-peak locations.\n",
    "    Parameters\n",
    "    ----------\n",
    "    signal : array\n",
    "        Input ECG signal.\n",
    "    rpeaks : array\n",
    "        R-peak location indices.\n",
    "    before : int, optional\n",
    "        Number of samples to include before the R peak.\n",
    "    after : int, optional\n",
    "        Number of samples to include after the R peak.\n",
    "    Returns\n",
    "    -------\n",
    "    templates : array\n",
    "        Extracted heartbeat templates.\n",
    "    rpeaks : array\n",
    "        Corresponding R-peak location indices of the extracted heartbeat\n",
    "        templates.\n",
    "    \"\"\"\n",
    "\n",
    "    R = np.sort(rpeaks)\n",
    "    length = len(signal)\n",
    "    templates = []\n",
    "    newR = []\n",
    "\n",
    "    for r in R:\n",
    "        a = r - before\n",
    "        if a < 0:\n",
    "            continue\n",
    "        b = r + after\n",
    "        if b > length:\n",
    "            break\n",
    "        templates.append(signal[a:b])\n",
    "        newR.append(r)\n",
    "\n",
    "    templates = np.array(templates)\n",
    "    newR = np.array(newR, dtype='int')\n",
    "\n",
    "    return templates, newR"
   ]
  },
  {
   "cell_type": "code",
   "execution_count": 5,
   "metadata": {
    "ExecuteTime": {
     "end_time": "2021-06-29T18:25:59.517292Z",
     "start_time": "2021-06-29T18:25:59.509366Z"
    }
   },
   "outputs": [],
   "source": [
    "def extract_heartbeats(signal=None, rpeaks=None, sampling_rate=1000.,\n",
    "                       before=0.4, after=0.6):\n",
    "    \"\"\"Extract heartbeat templates from an ECG signal, given a list of\n",
    "    R-peak locations.\n",
    "    Parameters\n",
    "    ----------\n",
    "    signal : array\n",
    "        Input ECG signal.\n",
    "    rpeaks : array\n",
    "        R-peak location indices.\n",
    "    sampling_rate : int, float, optional\n",
    "        Sampling frequency (Hz).\n",
    "    before : float, optional\n",
    "        Window size to include before the R peak (seconds).\n",
    "    after : int, optional\n",
    "        Window size to include after the R peak (seconds).\n",
    "    Returns\n",
    "    -------\n",
    "    templates : array\n",
    "        Extracted heartbeat templates.\n",
    "    rpeaks : array\n",
    "        Corresponding R-peak location indices of the extracted heartbeat\n",
    "        templates.\n",
    "    \"\"\"\n",
    "\n",
    "    # check inputs\n",
    "    if signal is None:\n",
    "        raise TypeError(\"Please specify an input signal.\")\n",
    "\n",
    "    if rpeaks is None:\n",
    "        raise TypeError(\"Please specify the input R-peak locations.\")\n",
    "\n",
    "    if before < 0:\n",
    "        raise ValueError(\"Please specify a non-negative 'before' value.\")\n",
    "    if after < 0:\n",
    "        raise ValueError(\"Please specify a non-negative 'after' value.\")\n",
    "\n",
    "    # convert delimiters to samples\n",
    "    before = int(before * sampling_rate)\n",
    "    after = int(after * sampling_rate)\n",
    "\n",
    "    # get heartbeats\n",
    "    templates, newR = _extract_heartbeats(signal=signal,\n",
    "                                          rpeaks=rpeaks,\n",
    "                                          before=before,\n",
    "                                          after=after)\n",
    "\n",
    "    return templates, newR"
   ]
  },
  {
   "cell_type": "code",
   "execution_count": 6,
   "metadata": {
    "ExecuteTime": {
     "end_time": "2021-06-29T18:26:30.513297Z",
     "start_time": "2021-06-29T18:26:30.505146Z"
    }
   },
   "outputs": [],
   "source": [
    "def get_complete_Heartbit(sample, sampling_rate=100,plot=True):\n",
    "    filtered_sample = filter_data(sample,sampling_rate)\n",
    "    data = filtered_sample.T\n",
    "    signals = []\n",
    "    indices = []\n",
    "    count = 1\n",
    "    peaks = biosppy.signals.ecg.christov_segmenter(\n",
    "        signal=data, sampling_rate=sampling_rate)[0]\n",
    "    rpeaks = correct_rpeaks(signal=data,rpeaks=peaks, sampling_rate=100,tol=0.05)\n",
    "    templates, rpeaks = extract_heartbeats(signal=data,rpeaks=rpeaks,sampling_rate=100,before=0.4,after=0.6)\n",
    "    if plot:\n",
    "        ts_tmpl = np.linspace(-0.4, 0.6, templates.shape[1], endpoint=False)\n",
    "        fig = plt.figure()\n",
    "        gs = gridspec.GridSpec(6, 2)\n",
    "        ax4 = fig.add_subplot(gs[1:5, 1])\n",
    "        plt.plot(ts_tmpl, templates.T, 'm', linewidth=1.5, alpha=0.7)\n",
    "        ax4.set_xlabel('Time (s)')\n",
    "        ax4.set_ylabel('Amplitude')\n",
    "        ax4.set_title('Templates')\n",
    "        ax4.grid()\n",
    "    #return templates, rpeaks\n",
    "    return templates"
   ]
  },
  {
   "cell_type": "code",
   "execution_count": 7,
   "metadata": {
    "ExecuteTime": {
     "end_time": "2021-06-29T18:26:37.055430Z",
     "start_time": "2021-06-29T18:26:37.050897Z"
    }
   },
   "outputs": [],
   "source": [
    "def get_heart_beat(data):\n",
    "    templates = []\n",
    "    templates_aux = []\n",
    "    for i in range(len(data)-1): \n",
    "        templates_aux = get_complete_Heartbit(data[i], 100,False)\n",
    "        k = len(templates);\n",
    "        for j in range(len(templates_aux)-1):\n",
    "            templates.append(templates_aux[j])\n",
    "    return np.array(templates)"
   ]
  },
  {
   "cell_type": "code",
   "execution_count": 8,
   "metadata": {
    "ExecuteTime": {
     "end_time": "2021-06-30T14:55:35.369955Z",
     "start_time": "2021-06-30T14:55:35.362264Z"
    }
   },
   "outputs": [],
   "source": [
    "# summarize history for loss\n",
    "def summarize_loss(history):\n",
    "    plt.figure(figsize=(8,6))\n",
    "    plt.plot(history.history['loss'])\n",
    "    plt.plot(history.history['val_loss'])\n",
    "    plt.title('model loss')\n",
    "    plt.ylabel('loss')\n",
    "    plt.xlabel('epoch')\n",
    "    plt.legend(['train', 'validation'], loc='upper right')\n",
    "    plt.show()"
   ]
  },
  {
   "cell_type": "code",
   "execution_count": 9,
   "metadata": {
    "ExecuteTime": {
     "end_time": "2021-06-30T15:06:54.372536Z",
     "start_time": "2021-06-30T15:06:54.366985Z"
    }
   },
   "outputs": [],
   "source": [
    "def plot_conf_matrix(y_test, y_pred):\n",
    "    plt.figure(figsize=(8,6))\n",
    "    sns.heatmap(confusion_matrix(y_test,y_pred), cmap='Blues', annot=True, fmt='g');\n",
    "    plt.title('Confusion Matrix')\n",
    "    plt.xlabel(\"Predictions\")\n",
    "    plt.ylabel(\"Real values\")\n",
    "    plt.show()"
   ]
  },
  {
   "cell_type": "markdown",
   "metadata": {},
   "source": [
    "## Import dataset"
   ]
  },
  {
   "cell_type": "code",
   "execution_count": 10,
   "metadata": {
    "ExecuteTime": {
     "end_time": "2021-06-30T14:01:12.705836Z",
     "start_time": "2021-06-30T14:01:08.636131Z"
    }
   },
   "outputs": [
    {
     "data": {
      "text/plain": [
       "(21837, 1006)"
      ]
     },
     "execution_count": 10,
     "metadata": {},
     "output_type": "execute_result"
    }
   ],
   "source": [
    "df = pd.read_csv(\"ECG_Rhythm_Lead_I.csv\")\n",
    "del df[\"Unnamed: 0\"]\n",
    "df.shape"
   ]
  },
  {
   "cell_type": "code",
   "execution_count": 11,
   "metadata": {
    "ExecuteTime": {
     "end_time": "2021-06-30T14:01:15.522742Z",
     "start_time": "2021-06-30T14:01:15.460909Z"
    }
   },
   "outputs": [
    {
     "data": {
      "text/html": [
       "<div>\n",
       "<style scoped>\n",
       "    .dataframe tbody tr th:only-of-type {\n",
       "        vertical-align: middle;\n",
       "    }\n",
       "\n",
       "    .dataframe tbody tr th {\n",
       "        vertical-align: top;\n",
       "    }\n",
       "\n",
       "    .dataframe thead th {\n",
       "        text-align: right;\n",
       "    }\n",
       "</style>\n",
       "<table border=\"1\" class=\"dataframe\">\n",
       "  <thead>\n",
       "    <tr style=\"text-align: right;\">\n",
       "      <th></th>\n",
       "      <th>ecg_id</th>\n",
       "      <th>age</th>\n",
       "      <th>sex</th>\n",
       "      <th>height</th>\n",
       "      <th>weight</th>\n",
       "      <th>rhythm_diag</th>\n",
       "      <th>0</th>\n",
       "      <th>1</th>\n",
       "      <th>2</th>\n",
       "      <th>3</th>\n",
       "      <th>...</th>\n",
       "      <th>990</th>\n",
       "      <th>991</th>\n",
       "      <th>992</th>\n",
       "      <th>993</th>\n",
       "      <th>994</th>\n",
       "      <th>995</th>\n",
       "      <th>996</th>\n",
       "      <th>997</th>\n",
       "      <th>998</th>\n",
       "      <th>999</th>\n",
       "    </tr>\n",
       "  </thead>\n",
       "  <tbody>\n",
       "    <tr>\n",
       "      <th>0</th>\n",
       "      <td>1</td>\n",
       "      <td>56.0</td>\n",
       "      <td>1</td>\n",
       "      <td>NaN</td>\n",
       "      <td>63.0</td>\n",
       "      <td>SR</td>\n",
       "      <td>-0.119</td>\n",
       "      <td>-0.116</td>\n",
       "      <td>-0.120</td>\n",
       "      <td>-0.117</td>\n",
       "      <td>...</td>\n",
       "      <td>0.198</td>\n",
       "      <td>0.194</td>\n",
       "      <td>0.115</td>\n",
       "      <td>0.107</td>\n",
       "      <td>0.107</td>\n",
       "      <td>0.106</td>\n",
       "      <td>0.090</td>\n",
       "      <td>0.069</td>\n",
       "      <td>0.086</td>\n",
       "      <td>0.022</td>\n",
       "    </tr>\n",
       "    <tr>\n",
       "      <th>1</th>\n",
       "      <td>2</td>\n",
       "      <td>19.0</td>\n",
       "      <td>0</td>\n",
       "      <td>NaN</td>\n",
       "      <td>70.0</td>\n",
       "      <td>OTHER</td>\n",
       "      <td>0.004</td>\n",
       "      <td>-0.020</td>\n",
       "      <td>-0.053</td>\n",
       "      <td>-0.056</td>\n",
       "      <td>...</td>\n",
       "      <td>-0.035</td>\n",
       "      <td>-0.045</td>\n",
       "      <td>0.004</td>\n",
       "      <td>0.044</td>\n",
       "      <td>0.507</td>\n",
       "      <td>0.554</td>\n",
       "      <td>0.316</td>\n",
       "      <td>0.121</td>\n",
       "      <td>-0.326</td>\n",
       "      <td>-0.348</td>\n",
       "    </tr>\n",
       "  </tbody>\n",
       "</table>\n",
       "<p>2 rows × 1006 columns</p>\n",
       "</div>"
      ],
      "text/plain": [
       "   ecg_id   age  sex  height  weight rhythm_diag      0      1      2      3  \\\n",
       "0       1  56.0    1     NaN    63.0          SR -0.119 -0.116 -0.120 -0.117   \n",
       "1       2  19.0    0     NaN    70.0       OTHER  0.004 -0.020 -0.053 -0.056   \n",
       "\n",
       "   ...    990    991    992    993    994    995    996    997    998    999  \n",
       "0  ...  0.198  0.194  0.115  0.107  0.107  0.106  0.090  0.069  0.086  0.022  \n",
       "1  ... -0.035 -0.045  0.004  0.044  0.507  0.554  0.316  0.121 -0.326 -0.348  \n",
       "\n",
       "[2 rows x 1006 columns]"
      ]
     },
     "execution_count": 11,
     "metadata": {},
     "output_type": "execute_result"
    }
   ],
   "source": [
    "df.head(2)"
   ]
  },
  {
   "cell_type": "code",
   "execution_count": 12,
   "metadata": {
    "ExecuteTime": {
     "end_time": "2021-06-30T14:01:17.652806Z",
     "start_time": "2021-06-30T14:01:17.640437Z"
    }
   },
   "outputs": [
    {
     "data": {
      "text/plain": [
       "SR       16782\n",
       "OTHER     3541\n",
       "AFIB      1514\n",
       "Name: rhythm_diag, dtype: int64"
      ]
     },
     "execution_count": 12,
     "metadata": {},
     "output_type": "execute_result"
    }
   ],
   "source": [
    "df.rhythm_diag.value_counts()"
   ]
  },
  {
   "cell_type": "markdown",
   "metadata": {},
   "source": [
    "## Prepare data and split SR/AFIB"
   ]
  },
  {
   "cell_type": "code",
   "execution_count": 13,
   "metadata": {
    "ExecuteTime": {
     "end_time": "2021-06-30T14:01:22.486841Z",
     "start_time": "2021-06-30T14:01:22.365426Z"
    }
   },
   "outputs": [],
   "source": [
    "df = df.loc[df.rhythm_diag != 'OTHER']"
   ]
  },
  {
   "cell_type": "code",
   "execution_count": 14,
   "metadata": {
    "ExecuteTime": {
     "end_time": "2021-06-30T14:01:23.580164Z",
     "start_time": "2021-06-30T14:01:23.568661Z"
    }
   },
   "outputs": [
    {
     "data": {
      "text/plain": [
       "SR      16782\n",
       "AFIB     1514\n",
       "Name: rhythm_diag, dtype: int64"
      ]
     },
     "execution_count": 14,
     "metadata": {},
     "output_type": "execute_result"
    }
   ],
   "source": [
    "df.rhythm_diag.value_counts()"
   ]
  },
  {
   "cell_type": "code",
   "execution_count": 15,
   "metadata": {
    "ExecuteTime": {
     "end_time": "2021-06-30T14:01:25.044368Z",
     "start_time": "2021-06-30T14:01:25.031714Z"
    }
   },
   "outputs": [],
   "source": [
    "df['rhythm_diag'] = df['rhythm_diag'].map(dict(AFIB=1, SR=0))"
   ]
  },
  {
   "cell_type": "code",
   "execution_count": 16,
   "metadata": {
    "ExecuteTime": {
     "end_time": "2021-06-30T14:01:26.168070Z",
     "start_time": "2021-06-30T14:01:26.160197Z"
    }
   },
   "outputs": [
    {
     "data": {
      "text/plain": [
       "0    16782\n",
       "1     1514\n",
       "Name: rhythm_diag, dtype: int64"
      ]
     },
     "execution_count": 16,
     "metadata": {},
     "output_type": "execute_result"
    }
   ],
   "source": [
    "df.rhythm_diag.value_counts()"
   ]
  },
  {
   "cell_type": "code",
   "execution_count": 17,
   "metadata": {
    "ExecuteTime": {
     "end_time": "2021-06-30T14:01:27.717679Z",
     "start_time": "2021-06-30T14:01:27.406882Z"
    }
   },
   "outputs": [],
   "source": [
    "df_minority = df[df['rhythm_diag']==1]\n",
    "df_majority = df[df['rhythm_diag']==0]\n",
    "maj_class = resample(df_majority,\n",
    "                     replace=True,\n",
    "                     n_samples=1514,\n",
    "                     random_state=123)\n",
    "df=pd.concat([df_minority,maj_class])"
   ]
  },
  {
   "cell_type": "code",
   "execution_count": 18,
   "metadata": {
    "ExecuteTime": {
     "end_time": "2021-06-30T14:01:28.968950Z",
     "start_time": "2021-06-30T14:01:28.962547Z"
    }
   },
   "outputs": [
    {
     "data": {
      "text/plain": [
       "0    1514\n",
       "1    1514\n",
       "Name: rhythm_diag, dtype: int64"
      ]
     },
     "execution_count": 18,
     "metadata": {},
     "output_type": "execute_result"
    }
   ],
   "source": [
    "df.rhythm_diag.value_counts()"
   ]
  },
  {
   "cell_type": "code",
   "execution_count": 19,
   "metadata": {
    "ExecuteTime": {
     "end_time": "2021-06-30T14:01:30.224608Z",
     "start_time": "2021-06-30T14:01:30.148946Z"
    }
   },
   "outputs": [
    {
     "data": {
      "text/plain": [
       "(1514, 1000)"
      ]
     },
     "execution_count": 19,
     "metadata": {},
     "output_type": "execute_result"
    }
   ],
   "source": [
    "df_sr = df[df.rhythm_diag == 0]\n",
    "df_sr = df_sr.drop(['ecg_id', 'age', 'sex', 'height',\n",
    "                    'weight', 'rhythm_diag'], axis=1)\n",
    "df_sr.reset_index(drop= True ,inplace=True)\n",
    "df_sr.shape"
   ]
  },
  {
   "cell_type": "code",
   "execution_count": 20,
   "metadata": {
    "ExecuteTime": {
     "end_time": "2021-06-30T14:01:31.843424Z",
     "start_time": "2021-06-30T14:01:31.821188Z"
    }
   },
   "outputs": [
    {
     "data": {
      "text/plain": [
       "(1514, 1000)"
      ]
     },
     "execution_count": 20,
     "metadata": {},
     "output_type": "execute_result"
    }
   ],
   "source": [
    "df_afib = df[df.rhythm_diag == 1]\n",
    "df_afib = df_afib.drop(\n",
    "    ['ecg_id', 'age', 'sex', 'height', 'weight', 'rhythm_diag'], axis=1)\n",
    "df_afib.reset_index(drop=True, inplace=True)\n",
    "df_afib.shape"
   ]
  },
  {
   "cell_type": "code",
   "execution_count": 21,
   "metadata": {
    "ExecuteTime": {
     "end_time": "2021-06-30T14:01:35.156229Z",
     "start_time": "2021-06-30T14:01:35.153554Z"
    }
   },
   "outputs": [],
   "source": [
    "X_sr = df_sr.values\n",
    "X_afib = df_afib.values"
   ]
  },
  {
   "cell_type": "code",
   "execution_count": 22,
   "metadata": {
    "ExecuteTime": {
     "end_time": "2021-06-30T14:01:36.361514Z",
     "start_time": "2021-06-30T14:01:36.357069Z"
    }
   },
   "outputs": [
    {
     "data": {
      "text/plain": [
       "(1000,)"
      ]
     },
     "execution_count": 22,
     "metadata": {},
     "output_type": "execute_result"
    }
   ],
   "source": [
    "X_sr[0].shape"
   ]
  },
  {
   "cell_type": "markdown",
   "metadata": {},
   "source": [
    "## Get individuals HeartBeats"
   ]
  },
  {
   "cell_type": "code",
   "execution_count": 23,
   "metadata": {
    "ExecuteTime": {
     "end_time": "2021-06-30T14:02:12.858815Z",
     "start_time": "2021-06-30T14:01:38.416045Z"
    }
   },
   "outputs": [
    {
     "data": {
      "text/plain": [
       "(14678, 100)"
      ]
     },
     "execution_count": 23,
     "metadata": {},
     "output_type": "execute_result"
    }
   ],
   "source": [
    "X_sr = get_heart_beat(X_sr)\n",
    "X_sr.shape"
   ]
  },
  {
   "cell_type": "code",
   "execution_count": 24,
   "metadata": {
    "ExecuteTime": {
     "end_time": "2021-06-30T14:02:13.404939Z",
     "start_time": "2021-06-30T14:02:13.371284Z"
    }
   },
   "outputs": [
    {
     "data": {
      "text/plain": [
       "(14678,)"
      ]
     },
     "execution_count": 24,
     "metadata": {},
     "output_type": "execute_result"
    }
   ],
   "source": [
    "y_sr = np.zeros(len(X_sr))\n",
    "y_sr.shape"
   ]
  },
  {
   "cell_type": "code",
   "execution_count": 25,
   "metadata": {
    "ExecuteTime": {
     "end_time": "2021-06-30T14:02:54.392889Z",
     "start_time": "2021-06-30T14:02:20.718944Z"
    }
   },
   "outputs": [
    {
     "data": {
      "text/plain": [
       "(18190, 100)"
      ]
     },
     "execution_count": 25,
     "metadata": {},
     "output_type": "execute_result"
    }
   ],
   "source": [
    "X_afib = get_heart_beat(X_afib)\n",
    "X_afib.shape"
   ]
  },
  {
   "cell_type": "code",
   "execution_count": 26,
   "metadata": {
    "ExecuteTime": {
     "end_time": "2021-06-30T14:03:43.418114Z",
     "start_time": "2021-06-30T14:03:43.413120Z"
    }
   },
   "outputs": [
    {
     "data": {
      "text/plain": [
       "(18190,)"
      ]
     },
     "execution_count": 26,
     "metadata": {},
     "output_type": "execute_result"
    }
   ],
   "source": [
    "y_afib = np.ones(len(X_afib))\n",
    "y_afib.shape"
   ]
  },
  {
   "cell_type": "code",
   "execution_count": 27,
   "metadata": {},
   "outputs": [],
   "source": [
    "from numpy import savetxt\n",
    "\n",
    "for i in range(len(X_sr)):\n",
    "    savetxt('../data/heart_beat_out_data/sr/sr_' +\n",
    "            str(i)+'.csv', X_sr[i], delimiter=',')\n",
    "    savetxt('../data/heart_beat_out_data/afib/afib_' +\n",
    "            str(i)+'.csv', X_afib[i], delimiter=',')"
   ]
  },
  {
   "cell_type": "code",
   "execution_count": 27,
   "metadata": {
    "ExecuteTime": {
     "end_time": "2021-06-30T14:03:45.007845Z",
     "start_time": "2021-06-30T14:03:44.980787Z"
    }
   },
   "outputs": [
    {
     "data": {
      "text/plain": [
       "(32868, 100)"
      ]
     },
     "execution_count": 27,
     "metadata": {},
     "output_type": "execute_result"
    }
   ],
   "source": [
    "X = np.concatenate((X_sr, X_afib), axis=0)\n",
    "X.shape"
   ]
  },
  {
   "cell_type": "code",
   "execution_count": 28,
   "metadata": {
    "ExecuteTime": {
     "end_time": "2021-06-30T14:03:48.626521Z",
     "start_time": "2021-06-30T14:03:48.620669Z"
    }
   },
   "outputs": [
    {
     "data": {
      "text/plain": [
       "(32868,)"
      ]
     },
     "execution_count": 28,
     "metadata": {},
     "output_type": "execute_result"
    }
   ],
   "source": [
    "y = np.concatenate((y_sr, y_afib), axis=0)\n",
    "y.shape"
   ]
  },
  {
   "cell_type": "code",
   "execution_count": 29,
   "metadata": {
    "ExecuteTime": {
     "end_time": "2021-06-30T14:03:50.368701Z",
     "start_time": "2021-06-30T14:03:50.103417Z"
    }
   },
   "outputs": [
    {
     "data": {
      "image/png": "[encoded data removed]",
      "text/plain": [
       "<Figure size 720x360 with 1 Axes>"
      ]
     },
     "metadata": {
      "needs_background": "light"
     },
     "output_type": "display_data"
    }
   ],
   "source": [
    "plt.plot(X[0])\n",
    "plt.title(\"ECG Sample\")\n",
    "plt.grid()\n",
    "plt.show()"
   ]
  },
  {
   "cell_type": "code",
   "execution_count": 30,
   "metadata": {
    "ExecuteTime": {
     "end_time": "2021-06-30T14:08:40.229613Z",
     "start_time": "2021-06-30T14:08:40.042768Z"
    }
   },
   "outputs": [],
   "source": [
    "#saving data\n",
    "from numpy import save\n",
    "save('X_100.npy', X)\n",
    "save('y_100.npy', y)"
   ]
  },
  {
   "cell_type": "code",
   "execution_count": null,
   "metadata": {},
   "outputs": [],
   "source": []
  },
  {
   "cell_type": "markdown",
   "metadata": {},
   "source": [
    "## Normalize and Split data "
   ]
  },
  {
   "cell_type": "code",
   "execution_count": 12,
   "metadata": {
    "ExecuteTime": {
     "end_time": "2021-06-30T14:48:51.596406Z",
     "start_time": "2021-06-30T14:48:51.562799Z"
    }
   },
   "outputs": [],
   "source": [
    "# Getting data\n",
    "\n",
    "Xt = load('X_100.npy')\n",
    "yt = load('y_100.npy')"
   ]
  },
  {
   "cell_type": "code",
   "execution_count": 13,
   "metadata": {
    "ExecuteTime": {
     "end_time": "2021-06-30T14:48:53.318286Z",
     "start_time": "2021-06-30T14:48:52.745487Z"
    }
   },
   "outputs": [
    {
     "data": {
      "text/plain": [
       "(32868, 100)"
      ]
     },
     "execution_count": 13,
     "metadata": {},
     "output_type": "execute_result"
    }
   ],
   "source": [
    "Xt_full = []\n",
    "for i in range(len(Xt)):\n",
    "    norm = ((Xt[i] - Xt[i].min())/(Xt[i].max() - Xt[i].min()))\n",
    "    Xt_full.append(norm)\n",
    "\n",
    "Xt_full = np.array(Xt_full)\n",
    "Xt_full.shape"
   ]
  },
  {
   "cell_type": "code",
   "execution_count": 14,
   "metadata": {
    "ExecuteTime": {
     "end_time": "2021-06-30T14:48:54.093804Z",
     "start_time": "2021-06-30T14:48:54.089788Z"
    }
   },
   "outputs": [
    {
     "data": {
      "text/plain": [
       "(32868,)"
      ]
     },
     "execution_count": 14,
     "metadata": {},
     "output_type": "execute_result"
    }
   ],
   "source": [
    "yt.shape"
   ]
  },
  {
   "cell_type": "code",
   "execution_count": 15,
   "metadata": {
    "ExecuteTime": {
     "end_time": "2021-06-30T14:48:55.589915Z",
     "start_time": "2021-06-30T14:48:55.581844Z"
    }
   },
   "outputs": [
    {
     "name": "stdout",
     "output_type": "stream",
     "text": [
      "0.0 1.0\n"
     ]
    }
   ],
   "source": [
    "print (Xt_full.min(), Xt_full.max())"
   ]
  },
  {
   "cell_type": "code",
   "execution_count": 16,
   "metadata": {
    "ExecuteTime": {
     "end_time": "2021-06-30T14:48:57.131825Z",
     "start_time": "2021-06-30T14:48:57.096682Z"
    }
   },
   "outputs": [],
   "source": [
    "X_train, X_test, y_train, y_test = train_test_split(Xt_full,yt,\n",
    "                                                    test_size=0.20,\n",
    "                                                    random_state=21)"
   ]
  },
  {
   "cell_type": "code",
   "execution_count": 17,
   "metadata": {
    "ExecuteTime": {
     "end_time": "2021-06-30T14:48:58.144686Z",
     "start_time": "2021-06-30T14:48:58.140386Z"
    }
   },
   "outputs": [
    {
     "data": {
      "text/plain": [
       "((26294, 100), (6574, 100), (26294,), (6574,))"
      ]
     },
     "execution_count": 17,
     "metadata": {},
     "output_type": "execute_result"
    }
   ],
   "source": [
    "X_train.shape, X_test.shape, y_train.shape, y_test.shape"
   ]
  },
  {
   "cell_type": "code",
   "execution_count": 18,
   "metadata": {
    "ExecuteTime": {
     "end_time": "2021-06-30T14:48:59.385325Z",
     "start_time": "2021-06-30T14:48:59.374542Z"
    }
   },
   "outputs": [
    {
     "name": "stdout",
     "output_type": "stream",
     "text": [
      "0.0 1.0\n",
      "0.0 1.0\n"
     ]
    }
   ],
   "source": [
    "print (X_train.min(), X_train.max())\n",
    "print (X_test.min(), X_test.max())"
   ]
  },
  {
   "cell_type": "markdown",
   "metadata": {
    "ExecuteTime": {
     "end_time": "2021-06-01T16:58:58.606257Z",
     "start_time": "2021-06-01T16:58:58.603395Z"
    }
   },
   "source": [
    "# Model CNN - 1D\n",
    "Based on: [ECG Heartbeat Classification: A Deep Transferable Representation](https://arxiv.org/pdf/1805.00794.pdf)"
   ]
  },
  {
   "cell_type": "markdown",
   "metadata": {},
   "source": [
    "<img src=\"../models/cnn_v1.h5.png\">"
   ]
  },
  {
   "cell_type": "code",
   "execution_count": 19,
   "metadata": {
    "ExecuteTime": {
     "end_time": "2021-06-30T14:49:06.918017Z",
     "start_time": "2021-06-30T14:49:06.913652Z"
    }
   },
   "outputs": [
    {
     "name": "stdout",
     "output_type": "stream",
     "text": [
      "(26294, 100, 1) (6574, 100, 1)\n"
     ]
    }
   ],
   "source": [
    "X_train = np.expand_dims(X_train, 2)\n",
    "X_test = np.expand_dims(X_test, 2)\n",
    "\n",
    "print(X_train.shape, X_test.shape)"
   ]
  },
  {
   "cell_type": "code",
   "execution_count": 20,
   "metadata": {
    "ExecuteTime": {
     "end_time": "2021-06-30T14:49:13.380982Z",
     "start_time": "2021-06-30T14:49:13.377056Z"
    }
   },
   "outputs": [
    {
     "name": "stdout",
     "output_type": "stream",
     "text": [
      "26294 100 1\n"
     ]
    }
   ],
   "source": [
    "samples, features, depht = X_train.shape\n",
    "print(samples, features, depht)"
   ]
  },
  {
   "cell_type": "code",
   "execution_count": 19,
   "metadata": {
    "ExecuteTime": {
     "end_time": "2021-06-30T14:56:48.529851Z",
     "start_time": "2021-06-30T14:56:48.525201Z"
    }
   },
   "outputs": [],
   "source": [
    "def group_layer(model):\n",
    "    model.add(\n",
    "        Conv1D(32,\n",
    "               kernel_size=5,\n",
    "               strides=1,\n",
    "               padding='same',\n",
    "               activation='relu'))\n",
    "    model.add(\n",
    "        Conv1D(32,\n",
    "               kernel_size=5,\n",
    "               strides=1,\n",
    "               padding='same',\n",
    "               activation='relu'))\n",
    "    model.add(MaxPooling1D(pool_size=5, strides=2))\n",
    "    return model"
   ]
  },
  {
   "cell_type": "code",
   "execution_count": 41,
   "metadata": {
    "ExecuteTime": {
     "end_time": "2021-06-30T14:56:49.739061Z",
     "start_time": "2021-06-30T14:56:49.640571Z"
    }
   },
   "outputs": [
    {
     "name": "stdout",
     "output_type": "stream",
     "text": [
      "WARNING:tensorflow:Please add `keras.layers.InputLayer` instead of `keras.Input` to Sequential model. `keras.Input` is intended to be used by Functional model.\n",
      "Model: \"sequential\"\n",
      "_________________________________________________________________\n",
      "Layer (type)                 Output Shape              Param #   \n",
      "=================================================================\n",
      "conv1d (Conv1D)              (None, 100, 32)           192       \n",
      "_________________________________________________________________\n",
      "conv1d_1 (Conv1D)            (None, 100, 32)           5152      \n",
      "_________________________________________________________________\n",
      "max_pooling1d (MaxPooling1D) (None, 48, 32)            0         \n",
      "_________________________________________________________________\n",
      "conv1d_2 (Conv1D)            (None, 48, 32)            5152      \n",
      "_________________________________________________________________\n",
      "conv1d_3 (Conv1D)            (None, 48, 32)            5152      \n",
      "_________________________________________________________________\n",
      "max_pooling1d_1 (MaxPooling1 (None, 22, 32)            0         \n",
      "_________________________________________________________________\n",
      "conv1d_4 (Conv1D)            (None, 22, 32)            5152      \n",
      "_________________________________________________________________\n",
      "conv1d_5 (Conv1D)            (None, 22, 32)            5152      \n",
      "_________________________________________________________________\n",
      "max_pooling1d_2 (MaxPooling1 (None, 9, 32)             0         \n",
      "_________________________________________________________________\n",
      "flatten (Flatten)            (None, 288)               0         \n",
      "_________________________________________________________________\n",
      "dense (Dense)                (None, 32)                9248      \n",
      "_________________________________________________________________\n",
      "dense_1 (Dense)              (None, 32)                1056      \n",
      "_________________________________________________________________\n",
      "dense_2 (Dense)              (None, 1)                 33        \n",
      "=================================================================\n",
      "Total params: 36,289\n",
      "Trainable params: 36,289\n",
      "Non-trainable params: 0\n",
      "_________________________________________________________________\n"
     ]
    }
   ],
   "source": [
    "model = Sequential()\n",
    "model.add(Input(shape=(features, depht)))\n",
    "model=group_layer(model)\n",
    "model=group_layer(model)\n",
    "model=group_layer(model)\n",
    "model.add(Flatten())\n",
    "model.add(Dense(32, activation='relu'))\n",
    "model.add(Dense(32, activation='relu'))\n",
    "model.add(Dense(1, activation='sigmoid'))\n",
    "model.summary()"
   ]
  },
  {
   "cell_type": "code",
   "execution_count": 42,
   "metadata": {
    "ExecuteTime": {
     "end_time": "2021-06-30T14:56:54.144400Z",
     "start_time": "2021-06-30T14:56:54.141798Z"
    }
   },
   "outputs": [],
   "source": [
    "lr = 0.0005"
   ]
  },
  {
   "cell_type": "code",
   "execution_count": 43,
   "metadata": {
    "ExecuteTime": {
     "end_time": "2021-06-30T14:56:55.787620Z",
     "start_time": "2021-06-30T14:56:55.777992Z"
    }
   },
   "outputs": [],
   "source": [
    "opt = Adam(learning_rate=lr, beta_1=0.9, beta_2=0.999)\n",
    "model.compile(loss='binary_crossentropy',\n",
    "              optimizer=opt,\n",
    "              metrics=['accuracy'])"
   ]
  },
  {
   "cell_type": "code",
   "execution_count": 44,
   "metadata": {
    "ExecuteTime": {
     "end_time": "2021-06-30T14:56:57.359106Z",
     "start_time": "2021-06-30T14:56:57.356061Z"
    }
   },
   "outputs": [],
   "source": [
    "early_stop = EarlyStopping(monitor='val_loss', \n",
    "                           mode='min', \n",
    "                           verbose=1, \n",
    "                           patience=10)"
   ]
  },
  {
   "cell_type": "code",
   "execution_count": 45,
   "metadata": {
    "ExecuteTime": {
     "end_time": "2021-06-30T15:01:53.216741Z",
     "start_time": "2021-06-30T14:56:58.887241Z"
    }
   },
   "outputs": [
    {
     "name": "stdout",
     "output_type": "stream",
     "text": [
      "Epoch 1/100\n",
      "658/658 [==============================] - 13s 13ms/step - loss: 0.3249 - accuracy: 0.8602 - val_loss: 0.2532 - val_accuracy: 0.9097\n",
      "Epoch 2/100\n",
      "658/658 [==============================] - 9s 13ms/step - loss: 0.2263 - accuracy: 0.9166 - val_loss: 0.2478 - val_accuracy: 0.9137\n",
      "Epoch 3/100\n",
      "658/658 [==============================] - 10s 16ms/step - loss: 0.2133 - accuracy: 0.9221 - val_loss: 0.2015 - val_accuracy: 0.9283\n",
      "Epoch 4/100\n",
      "658/658 [==============================] - 10s 15ms/step - loss: 0.2010 - accuracy: 0.9275 - val_loss: 0.2028 - val_accuracy: 0.9243\n",
      "Epoch 5/100\n",
      "658/658 [==============================] - 9s 14ms/step - loss: 0.1925 - accuracy: 0.9287 - val_loss: 0.2200 - val_accuracy: 0.9258\n",
      "Epoch 6/100\n",
      "658/658 [==============================] - 9s 13ms/step - loss: 0.1860 - accuracy: 0.9313 - val_loss: 0.1915 - val_accuracy: 0.9315\n",
      "Epoch 7/100\n",
      "658/658 [==============================] - 9s 13ms/step - loss: 0.1828 - accuracy: 0.9317 - val_loss: 0.2020 - val_accuracy: 0.9258\n",
      "Epoch 8/100\n",
      "658/658 [==============================] - 9s 13ms/step - loss: 0.1749 - accuracy: 0.9363 - val_loss: 0.1815 - val_accuracy: 0.9338\n",
      "Epoch 9/100\n",
      "658/658 [==============================] - 8s 13ms/step - loss: 0.1711 - accuracy: 0.9365 - val_loss: 0.1893 - val_accuracy: 0.9295\n",
      "Epoch 10/100\n",
      "658/658 [==============================] - 8s 12ms/step - loss: 0.1675 - accuracy: 0.9381 - val_loss: 0.1786 - val_accuracy: 0.9327\n",
      "Epoch 11/100\n",
      "658/658 [==============================] - 8s 12ms/step - loss: 0.1623 - accuracy: 0.9409 - val_loss: 0.1880 - val_accuracy: 0.9333\n",
      "Epoch 12/100\n",
      "658/658 [==============================] - 8s 12ms/step - loss: 0.1597 - accuracy: 0.9403 - val_loss: 0.1767 - val_accuracy: 0.9350\n",
      "Epoch 13/100\n",
      "658/658 [==============================] - 8s 12ms/step - loss: 0.1546 - accuracy: 0.9436 - val_loss: 0.1869 - val_accuracy: 0.9359\n",
      "Epoch 14/100\n",
      "658/658 [==============================] - 8s 12ms/step - loss: 0.1502 - accuracy: 0.9446 - val_loss: 0.1685 - val_accuracy: 0.9388\n",
      "Epoch 15/100\n",
      "658/658 [==============================] - 8s 12ms/step - loss: 0.1471 - accuracy: 0.9455 - val_loss: 0.1986 - val_accuracy: 0.9295\n",
      "Epoch 16/100\n",
      "658/658 [==============================] - 8s 12ms/step - loss: 0.1444 - accuracy: 0.9475 - val_loss: 0.1649 - val_accuracy: 0.9414\n",
      "Epoch 17/100\n",
      "658/658 [==============================] - 8s 12ms/step - loss: 0.1395 - accuracy: 0.9501 - val_loss: 0.1666 - val_accuracy: 0.9374\n",
      "Epoch 18/100\n",
      "658/658 [==============================] - 8s 12ms/step - loss: 0.1341 - accuracy: 0.9510 - val_loss: 0.1737 - val_accuracy: 0.9390\n",
      "Epoch 19/100\n",
      "658/658 [==============================] - 8s 12ms/step - loss: 0.1318 - accuracy: 0.9525 - val_loss: 0.1668 - val_accuracy: 0.9430\n",
      "Epoch 20/100\n",
      "658/658 [==============================] - 8s 12ms/step - loss: 0.1281 - accuracy: 0.9533 - val_loss: 0.1616 - val_accuracy: 0.9430\n",
      "Epoch 21/100\n",
      "658/658 [==============================] - 8s 12ms/step - loss: 0.1254 - accuracy: 0.9543 - val_loss: 0.1791 - val_accuracy: 0.9422\n",
      "Epoch 22/100\n",
      "658/658 [==============================] - 8s 12ms/step - loss: 0.1213 - accuracy: 0.9547 - val_loss: 0.1721 - val_accuracy: 0.9401\n",
      "Epoch 23/100\n",
      "658/658 [==============================] - 8s 12ms/step - loss: 0.1166 - accuracy: 0.9587 - val_loss: 0.1782 - val_accuracy: 0.9411\n",
      "Epoch 24/100\n",
      "658/658 [==============================] - 8s 12ms/step - loss: 0.1147 - accuracy: 0.9583 - val_loss: 0.1663 - val_accuracy: 0.9431\n",
      "Epoch 25/100\n",
      "658/658 [==============================] - 8s 12ms/step - loss: 0.1086 - accuracy: 0.9606 - val_loss: 0.1885 - val_accuracy: 0.9363\n",
      "Epoch 26/100\n",
      "658/658 [==============================] - 8s 12ms/step - loss: 0.1089 - accuracy: 0.9601 - val_loss: 0.1788 - val_accuracy: 0.9382\n",
      "Epoch 27/100\n",
      "658/658 [==============================] - 8s 12ms/step - loss: 0.1018 - accuracy: 0.9633 - val_loss: 0.1751 - val_accuracy: 0.9428\n",
      "Epoch 28/100\n",
      "658/658 [==============================] - 9s 14ms/step - loss: 0.1006 - accuracy: 0.9625 - val_loss: 0.1690 - val_accuracy: 0.9435\n",
      "Epoch 29/100\n",
      "658/658 [==============================] - 9s 14ms/step - loss: 0.0983 - accuracy: 0.9650 - val_loss: 0.1608 - val_accuracy: 0.9469\n",
      "Epoch 30/100\n",
      "658/658 [==============================] - 8s 12ms/step - loss: 0.0936 - accuracy: 0.9655 - val_loss: 0.1776 - val_accuracy: 0.9403\n",
      "Epoch 31/100\n",
      "658/658 [==============================] - 8s 12ms/step - loss: 0.0904 - accuracy: 0.9675 - val_loss: 0.1847 - val_accuracy: 0.9386\n",
      "Epoch 32/100\n",
      "658/658 [==============================] - 8s 12ms/step - loss: 0.0883 - accuracy: 0.9686 - val_loss: 0.1848 - val_accuracy: 0.9441\n",
      "Epoch 33/100\n",
      "658/658 [==============================] - 8s 12ms/step - loss: 0.0841 - accuracy: 0.9694 - val_loss: 0.1779 - val_accuracy: 0.9418\n",
      "Epoch 34/100\n",
      "658/658 [==============================] - 8s 12ms/step - loss: 0.0850 - accuracy: 0.9690 - val_loss: 0.1783 - val_accuracy: 0.9445\n",
      "Epoch 35/100\n",
      "658/658 [==============================] - 8s 12ms/step - loss: 0.0806 - accuracy: 0.9708 - val_loss: 0.1707 - val_accuracy: 0.9458\n",
      "Epoch 36/100\n",
      "658/658 [==============================] - 8s 12ms/step - loss: 0.0752 - accuracy: 0.9733 - val_loss: 0.2071 - val_accuracy: 0.9437\n",
      "Epoch 37/100\n",
      "658/658 [==============================] - 8s 12ms/step - loss: 0.0770 - accuracy: 0.9720 - val_loss: 0.1949 - val_accuracy: 0.9422\n",
      "Epoch 38/100\n",
      "658/658 [==============================] - 8s 12ms/step - loss: 0.0707 - accuracy: 0.9752 - val_loss: 0.1992 - val_accuracy: 0.9422\n",
      "Epoch 39/100\n",
      "658/658 [==============================] - 8s 12ms/step - loss: 0.0715 - accuracy: 0.9736 - val_loss: 0.1746 - val_accuracy: 0.9447\n",
      "Epoch 00039: early stopping\n"
     ]
    }
   ],
   "source": [
    "EPOCHS = 100\n",
    "\n",
    "history = model.fit(X_train,\n",
    "                    y_train,\n",
    "                    epochs=EPOCHS,\n",
    "                    validation_split=0.2,\n",
    "                    verbose=1,\n",
    "                    callbacks=[early_stop])"
   ]
  },
  {
   "cell_type": "code",
   "execution_count": 46,
   "metadata": {
    "ExecuteTime": {
     "end_time": "2021-06-30T15:01:54.467149Z",
     "start_time": "2021-06-30T15:01:53.672733Z"
    }
   },
   "outputs": [
    {
     "name": "stdout",
     "output_type": "stream",
     "text": [
      "Model Accuraccy:  0.94\n"
     ]
    },
    {
     "data": {
      "image/png": "[encoded data removed]",
      "text/plain": [
       "<Figure size 576x432 with 1 Axes>"
      ]
     },
     "metadata": {
      "needs_background": "light"
     },
     "output_type": "display_data"
    }
   ],
   "source": [
    "_, model_accuracy = model.evaluate(X_test, y_test, verbose=0)\n",
    "print(\"Model Accuraccy: \", round(model_accuracy, 2))\n",
    "summarize_loss(history)"
   ]
  },
  {
   "cell_type": "code",
   "execution_count": 47,
   "metadata": {
    "ExecuteTime": {
     "end_time": "2021-06-30T15:07:11.644932Z",
     "start_time": "2021-06-30T15:07:10.938792Z"
    }
   },
   "outputs": [
    {
     "name": "stdout",
     "output_type": "stream",
     "text": [
      "\n",
      "\t\tECG - CNN V1 - MODEL EVALUATION\n",
      "\n",
      "              precision    recall  f1-score   support\n",
      "\n",
      "          SR       0.93      0.94      0.93      2958\n",
      "        AFIB       0.95      0.94      0.95      3616\n",
      "\n",
      "    accuracy                           0.94      6574\n",
      "   macro avg       0.94      0.94      0.94      6574\n",
      "weighted avg       0.94      0.94      0.94      6574\n",
      "\n"
     ]
    },
    {
     "data": {
      "image/png": "[encoded data removed]",
      "text/plain": [
       "<Figure size 576x432 with 2 Axes>"
      ]
     },
     "metadata": {
      "needs_background": "light"
     },
     "output_type": "display_data"
    }
   ],
   "source": [
    "y_pred = model.predict(X_test)\n",
    "y_pred = y_pred > 0.5\n",
    "print('\\n\\t\\tECG - CNN V1 - MODEL EVALUATION\\n')\n",
    "print(classification_report(y_test, y_pred, target_names=['SR', 'AFIB']))\n",
    "plot_conf_matrix(y_test, y_pred)"
   ]
  },
  {
   "cell_type": "code",
   "execution_count": 50,
   "metadata": {
    "ExecuteTime": {
     "end_time": "2021-06-30T15:10:24.927423Z",
     "start_time": "2021-06-30T15:10:23.339294Z"
    }
   },
   "outputs": [
    {
     "name": "stdout",
     "output_type": "stream",
     "text": [
      "INFO:tensorflow:Assets written to: ../models/cnn_1d_v100\\assets\n"
     ]
    }
   ],
   "source": [
    "model.save('../models/cnn_1d_v100.h5')\n",
    "model.save('../models/cnn_1d_v100')"
   ]
  },
  {
   "cell_type": "markdown",
   "metadata": {},
   "source": [
    "# Converting model to TF-Lite and TF-Micro"
   ]
  },
  {
   "cell_type": "code",
   "execution_count": 31,
   "metadata": {
    "ExecuteTime": {
     "end_time": "2021-06-30T15:14:07.781340Z",
     "start_time": "2021-06-30T15:14:07.773829Z"
    }
   },
   "outputs": [],
   "source": [
    "# Function: Convert some hex value into an array for C programming\n",
    "def hex_to_c_array(hex_data, var_name):\n",
    "\n",
    "    c_str = ''\n",
    "\n",
    "    # Create header guard\n",
    "    c_str += '#ifndef ' + var_name.upper() + '_H\\n'\n",
    "    c_str += '#define ' + var_name.upper() + '_H\\n\\n'\n",
    "\n",
    "    # Add array length at top of file\n",
    "    c_str += '\\nunsigned int ' + var_name + '_len = ' + str(len(hex_data)) + ';\\n'\n",
    "\n",
    "    # Declare C variable\n",
    "    c_str += 'unsigned char ' + var_name + '[] = {'\n",
    "    hex_array = []\n",
    "    for i, val in enumerate(hex_data) :\n",
    "\n",
    "        # Construct string from hex\n",
    "        hex_str = format(val, '#04x')\n",
    "\n",
    "        # Add formatting so each line stays within 80 characters\n",
    "        if (i + 1) < len(hex_data):\n",
    "            hex_str += ','\n",
    "        if (i + 1) % 12 == 0:\n",
    "            hex_str += '\\n '\n",
    "        hex_array.append(hex_str)\n",
    "\n",
    "    # Add closing brace\n",
    "    c_str += '\\n ' + format(' '.join(hex_array)) + '\\n};\\n\\n'\n",
    "\n",
    "    # Close out header guard\n",
    "    c_str += '#endif //' + var_name.upper() + '_H'\n",
    "\n",
    "    return c_str"
   ]
  },
  {
   "cell_type": "code",
   "execution_count": 52,
   "metadata": {
    "ExecuteTime": {
     "end_time": "2021-06-30T15:15:07.208296Z",
     "start_time": "2021-06-30T15:15:04.403766Z"
    }
   },
   "outputs": [
    {
     "name": "stdout",
     "output_type": "stream",
     "text": [
      "INFO:tensorflow:Assets written to: C:\\Users\\GUILH\\AppData\\Local\\Temp\\tmppsp8fio3\\assets\n"
     ]
    },
    {
     "data": {
      "text/plain": [
       "52704"
      ]
     },
     "execution_count": 52,
     "metadata": {},
     "output_type": "execute_result"
    }
   ],
   "source": [
    "# Convert TF model to a tflite model\n",
    "model_cnn_v0 = load_model('../models/cnn_1d_v100')\n",
    "converter = tf.lite.TFLiteConverter.from_keras_model(model_cnn_v0)\n",
    "converter.optimizations = [tf.lite.Optimize.OPTIMIZE_FOR_SIZE]\n",
    "tflite_model = converter.convert()\n",
    "\n",
    "open(\"../models/cnn_v0.tflite\",\"wb\").write(tflite_model)"
   ]
  },
  {
   "cell_type": "code",
   "execution_count": 53,
   "metadata": {
    "ExecuteTime": {
     "end_time": "2021-06-30T15:16:43.313632Z",
     "start_time": "2021-06-30T15:16:43.294336Z"
    }
   },
   "outputs": [],
   "source": [
    "c_model_name = '../models/cnn_v0'"
   ]
  },
  {
   "cell_type": "code",
   "execution_count": 54,
   "metadata": {
    "ExecuteTime": {
     "end_time": "2021-06-30T15:16:44.607826Z",
     "start_time": "2021-06-30T15:16:44.548247Z"
    }
   },
   "outputs": [],
   "source": [
    "# Write TFLite model to a C source (or header) file\n",
    "with open(c_model_name + '.h', 'w') as file:\n",
    "    file.write(hex_to_c_array(tflite_model, c_model_name))"
   ]
  },
  {
   "cell_type": "code",
   "execution_count": 49,
   "metadata": {},
   "outputs": [
    {
     "name": "stdout",
     "output_type": "stream",
     "text": [
      "WARNING:tensorflow:Please add `keras.layers.InputLayer` instead of `keras.Input` to Sequential model. `keras.Input` is intended to be used by Functional model.\n",
      "Model: \"sequential_2\"\n",
      "_________________________________________________________________\n",
      "Layer (type)                 Output Shape              Param #   \n",
      "=================================================================\n",
      "conv1d_12 (Conv1D)           (None, 100, 32)           192       \n",
      "_________________________________________________________________\n",
      "conv1d_13 (Conv1D)           (None, 100, 32)           5152      \n",
      "_________________________________________________________________\n",
      "max_pooling1d_6 (MaxPooling1 (None, 48, 32)            0         \n",
      "_________________________________________________________________\n",
      "dropout_4 (Dropout)          (None, 48, 32)            0         \n",
      "_________________________________________________________________\n",
      "conv1d_14 (Conv1D)           (None, 48, 32)            5152      \n",
      "_________________________________________________________________\n",
      "conv1d_15 (Conv1D)           (None, 48, 32)            5152      \n",
      "_________________________________________________________________\n",
      "max_pooling1d_7 (MaxPooling1 (None, 22, 32)            0         \n",
      "_________________________________________________________________\n",
      "dropout_5 (Dropout)          (None, 22, 32)            0         \n",
      "_________________________________________________________________\n",
      "conv1d_16 (Conv1D)           (None, 22, 32)            5152      \n",
      "_________________________________________________________________\n",
      "conv1d_17 (Conv1D)           (None, 22, 32)            5152      \n",
      "_________________________________________________________________\n",
      "max_pooling1d_8 (MaxPooling1 (None, 9, 32)             0         \n",
      "_________________________________________________________________\n",
      "dropout_6 (Dropout)          (None, 9, 32)             0         \n",
      "_________________________________________________________________\n",
      "flatten_2 (Flatten)          (None, 288)               0         \n",
      "_________________________________________________________________\n",
      "dense_6 (Dense)              (None, 32)                9248      \n",
      "_________________________________________________________________\n",
      "dropout_7 (Dropout)          (None, 32)                0         \n",
      "_________________________________________________________________\n",
      "dense_7 (Dense)              (None, 32)                1056      \n",
      "_________________________________________________________________\n",
      "dense_8 (Dense)              (None, 1)                 33        \n",
      "=================================================================\n",
      "Total params: 36,289\n",
      "Trainable params: 36,289\n",
      "Non-trainable params: 0\n",
      "_________________________________________________________________\n"
     ]
    }
   ],
   "source": [
    "model = Sequential()\n",
    "model.add(Input(shape=(features, depht)))\n",
    "model=group_layer(model)\n",
    "model.add(Dropout(0.5))\n",
    "model=group_layer(model)\n",
    "model.add(Dropout(0.5))\n",
    "model=group_layer(model)\n",
    "model.add(Dropout(0.5))\n",
    "model.add(Flatten())\n",
    "model.add(Dense(32, activation='relu'))\n",
    "model.add(Dropout(0.5))\n",
    "model.add(Dense(32, activation='relu'))\n",
    "model.add(Dense(1, activation='sigmoid'))\n",
    "model.summary()"
   ]
  },
  {
   "cell_type": "code",
   "execution_count": 50,
   "metadata": {},
   "outputs": [],
   "source": [
    "lr = 0.0005\n",
    "opt = Adam(learning_rate=lr, beta_1=0.9, beta_2=0.999)\n",
    "model.compile(loss='binary_crossentropy',\n",
    "              optimizer=opt,\n",
    "              metrics=['accuracy'])"
   ]
  },
  {
   "cell_type": "code",
   "execution_count": 51,
   "metadata": {},
   "outputs": [],
   "source": [
    "early_stop = EarlyStopping(monitor='val_loss', \n",
    "                           mode='min', \n",
    "                           verbose=1, \n",
    "                           patience=10)"
   ]
  },
  {
   "cell_type": "code",
   "execution_count": 52,
   "metadata": {},
   "outputs": [
    {
     "name": "stdout",
     "output_type": "stream",
     "text": [
      "Epoch 1/100\n",
      "658/658 [==============================] - 11s 15ms/step - loss: 0.6139 - accuracy: 0.6617 - val_loss: 0.4490 - val_accuracy: 0.8292\n",
      "Epoch 2/100\n",
      "658/658 [==============================] - 9s 14ms/step - loss: 0.4144 - accuracy: 0.8240 - val_loss: 0.2685 - val_accuracy: 0.9049\n",
      "Epoch 3/100\n",
      "658/658 [==============================] - 10s 15ms/step - loss: 0.3184 - accuracy: 0.8763 - val_loss: 0.2531 - val_accuracy: 0.9146\n",
      "Epoch 4/100\n",
      "658/658 [==============================] - 9s 14ms/step - loss: 0.2885 - accuracy: 0.8908 - val_loss: 0.2383 - val_accuracy: 0.9165\n",
      "Epoch 5/100\n",
      "658/658 [==============================] - 10s 15ms/step - loss: 0.2767 - accuracy: 0.8977 - val_loss: 0.2299 - val_accuracy: 0.9213\n",
      "Epoch 6/100\n",
      "658/658 [==============================] - 10s 15ms/step - loss: 0.2688 - accuracy: 0.9011 - val_loss: 0.2540 - val_accuracy: 0.9177\n",
      "Epoch 7/100\n",
      "658/658 [==============================] - 10s 15ms/step - loss: 0.2644 - accuracy: 0.9003 - val_loss: 0.2462 - val_accuracy: 0.9180\n",
      "Epoch 8/100\n",
      "658/658 [==============================] - 10s 15ms/step - loss: 0.2565 - accuracy: 0.9044 - val_loss: 0.2394 - val_accuracy: 0.9209\n",
      "Epoch 9/100\n",
      "658/658 [==============================] - 10s 15ms/step - loss: 0.2511 - accuracy: 0.9051 - val_loss: 0.2660 - val_accuracy: 0.9169\n",
      "Epoch 10/100\n",
      "658/658 [==============================] - 10s 16ms/step - loss: 0.2459 - accuracy: 0.9063 - val_loss: 0.2281 - val_accuracy: 0.9236\n",
      "Epoch 11/100\n",
      "658/658 [==============================] - 10s 15ms/step - loss: 0.2420 - accuracy: 0.9082 - val_loss: 0.2445 - val_accuracy: 0.9226\n",
      "Epoch 12/100\n",
      "658/658 [==============================] - 10s 16ms/step - loss: 0.2406 - accuracy: 0.9103 - val_loss: 0.2460 - val_accuracy: 0.9239\n",
      "Epoch 13/100\n",
      "658/658 [==============================] - 11s 16ms/step - loss: 0.2375 - accuracy: 0.9102 - val_loss: 0.2301 - val_accuracy: 0.9247\n",
      "Epoch 14/100\n",
      "658/658 [==============================] - 11s 16ms/step - loss: 0.2373 - accuracy: 0.9125 - val_loss: 0.2380 - val_accuracy: 0.9272\n",
      "Epoch 15/100\n",
      "658/658 [==============================] - 11s 17ms/step - loss: 0.2339 - accuracy: 0.9143 - val_loss: 0.2338 - val_accuracy: 0.9260\n",
      "Epoch 16/100\n",
      "658/658 [==============================] - 11s 17ms/step - loss: 0.2303 - accuracy: 0.9158 - val_loss: 0.2270 - val_accuracy: 0.9266\n",
      "Epoch 17/100\n",
      "658/658 [==============================] - 12s 17ms/step - loss: 0.2297 - accuracy: 0.9127 - val_loss: 0.2435 - val_accuracy: 0.9276\n",
      "Epoch 18/100\n",
      "658/658 [==============================] - 11s 17ms/step - loss: 0.2263 - accuracy: 0.9157 - val_loss: 0.2406 - val_accuracy: 0.9281\n",
      "Epoch 19/100\n",
      "658/658 [==============================] - 11s 17ms/step - loss: 0.2293 - accuracy: 0.9148 - val_loss: 0.2336 - val_accuracy: 0.9264\n",
      "Epoch 20/100\n",
      "658/658 [==============================] - 11s 17ms/step - loss: 0.2242 - accuracy: 0.9173 - val_loss: 0.2311 - val_accuracy: 0.9247\n",
      "Epoch 21/100\n",
      "658/658 [==============================] - 12s 18ms/step - loss: 0.2200 - accuracy: 0.9160 - val_loss: 0.2344 - val_accuracy: 0.9281\n",
      "Epoch 22/100\n",
      "658/658 [==============================] - 11s 17ms/step - loss: 0.2175 - accuracy: 0.9185 - val_loss: 0.2330 - val_accuracy: 0.9304\n",
      "Epoch 23/100\n",
      "658/658 [==============================] - 11s 17ms/step - loss: 0.2215 - accuracy: 0.9189 - val_loss: 0.2339 - val_accuracy: 0.9310\n",
      "Epoch 24/100\n",
      "658/658 [==============================] - 12s 18ms/step - loss: 0.2178 - accuracy: 0.9174 - val_loss: 0.2335 - val_accuracy: 0.9277\n",
      "Epoch 25/100\n",
      "658/658 [==============================] - 11s 17ms/step - loss: 0.2144 - accuracy: 0.9212 - val_loss: 0.2205 - val_accuracy: 0.9300\n",
      "Epoch 26/100\n",
      "658/658 [==============================] - 11s 17ms/step - loss: 0.2160 - accuracy: 0.9208 - val_loss: 0.2187 - val_accuracy: 0.9300\n",
      "Epoch 27/100\n",
      "658/658 [==============================] - 12s 18ms/step - loss: 0.2161 - accuracy: 0.9193 - val_loss: 0.2261 - val_accuracy: 0.9308\n",
      "Epoch 28/100\n",
      "658/658 [==============================] - 11s 17ms/step - loss: 0.2112 - accuracy: 0.9217 - val_loss: 0.2315 - val_accuracy: 0.9334\n",
      "Epoch 29/100\n",
      "658/658 [==============================] - 12s 17ms/step - loss: 0.2105 - accuracy: 0.9206 - val_loss: 0.2333 - val_accuracy: 0.9281\n",
      "Epoch 30/100\n",
      "658/658 [==============================] - 12s 17ms/step - loss: 0.2124 - accuracy: 0.9204 - val_loss: 0.2159 - val_accuracy: 0.9291\n",
      "Epoch 31/100\n",
      "658/658 [==============================] - 11s 17ms/step - loss: 0.2102 - accuracy: 0.9204 - val_loss: 0.2300 - val_accuracy: 0.9304\n",
      "Epoch 32/100\n",
      "658/658 [==============================] - 11s 17ms/step - loss: 0.2054 - accuracy: 0.9218 - val_loss: 0.2148 - val_accuracy: 0.9353\n",
      "Epoch 33/100\n",
      "658/658 [==============================] - 12s 18ms/step - loss: 0.2096 - accuracy: 0.9192 - val_loss: 0.2235 - val_accuracy: 0.9359\n",
      "Epoch 34/100\n",
      "658/658 [==============================] - 12s 18ms/step - loss: 0.2062 - accuracy: 0.9226 - val_loss: 0.2328 - val_accuracy: 0.9293\n",
      "Epoch 35/100\n",
      "658/658 [==============================] - 12s 18ms/step - loss: 0.2048 - accuracy: 0.9222 - val_loss: 0.2307 - val_accuracy: 0.9329\n",
      "Epoch 36/100\n",
      "658/658 [==============================] - 12s 17ms/step - loss: 0.2034 - accuracy: 0.9246 - val_loss: 0.2185 - val_accuracy: 0.9336\n",
      "Epoch 37/100\n",
      "658/658 [==============================] - 12s 18ms/step - loss: 0.2061 - accuracy: 0.9213 - val_loss: 0.2305 - val_accuracy: 0.9327\n",
      "Epoch 38/100\n",
      "658/658 [==============================] - 12s 18ms/step - loss: 0.2040 - accuracy: 0.9240 - val_loss: 0.2349 - val_accuracy: 0.9321\n",
      "Epoch 39/100\n",
      "658/658 [==============================] - 13s 19ms/step - loss: 0.2015 - accuracy: 0.9239 - val_loss: 0.2307 - val_accuracy: 0.9325\n",
      "Epoch 40/100\n",
      "658/658 [==============================] - 12s 18ms/step - loss: 0.2045 - accuracy: 0.9209 - val_loss: 0.2538 - val_accuracy: 0.9293\n",
      "Epoch 41/100\n",
      "658/658 [==============================] - 11s 17ms/step - loss: 0.2044 - accuracy: 0.9236 - val_loss: 0.2533 - val_accuracy: 0.9234\n",
      "Epoch 42/100\n",
      "658/658 [==============================] - 10s 16ms/step - loss: 0.1999 - accuracy: 0.9240 - val_loss: 0.2436 - val_accuracy: 0.9348\n",
      "Epoch 00042: early stopping\n"
     ]
    }
   ],
   "source": [
    "EPOCHS = 100\n",
    "\n",
    "history = model.fit(X_train,\n",
    "                    y_train,\n",
    "                    epochs=EPOCHS,\n",
    "                    validation_split=0.2,\n",
    "                    verbose=1,\n",
    "                    callbacks=[early_stop])"
   ]
  },
  {
   "cell_type": "code",
   "execution_count": 53,
   "metadata": {},
   "outputs": [
    {
     "name": "stdout",
     "output_type": "stream",
     "text": [
      "Model Accuraccy:  0.93\n"
     ]
    },
    {
     "data": {
      "image/png": "[encoded data removed]",
      "text/plain": [
       "<Figure size 576x432 with 1 Axes>"
      ]
     },
     "metadata": {
      "needs_background": "light"
     },
     "output_type": "display_data"
    }
   ],
   "source": [
    "_, model_accuracy = model.evaluate(X_test, y_test, verbose=0)\n",
    "print(\"Model Accuraccy: \", round(model_accuracy, 2))\n",
    "summarize_loss(history)"
   ]
  },
  {
   "cell_type": "code",
   "execution_count": 54,
   "metadata": {},
   "outputs": [
    {
     "name": "stdout",
     "output_type": "stream",
     "text": [
      "WARNING:tensorflow:Please add `keras.layers.InputLayer` instead of `keras.Input` to Sequential model. `keras.Input` is intended to be used by Functional model.\n",
      "Model: \"sequential_3\"\n",
      "_________________________________________________________________\n",
      "Layer (type)                 Output Shape              Param #   \n",
      "=================================================================\n",
      "conv1d_18 (Conv1D)           (None, 100, 32)           192       \n",
      "_________________________________________________________________\n",
      "conv1d_19 (Conv1D)           (None, 100, 32)           5152      \n",
      "_________________________________________________________________\n",
      "max_pooling1d_9 (MaxPooling1 (None, 48, 32)            0         \n",
      "_________________________________________________________________\n",
      "dropout_8 (Dropout)          (None, 48, 32)            0         \n",
      "_________________________________________________________________\n",
      "conv1d_20 (Conv1D)           (None, 48, 32)            5152      \n",
      "_________________________________________________________________\n",
      "conv1d_21 (Conv1D)           (None, 48, 32)            5152      \n",
      "_________________________________________________________________\n",
      "max_pooling1d_10 (MaxPooling (None, 22, 32)            0         \n",
      "_________________________________________________________________\n",
      "dropout_9 (Dropout)          (None, 22, 32)            0         \n",
      "_________________________________________________________________\n",
      "conv1d_22 (Conv1D)           (None, 22, 32)            5152      \n",
      "_________________________________________________________________\n",
      "conv1d_23 (Conv1D)           (None, 22, 32)            5152      \n",
      "_________________________________________________________________\n",
      "max_pooling1d_11 (MaxPooling (None, 9, 32)             0         \n",
      "_________________________________________________________________\n",
      "dropout_10 (Dropout)         (None, 9, 32)             0         \n",
      "_________________________________________________________________\n",
      "flatten_3 (Flatten)          (None, 288)               0         \n",
      "_________________________________________________________________\n",
      "dense_9 (Dense)              (None, 32)                9248      \n",
      "_________________________________________________________________\n",
      "dropout_11 (Dropout)         (None, 32)                0         \n",
      "_________________________________________________________________\n",
      "dense_10 (Dense)             (None, 32)                1056      \n",
      "_________________________________________________________________\n",
      "dense_11 (Dense)             (None, 1)                 33        \n",
      "=================================================================\n",
      "Total params: 36,289\n",
      "Trainable params: 36,289\n",
      "Non-trainable params: 0\n",
      "_________________________________________________________________\n"
     ]
    }
   ],
   "source": [
    "model = Sequential()\n",
    "model.add(Input(shape=(features, depht)))\n",
    "model=group_layer(model)\n",
    "model.add(Dropout(0.2))\n",
    "model=group_layer(model)\n",
    "model.add(Dropout(0.2))\n",
    "model=group_layer(model)\n",
    "model.add(Dropout(0.2))\n",
    "model.add(Flatten())\n",
    "model.add(Dense(32, activation='relu'))\n",
    "model.add(Dropout(0.2))\n",
    "model.add(Dense(32, activation='relu'))\n",
    "model.add(Dense(1, activation='sigmoid'))\n",
    "model.summary()"
   ]
  },
  {
   "cell_type": "code",
   "execution_count": 55,
   "metadata": {},
   "outputs": [],
   "source": [
    "lr = 0.0005\n",
    "opt = Adam(learning_rate=lr, beta_1=0.9, beta_2=0.999)\n",
    "model.compile(loss='binary_crossentropy',\n",
    "              optimizer=opt,\n",
    "              metrics=['accuracy'])"
   ]
  },
  {
   "cell_type": "code",
   "execution_count": 56,
   "metadata": {},
   "outputs": [],
   "source": [
    "early_stop = EarlyStopping(monitor='val_loss', \n",
    "                           mode='min', \n",
    "                           verbose=1, \n",
    "                           patience=10)"
   ]
  },
  {
   "cell_type": "code",
   "execution_count": 57,
   "metadata": {},
   "outputs": [
    {
     "name": "stdout",
     "output_type": "stream",
     "text": [
      "Epoch 1/100\n",
      "658/658 [==============================] - 11s 15ms/step - loss: 0.4239 - accuracy: 0.7894 - val_loss: 0.2595 - val_accuracy: 0.9082\n",
      "Epoch 2/100\n",
      "658/658 [==============================] - 9s 14ms/step - loss: 0.2579 - accuracy: 0.9033 - val_loss: 0.2306 - val_accuracy: 0.9135\n",
      "Epoch 3/100\n",
      "658/658 [==============================] - 9s 14ms/step - loss: 0.2378 - accuracy: 0.9126 - val_loss: 0.2169 - val_accuracy: 0.9184\n",
      "Epoch 4/100\n",
      "658/658 [==============================] - 9s 14ms/step - loss: 0.2268 - accuracy: 0.9147 - val_loss: 0.2036 - val_accuracy: 0.9255\n",
      "Epoch 5/100\n",
      "658/658 [==============================] - 10s 15ms/step - loss: 0.2169 - accuracy: 0.9201 - val_loss: 0.1965 - val_accuracy: 0.9291\n",
      "Epoch 6/100\n",
      "658/658 [==============================] - 11s 16ms/step - loss: 0.2129 - accuracy: 0.9211 - val_loss: 0.1964 - val_accuracy: 0.9327\n",
      "Epoch 7/100\n",
      "658/658 [==============================] - 10s 15ms/step - loss: 0.2065 - accuracy: 0.9241 - val_loss: 0.1888 - val_accuracy: 0.9315\n",
      "Epoch 8/100\n",
      "658/658 [==============================] - 10s 15ms/step - loss: 0.2024 - accuracy: 0.9252 - val_loss: 0.1927 - val_accuracy: 0.9298\n",
      "Epoch 9/100\n",
      "658/658 [==============================] - 10s 15ms/step - loss: 0.2018 - accuracy: 0.9238 - val_loss: 0.1881 - val_accuracy: 0.9304\n",
      "Epoch 10/100\n",
      "658/658 [==============================] - 9s 14ms/step - loss: 0.1951 - accuracy: 0.9286 - val_loss: 0.1872 - val_accuracy: 0.9308\n",
      "Epoch 11/100\n",
      "658/658 [==============================] - 9s 14ms/step - loss: 0.1920 - accuracy: 0.9295 - val_loss: 0.1831 - val_accuracy: 0.9334\n",
      "Epoch 12/100\n",
      "658/658 [==============================] - 9s 13ms/step - loss: 0.1886 - accuracy: 0.9298 - val_loss: 0.1833 - val_accuracy: 0.9350\n",
      "Epoch 13/100\n",
      "658/658 [==============================] - 9s 13ms/step - loss: 0.1857 - accuracy: 0.9317 - val_loss: 0.1810 - val_accuracy: 0.9346\n",
      "Epoch 14/100\n",
      "658/658 [==============================] - 9s 14ms/step - loss: 0.1842 - accuracy: 0.9320 - val_loss: 0.1763 - val_accuracy: 0.9359\n",
      "Epoch 15/100\n",
      "658/658 [==============================] - 10s 15ms/step - loss: 0.1808 - accuracy: 0.9315 - val_loss: 0.1742 - val_accuracy: 0.9348\n",
      "Epoch 16/100\n",
      "658/658 [==============================] - 10s 15ms/step - loss: 0.1820 - accuracy: 0.9333 - val_loss: 0.1753 - val_accuracy: 0.9346\n",
      "Epoch 17/100\n",
      "658/658 [==============================] - 9s 14ms/step - loss: 0.1771 - accuracy: 0.9344 - val_loss: 0.1709 - val_accuracy: 0.9397\n",
      "Epoch 18/100\n",
      "658/658 [==============================] - 9s 14ms/step - loss: 0.1757 - accuracy: 0.9343 - val_loss: 0.1703 - val_accuracy: 0.9386\n",
      "Epoch 19/100\n",
      "658/658 [==============================] - 9s 13ms/step - loss: 0.1728 - accuracy: 0.9353 - val_loss: 0.1877 - val_accuracy: 0.9310\n",
      "Epoch 20/100\n",
      "658/658 [==============================] - 9s 14ms/step - loss: 0.1701 - accuracy: 0.9364 - val_loss: 0.1688 - val_accuracy: 0.9388\n",
      "Epoch 21/100\n",
      "658/658 [==============================] - 10s 15ms/step - loss: 0.1688 - accuracy: 0.9371 - val_loss: 0.1894 - val_accuracy: 0.9251\n",
      "Epoch 22/100\n",
      "658/658 [==============================] - 10s 15ms/step - loss: 0.1673 - accuracy: 0.9392 - val_loss: 0.1708 - val_accuracy: 0.9407\n",
      "Epoch 23/100\n",
      "658/658 [==============================] - 9s 14ms/step - loss: 0.1666 - accuracy: 0.9366 - val_loss: 0.1724 - val_accuracy: 0.9371\n",
      "Epoch 24/100\n",
      "658/658 [==============================] - 9s 13ms/step - loss: 0.1631 - accuracy: 0.9401 - val_loss: 0.1599 - val_accuracy: 0.9430\n",
      "Epoch 25/100\n",
      "658/658 [==============================] - 9s 13ms/step - loss: 0.1632 - accuracy: 0.9404 - val_loss: 0.1553 - val_accuracy: 0.9456\n",
      "Epoch 26/100\n",
      "658/658 [==============================] - 9s 14ms/step - loss: 0.1659 - accuracy: 0.9387 - val_loss: 0.1612 - val_accuracy: 0.9428\n",
      "Epoch 27/100\n",
      "658/658 [==============================] - 9s 13ms/step - loss: 0.1615 - accuracy: 0.9407 - val_loss: 0.1619 - val_accuracy: 0.9393\n",
      "Epoch 28/100\n",
      "658/658 [==============================] - 9s 13ms/step - loss: 0.1573 - accuracy: 0.9430 - val_loss: 0.1551 - val_accuracy: 0.9437\n",
      "Epoch 29/100\n",
      "658/658 [==============================] - 9s 13ms/step - loss: 0.1560 - accuracy: 0.9422 - val_loss: 0.1531 - val_accuracy: 0.9445\n",
      "Epoch 30/100\n",
      "658/658 [==============================] - 9s 13ms/step - loss: 0.1588 - accuracy: 0.9404 - val_loss: 0.1541 - val_accuracy: 0.9441\n",
      "Epoch 31/100\n",
      "658/658 [==============================] - 9s 13ms/step - loss: 0.1535 - accuracy: 0.9441 - val_loss: 0.1621 - val_accuracy: 0.9424\n",
      "Epoch 32/100\n",
      "658/658 [==============================] - 9s 13ms/step - loss: 0.1514 - accuracy: 0.9446 - val_loss: 0.1613 - val_accuracy: 0.9431\n",
      "Epoch 33/100\n",
      "658/658 [==============================] - 9s 13ms/step - loss: 0.1495 - accuracy: 0.9453 - val_loss: 0.1597 - val_accuracy: 0.9424\n",
      "Epoch 34/100\n",
      "658/658 [==============================] - 9s 13ms/step - loss: 0.1488 - accuracy: 0.9449 - val_loss: 0.1569 - val_accuracy: 0.9441\n",
      "Epoch 35/100\n",
      "658/658 [==============================] - 9s 13ms/step - loss: 0.1487 - accuracy: 0.9440 - val_loss: 0.1588 - val_accuracy: 0.9439\n",
      "Epoch 36/100\n",
      "658/658 [==============================] - 9s 13ms/step - loss: 0.1478 - accuracy: 0.9455 - val_loss: 0.1570 - val_accuracy: 0.9435\n",
      "Epoch 37/100\n",
      "658/658 [==============================] - 9s 13ms/step - loss: 0.1454 - accuracy: 0.9453 - val_loss: 0.1702 - val_accuracy: 0.9371\n",
      "Epoch 38/100\n",
      "658/658 [==============================] - 9s 13ms/step - loss: 0.1446 - accuracy: 0.9464 - val_loss: 0.1564 - val_accuracy: 0.9433\n",
      "Epoch 39/100\n",
      "658/658 [==============================] - 10s 15ms/step - loss: 0.1426 - accuracy: 0.9470 - val_loss: 0.1529 - val_accuracy: 0.9405\n",
      "Epoch 40/100\n",
      "658/658 [==============================] - 9s 14ms/step - loss: 0.1387 - accuracy: 0.9496 - val_loss: 0.1622 - val_accuracy: 0.9445\n",
      "Epoch 41/100\n",
      "658/658 [==============================] - 9s 14ms/step - loss: 0.1394 - accuracy: 0.9483 - val_loss: 0.1622 - val_accuracy: 0.9428\n",
      "Epoch 42/100\n",
      "658/658 [==============================] - 9s 14ms/step - loss: 0.1408 - accuracy: 0.9487 - val_loss: 0.1527 - val_accuracy: 0.9447\n",
      "Epoch 43/100\n",
      "658/658 [==============================] - 9s 13ms/step - loss: 0.1377 - accuracy: 0.9488 - val_loss: 0.1511 - val_accuracy: 0.9488\n",
      "Epoch 44/100\n",
      "658/658 [==============================] - 9s 13ms/step - loss: 0.1359 - accuracy: 0.9503 - val_loss: 0.1549 - val_accuracy: 0.9452\n",
      "Epoch 45/100\n",
      "658/658 [==============================] - 10s 15ms/step - loss: 0.1392 - accuracy: 0.9491 - val_loss: 0.1505 - val_accuracy: 0.9464\n",
      "Epoch 46/100\n",
      "658/658 [==============================] - 9s 14ms/step - loss: 0.1355 - accuracy: 0.9508 - val_loss: 0.1558 - val_accuracy: 0.9424\n",
      "Epoch 47/100\n",
      "658/658 [==============================] - 9s 13ms/step - loss: 0.1319 - accuracy: 0.9513 - val_loss: 0.1628 - val_accuracy: 0.9405\n",
      "Epoch 48/100\n",
      "658/658 [==============================] - 9s 13ms/step - loss: 0.1345 - accuracy: 0.9507 - val_loss: 0.1513 - val_accuracy: 0.9466\n",
      "Epoch 49/100\n",
      "658/658 [==============================] - 9s 13ms/step - loss: 0.1337 - accuracy: 0.9508 - val_loss: 0.1493 - val_accuracy: 0.9464\n",
      "Epoch 50/100\n",
      "658/658 [==============================] - 9s 13ms/step - loss: 0.1315 - accuracy: 0.9521 - val_loss: 0.1538 - val_accuracy: 0.9433\n",
      "Epoch 51/100\n",
      "658/658 [==============================] - 9s 13ms/step - loss: 0.1291 - accuracy: 0.9534 - val_loss: 0.1503 - val_accuracy: 0.9464\n",
      "Epoch 52/100\n",
      "658/658 [==============================] - 9s 13ms/step - loss: 0.1302 - accuracy: 0.9523 - val_loss: 0.1579 - val_accuracy: 0.9441\n",
      "Epoch 53/100\n",
      "658/658 [==============================] - 9s 13ms/step - loss: 0.1293 - accuracy: 0.9523 - val_loss: 0.1564 - val_accuracy: 0.9424\n",
      "Epoch 54/100\n",
      "658/658 [==============================] - 9s 13ms/step - loss: 0.1266 - accuracy: 0.9529 - val_loss: 0.1497 - val_accuracy: 0.9462\n",
      "Epoch 55/100\n",
      "658/658 [==============================] - 9s 13ms/step - loss: 0.1284 - accuracy: 0.9531 - val_loss: 0.1487 - val_accuracy: 0.9462\n",
      "Epoch 56/100\n",
      "658/658 [==============================] - 9s 13ms/step - loss: 0.1290 - accuracy: 0.9532 - val_loss: 0.1461 - val_accuracy: 0.9469\n",
      "Epoch 57/100\n",
      "658/658 [==============================] - 9s 13ms/step - loss: 0.1244 - accuracy: 0.9534 - val_loss: 0.1541 - val_accuracy: 0.9447\n",
      "Epoch 58/100\n",
      "658/658 [==============================] - 9s 13ms/step - loss: 0.1259 - accuracy: 0.9532 - val_loss: 0.1499 - val_accuracy: 0.9481\n",
      "Epoch 59/100\n",
      "658/658 [==============================] - 9s 14ms/step - loss: 0.1230 - accuracy: 0.9546 - val_loss: 0.1464 - val_accuracy: 0.9473\n",
      "Epoch 60/100\n",
      "658/658 [==============================] - 9s 13ms/step - loss: 0.1257 - accuracy: 0.9553 - val_loss: 0.1530 - val_accuracy: 0.9483\n",
      "Epoch 61/100\n",
      "658/658 [==============================] - 9s 13ms/step - loss: 0.1226 - accuracy: 0.9537 - val_loss: 0.1473 - val_accuracy: 0.9469\n",
      "Epoch 62/100\n",
      "658/658 [==============================] - 9s 13ms/step - loss: 0.1237 - accuracy: 0.9543 - val_loss: 0.1527 - val_accuracy: 0.9458\n",
      "Epoch 63/100\n",
      "658/658 [==============================] - 9s 13ms/step - loss: 0.1240 - accuracy: 0.9552 - val_loss: 0.1516 - val_accuracy: 0.9456\n",
      "Epoch 64/100\n",
      "658/658 [==============================] - 9s 13ms/step - loss: 0.1209 - accuracy: 0.9557 - val_loss: 0.1529 - val_accuracy: 0.9464\n",
      "Epoch 65/100\n",
      "658/658 [==============================] - 9s 14ms/step - loss: 0.1184 - accuracy: 0.9559 - val_loss: 0.1455 - val_accuracy: 0.9492\n",
      "Epoch 66/100\n",
      "658/658 [==============================] - 9s 14ms/step - loss: 0.1191 - accuracy: 0.9554 - val_loss: 0.1533 - val_accuracy: 0.9441\n",
      "Epoch 67/100\n",
      "658/658 [==============================] - 9s 14ms/step - loss: 0.1181 - accuracy: 0.9575 - val_loss: 0.1497 - val_accuracy: 0.9452\n",
      "Epoch 68/100\n",
      "658/658 [==============================] - 9s 14ms/step - loss: 0.1183 - accuracy: 0.9553 - val_loss: 0.1423 - val_accuracy: 0.9488\n",
      "Epoch 69/100\n",
      "658/658 [==============================] - 9s 13ms/step - loss: 0.1179 - accuracy: 0.9564 - val_loss: 0.1437 - val_accuracy: 0.9485\n",
      "Epoch 70/100\n",
      "658/658 [==============================] - 9s 13ms/step - loss: 0.1179 - accuracy: 0.9575 - val_loss: 0.1441 - val_accuracy: 0.9488\n",
      "Epoch 71/100\n",
      "658/658 [==============================] - 9s 13ms/step - loss: 0.1161 - accuracy: 0.9558 - val_loss: 0.1465 - val_accuracy: 0.9477\n",
      "Epoch 72/100\n",
      "658/658 [==============================] - 9s 13ms/step - loss: 0.1132 - accuracy: 0.9592 - val_loss: 0.1427 - val_accuracy: 0.9473\n",
      "Epoch 73/100\n",
      "658/658 [==============================] - 9s 14ms/step - loss: 0.1097 - accuracy: 0.9609 - val_loss: 0.1547 - val_accuracy: 0.9449\n",
      "Epoch 74/100\n",
      "658/658 [==============================] - 9s 14ms/step - loss: 0.1138 - accuracy: 0.9579 - val_loss: 0.1509 - val_accuracy: 0.9460\n",
      "Epoch 75/100\n",
      "658/658 [==============================] - 9s 13ms/step - loss: 0.1141 - accuracy: 0.9593 - val_loss: 0.1532 - val_accuracy: 0.9481\n",
      "Epoch 76/100\n",
      "658/658 [==============================] - 9s 13ms/step - loss: 0.1126 - accuracy: 0.9598 - val_loss: 0.1461 - val_accuracy: 0.9481\n",
      "Epoch 77/100\n",
      "658/658 [==============================] - 9s 13ms/step - loss: 0.1137 - accuracy: 0.9576 - val_loss: 0.1469 - val_accuracy: 0.9466\n",
      "Epoch 78/100\n",
      "658/658 [==============================] - 9s 13ms/step - loss: 0.1108 - accuracy: 0.9585 - val_loss: 0.1465 - val_accuracy: 0.9471\n",
      "Epoch 00078: early stopping\n"
     ]
    }
   ],
   "source": [
    "EPOCHS = 100\n",
    "\n",
    "history = model.fit(X_train,\n",
    "                    y_train,\n",
    "                    epochs=EPOCHS,\n",
    "                    validation_split=0.2,\n",
    "                    verbose=1,\n",
    "                    callbacks=[early_stop])"
   ]
  },
  {
   "cell_type": "code",
   "execution_count": 58,
   "metadata": {},
   "outputs": [
    {
     "name": "stdout",
     "output_type": "stream",
     "text": [
      "Model Accuraccy:  0.95\n"
     ]
    },
    {
     "data": {
      "image/png": "[encoded data removed]",
      "text/plain": [
       "<Figure size 576x432 with 1 Axes>"
      ]
     },
     "metadata": {
      "needs_background": "light"
     },
     "output_type": "display_data"
    }
   ],
   "source": [
    "_, model_accuracy = model.evaluate(X_test, y_test, verbose=0)\n",
    "print(\"Model Accuraccy: \", round(model_accuracy, 2))\n",
    "summarize_loss(history)"
   ]
  },
  {
   "cell_type": "code",
   "execution_count": 59,
   "metadata": {},
   "outputs": [
    {
     "name": "stdout",
     "output_type": "stream",
     "text": [
      "INFO:tensorflow:Assets written to: ../models/cnn_1d_v100_drop0_2\\assets\n"
     ]
    }
   ],
   "source": [
    "model.save('../models/cnn_1d_v100_drop0_2.h5')\n",
    "model.save('../models/cnn_1d_v100_drop0_2')"
   ]
  },
  {
   "cell_type": "code",
   "execution_count": 61,
   "metadata": {},
   "outputs": [
    {
     "name": "stdout",
     "output_type": "stream",
     "text": [
      "INFO:tensorflow:Assets written to: C:\\Users\\GUILH\\AppData\\Local\\Temp\\tmp4i5g2weo\\assets\n"
     ]
    },
    {
     "data": {
      "text/plain": [
       "53264"
      ]
     },
     "execution_count": 61,
     "metadata": {},
     "output_type": "execute_result"
    }
   ],
   "source": [
    "# Convert TF model to a tflite model\n",
    "model_cnn_v0_drop0_2 = load_model('../models/cnn_1d_v100_drop0_2')\n",
    "converter = tf.lite.TFLiteConverter.from_keras_model(model_cnn_v0_drop0_2)\n",
    "converter.optimizations = [tf.lite.Optimize.OPTIMIZE_FOR_SIZE]\n",
    "tflite_model = converter.convert()\n",
    "\n",
    "open(\"../models/cnn_v0_drop0_2.tflite\",\"wb\").write(tflite_model)"
   ]
  },
  {
   "cell_type": "code",
   "execution_count": 64,
   "metadata": {},
   "outputs": [],
   "source": [
    "c_model_name = '../models/cnn_v0_drop0_2'\n",
    "# Write TFLite model to a C source (or header) file\n",
    "with open(c_model_name + '.h', 'w') as file:\n",
    "    file.write(hex_to_c_array(tflite_model, c_model_name))"
   ]
  },
  {
   "cell_type": "markdown",
   "metadata": {},
   "source": [
    "## Second try of optimization"
   ]
  },
  {
   "cell_type": "code",
   "execution_count": 65,
   "metadata": {},
   "outputs": [
    {
     "name": "stdout",
     "output_type": "stream",
     "text": [
      "INFO:tensorflow:Assets written to: C:\\Users\\GUILH\\AppData\\Local\\Temp\\tmpcbq_vlyh\\assets\n"
     ]
    },
    {
     "name": "stderr",
     "output_type": "stream",
     "text": [
      "INFO:tensorflow:Assets written to: C:\\Users\\GUILH\\AppData\\Local\\Temp\\tmpcbq_vlyh\\assets\n"
     ]
    },
    {
     "data": {
      "text/plain": [
       "53264"
      ]
     },
     "execution_count": 65,
     "metadata": {},
     "output_type": "execute_result"
    }
   ],
   "source": [
    "# Convert TF model to a tflite model\n",
    "model_cnn_v0_drop0_3 = load_model('../models/cnn_1d_v100_drop0_2')\n",
    "converter = tf.lite.TFLiteConverter.from_keras_model(model_cnn_v0_drop0_3)\n",
    "converter.optimizations = [tf.lite.Optimize.DEFAULT]\n",
    "tflite_model = converter.convert()\n",
    "\n",
    "open(\"../models/cnn_v0_drop0_3.tflite\",\"wb\").write(tflite_model)"
   ]
  },
  {
   "cell_type": "code",
   "execution_count": 66,
   "metadata": {},
   "outputs": [],
   "source": [
    "c_model_name = '../models/cnn_v0_drop0_3'\n",
    "# Write TFLite model to a C source (or header) file\n",
    "with open(c_model_name + '.h', 'w') as file:\n",
    "    file.write(hex_to_c_array(tflite_model, c_model_name))"
   ]
  },
  {
   "cell_type": "markdown",
   "metadata": {},
   "source": [
    "It got the same performance in terms of memory costs"
   ]
  },
  {
   "cell_type": "markdown",
   "metadata": {},
   "source": [
    "## Third try of optimization"
   ]
  },
  {
   "cell_type": "code",
   "execution_count": 69,
   "metadata": {},
   "outputs": [
    {
     "data": {
      "text/plain": [
       "(100, 1)"
      ]
     },
     "execution_count": 69,
     "metadata": {},
     "output_type": "execute_result"
    }
   ],
   "source": [
    "X_train[1].shape"
   ]
  },
  {
   "cell_type": "code",
   "execution_count": 73,
   "metadata": {},
   "outputs": [],
   "source": [
    "def representative_data_gen():\n",
    "    for input_value in tf.data.Dataset.from_tensor_slices(X_train).batch(1).take(100):\n",
    "    # Model has only one input so each data point has one element.\n",
    "        yield [input_value]"
   ]
  },
  {
   "cell_type": "code",
   "execution_count": 76,
   "metadata": {},
   "outputs": [
    {
     "name": "stdout",
     "output_type": "stream",
     "text": [
      "INFO:tensorflow:Assets written to: C:\\Users\\GUILH\\AppData\\Local\\Temp\\tmprbu_s8_7\\assets\n"
     ]
    },
    {
     "name": "stderr",
     "output_type": "stream",
     "text": [
      "INFO:tensorflow:Assets written to: C:\\Users\\GUILH\\AppData\\Local\\Temp\\tmprbu_s8_7\\assets\n"
     ]
    }
   ],
   "source": [
    "representative_dataset = tf.data.Dataset.from_tensor_slices(X_train.astype('float32'))\n",
    "representative_dataset = representative_dataset.shuffle(buffer_size=10000).batch(1)\n",
    "\n",
    "model_cnn_v0_drop0_4 = load_model('../models/cnn_1d_v100_drop0_2')\n",
    "converter = tf.lite.TFLiteConverter.from_keras_model(model_cnn_v0_drop0_4)\n",
    "converter.optimizations = [tf.lite.Optimize.DEFAULT]\n",
    "def representative_dataset_gen():\n",
    "    for i, samples in enumerate(representative_dataset.take(1)):\n",
    "        yield [samples]\n",
    "        \n",
    "converter.representative_dataset = representative_dataset_gen\n",
    "tflite_model_quant = converter.convert()"
   ]
  },
  {
   "cell_type": "code",
   "execution_count": 78,
   "metadata": {},
   "outputs": [],
   "source": [
    "open(\"../models/cnn_v0_drop0_5.tflite\",\"wb\").write(tflite_model_quant)\n",
    "c_model_name = '../models/cnn_v0_drop0_5'\n",
    "# Write TFLite model to a C source (or header) file\n",
    "with open(c_model_name + '.h', 'w') as file:\n",
    "    file.write(hex_to_c_array(tflite_model, c_model_name))"
   ]
  },
  {
   "cell_type": "markdown",
   "metadata": {},
   "source": [
    "It got the same performance in terms of memory costs"
   ]
  },
  {
   "cell_type": "markdown",
   "metadata": {},
   "source": [
    "## Fourth try of optimization"
   ]
  },
  {
   "cell_type": "code",
   "execution_count": 83,
   "metadata": {},
   "outputs": [
    {
     "name": "stdout",
     "output_type": "stream",
     "text": [
      "INFO:tensorflow:Assets written to: C:\\Users\\GUILH\\AppData\\Local\\Temp\\tmph5818_jn\\assets\n"
     ]
    },
    {
     "name": "stderr",
     "output_type": "stream",
     "text": [
      "INFO:tensorflow:Assets written to: C:\\Users\\GUILH\\AppData\\Local\\Temp\\tmph5818_jn\\assets\n"
     ]
    }
   ],
   "source": [
    "model_cnn_v0_drop0_6 = load_model('../models/cnn_1d_v100_drop0_2')\n",
    "converter = tf.lite.TFLiteConverter.from_keras_model(model_cnn_v0_drop0_6)\n",
    "converter.optimizations = [tf.lite.Optimize.DEFAULT]\n",
    "converter.target_spec.supported_types = [tf.float16]\n",
    "tflite_quant_model = converter.convert()"
   ]
  },
  {
   "cell_type": "code",
   "execution_count": 81,
   "metadata": {},
   "outputs": [],
   "source": [
    "open(\"../models/cnn_v0_drop0_6.tflite\",\"wb\").write(tflite_quant_model)\n",
    "c_model_name = '../models/cnn_v0_drop0_6'\n",
    "# Write TFLite model to a C source (or header) file\n",
    "with open(c_model_name + '.h', 'w') as file:\n",
    "    file.write(hex_to_c_array(tflite_model, c_model_name))"
   ]
  },
  {
   "cell_type": "markdown",
   "metadata": {},
   "source": [
    "## Fifth try of optimization"
   ]
  },
  {
   "cell_type": "code",
   "execution_count": 84,
   "metadata": {},
   "outputs": [
    {
     "name": "stdout",
     "output_type": "stream",
     "text": [
      "INFO:tensorflow:Assets written to: C:\\Users\\GUILH\\AppData\\Local\\Temp\\tmpjdt70_e3\\assets\n"
     ]
    },
    {
     "name": "stderr",
     "output_type": "stream",
     "text": [
      "INFO:tensorflow:Assets written to: C:\\Users\\GUILH\\AppData\\Local\\Temp\\tmpjdt70_e3\\assets\n"
     ]
    }
   ],
   "source": [
    "model_cnn_v0_drop0_7 = load_model('../models/cnn_1d_v100_drop0_2')\n",
    "converter = tf.lite.TFLiteConverter.from_keras_model(model_cnn_v0_drop0_7)\n",
    "converter.optimizations = [tf.lite.Optimize.DEFAULT]        \n",
    "converter.representative_dataset = representative_dataset_gen\n",
    "converter.target_spec.supported_ops = [tf.lite.OpsSet.TFLITE_BUILTINS_INT8]\n",
    "converter.inference_input_type = tf.int8  # or tf.uint8\n",
    "converter.inference_output_type = tf.int8  # or tf.uint8\n",
    "tflite_model_quant_8bits = converter.convert()"
   ]
  },
  {
   "cell_type": "code",
   "execution_count": 85,
   "metadata": {},
   "outputs": [],
   "source": [
    "open(\"../models/cnn_v0_drop0_7.tflite\",\"wb\").write(tflite_model_quant_8bits)\n",
    "c_model_name = '../models/cnn_v0_drop0_7'\n",
    "# Write TFLite model to a C source (or header) file\n",
    "with open(c_model_name + '.h', 'w') as file:\n",
    "    file.write(hex_to_c_array(tflite_model, c_model_name))"
   ]
  },
  {
   "cell_type": "markdown",
   "metadata": {},
   "source": [
    "## Model with L1 regularization "
   ]
  },
  {
   "cell_type": "code",
   "execution_count": 11,
   "metadata": {},
   "outputs": [],
   "source": [
    "from keras.regularizers import l1,l2"
   ]
  },
  {
   "cell_type": "code",
   "execution_count": 20,
   "metadata": {},
   "outputs": [],
   "source": [
    "def group_layer(model):\n",
    "    model.add(\n",
    "        Conv1D(32,\n",
    "               kernel_size=5,\n",
    "               strides=1,\n",
    "               kernel_regularizer=l1(0.01),\n",
    "               padding='same',\n",
    "               activation='relu'))\n",
    "    model.add(\n",
    "        Conv1D(32,\n",
    "               kernel_size=5,\n",
    "               strides=1,\n",
    "               kernel_regularizer=l1(0.01),\n",
    "               padding='same',\n",
    "               activation='relu'))\n",
    "    model.add(MaxPooling1D(pool_size=5, strides=2))\n",
    "    return model"
   ]
  },
  {
   "cell_type": "code",
   "execution_count": 21,
   "metadata": {},
   "outputs": [
    {
     "name": "stdout",
     "output_type": "stream",
     "text": [
      "WARNING:tensorflow:Please add `keras.layers.InputLayer` instead of `keras.Input` to Sequential model. `keras.Input` is intended to be used by Functional model.\n",
      "Model: \"sequential_3\"\n",
      "_________________________________________________________________\n",
      "Layer (type)                 Output Shape              Param #   \n",
      "=================================================================\n",
      "conv1d_6 (Conv1D)            (None, 100, 32)           192       \n",
      "_________________________________________________________________\n",
      "conv1d_7 (Conv1D)            (None, 100, 32)           5152      \n",
      "_________________________________________________________________\n",
      "max_pooling1d_3 (MaxPooling1 (None, 48, 32)            0         \n",
      "_________________________________________________________________\n",
      "dropout_4 (Dropout)          (None, 48, 32)            0         \n",
      "_________________________________________________________________\n",
      "conv1d_8 (Conv1D)            (None, 48, 32)            5152      \n",
      "_________________________________________________________________\n",
      "conv1d_9 (Conv1D)            (None, 48, 32)            5152      \n",
      "_________________________________________________________________\n",
      "max_pooling1d_4 (MaxPooling1 (None, 22, 32)            0         \n",
      "_________________________________________________________________\n",
      "dropout_5 (Dropout)          (None, 22, 32)            0         \n",
      "_________________________________________________________________\n",
      "conv1d_10 (Conv1D)           (None, 22, 32)            5152      \n",
      "_________________________________________________________________\n",
      "conv1d_11 (Conv1D)           (None, 22, 32)            5152      \n",
      "_________________________________________________________________\n",
      "max_pooling1d_5 (MaxPooling1 (None, 9, 32)             0         \n",
      "_________________________________________________________________\n",
      "dropout_6 (Dropout)          (None, 9, 32)             0         \n",
      "_________________________________________________________________\n",
      "flatten_1 (Flatten)          (None, 288)               0         \n",
      "_________________________________________________________________\n",
      "dense_3 (Dense)              (None, 32)                9248      \n",
      "_________________________________________________________________\n",
      "dropout_7 (Dropout)          (None, 32)                0         \n",
      "_________________________________________________________________\n",
      "dense_4 (Dense)              (None, 32)                1056      \n",
      "_________________________________________________________________\n",
      "dense_5 (Dense)              (None, 1)                 33        \n",
      "=================================================================\n",
      "Total params: 36,289\n",
      "Trainable params: 36,289\n",
      "Non-trainable params: 0\n",
      "_________________________________________________________________\n"
     ]
    }
   ],
   "source": [
    "model = Sequential()\n",
    "model.add(Input(shape=(features, depht)))\n",
    "model=group_layer(model)\n",
    "model.add(Dropout(0.2))\n",
    "model=group_layer(model)\n",
    "model.add(Dropout(0.2))\n",
    "model=group_layer(model)\n",
    "model.add(Dropout(0.2))\n",
    "model.add(Flatten())\n",
    "model.add(Dense(32, activation='relu',kernel_regularizer=l1(0.01)))\n",
    "model.add(Dropout(0.2))\n",
    "model.add(Dense(32, activation='relu',kernel_regularizer=l1(0.01)))\n",
    "model.add(Dense(1, activation='sigmoid'))\n",
    "model.summary()"
   ]
  },
  {
   "cell_type": "code",
   "execution_count": 22,
   "metadata": {},
   "outputs": [],
   "source": [
    "lr = 0.0005\n",
    "opt = Adam(learning_rate=lr, beta_1=0.9, beta_2=0.999)\n",
    "model.compile(loss='binary_crossentropy',\n",
    "              optimizer=opt,\n",
    "              metrics=['accuracy'])"
   ]
  },
  {
   "cell_type": "code",
   "execution_count": 23,
   "metadata": {},
   "outputs": [],
   "source": [
    "early_stop = EarlyStopping(monitor='val_loss', \n",
    "                           mode='min', \n",
    "                           verbose=1, \n",
    "                           patience=10)"
   ]
  },
  {
   "cell_type": "code",
   "execution_count": 24,
   "metadata": {},
   "outputs": [
    {
     "name": "stdout",
     "output_type": "stream",
     "text": [
      "Epoch 1/100\n",
      "658/658 [==============================] - 12s 15ms/step - loss: 4.5581 - accuracy: 0.5547 - val_loss: 0.7104 - val_accuracy: 0.5524\n",
      "Epoch 2/100\n",
      "658/658 [==============================] - 11s 17ms/step - loss: 0.7099 - accuracy: 0.5547 - val_loss: 0.7105 - val_accuracy: 0.5524\n",
      "Epoch 3/100\n",
      "658/658 [==============================] - 10s 16ms/step - loss: 0.7100 - accuracy: 0.5547 - val_loss: 0.7103 - val_accuracy: 0.5524\n",
      "Epoch 4/100\n",
      "658/658 [==============================] - 10s 15ms/step - loss: 0.7099 - accuracy: 0.5547 - val_loss: 0.7105 - val_accuracy: 0.5524\n",
      "Epoch 5/100\n",
      "658/658 [==============================] - 10s 15ms/step - loss: 0.7100 - accuracy: 0.5547 - val_loss: 0.7104 - val_accuracy: 0.5524\n",
      "Epoch 6/100\n",
      "658/658 [==============================] - 9s 14ms/step - loss: 0.7099 - accuracy: 0.5547 - val_loss: 0.7104 - val_accuracy: 0.5524\n",
      "Epoch 7/100\n",
      "658/658 [==============================] - 10s 15ms/step - loss: 0.7099 - accuracy: 0.5547 - val_loss: 0.7103 - val_accuracy: 0.5524\n",
      "Epoch 8/100\n",
      "658/658 [==============================] - 10s 15ms/step - loss: 0.7099 - accuracy: 0.5547 - val_loss: 0.7104 - val_accuracy: 0.5524\n",
      "Epoch 9/100\n",
      "658/658 [==============================] - 11s 17ms/step - loss: 0.7099 - accuracy: 0.5547 - val_loss: 0.7103 - val_accuracy: 0.5524\n",
      "Epoch 10/100\n",
      "658/658 [==============================] - 11s 17ms/step - loss: 0.7099 - accuracy: 0.5547 - val_loss: 0.7103 - val_accuracy: 0.5524\n",
      "Epoch 11/100\n",
      "658/658 [==============================] - 10s 15ms/step - loss: 0.7098 - accuracy: 0.5547 - val_loss: 0.7104 - val_accuracy: 0.5524\n",
      "Epoch 12/100\n",
      "658/658 [==============================] - 10s 16ms/step - loss: 0.7099 - accuracy: 0.5547 - val_loss: 0.7104 - val_accuracy: 0.5524\n",
      "Epoch 13/100\n",
      "658/658 [==============================] - 10s 15ms/step - loss: 0.7099 - accuracy: 0.5547 - val_loss: 0.7105 - val_accuracy: 0.5524\n",
      "Epoch 14/100\n",
      "658/658 [==============================] - 10s 15ms/step - loss: 0.7099 - accuracy: 0.5547 - val_loss: 0.7103 - val_accuracy: 0.5524\n",
      "Epoch 15/100\n",
      "658/658 [==============================] - 10s 15ms/step - loss: 0.7099 - accuracy: 0.5547 - val_loss: 0.7102 - val_accuracy: 0.5524\n",
      "Epoch 16/100\n",
      "658/658 [==============================] - 10s 15ms/step - loss: 0.7098 - accuracy: 0.5547 - val_loss: 0.7107 - val_accuracy: 0.5524\n",
      "Epoch 17/100\n",
      "658/658 [==============================] - 11s 17ms/step - loss: 0.7099 - accuracy: 0.5547 - val_loss: 0.7103 - val_accuracy: 0.5524\n",
      "Epoch 18/100\n",
      "658/658 [==============================] - 10s 16ms/step - loss: 0.7099 - accuracy: 0.5547 - val_loss: 0.7105 - val_accuracy: 0.5524\n",
      "Epoch 19/100\n",
      "658/658 [==============================] - 11s 17ms/step - loss: 0.7099 - accuracy: 0.5547 - val_loss: 0.7103 - val_accuracy: 0.5524\n",
      "Epoch 20/100\n",
      "658/658 [==============================] - 11s 17ms/step - loss: 0.7099 - accuracy: 0.5547 - val_loss: 0.7104 - val_accuracy: 0.5524\n",
      "Epoch 21/100\n",
      "658/658 [==============================] - 10s 16ms/step - loss: 0.7099 - accuracy: 0.5547 - val_loss: 0.7103 - val_accuracy: 0.5524\n",
      "Epoch 22/100\n",
      "658/658 [==============================] - 10s 16ms/step - loss: 0.7099 - accuracy: 0.5547 - val_loss: 0.7103 - val_accuracy: 0.5524\n",
      "Epoch 23/100\n",
      "658/658 [==============================] - 10s 15ms/step - loss: 0.7099 - accuracy: 0.5547 - val_loss: 0.7103 - val_accuracy: 0.5524\n",
      "Epoch 24/100\n",
      "658/658 [==============================] - 10s 15ms/step - loss: 0.7098 - accuracy: 0.5547 - val_loss: 0.7104 - val_accuracy: 0.5524\n",
      "Epoch 25/100\n",
      "658/658 [==============================] - 10s 15ms/step - loss: 0.7099 - accuracy: 0.5547 - val_loss: 0.7102 - val_accuracy: 0.5524\n",
      "Epoch 26/100\n",
      "658/658 [==============================] - 10s 15ms/step - loss: 0.7098 - accuracy: 0.5547 - val_loss: 0.7104 - val_accuracy: 0.5524\n",
      "Epoch 27/100\n",
      "658/658 [==============================] - 9s 14ms/step - loss: 0.7099 - accuracy: 0.5547 - val_loss: 0.7104 - val_accuracy: 0.5524\n",
      "Epoch 28/100\n",
      "658/658 [==============================] - 10s 15ms/step - loss: 0.7099 - accuracy: 0.5547 - val_loss: 0.7104 - val_accuracy: 0.5524\n",
      "Epoch 29/100\n",
      "658/658 [==============================] - 10s 14ms/step - loss: 0.7099 - accuracy: 0.5547 - val_loss: 0.7104 - val_accuracy: 0.5524\n",
      "Epoch 30/100\n",
      "658/658 [==============================] - 9s 13ms/step - loss: 0.7099 - accuracy: 0.5547 - val_loss: 0.7103 - val_accuracy: 0.5524\n",
      "Epoch 31/100\n",
      "658/658 [==============================] - 9s 13ms/step - loss: 0.7099 - accuracy: 0.5547 - val_loss: 0.7103 - val_accuracy: 0.5524\n",
      "Epoch 32/100\n",
      "658/658 [==============================] - 9s 13ms/step - loss: 0.7099 - accuracy: 0.5547 - val_loss: 0.7105 - val_accuracy: 0.5524\n",
      "Epoch 33/100\n",
      "658/658 [==============================] - 9s 13ms/step - loss: 0.7099 - accuracy: 0.5547 - val_loss: 0.7103 - val_accuracy: 0.5524\n",
      "Epoch 34/100\n",
      "658/658 [==============================] - 8s 13ms/step - loss: 0.7099 - accuracy: 0.5547 - val_loss: 0.7104 - val_accuracy: 0.5524\n",
      "Epoch 35/100\n",
      "658/658 [==============================] - 9s 14ms/step - loss: 0.7099 - accuracy: 0.5547 - val_loss: 0.7104 - val_accuracy: 0.5524\n",
      "Epoch 00035: early stopping\n"
     ]
    }
   ],
   "source": [
    "EPOCHS = 100\n",
    "\n",
    "history = model.fit(X_train,\n",
    "                    y_train,\n",
    "                    epochs=EPOCHS,\n",
    "                    validation_split=0.2,\n",
    "                    verbose=1,\n",
    "                    callbacks=[early_stop])"
   ]
  },
  {
   "cell_type": "code",
   "execution_count": 27,
   "metadata": {},
   "outputs": [
    {
     "name": "stdout",
     "output_type": "stream",
     "text": [
      "Model Accuraccy:  0.55\n"
     ]
    },
    {
     "data": {
      "image/png": "[encoded data removed]",
      "text/plain": [
       "<Figure size 576x432 with 1 Axes>"
      ]
     },
     "metadata": {
      "needs_background": "light"
     },
     "output_type": "display_data"
    }
   ],
   "source": [
    "_, model_accuracy = model.evaluate(X_test, y_test, verbose=0)\n",
    "print(\"Model Accuraccy: \", round(model_accuracy, 2))\n",
    "summarize_loss(history)"
   ]
  },
  {
   "cell_type": "code",
   "execution_count": 28,
   "metadata": {},
   "outputs": [
    {
     "name": "stdout",
     "output_type": "stream",
     "text": [
      "INFO:tensorflow:Assets written to: ../models/cnn_1d_v100_l1\\assets\n"
     ]
    }
   ],
   "source": [
    "model.save('../models/cnn_1d_v100_l1.h5')\n",
    "model.save('../models/cnn_1d_v100_l1')"
   ]
  },
  {
   "cell_type": "code",
   "execution_count": 29,
   "metadata": {},
   "outputs": [
    {
     "name": "stdout",
     "output_type": "stream",
     "text": [
      "INFO:tensorflow:Assets written to: C:\\Users\\GUILH\\AppData\\Local\\Temp\\tmp43ay9w5j\\assets\n"
     ]
    },
    {
     "data": {
      "text/plain": [
       "53120"
      ]
     },
     "execution_count": 29,
     "metadata": {},
     "output_type": "execute_result"
    }
   ],
   "source": [
    "# Convert TF model to a tflite model\n",
    "model_cnn_v0_l1 = load_model('../models/cnn_1d_v100_l1')\n",
    "converter = tf.lite.TFLiteConverter.from_keras_model(model_cnn_v0_l1)\n",
    "converter.optimizations = [tf.lite.Optimize.OPTIMIZE_FOR_SIZE]\n",
    "tflite_model = converter.convert()\n",
    "\n",
    "open(\"../models/cnn_v0_l1.tflite\",\"wb\").write(tflite_model)"
   ]
  },
  {
   "cell_type": "code",
   "execution_count": 32,
   "metadata": {},
   "outputs": [],
   "source": [
    "c_model_name = '../models/cnn_v0_l1'\n",
    "# Write TFLite model to a C source (or header) file\n",
    "with open(c_model_name + '.h', 'w') as file:\n",
    "    file.write(hex_to_c_array(tflite_model, c_model_name))"
   ]
  },
  {
   "cell_type": "markdown",
   "metadata": {},
   "source": [
    "### Simplifying the model to reduce the memory usage "
   ]
  },
  {
   "cell_type": "code",
   "execution_count": 25,
   "metadata": {},
   "outputs": [],
   "source": [
    "def group_layer(model):\n",
    "    model.add(\n",
    "        Conv1D(16,\n",
    "               kernel_size=5,\n",
    "               strides=1,\n",
    "               padding='same',\n",
    "               activation='relu'))\n",
    "    model.add(\n",
    "        Conv1D(8,\n",
    "               kernel_size=5,\n",
    "               strides=1,\n",
    "               padding='same',\n",
    "               activation='relu'))\n",
    "    model.add(MaxPooling1D(pool_size=5, strides=2))\n",
    "    return model"
   ]
  },
  {
   "cell_type": "code",
   "execution_count": 30,
   "metadata": {},
   "outputs": [
    {
     "name": "stdout",
     "output_type": "stream",
     "text": [
      "WARNING:tensorflow:Please add `keras.layers.InputLayer` instead of `keras.Input` to Sequential model. `keras.Input` is intended to be used by Functional model.\n",
      "Model: \"sequential_5\"\n",
      "_________________________________________________________________\n",
      "Layer (type)                 Output Shape              Param #   \n",
      "=================================================================\n",
      "conv1d_34 (Conv1D)           (None, 100, 16)           96        \n",
      "_________________________________________________________________\n",
      "conv1d_35 (Conv1D)           (None, 100, 8)            648       \n",
      "_________________________________________________________________\n",
      "max_pooling1d_17 (MaxPooling (None, 48, 8)             0         \n",
      "_________________________________________________________________\n",
      "dropout_23 (Dropout)         (None, 48, 8)             0         \n",
      "_________________________________________________________________\n",
      "conv1d_36 (Conv1D)           (None, 48, 16)            656       \n",
      "_________________________________________________________________\n",
      "conv1d_37 (Conv1D)           (None, 48, 8)             648       \n",
      "_________________________________________________________________\n",
      "max_pooling1d_18 (MaxPooling (None, 22, 8)             0         \n",
      "_________________________________________________________________\n",
      "dropout_24 (Dropout)         (None, 22, 8)             0         \n",
      "_________________________________________________________________\n",
      "conv1d_38 (Conv1D)           (None, 22, 16)            656       \n",
      "_________________________________________________________________\n",
      "conv1d_39 (Conv1D)           (None, 22, 8)             648       \n",
      "_________________________________________________________________\n",
      "max_pooling1d_19 (MaxPooling (None, 9, 8)              0         \n",
      "_________________________________________________________________\n",
      "dropout_25 (Dropout)         (None, 9, 8)              0         \n",
      "_________________________________________________________________\n",
      "conv1d_40 (Conv1D)           (None, 9, 16)             656       \n",
      "_________________________________________________________________\n",
      "conv1d_41 (Conv1D)           (None, 9, 8)              648       \n",
      "_________________________________________________________________\n",
      "max_pooling1d_20 (MaxPooling (None, 3, 8)              0         \n",
      "_________________________________________________________________\n",
      "dropout_26 (Dropout)         (None, 3, 8)              0         \n",
      "_________________________________________________________________\n",
      "flatten_5 (Flatten)          (None, 24)                0         \n",
      "_________________________________________________________________\n",
      "dense_15 (Dense)             (None, 64)                1600      \n",
      "_________________________________________________________________\n",
      "dropout_27 (Dropout)         (None, 64)                0         \n",
      "_________________________________________________________________\n",
      "dense_16 (Dense)             (None, 32)                2080      \n",
      "_________________________________________________________________\n",
      "dense_17 (Dense)             (None, 1)                 33        \n",
      "=================================================================\n",
      "Total params: 8,369\n",
      "Trainable params: 8,369\n",
      "Non-trainable params: 0\n",
      "_________________________________________________________________\n"
     ]
    }
   ],
   "source": [
    "model = Sequential()\n",
    "model.add(Input(shape=(features, depht)))\n",
    "model=group_layer(model)\n",
    "model.add(Dropout(0.2))\n",
    "model=group_layer(model)\n",
    "model.add(Dropout(0.2))\n",
    "model=group_layer(model)\n",
    "model.add(Dropout(0.2))\n",
    "model=group_layer(model)\n",
    "model.add(Dropout(0.2))\n",
    "model.add(Flatten())\n",
    "model.add(Dense(64, activation='relu'))\n",
    "model.add(Dropout(0.2))\n",
    "model.add(Dense(32, activation='relu'))\n",
    "model.add(Dense(1, activation='sigmoid'))\n",
    "model.summary()"
   ]
  },
  {
   "cell_type": "code",
   "execution_count": 27,
   "metadata": {},
   "outputs": [],
   "source": [
    "early_stop = EarlyStopping(monitor='val_loss', \n",
    "                           mode='min', \n",
    "                           verbose=1, \n",
    "                           patience=10)"
   ]
  },
  {
   "cell_type": "code",
   "execution_count": 31,
   "metadata": {},
   "outputs": [
    {
     "name": "stdout",
     "output_type": "stream",
     "text": [
      "Epoch 1/100\n",
      "658/658 [==============================] - 7s 9ms/step - loss: 0.5606 - accuracy: 0.6892 - val_loss: 0.5365 - val_accuracy: 0.7041\n",
      "Epoch 2/100\n",
      "658/658 [==============================] - 6s 9ms/step - loss: 0.4651 - accuracy: 0.7739 - val_loss: 0.3369 - val_accuracy: 0.8737\n",
      "Epoch 3/100\n",
      "658/658 [==============================] - 6s 9ms/step - loss: 0.3669 - accuracy: 0.8463 - val_loss: 0.3377 - val_accuracy: 0.8794\n",
      "Epoch 4/100\n",
      "658/658 [==============================] - 6s 9ms/step - loss: 0.3303 - accuracy: 0.8650 - val_loss: 0.2831 - val_accuracy: 0.8891\n",
      "Epoch 5/100\n",
      "658/658 [==============================] - 6s 9ms/step - loss: 0.3151 - accuracy: 0.8723 - val_loss: 0.3112 - val_accuracy: 0.8783\n",
      "Epoch 6/100\n",
      "658/658 [==============================] - 6s 9ms/step - loss: 0.2902 - accuracy: 0.8853 - val_loss: 0.3400 - val_accuracy: 0.8488\n",
      "Epoch 7/100\n",
      "658/658 [==============================] - 6s 9ms/step - loss: 0.2842 - accuracy: 0.8881 - val_loss: 0.2846 - val_accuracy: 0.8945\n",
      "Epoch 8/100\n",
      "658/658 [==============================] - 6s 9ms/step - loss: 0.2700 - accuracy: 0.8947 - val_loss: 0.2619 - val_accuracy: 0.9038\n",
      "Epoch 9/100\n",
      "658/658 [==============================] - 6s 10ms/step - loss: 0.2628 - accuracy: 0.8979 - val_loss: 0.3259 - val_accuracy: 0.8673\n",
      "Epoch 10/100\n",
      "658/658 [==============================] - 6s 9ms/step - loss: 0.2613 - accuracy: 0.8986 - val_loss: 0.2751 - val_accuracy: 0.8956\n",
      "Epoch 11/100\n",
      "658/658 [==============================] - 6s 9ms/step - loss: 0.2540 - accuracy: 0.9031 - val_loss: 0.2983 - val_accuracy: 0.8760\n",
      "Epoch 12/100\n",
      "658/658 [==============================] - 6s 9ms/step - loss: 0.2529 - accuracy: 0.9027 - val_loss: 0.2338 - val_accuracy: 0.9177\n",
      "Epoch 13/100\n",
      "658/658 [==============================] - 6s 9ms/step - loss: 0.2498 - accuracy: 0.9030 - val_loss: 0.2968 - val_accuracy: 0.8808\n",
      "Epoch 14/100\n",
      "658/658 [==============================] - 6s 9ms/step - loss: 0.2466 - accuracy: 0.9070 - val_loss: 0.2314 - val_accuracy: 0.9163\n",
      "Epoch 15/100\n",
      "658/658 [==============================] - 6s 9ms/step - loss: 0.2425 - accuracy: 0.9057 - val_loss: 0.2254 - val_accuracy: 0.9182\n",
      "Epoch 16/100\n",
      "658/658 [==============================] - 6s 9ms/step - loss: 0.2387 - accuracy: 0.9081 - val_loss: 0.2373 - val_accuracy: 0.9108\n",
      "Epoch 17/100\n",
      "658/658 [==============================] - 6s 9ms/step - loss: 0.2360 - accuracy: 0.9104 - val_loss: 0.2749 - val_accuracy: 0.8954\n",
      "Epoch 18/100\n",
      "658/658 [==============================] - 6s 9ms/step - loss: 0.2344 - accuracy: 0.9099 - val_loss: 0.2667 - val_accuracy: 0.8996\n",
      "Epoch 19/100\n",
      "658/658 [==============================] - 7s 11ms/step - loss: 0.2341 - accuracy: 0.9106 - val_loss: 0.3192 - val_accuracy: 0.8694\n",
      "Epoch 20/100\n",
      "658/658 [==============================] - 7s 10ms/step - loss: 0.2339 - accuracy: 0.9124 - val_loss: 0.2349 - val_accuracy: 0.9173\n",
      "Epoch 21/100\n",
      "658/658 [==============================] - 6s 9ms/step - loss: 0.2280 - accuracy: 0.9144 - val_loss: 0.2445 - val_accuracy: 0.9102\n",
      "Epoch 22/100\n",
      "658/658 [==============================] - 6s 9ms/step - loss: 0.2268 - accuracy: 0.9140 - val_loss: 0.2811 - val_accuracy: 0.8916\n",
      "Epoch 23/100\n",
      "658/658 [==============================] - 6s 9ms/step - loss: 0.2251 - accuracy: 0.9144 - val_loss: 0.2463 - val_accuracy: 0.9122\n",
      "Epoch 24/100\n",
      "658/658 [==============================] - 6s 9ms/step - loss: 0.2241 - accuracy: 0.9152 - val_loss: 0.2646 - val_accuracy: 0.9063\n",
      "Epoch 25/100\n",
      "658/658 [==============================] - 6s 9ms/step - loss: 0.2227 - accuracy: 0.9156 - val_loss: 0.2670 - val_accuracy: 0.9055\n",
      "Epoch 00025: early stopping\n"
     ]
    }
   ],
   "source": [
    "opt = Adam(beta_1=0.9, beta_2=0.999)\n",
    "model.compile(loss='binary_crossentropy',\n",
    "              optimizer=opt,\n",
    "              metrics=['accuracy'])\n",
    "\n",
    "\n",
    "EPOCHS = 100\n",
    "\n",
    "history = model.fit(X_train,\n",
    "                    y_train,\n",
    "                    epochs=EPOCHS,\n",
    "                    validation_split=0.2,\n",
    "                    verbose=1,\n",
    "                    callbacks=[early_stop])"
   ]
  },
  {
   "cell_type": "code",
   "execution_count": 32,
   "metadata": {},
   "outputs": [
    {
     "name": "stdout",
     "output_type": "stream",
     "text": [
      "Model Accuraccy:  0.9\n"
     ]
    },
    {
     "data": {
      "image/png": "[encoded data removed]",
      "text/plain": [
       "<Figure size 576x432 with 1 Axes>"
      ]
     },
     "metadata": {
      "needs_background": "light"
     },
     "output_type": "display_data"
    }
   ],
   "source": [
    "_, model_accuracy = model.evaluate(X_test, y_test, verbose=0)\n",
    "print(\"Model Accuraccy: \", round(model_accuracy, 2))\n",
    "summarize_loss(history)"
   ]
  },
  {
   "cell_type": "code",
   "execution_count": 33,
   "metadata": {},
   "outputs": [
    {
     "name": "stdout",
     "output_type": "stream",
     "text": [
      "\n",
      "\t\tECG - CNN V1 - MODEL EVALUATION\n",
      "\n",
      "              precision    recall  f1-score   support\n",
      "\n",
      "          SR       0.98      0.79      0.88      2958\n",
      "        AFIB       0.85      0.98      0.91      3616\n",
      "\n",
      "    accuracy                           0.90      6574\n",
      "   macro avg       0.91      0.89      0.90      6574\n",
      "weighted avg       0.91      0.90      0.90      6574\n",
      "\n"
     ]
    },
    {
     "data": {
      "image/png": "[encoded data removed]",
      "text/plain": [
       "<Figure size 576x432 with 2 Axes>"
      ]
     },
     "metadata": {
      "needs_background": "light"
     },
     "output_type": "display_data"
    }
   ],
   "source": [
    "y_pred = model.predict(X_test)\n",
    "y_pred = y_pred > 0.5\n",
    "print('\\n\\t\\tECG - CNN V1 - MODEL EVALUATION\\n')\n",
    "print(classification_report(y_test, y_pred, target_names=['SR', 'AFIB']))\n",
    "plot_conf_matrix(y_test, y_pred)"
   ]
  },
  {
   "cell_type": "code",
   "execution_count": 34,
   "metadata": {},
   "outputs": [
    {
     "name": "stdout",
     "output_type": "stream",
     "text": [
      "INFO:tensorflow:Assets written to: ../models/cnn_1d_v1_ecg\\assets\n",
      "INFO:tensorflow:Assets written to: C:\\Users\\GUILH\\AppData\\Local\\Temp\\tmpitg60an7\\assets\n"
     ]
    },
    {
     "data": {
      "text/plain": [
       "38192"
      ]
     },
     "execution_count": 34,
     "metadata": {},
     "output_type": "execute_result"
    }
   ],
   "source": [
    "model.save('../models/cnn_1d_v1_ecg.h5')\n",
    "model.save('../models/cnn_1d_v1_ecg')\n",
    "# Convert TF model to a tflite model\n",
    "model_cnn_v1_ecg = load_model('../models/cnn_1d_v1_ecg')\n",
    "converter = tf.lite.TFLiteConverter.from_keras_model(model_cnn_v1_ecg)\n",
    "converter.optimizations = [tf.lite.Optimize.OPTIMIZE_FOR_SIZE]\n",
    "tflite_model = converter.convert()\n",
    "\n",
    "open(\"../models/model_cnn_v1_ecg.tflite\",\"wb\").write(tflite_model)"
   ]
  },
  {
   "cell_type": "code",
   "execution_count": 36,
   "metadata": {},
   "outputs": [],
   "source": [
    "# Function: Convert some hex value into an array for C programming\n",
    "def hex_to_c_array(hex_data, var_name):\n",
    "\n",
    "    c_str = ''\n",
    "\n",
    "    # Create header guard\n",
    "    c_str += '#ifndef ' + var_name.upper() + '_H\\n'\n",
    "    c_str += '#define ' + var_name.upper() + '_H\\n\\n'\n",
    "\n",
    "    # Add array length at top of file\n",
    "    c_str += '\\nunsigned int ' + var_name + '_len = ' + str(len(hex_data)) + ';\\n'\n",
    "\n",
    "    # Declare C variable\n",
    "    c_str += 'unsigned char ' + var_name + '[] = {'\n",
    "    hex_array = []\n",
    "    for i, val in enumerate(hex_data) :\n",
    "\n",
    "        # Construct string from hex\n",
    "        hex_str = format(val, '#04x')\n",
    "\n",
    "        # Add formatting so each line stays within 80 characters\n",
    "        if (i + 1) < len(hex_data):\n",
    "            hex_str += ','\n",
    "        if (i + 1) % 12 == 0:\n",
    "            hex_str += '\\n '\n",
    "        hex_array.append(hex_str)\n",
    "\n",
    "    # Add closing brace\n",
    "    c_str += '\\n ' + format(' '.join(hex_array)) + '\\n};\\n\\n'\n",
    "\n",
    "    # Close out header guard\n",
    "    c_str += '#endif //' + var_name.upper() + '_H'\n",
    "\n",
    "    return c_str"
   ]
  },
  {
   "cell_type": "code",
   "execution_count": 37,
   "metadata": {},
   "outputs": [],
   "source": [
    "c_model_name = '../models/model_cnn_v1_ecg'\n",
    "# Write TFLite model to a C source (or header) file\n",
    "with open(c_model_name + '.h', 'w') as file:\n",
    "    file.write(hex_to_c_array(tflite_model, c_model_name))"
   ]
  },
  {
   "cell_type": "markdown",
   "metadata": {},
   "source": [
    "Consultando o diretório onde se salvou os arquivos otimizados, percebe-se que há um gasto de memória de 204KB"
   ]
  },
  {
   "cell_type": "code",
   "execution_count": 38,
   "metadata": {},
   "outputs": [],
   "source": [
    "def group_layer(model):\n",
    "    model.add(\n",
    "        Conv1D(8,\n",
    "               kernel_size=5,\n",
    "               strides=1,\n",
    "               padding='same',\n",
    "               activation='relu'))\n",
    "    model.add(\n",
    "        Conv1D(8,\n",
    "               kernel_size=5,\n",
    "               strides=1,\n",
    "               padding='same',\n",
    "               activation='relu'))\n",
    "    model.add(MaxPooling1D(pool_size=5, strides=2))\n",
    "    return model"
   ]
  },
  {
   "cell_type": "code",
   "execution_count": 39,
   "metadata": {},
   "outputs": [
    {
     "name": "stdout",
     "output_type": "stream",
     "text": [
      "WARNING:tensorflow:Please add `keras.layers.InputLayer` instead of `keras.Input` to Sequential model. `keras.Input` is intended to be used by Functional model.\n"
     ]
    },
    {
     "name": "stderr",
     "output_type": "stream",
     "text": [
      "WARNING:tensorflow:Please add `keras.layers.InputLayer` instead of `keras.Input` to Sequential model. `keras.Input` is intended to be used by Functional model.\n"
     ]
    },
    {
     "name": "stdout",
     "output_type": "stream",
     "text": [
      "Model: \"sequential_6\"\n",
      "_________________________________________________________________\n",
      "Layer (type)                 Output Shape              Param #   \n",
      "=================================================================\n",
      "conv1d_42 (Conv1D)           (None, 100, 8)            48        \n",
      "_________________________________________________________________\n",
      "conv1d_43 (Conv1D)           (None, 100, 8)            328       \n",
      "_________________________________________________________________\n",
      "max_pooling1d_21 (MaxPooling (None, 48, 8)             0         \n",
      "_________________________________________________________________\n",
      "dropout_28 (Dropout)         (None, 48, 8)             0         \n",
      "_________________________________________________________________\n",
      "conv1d_44 (Conv1D)           (None, 48, 8)             328       \n",
      "_________________________________________________________________\n",
      "conv1d_45 (Conv1D)           (None, 48, 8)             328       \n",
      "_________________________________________________________________\n",
      "max_pooling1d_22 (MaxPooling (None, 22, 8)             0         \n",
      "_________________________________________________________________\n",
      "dropout_29 (Dropout)         (None, 22, 8)             0         \n",
      "_________________________________________________________________\n",
      "conv1d_46 (Conv1D)           (None, 22, 8)             328       \n",
      "_________________________________________________________________\n",
      "conv1d_47 (Conv1D)           (None, 22, 8)             328       \n",
      "_________________________________________________________________\n",
      "max_pooling1d_23 (MaxPooling (None, 9, 8)              0         \n",
      "_________________________________________________________________\n",
      "dropout_30 (Dropout)         (None, 9, 8)              0         \n",
      "_________________________________________________________________\n",
      "conv1d_48 (Conv1D)           (None, 9, 8)              328       \n",
      "_________________________________________________________________\n",
      "conv1d_49 (Conv1D)           (None, 9, 8)              328       \n",
      "_________________________________________________________________\n",
      "max_pooling1d_24 (MaxPooling (None, 3, 8)              0         \n",
      "_________________________________________________________________\n",
      "dropout_31 (Dropout)         (None, 3, 8)              0         \n",
      "_________________________________________________________________\n",
      "flatten_6 (Flatten)          (None, 24)                0         \n",
      "_________________________________________________________________\n",
      "dense_18 (Dense)             (None, 64)                1600      \n",
      "_________________________________________________________________\n",
      "dropout_32 (Dropout)         (None, 64)                0         \n",
      "_________________________________________________________________\n",
      "dense_19 (Dense)             (None, 32)                2080      \n",
      "_________________________________________________________________\n",
      "dense_20 (Dense)             (None, 1)                 33        \n",
      "=================================================================\n",
      "Total params: 6,057\n",
      "Trainable params: 6,057\n",
      "Non-trainable params: 0\n",
      "_________________________________________________________________\n"
     ]
    }
   ],
   "source": [
    "model = Sequential()\n",
    "model.add(Input(shape=(features, depht)))\n",
    "model=group_layer(model)\n",
    "model.add(Dropout(0.2))\n",
    "model=group_layer(model)\n",
    "model.add(Dropout(0.2))\n",
    "model=group_layer(model)\n",
    "model.add(Dropout(0.2))\n",
    "model=group_layer(model)\n",
    "model.add(Dropout(0.2))\n",
    "model.add(Flatten())\n",
    "model.add(Dense(64, activation='relu'))\n",
    "model.add(Dropout(0.2))\n",
    "model.add(Dense(32, activation='relu'))\n",
    "model.add(Dense(1, activation='sigmoid'))\n",
    "model.summary()"
   ]
  },
  {
   "cell_type": "code",
   "execution_count": 40,
   "metadata": {},
   "outputs": [
    {
     "name": "stdout",
     "output_type": "stream",
     "text": [
      "Epoch 1/50\n",
      "658/658 [==============================] - 7s 8ms/step - loss: 0.5866 - accuracy: 0.6450 - val_loss: 0.5347 - val_accuracy: 0.6967\n",
      "Epoch 2/50\n",
      "658/658 [==============================] - 5s 7ms/step - loss: 0.5105 - accuracy: 0.7330 - val_loss: 0.4509 - val_accuracy: 0.7943\n",
      "Epoch 3/50\n",
      "658/658 [==============================] - 5s 8ms/step - loss: 0.4041 - accuracy: 0.8193 - val_loss: 0.3041 - val_accuracy: 0.8772\n",
      "Epoch 4/50\n",
      "658/658 [==============================] - 5s 8ms/step - loss: 0.3312 - accuracy: 0.8619 - val_loss: 0.2683 - val_accuracy: 0.8947\n",
      "Epoch 5/50\n",
      "658/658 [==============================] - 5s 8ms/step - loss: 0.3079 - accuracy: 0.8738 - val_loss: 0.2706 - val_accuracy: 0.9002\n",
      "Epoch 6/50\n",
      "658/658 [==============================] - 5s 8ms/step - loss: 0.2935 - accuracy: 0.8815 - val_loss: 0.2669 - val_accuracy: 0.8956\n",
      "Epoch 7/50\n",
      "658/658 [==============================] - 5s 8ms/step - loss: 0.2850 - accuracy: 0.8879 - val_loss: 0.2481 - val_accuracy: 0.9034\n",
      "Epoch 8/50\n",
      "658/658 [==============================] - 5s 8ms/step - loss: 0.2782 - accuracy: 0.8899 - val_loss: 0.2291 - val_accuracy: 0.9142\n",
      "Epoch 9/50\n",
      "658/658 [==============================] - 5s 8ms/step - loss: 0.2723 - accuracy: 0.8954 - val_loss: 0.2383 - val_accuracy: 0.9064\n",
      "Epoch 10/50\n",
      "658/658 [==============================] - 5s 8ms/step - loss: 0.2706 - accuracy: 0.8940 - val_loss: 0.2420 - val_accuracy: 0.9116\n",
      "Epoch 11/50\n",
      "658/658 [==============================] - 5s 8ms/step - loss: 0.2664 - accuracy: 0.8952 - val_loss: 0.2422 - val_accuracy: 0.9101\n",
      "Epoch 12/50\n",
      "658/658 [==============================] - 5s 8ms/step - loss: 0.2609 - accuracy: 0.8997 - val_loss: 0.2321 - val_accuracy: 0.9110\n",
      "Epoch 13/50\n",
      "658/658 [==============================] - 5s 8ms/step - loss: 0.2615 - accuracy: 0.8976 - val_loss: 0.2386 - val_accuracy: 0.9091\n",
      "Epoch 14/50\n",
      "658/658 [==============================] - 5s 8ms/step - loss: 0.2536 - accuracy: 0.9026 - val_loss: 0.2327 - val_accuracy: 0.9127\n",
      "Epoch 15/50\n",
      "658/658 [==============================] - 5s 7ms/step - loss: 0.2521 - accuracy: 0.9038 - val_loss: 0.2411 - val_accuracy: 0.9087\n",
      "Epoch 16/50\n",
      "658/658 [==============================] - 5s 8ms/step - loss: 0.2482 - accuracy: 0.9050 - val_loss: 0.2146 - val_accuracy: 0.9207\n",
      "Epoch 17/50\n",
      "658/658 [==============================] - 5s 8ms/step - loss: 0.2512 - accuracy: 0.9031 - val_loss: 0.2113 - val_accuracy: 0.9213\n",
      "Epoch 18/50\n",
      "658/658 [==============================] - 5s 8ms/step - loss: 0.2481 - accuracy: 0.9042 - val_loss: 0.2202 - val_accuracy: 0.9241\n",
      "Epoch 19/50\n",
      "658/658 [==============================] - 5s 8ms/step - loss: 0.2444 - accuracy: 0.9069 - val_loss: 0.2160 - val_accuracy: 0.9188\n",
      "Epoch 20/50\n",
      "658/658 [==============================] - 5s 8ms/step - loss: 0.2417 - accuracy: 0.9053 - val_loss: 0.2143 - val_accuracy: 0.9186\n",
      "Epoch 21/50\n",
      "658/658 [==============================] - 5s 8ms/step - loss: 0.2434 - accuracy: 0.9070 - val_loss: 0.2242 - val_accuracy: 0.9217\n",
      "Epoch 22/50\n",
      "658/658 [==============================] - 5s 8ms/step - loss: 0.2371 - accuracy: 0.9091 - val_loss: 0.2363 - val_accuracy: 0.9009\n",
      "Epoch 23/50\n",
      "658/658 [==============================] - 5s 8ms/step - loss: 0.2362 - accuracy: 0.9094 - val_loss: 0.2191 - val_accuracy: 0.9220\n",
      "Epoch 24/50\n",
      "658/658 [==============================] - 5s 8ms/step - loss: 0.2348 - accuracy: 0.9079 - val_loss: 0.2295 - val_accuracy: 0.9182\n",
      "Epoch 25/50\n",
      "658/658 [==============================] - 5s 8ms/step - loss: 0.2340 - accuracy: 0.9101 - val_loss: 0.2102 - val_accuracy: 0.9186\n",
      "Epoch 26/50\n",
      "658/658 [==============================] - 5s 8ms/step - loss: 0.2353 - accuracy: 0.9106 - val_loss: 0.2099 - val_accuracy: 0.9237\n",
      "Epoch 27/50\n",
      "658/658 [==============================] - 5s 8ms/step - loss: 0.2325 - accuracy: 0.9140 - val_loss: 0.2069 - val_accuracy: 0.9237\n",
      "Epoch 28/50\n",
      "658/658 [==============================] - 5s 8ms/step - loss: 0.2331 - accuracy: 0.9108 - val_loss: 0.2134 - val_accuracy: 0.9232\n",
      "Epoch 29/50\n",
      "658/658 [==============================] - 6s 8ms/step - loss: 0.2304 - accuracy: 0.9105 - val_loss: 0.2180 - val_accuracy: 0.9224\n",
      "Epoch 30/50\n",
      "658/658 [==============================] - 5s 8ms/step - loss: 0.2296 - accuracy: 0.9130 - val_loss: 0.2100 - val_accuracy: 0.9268\n",
      "Epoch 31/50\n",
      "658/658 [==============================] - 5s 8ms/step - loss: 0.2302 - accuracy: 0.9142 - val_loss: 0.2066 - val_accuracy: 0.9274\n",
      "Epoch 32/50\n",
      "658/658 [==============================] - 5s 8ms/step - loss: 0.2275 - accuracy: 0.9142 - val_loss: 0.2109 - val_accuracy: 0.9253\n",
      "Epoch 33/50\n",
      "658/658 [==============================] - 5s 8ms/step - loss: 0.2265 - accuracy: 0.9134 - val_loss: 0.2037 - val_accuracy: 0.9264\n",
      "Epoch 34/50\n",
      "658/658 [==============================] - 5s 8ms/step - loss: 0.2301 - accuracy: 0.9115 - val_loss: 0.2125 - val_accuracy: 0.9241\n",
      "Epoch 35/50\n",
      "658/658 [==============================] - 5s 8ms/step - loss: 0.2265 - accuracy: 0.9154 - val_loss: 0.2090 - val_accuracy: 0.9217\n",
      "Epoch 36/50\n",
      "658/658 [==============================] - 5s 7ms/step - loss: 0.2253 - accuracy: 0.9130 - val_loss: 0.2127 - val_accuracy: 0.9232\n",
      "Epoch 37/50\n",
      "658/658 [==============================] - 5s 7ms/step - loss: 0.2232 - accuracy: 0.9155 - val_loss: 0.2098 - val_accuracy: 0.9264\n",
      "Epoch 38/50\n",
      "658/658 [==============================] - 5s 8ms/step - loss: 0.2224 - accuracy: 0.9157 - val_loss: 0.2021 - val_accuracy: 0.9255\n",
      "Epoch 39/50\n",
      "658/658 [==============================] - 5s 8ms/step - loss: 0.2208 - accuracy: 0.9171 - val_loss: 0.2270 - val_accuracy: 0.9232\n",
      "Epoch 40/50\n",
      "658/658 [==============================] - 5s 8ms/step - loss: 0.2199 - accuracy: 0.9157 - val_loss: 0.2120 - val_accuracy: 0.9222\n",
      "Epoch 41/50\n",
      "658/658 [==============================] - 5s 8ms/step - loss: 0.2215 - accuracy: 0.9178 - val_loss: 0.2130 - val_accuracy: 0.9220\n",
      "Epoch 42/50\n",
      "658/658 [==============================] - 5s 8ms/step - loss: 0.2171 - accuracy: 0.9159 - val_loss: 0.2132 - val_accuracy: 0.9188\n",
      "Epoch 43/50\n",
      "658/658 [==============================] - 5s 8ms/step - loss: 0.2198 - accuracy: 0.9159 - val_loss: 0.2078 - val_accuracy: 0.9245\n",
      "Epoch 44/50\n",
      "658/658 [==============================] - 5s 8ms/step - loss: 0.2168 - accuracy: 0.9172 - val_loss: 0.2096 - val_accuracy: 0.9274\n",
      "Epoch 45/50\n",
      "658/658 [==============================] - 5s 8ms/step - loss: 0.2199 - accuracy: 0.9190 - val_loss: 0.1993 - val_accuracy: 0.9257\n",
      "Epoch 46/50\n",
      "658/658 [==============================] - 5s 8ms/step - loss: 0.2201 - accuracy: 0.9164 - val_loss: 0.1927 - val_accuracy: 0.9285\n",
      "Epoch 47/50\n",
      "658/658 [==============================] - 5s 8ms/step - loss: 0.2169 - accuracy: 0.9169 - val_loss: 0.2077 - val_accuracy: 0.9293\n",
      "Epoch 48/50\n",
      "658/658 [==============================] - 5s 8ms/step - loss: 0.2166 - accuracy: 0.9186 - val_loss: 0.2077 - val_accuracy: 0.9239\n",
      "Epoch 49/50\n",
      "658/658 [==============================] - 5s 8ms/step - loss: 0.2162 - accuracy: 0.9167 - val_loss: 0.2002 - val_accuracy: 0.9253\n",
      "Epoch 50/50\n",
      "658/658 [==============================] - 5s 8ms/step - loss: 0.2146 - accuracy: 0.9194 - val_loss: 0.2035 - val_accuracy: 0.9241\n"
     ]
    }
   ],
   "source": [
    "opt = Adam(beta_1=0.9, beta_2=0.999)\n",
    "model.compile(loss='binary_crossentropy',\n",
    "              optimizer=opt,\n",
    "              metrics=['accuracy'])\n",
    "\n",
    "\n",
    "EPOCHS = 50\n",
    "\n",
    "history = model.fit(X_train,\n",
    "                    y_train,\n",
    "                    epochs=EPOCHS,\n",
    "                    validation_split=0.2,\n",
    "                    verbose=1,\n",
    "                    callbacks=[early_stop])"
   ]
  },
  {
   "cell_type": "code",
   "execution_count": 41,
   "metadata": {},
   "outputs": [
    {
     "name": "stdout",
     "output_type": "stream",
     "text": [
      "Model Accuraccy:  0.93\n"
     ]
    },
    {
     "data": {
      "image/png": "[encoded data removed]",
      "text/plain": [
       "<Figure size 576x432 with 1 Axes>"
      ]
     },
     "metadata": {
      "needs_background": "light"
     },
     "output_type": "display_data"
    }
   ],
   "source": [
    "_, model_accuracy = model.evaluate(X_test, y_test, verbose=0)\n",
    "print(\"Model Accuraccy: \", round(model_accuracy, 2))\n",
    "summarize_loss(history)"
   ]
  },
  {
   "cell_type": "code",
   "execution_count": 42,
   "metadata": {},
   "outputs": [
    {
     "name": "stdout",
     "output_type": "stream",
     "text": [
      "\n",
      "\t\tECG - CNN V1 - MODEL EVALUATION\n",
      "\n",
      "              precision    recall  f1-score   support\n",
      "\n",
      "          SR       0.93      0.90      0.92      2958\n",
      "        AFIB       0.92      0.95      0.93      3616\n",
      "\n",
      "    accuracy                           0.93      6574\n",
      "   macro avg       0.93      0.92      0.92      6574\n",
      "weighted avg       0.93      0.93      0.93      6574\n",
      "\n"
     ]
    },
    {
     "data": {
      "image/png": "[encoded data removed]",
      "text/plain": [
       "<Figure size 576x432 with 2 Axes>"
      ]
     },
     "metadata": {
      "needs_background": "light"
     },
     "output_type": "display_data"
    }
   ],
   "source": [
    "y_pred = model.predict(X_test)\n",
    "y_pred = y_pred > 0.5\n",
    "print('\\n\\t\\tECG - CNN V1 - MODEL EVALUATION\\n')\n",
    "print(classification_report(y_test, y_pred, target_names=['SR', 'AFIB']))\n",
    "plot_conf_matrix(y_test, y_pred)"
   ]
  },
  {
   "cell_type": "code",
   "execution_count": 43,
   "metadata": {},
   "outputs": [
    {
     "name": "stdout",
     "output_type": "stream",
     "text": [
      "INFO:tensorflow:Assets written to: ../models/cnn_1d_v2_ecg\\assets\n"
     ]
    },
    {
     "name": "stderr",
     "output_type": "stream",
     "text": [
      "INFO:tensorflow:Assets written to: ../models/cnn_1d_v2_ecg\\assets\n"
     ]
    },
    {
     "name": "stdout",
     "output_type": "stream",
     "text": [
      "INFO:tensorflow:Assets written to: C:\\Users\\GUILH\\AppData\\Local\\Temp\\tmpquuscyww\\assets\n"
     ]
    },
    {
     "name": "stderr",
     "output_type": "stream",
     "text": [
      "INFO:tensorflow:Assets written to: C:\\Users\\GUILH\\AppData\\Local\\Temp\\tmpquuscyww\\assets\n"
     ]
    },
    {
     "data": {
      "text/plain": [
       "29008"
      ]
     },
     "execution_count": 43,
     "metadata": {},
     "output_type": "execute_result"
    }
   ],
   "source": [
    "model.save('../models/cnn_1d_v2_ecg.h5')\n",
    "model.save('../models/cnn_1d_v2_ecg')\n",
    "# Convert TF model to a tflite model\n",
    "model_cnn_v2_ecg = load_model('../models/cnn_1d_v2_ecg')\n",
    "converter = tf.lite.TFLiteConverter.from_keras_model(model_cnn_v2_ecg)\n",
    "converter.optimizations = [tf.lite.Optimize.OPTIMIZE_FOR_SIZE]\n",
    "tflite_model = converter.convert()\n",
    "\n",
    "open(\"../models/model_cnn_v2_ecg.tflite\",\"wb\").write(tflite_model)"
   ]
  },
  {
   "cell_type": "code",
   "execution_count": 44,
   "metadata": {},
   "outputs": [],
   "source": [
    "c_model_name = '../models/model_cnn_v2_ecg'\n",
    "# Write TFLite model to a C source (or header) file\n",
    "with open(c_model_name + '.h', 'w') as file:\n",
    "    file.write(hex_to_c_array(tflite_model, c_model_name))"
   ]
  },
  {
   "cell_type": "markdown",
   "metadata": {},
   "source": [
    "Consultando o diretório onde se salvou os arquivos otimizados, percebe-se que há um gasto de memória de 178KB"
   ]
  },
  {
   "cell_type": "code",
   "execution_count": 51,
   "metadata": {},
   "outputs": [],
   "source": [
    "def group_layer(model):\n",
    "    model.add(\n",
    "        Conv1D(8,\n",
    "               kernel_size=5,\n",
    "               strides=1,\n",
    "               padding='same',\n",
    "               activation='relu'))\n",
    "    model.add(\n",
    "        Conv1D(8,\n",
    "               kernel_size=5,\n",
    "               strides=1,\n",
    "               padding='same',\n",
    "               activation='relu'))\n",
    "    model.add(MaxPooling1D(pool_size=5, strides=2))\n",
    "    return model"
   ]
  },
  {
   "cell_type": "code",
   "execution_count": 52,
   "metadata": {},
   "outputs": [
    {
     "name": "stdout",
     "output_type": "stream",
     "text": [
      "WARNING:tensorflow:Please add `keras.layers.InputLayer` instead of `keras.Input` to Sequential model. `keras.Input` is intended to be used by Functional model.\n"
     ]
    },
    {
     "name": "stderr",
     "output_type": "stream",
     "text": [
      "WARNING:tensorflow:Please add `keras.layers.InputLayer` instead of `keras.Input` to Sequential model. `keras.Input` is intended to be used by Functional model.\n"
     ]
    },
    {
     "name": "stdout",
     "output_type": "stream",
     "text": [
      "Model: \"sequential_10\"\n",
      "_________________________________________________________________\n",
      "Layer (type)                 Output Shape              Param #   \n",
      "=================================================================\n",
      "conv1d_74 (Conv1D)           (None, 100, 8)            48        \n",
      "_________________________________________________________________\n",
      "conv1d_75 (Conv1D)           (None, 100, 8)            328       \n",
      "_________________________________________________________________\n",
      "max_pooling1d_37 (MaxPooling (None, 48, 8)             0         \n",
      "_________________________________________________________________\n",
      "dropout_48 (Dropout)         (None, 48, 8)             0         \n",
      "_________________________________________________________________\n",
      "conv1d_76 (Conv1D)           (None, 48, 8)             328       \n",
      "_________________________________________________________________\n",
      "conv1d_77 (Conv1D)           (None, 48, 8)             328       \n",
      "_________________________________________________________________\n",
      "max_pooling1d_38 (MaxPooling (None, 22, 8)             0         \n",
      "_________________________________________________________________\n",
      "dropout_49 (Dropout)         (None, 22, 8)             0         \n",
      "_________________________________________________________________\n",
      "conv1d_78 (Conv1D)           (None, 22, 8)             328       \n",
      "_________________________________________________________________\n",
      "conv1d_79 (Conv1D)           (None, 22, 8)             328       \n",
      "_________________________________________________________________\n",
      "max_pooling1d_39 (MaxPooling (None, 9, 8)              0         \n",
      "_________________________________________________________________\n",
      "dropout_50 (Dropout)         (None, 9, 8)              0         \n",
      "_________________________________________________________________\n",
      "conv1d_80 (Conv1D)           (None, 9, 8)              328       \n",
      "_________________________________________________________________\n",
      "conv1d_81 (Conv1D)           (None, 9, 8)              328       \n",
      "_________________________________________________________________\n",
      "max_pooling1d_40 (MaxPooling (None, 3, 8)              0         \n",
      "_________________________________________________________________\n",
      "dropout_51 (Dropout)         (None, 3, 8)              0         \n",
      "_________________________________________________________________\n",
      "flatten_10 (Flatten)         (None, 24)                0         \n",
      "_________________________________________________________________\n",
      "dense_29 (Dense)             (None, 64)                1600      \n",
      "_________________________________________________________________\n",
      "dropout_52 (Dropout)         (None, 64)                0         \n",
      "_________________________________________________________________\n",
      "dense_30 (Dense)             (None, 1)                 65        \n",
      "=================================================================\n",
      "Total params: 4,009\n",
      "Trainable params: 4,009\n",
      "Non-trainable params: 0\n",
      "_________________________________________________________________\n"
     ]
    }
   ],
   "source": [
    "model = Sequential()\n",
    "model.add(Input(shape=(features, depht)))\n",
    "model=group_layer(model)\n",
    "model.add(Dropout(0.2))\n",
    "model=group_layer(model)\n",
    "model.add(Dropout(0.2))\n",
    "model=group_layer(model)\n",
    "model.add(Dropout(0.2))\n",
    "model=group_layer(model)\n",
    "model.add(Dropout(0.2))\n",
    "model.add(Flatten())\n",
    "model.add(Dense(64, activation='relu'))\n",
    "model.add(Dropout(0.2))\n",
    "model.add(Dense(1, activation='sigmoid'))\n",
    "model.summary()"
   ]
  },
  {
   "cell_type": "code",
   "execution_count": 53,
   "metadata": {},
   "outputs": [
    {
     "name": "stdout",
     "output_type": "stream",
     "text": [
      "Epoch 1/50\n",
      "658/658 [==============================] - 7s 8ms/step - loss: 0.5774 - accuracy: 0.6635 - val_loss: 0.4787 - val_accuracy: 0.7693\n",
      "Epoch 2/50\n",
      "658/658 [==============================] - 5s 8ms/step - loss: 0.4750 - accuracy: 0.7661 - val_loss: 0.3196 - val_accuracy: 0.8840\n",
      "Epoch 3/50\n",
      "658/658 [==============================] - 5s 8ms/step - loss: 0.3387 - accuracy: 0.8638 - val_loss: 0.2509 - val_accuracy: 0.9104\n",
      "Epoch 4/50\n",
      "658/658 [==============================] - 5s 8ms/step - loss: 0.3014 - accuracy: 0.8827 - val_loss: 0.2326 - val_accuracy: 0.9129\n",
      "Epoch 5/50\n",
      "658/658 [==============================] - 5s 8ms/step - loss: 0.2855 - accuracy: 0.8918 - val_loss: 0.2322 - val_accuracy: 0.9156\n",
      "Epoch 6/50\n",
      "658/658 [==============================] - 5s 8ms/step - loss: 0.2772 - accuracy: 0.8942 - val_loss: 0.2290 - val_accuracy: 0.9169\n",
      "Epoch 7/50\n",
      "658/658 [==============================] - 5s 8ms/step - loss: 0.2682 - accuracy: 0.8986 - val_loss: 0.2311 - val_accuracy: 0.9160\n",
      "Epoch 8/50\n",
      "658/658 [==============================] - 5s 8ms/step - loss: 0.2635 - accuracy: 0.8983 - val_loss: 0.2129 - val_accuracy: 0.9222\n",
      "Epoch 9/50\n",
      "658/658 [==============================] - 5s 7ms/step - loss: 0.2600 - accuracy: 0.9004 - val_loss: 0.2140 - val_accuracy: 0.9205\n",
      "Epoch 10/50\n",
      "658/658 [==============================] - 5s 7ms/step - loss: 0.2566 - accuracy: 0.9036 - val_loss: 0.2192 - val_accuracy: 0.9239\n",
      "Epoch 11/50\n",
      "658/658 [==============================] - 5s 7ms/step - loss: 0.2532 - accuracy: 0.9025 - val_loss: 0.2206 - val_accuracy: 0.9184\n",
      "Epoch 12/50\n",
      "658/658 [==============================] - 5s 7ms/step - loss: 0.2526 - accuracy: 0.9038 - val_loss: 0.2225 - val_accuracy: 0.9165\n",
      "Epoch 13/50\n",
      "658/658 [==============================] - 5s 7ms/step - loss: 0.2456 - accuracy: 0.9065 - val_loss: 0.2181 - val_accuracy: 0.9209\n",
      "Epoch 14/50\n",
      "658/658 [==============================] - 5s 7ms/step - loss: 0.2478 - accuracy: 0.9064 - val_loss: 0.2114 - val_accuracy: 0.9253\n",
      "Epoch 15/50\n",
      "658/658 [==============================] - 5s 7ms/step - loss: 0.2454 - accuracy: 0.9059 - val_loss: 0.2221 - val_accuracy: 0.9247\n",
      "Epoch 16/50\n",
      "658/658 [==============================] - 5s 7ms/step - loss: 0.2416 - accuracy: 0.9068 - val_loss: 0.2147 - val_accuracy: 0.9198\n",
      "Epoch 17/50\n",
      "658/658 [==============================] - 5s 7ms/step - loss: 0.2392 - accuracy: 0.9109 - val_loss: 0.2169 - val_accuracy: 0.9213\n",
      "Epoch 18/50\n",
      "658/658 [==============================] - 5s 7ms/step - loss: 0.2405 - accuracy: 0.9084 - val_loss: 0.2150 - val_accuracy: 0.9199\n",
      "Epoch 19/50\n",
      "658/658 [==============================] - 5s 8ms/step - loss: 0.2384 - accuracy: 0.9097 - val_loss: 0.2110 - val_accuracy: 0.9270\n",
      "Epoch 20/50\n",
      "658/658 [==============================] - 5s 8ms/step - loss: 0.2349 - accuracy: 0.9102 - val_loss: 0.2077 - val_accuracy: 0.9249\n",
      "Epoch 21/50\n",
      "658/658 [==============================] - 5s 8ms/step - loss: 0.2348 - accuracy: 0.9098 - val_loss: 0.2139 - val_accuracy: 0.9218\n",
      "Epoch 22/50\n",
      "658/658 [==============================] - 5s 8ms/step - loss: 0.2358 - accuracy: 0.9115 - val_loss: 0.2130 - val_accuracy: 0.9236\n",
      "Epoch 23/50\n",
      "658/658 [==============================] - 5s 8ms/step - loss: 0.2345 - accuracy: 0.9112 - val_loss: 0.2068 - val_accuracy: 0.9268\n",
      "Epoch 24/50\n",
      "658/658 [==============================] - 5s 8ms/step - loss: 0.2328 - accuracy: 0.9123 - val_loss: 0.2209 - val_accuracy: 0.9198\n",
      "Epoch 25/50\n",
      "658/658 [==============================] - 5s 8ms/step - loss: 0.2280 - accuracy: 0.9132 - val_loss: 0.2076 - val_accuracy: 0.9226\n",
      "Epoch 26/50\n",
      "658/658 [==============================] - 5s 8ms/step - loss: 0.2300 - accuracy: 0.9134 - val_loss: 0.2109 - val_accuracy: 0.9234\n",
      "Epoch 27/50\n",
      "658/658 [==============================] - 5s 7ms/step - loss: 0.2285 - accuracy: 0.9145 - val_loss: 0.2026 - val_accuracy: 0.9270\n",
      "Epoch 28/50\n",
      "658/658 [==============================] - 5s 7ms/step - loss: 0.2277 - accuracy: 0.9143 - val_loss: 0.2052 - val_accuracy: 0.9272\n",
      "Epoch 29/50\n",
      "658/658 [==============================] - 5s 7ms/step - loss: 0.2291 - accuracy: 0.9134 - val_loss: 0.2081 - val_accuracy: 0.9230\n",
      "Epoch 30/50\n",
      "658/658 [==============================] - 5s 7ms/step - loss: 0.2324 - accuracy: 0.9120 - val_loss: 0.2133 - val_accuracy: 0.9226\n",
      "Epoch 31/50\n",
      "658/658 [==============================] - 5s 7ms/step - loss: 0.2305 - accuracy: 0.9130 - val_loss: 0.2034 - val_accuracy: 0.9285\n",
      "Epoch 32/50\n",
      "658/658 [==============================] - 5s 7ms/step - loss: 0.2263 - accuracy: 0.9153 - val_loss: 0.2084 - val_accuracy: 0.9249\n",
      "Epoch 33/50\n",
      "658/658 [==============================] - 5s 7ms/step - loss: 0.2276 - accuracy: 0.9152 - val_loss: 0.2023 - val_accuracy: 0.9298\n",
      "Epoch 34/50\n",
      "658/658 [==============================] - 5s 7ms/step - loss: 0.2287 - accuracy: 0.9147 - val_loss: 0.2061 - val_accuracy: 0.9264\n",
      "Epoch 35/50\n",
      "658/658 [==============================] - 5s 7ms/step - loss: 0.2255 - accuracy: 0.9144 - val_loss: 0.2217 - val_accuracy: 0.9257\n",
      "Epoch 36/50\n",
      "658/658 [==============================] - 5s 7ms/step - loss: 0.2271 - accuracy: 0.9148 - val_loss: 0.2043 - val_accuracy: 0.9245\n",
      "Epoch 37/50\n",
      "658/658 [==============================] - 5s 7ms/step - loss: 0.2239 - accuracy: 0.9144 - val_loss: 0.2011 - val_accuracy: 0.9258\n",
      "Epoch 38/50\n",
      "658/658 [==============================] - 5s 7ms/step - loss: 0.2257 - accuracy: 0.9130 - val_loss: 0.2105 - val_accuracy: 0.9215\n",
      "Epoch 39/50\n",
      "658/658 [==============================] - 5s 7ms/step - loss: 0.2240 - accuracy: 0.9154 - val_loss: 0.2023 - val_accuracy: 0.9266\n",
      "Epoch 40/50\n",
      "658/658 [==============================] - 5s 7ms/step - loss: 0.2221 - accuracy: 0.9169 - val_loss: 0.2015 - val_accuracy: 0.9285\n",
      "Epoch 41/50\n",
      "658/658 [==============================] - 5s 7ms/step - loss: 0.2218 - accuracy: 0.9171 - val_loss: 0.2161 - val_accuracy: 0.9268\n",
      "Epoch 42/50\n",
      "658/658 [==============================] - 5s 7ms/step - loss: 0.2216 - accuracy: 0.9140 - val_loss: 0.2059 - val_accuracy: 0.9258\n",
      "Epoch 43/50\n",
      "658/658 [==============================] - 5s 7ms/step - loss: 0.2200 - accuracy: 0.9168 - val_loss: 0.2093 - val_accuracy: 0.9262\n",
      "Epoch 44/50\n",
      "658/658 [==============================] - 5s 8ms/step - loss: 0.2229 - accuracy: 0.9167 - val_loss: 0.1999 - val_accuracy: 0.9283\n",
      "Epoch 45/50\n",
      "658/658 [==============================] - 5s 8ms/step - loss: 0.2184 - accuracy: 0.9187 - val_loss: 0.2076 - val_accuracy: 0.9272\n",
      "Epoch 46/50\n",
      "658/658 [==============================] - 5s 8ms/step - loss: 0.2158 - accuracy: 0.9184 - val_loss: 0.2055 - val_accuracy: 0.9277\n",
      "Epoch 47/50\n",
      "658/658 [==============================] - 5s 8ms/step - loss: 0.2190 - accuracy: 0.9173 - val_loss: 0.2105 - val_accuracy: 0.9276\n",
      "Epoch 48/50\n",
      "658/658 [==============================] - 5s 8ms/step - loss: 0.2173 - accuracy: 0.9180 - val_loss: 0.2103 - val_accuracy: 0.9293\n",
      "Epoch 49/50\n",
      "658/658 [==============================] - 5s 8ms/step - loss: 0.2179 - accuracy: 0.9183 - val_loss: 0.2042 - val_accuracy: 0.9285\n",
      "Epoch 50/50\n",
      "658/658 [==============================] - 5s 8ms/step - loss: 0.2183 - accuracy: 0.9168 - val_loss: 0.1963 - val_accuracy: 0.9289\n"
     ]
    }
   ],
   "source": [
    "opt = Adam(beta_1=0.9, beta_2=0.999)\n",
    "model.compile(loss='binary_crossentropy',\n",
    "              optimizer=opt,\n",
    "              metrics=['accuracy'])\n",
    "\n",
    "\n",
    "EPOCHS = 50\n",
    "\n",
    "history = model.fit(X_train,\n",
    "                    y_train,\n",
    "                    epochs=EPOCHS,\n",
    "                    validation_split=0.2,\n",
    "                    verbose=1,\n",
    "                    callbacks=[early_stop])"
   ]
  },
  {
   "cell_type": "code",
   "execution_count": 54,
   "metadata": {},
   "outputs": [
    {
     "name": "stdout",
     "output_type": "stream",
     "text": [
      "Model Accuraccy:  0.93\n"
     ]
    },
    {
     "data": {
      "image/png": "[encoded data removed]",
      "text/plain": [
       "<Figure size 576x432 with 1 Axes>"
      ]
     },
     "metadata": {
      "needs_background": "light"
     },
     "output_type": "display_data"
    }
   ],
   "source": [
    "_, model_accuracy = model.evaluate(X_test, y_test, verbose=0)\n",
    "print(\"Model Accuraccy: \", round(model_accuracy, 2))\n",
    "summarize_loss(history)"
   ]
  },
  {
   "cell_type": "code",
   "execution_count": 55,
   "metadata": {},
   "outputs": [
    {
     "name": "stdout",
     "output_type": "stream",
     "text": [
      "\n",
      "\t\tECG - CNN V1 - MODEL EVALUATION\n",
      "\n",
      "              precision    recall  f1-score   support\n",
      "\n",
      "          SR       0.95      0.89      0.92      2958\n",
      "        AFIB       0.91      0.96      0.94      3616\n",
      "\n",
      "    accuracy                           0.93      6574\n",
      "   macro avg       0.93      0.92      0.93      6574\n",
      "weighted avg       0.93      0.93      0.93      6574\n",
      "\n"
     ]
    },
    {
     "data": {
      "image/png": "[encoded data removed]",
      "text/plain": [
       "<Figure size 576x432 with 2 Axes>"
      ]
     },
     "metadata": {
      "needs_background": "light"
     },
     "output_type": "display_data"
    }
   ],
   "source": [
    "y_pred = model.predict(X_test)\n",
    "y_pred = y_pred > 0.5\n",
    "print('\\n\\t\\tECG - CNN V1 - MODEL EVALUATION\\n')\n",
    "print(classification_report(y_test, y_pred, target_names=['SR', 'AFIB']))\n",
    "plot_conf_matrix(y_test, y_pred)"
   ]
  },
  {
   "cell_type": "code",
   "execution_count": 56,
   "metadata": {},
   "outputs": [
    {
     "name": "stdout",
     "output_type": "stream",
     "text": [
      "INFO:tensorflow:Assets written to: ../models/cnn_1d_v3_ecg\\assets\n"
     ]
    },
    {
     "name": "stderr",
     "output_type": "stream",
     "text": [
      "INFO:tensorflow:Assets written to: ../models/cnn_1d_v3_ecg\\assets\n"
     ]
    },
    {
     "name": "stdout",
     "output_type": "stream",
     "text": [
      "INFO:tensorflow:Assets written to: C:\\Users\\GUILH\\AppData\\Local\\Temp\\tmp7fjf4g5l\\assets\n"
     ]
    },
    {
     "name": "stderr",
     "output_type": "stream",
     "text": [
      "INFO:tensorflow:Assets written to: C:\\Users\\GUILH\\AppData\\Local\\Temp\\tmp7fjf4g5l\\assets\n"
     ]
    },
    {
     "data": {
      "text/plain": [
       "26608"
      ]
     },
     "execution_count": 56,
     "metadata": {},
     "output_type": "execute_result"
    }
   ],
   "source": [
    "model.save('../models/cnn_1d_v3_ecg.h5')\n",
    "model.save('../models/cnn_1d_v3_ecg')\n",
    "# Convert TF model to a tflite model\n",
    "model_cnn_v3_ecg = load_model('../models/cnn_1d_v3_ecg')\n",
    "converter = tf.lite.TFLiteConverter.from_keras_model(model_cnn_v3_ecg)\n",
    "converter.optimizations = [tf.lite.Optimize.OPTIMIZE_FOR_SIZE]\n",
    "tflite_model = converter.convert()\n",
    "\n",
    "open(\"../models/model_cnn_v3_ecg.tflite\",\"wb\").write(tflite_model)"
   ]
  },
  {
   "cell_type": "code",
   "execution_count": 57,
   "metadata": {},
   "outputs": [],
   "source": [
    "c_model_name = '../models/model_cnn_v3_ecg'\n",
    "# Write TFLite model to a C source (or header) file\n",
    "with open(c_model_name + '.h', 'w') as file:\n",
    "    file.write(hex_to_c_array(tflite_model, c_model_name))"
   ]
  },
  {
   "cell_type": "markdown",
   "metadata": {},
   "source": [
    "Consultando o diretório onde se salvou os arquivos otimizados, percebe-se que há um gasto de memória de 152KB"
   ]
  },
  {
   "cell_type": "code",
   "execution_count": 58,
   "metadata": {},
   "outputs": [],
   "source": [
    "def group_layer(model):\n",
    "    model.add(\n",
    "        Conv1D(4,\n",
    "               kernel_size=5,\n",
    "               strides=1,\n",
    "               padding='same',\n",
    "               activation='relu'))\n",
    "    model.add(\n",
    "        Conv1D(4,\n",
    "               kernel_size=5,\n",
    "               strides=1,\n",
    "               padding='same',\n",
    "               activation='relu'))\n",
    "    model.add(MaxPooling1D(pool_size=5, strides=2))\n",
    "    return model"
   ]
  },
  {
   "cell_type": "code",
   "execution_count": 59,
   "metadata": {},
   "outputs": [
    {
     "name": "stdout",
     "output_type": "stream",
     "text": [
      "WARNING:tensorflow:Please add `keras.layers.InputLayer` instead of `keras.Input` to Sequential model. `keras.Input` is intended to be used by Functional model.\n"
     ]
    },
    {
     "name": "stderr",
     "output_type": "stream",
     "text": [
      "WARNING:tensorflow:Please add `keras.layers.InputLayer` instead of `keras.Input` to Sequential model. `keras.Input` is intended to be used by Functional model.\n"
     ]
    },
    {
     "name": "stdout",
     "output_type": "stream",
     "text": [
      "Model: \"sequential_11\"\n",
      "_________________________________________________________________\n",
      "Layer (type)                 Output Shape              Param #   \n",
      "=================================================================\n",
      "conv1d_82 (Conv1D)           (None, 100, 4)            24        \n",
      "_________________________________________________________________\n",
      "conv1d_83 (Conv1D)           (None, 100, 4)            84        \n",
      "_________________________________________________________________\n",
      "max_pooling1d_41 (MaxPooling (None, 48, 4)             0         \n",
      "_________________________________________________________________\n",
      "dropout_53 (Dropout)         (None, 48, 4)             0         \n",
      "_________________________________________________________________\n",
      "conv1d_84 (Conv1D)           (None, 48, 4)             84        \n",
      "_________________________________________________________________\n",
      "conv1d_85 (Conv1D)           (None, 48, 4)             84        \n",
      "_________________________________________________________________\n",
      "max_pooling1d_42 (MaxPooling (None, 22, 4)             0         \n",
      "_________________________________________________________________\n",
      "dropout_54 (Dropout)         (None, 22, 4)             0         \n",
      "_________________________________________________________________\n",
      "conv1d_86 (Conv1D)           (None, 22, 4)             84        \n",
      "_________________________________________________________________\n",
      "conv1d_87 (Conv1D)           (None, 22, 4)             84        \n",
      "_________________________________________________________________\n",
      "max_pooling1d_43 (MaxPooling (None, 9, 4)              0         \n",
      "_________________________________________________________________\n",
      "dropout_55 (Dropout)         (None, 9, 4)              0         \n",
      "_________________________________________________________________\n",
      "conv1d_88 (Conv1D)           (None, 9, 4)              84        \n",
      "_________________________________________________________________\n",
      "conv1d_89 (Conv1D)           (None, 9, 4)              84        \n",
      "_________________________________________________________________\n",
      "max_pooling1d_44 (MaxPooling (None, 3, 4)              0         \n",
      "_________________________________________________________________\n",
      "dropout_56 (Dropout)         (None, 3, 4)              0         \n",
      "_________________________________________________________________\n",
      "flatten_11 (Flatten)         (None, 12)                0         \n",
      "_________________________________________________________________\n",
      "dense_31 (Dense)             (None, 64)                832       \n",
      "_________________________________________________________________\n",
      "dropout_57 (Dropout)         (None, 64)                0         \n",
      "_________________________________________________________________\n",
      "dense_32 (Dense)             (None, 1)                 65        \n",
      "=================================================================\n",
      "Total params: 1,509\n",
      "Trainable params: 1,509\n",
      "Non-trainable params: 0\n",
      "_________________________________________________________________\n"
     ]
    }
   ],
   "source": [
    "model = Sequential()\n",
    "model.add(Input(shape=(features, depht)))\n",
    "model=group_layer(model)\n",
    "model.add(Dropout(0.2))\n",
    "model=group_layer(model)\n",
    "model.add(Dropout(0.2))\n",
    "model=group_layer(model)\n",
    "model.add(Dropout(0.2))\n",
    "model=group_layer(model)\n",
    "model.add(Dropout(0.2))\n",
    "model.add(Flatten())\n",
    "model.add(Dense(64, activation='relu'))\n",
    "model.add(Dropout(0.2))\n",
    "model.add(Dense(1, activation='sigmoid'))\n",
    "model.summary()"
   ]
  },
  {
   "cell_type": "code",
   "execution_count": 60,
   "metadata": {},
   "outputs": [
    {
     "name": "stdout",
     "output_type": "stream",
     "text": [
      "Epoch 1/50\n",
      "658/658 [==============================] - 6s 7ms/step - loss: 0.5715 - accuracy: 0.6774 - val_loss: 0.5297 - val_accuracy: 0.7344\n",
      "Epoch 2/50\n",
      "658/658 [==============================] - 4s 6ms/step - loss: 0.5290 - accuracy: 0.7198 - val_loss: 0.5000 - val_accuracy: 0.7425\n",
      "Epoch 3/50\n",
      "658/658 [==============================] - 4s 6ms/step - loss: 0.5118 - accuracy: 0.7300 - val_loss: 0.4959 - val_accuracy: 0.7450\n",
      "Epoch 4/50\n",
      "658/658 [==============================] - 4s 6ms/step - loss: 0.5009 - accuracy: 0.7465 - val_loss: 0.4933 - val_accuracy: 0.7519\n",
      "Epoch 5/50\n",
      "658/658 [==============================] - 4s 6ms/step - loss: 0.4846 - accuracy: 0.7556 - val_loss: 0.4519 - val_accuracy: 0.8032\n",
      "Epoch 6/50\n",
      "658/658 [==============================] - 4s 6ms/step - loss: 0.4605 - accuracy: 0.7825 - val_loss: 0.4214 - val_accuracy: 0.8254\n",
      "Epoch 7/50\n",
      "658/658 [==============================] - 4s 6ms/step - loss: 0.4336 - accuracy: 0.7987 - val_loss: 0.4541 - val_accuracy: 0.7741\n",
      "Epoch 8/50\n",
      "658/658 [==============================] - 4s 6ms/step - loss: 0.4069 - accuracy: 0.8203 - val_loss: 0.3345 - val_accuracy: 0.8684\n",
      "Epoch 9/50\n",
      "658/658 [==============================] - 4s 6ms/step - loss: 0.3802 - accuracy: 0.8381 - val_loss: 0.3871 - val_accuracy: 0.8291\n",
      "Epoch 10/50\n",
      "658/658 [==============================] - 4s 6ms/step - loss: 0.3724 - accuracy: 0.8409 - val_loss: 0.3133 - val_accuracy: 0.8802\n",
      "Epoch 11/50\n",
      "658/658 [==============================] - 4s 6ms/step - loss: 0.3627 - accuracy: 0.8476 - val_loss: 0.3454 - val_accuracy: 0.8644\n",
      "Epoch 12/50\n",
      "658/658 [==============================] - 4s 6ms/step - loss: 0.3543 - accuracy: 0.8503 - val_loss: 0.3299 - val_accuracy: 0.8726\n",
      "Epoch 13/50\n",
      "658/658 [==============================] - 4s 7ms/step - loss: 0.3503 - accuracy: 0.8571 - val_loss: 0.3217 - val_accuracy: 0.8813\n",
      "Epoch 14/50\n",
      "658/658 [==============================] - 4s 6ms/step - loss: 0.3391 - accuracy: 0.8623 - val_loss: 0.3284 - val_accuracy: 0.8825\n",
      "Epoch 15/50\n",
      "658/658 [==============================] - 4s 6ms/step - loss: 0.3333 - accuracy: 0.8639 - val_loss: 0.3067 - val_accuracy: 0.8939\n",
      "Epoch 16/50\n",
      "658/658 [==============================] - 4s 6ms/step - loss: 0.3298 - accuracy: 0.8659 - val_loss: 0.2912 - val_accuracy: 0.8969\n",
      "Epoch 17/50\n",
      "658/658 [==============================] - 4s 6ms/step - loss: 0.3231 - accuracy: 0.8718 - val_loss: 0.3120 - val_accuracy: 0.8878\n",
      "Epoch 18/50\n",
      "658/658 [==============================] - 4s 6ms/step - loss: 0.3207 - accuracy: 0.8709 - val_loss: 0.2887 - val_accuracy: 0.9044\n",
      "Epoch 19/50\n",
      "658/658 [==============================] - 4s 6ms/step - loss: 0.3235 - accuracy: 0.8704 - val_loss: 0.2849 - val_accuracy: 0.9025\n",
      "Epoch 20/50\n",
      "658/658 [==============================] - 4s 6ms/step - loss: 0.3128 - accuracy: 0.8772 - val_loss: 0.2945 - val_accuracy: 0.8943\n",
      "Epoch 21/50\n",
      "658/658 [==============================] - 4s 6ms/step - loss: 0.3165 - accuracy: 0.8764 - val_loss: 0.3078 - val_accuracy: 0.8937\n",
      "Epoch 22/50\n",
      "658/658 [==============================] - 4s 6ms/step - loss: 0.3112 - accuracy: 0.8761 - val_loss: 0.3144 - val_accuracy: 0.8857\n",
      "Epoch 23/50\n",
      "658/658 [==============================] - 4s 6ms/step - loss: 0.3056 - accuracy: 0.8794 - val_loss: 0.3048 - val_accuracy: 0.8939\n",
      "Epoch 24/50\n",
      "658/658 [==============================] - 4s 6ms/step - loss: 0.3002 - accuracy: 0.8818 - val_loss: 0.3005 - val_accuracy: 0.8882\n",
      "Epoch 25/50\n",
      "658/658 [==============================] - 4s 6ms/step - loss: 0.3022 - accuracy: 0.8823 - val_loss: 0.3248 - val_accuracy: 0.8774\n",
      "Epoch 26/50\n",
      "658/658 [==============================] - 4s 6ms/step - loss: 0.2970 - accuracy: 0.8835 - val_loss: 0.2887 - val_accuracy: 0.8977\n",
      "Epoch 27/50\n",
      "658/658 [==============================] - 4s 6ms/step - loss: 0.2986 - accuracy: 0.8840 - val_loss: 0.2857 - val_accuracy: 0.9021\n",
      "Epoch 28/50\n",
      "658/658 [==============================] - 4s 6ms/step - loss: 0.2953 - accuracy: 0.8839 - val_loss: 0.3293 - val_accuracy: 0.8800\n",
      "Epoch 29/50\n",
      "658/658 [==============================] - 4s 6ms/step - loss: 0.2918 - accuracy: 0.8842 - val_loss: 0.3043 - val_accuracy: 0.8948\n",
      "Epoch 00029: early stopping\n"
     ]
    }
   ],
   "source": [
    "opt = Adam(beta_1=0.9, beta_2=0.999)\n",
    "model.compile(loss='binary_crossentropy',\n",
    "              optimizer=opt,\n",
    "              metrics=['accuracy'])\n",
    "\n",
    "\n",
    "EPOCHS = 50\n",
    "\n",
    "history = model.fit(X_train,\n",
    "                    y_train,\n",
    "                    epochs=EPOCHS,\n",
    "                    validation_split=0.2,\n",
    "                    verbose=1,\n",
    "                    callbacks=[early_stop])"
   ]
  },
  {
   "cell_type": "code",
   "execution_count": 61,
   "metadata": {},
   "outputs": [
    {
     "name": "stdout",
     "output_type": "stream",
     "text": [
      "Model Accuraccy:  0.89\n"
     ]
    },
    {
     "data": {
      "image/png": "[encoded data removed]",
      "text/plain": [
       "<Figure size 576x432 with 1 Axes>"
      ]
     },
     "metadata": {
      "needs_background": "light"
     },
     "output_type": "display_data"
    }
   ],
   "source": [
    "_, model_accuracy = model.evaluate(X_test, y_test, verbose=0)\n",
    "print(\"Model Accuraccy: \", round(model_accuracy, 2))\n",
    "summarize_loss(history)"
   ]
  },
  {
   "cell_type": "code",
   "execution_count": 62,
   "metadata": {},
   "outputs": [
    {
     "name": "stdout",
     "output_type": "stream",
     "text": [
      "\n",
      "\t\tECG - CNN V1 - MODEL EVALUATION\n",
      "\n",
      "              precision    recall  f1-score   support\n",
      "\n",
      "          SR       0.94      0.80      0.87      2958\n",
      "        AFIB       0.85      0.96      0.90      3616\n",
      "\n",
      "    accuracy                           0.89      6574\n",
      "   macro avg       0.90      0.88      0.89      6574\n",
      "weighted avg       0.89      0.89      0.89      6574\n",
      "\n"
     ]
    },
    {
     "data": {
      "image/png": "[encoded data removed]",
      "text/plain": [
       "<Figure size 576x432 with 2 Axes>"
      ]
     },
     "metadata": {
      "needs_background": "light"
     },
     "output_type": "display_data"
    }
   ],
   "source": [
    "y_pred = model.predict(X_test)\n",
    "y_pred = y_pred > 0.5\n",
    "print('\\n\\t\\tECG - CNN V1 - MODEL EVALUATION\\n')\n",
    "print(classification_report(y_test, y_pred, target_names=['SR', 'AFIB']))\n",
    "plot_conf_matrix(y_test, y_pred)"
   ]
  },
  {
   "cell_type": "code",
   "execution_count": 63,
   "metadata": {},
   "outputs": [
    {
     "name": "stdout",
     "output_type": "stream",
     "text": [
      "INFO:tensorflow:Assets written to: ../models/cnn_1d_v4_ecg\\assets\n"
     ]
    },
    {
     "name": "stderr",
     "output_type": "stream",
     "text": [
      "INFO:tensorflow:Assets written to: ../models/cnn_1d_v4_ecg\\assets\n"
     ]
    },
    {
     "name": "stdout",
     "output_type": "stream",
     "text": [
      "INFO:tensorflow:Assets written to: C:\\Users\\GUILH\\AppData\\Local\\Temp\\tmpt29s15gi\\assets\n"
     ]
    },
    {
     "name": "stderr",
     "output_type": "stream",
     "text": [
      "INFO:tensorflow:Assets written to: C:\\Users\\GUILH\\AppData\\Local\\Temp\\tmpt29s15gi\\assets\n"
     ]
    },
    {
     "data": {
      "text/plain": [
       "21168"
      ]
     },
     "execution_count": 63,
     "metadata": {},
     "output_type": "execute_result"
    }
   ],
   "source": [
    "model.save('../models/cnn_1d_v4_ecg.h5')\n",
    "model.save('../models/cnn_1d_v4_ecg')\n",
    "# Convert TF model to a tflite model\n",
    "model_cnn_v4_ecg = load_model('../models/cnn_1d_v4_ecg')\n",
    "converter = tf.lite.TFLiteConverter.from_keras_model(model_cnn_v4_ecg)\n",
    "converter.optimizations = [tf.lite.Optimize.OPTIMIZE_FOR_SIZE]\n",
    "tflite_model = converter.convert()\n",
    "\n",
    "open(\"../models/model_cnn_v4_ecg.tflite\",\"wb\").write(tflite_model)"
   ]
  },
  {
   "cell_type": "code",
   "execution_count": 64,
   "metadata": {},
   "outputs": [],
   "source": [
    "c_model_name = '../models/model_cnn_v4_ecg'\n",
    "# Write TFLite model to a C source (or header) file\n",
    "with open(c_model_name + '.h', 'w') as file:\n",
    "    file.write(hex_to_c_array(tflite_model, c_model_name))"
   ]
  },
  {
   "cell_type": "markdown",
   "metadata": {},
   "source": [
    "Consultando o diretório onde se salvou os arquivos otimizados, percebe-se que há um gasto de memória de 116KB"
   ]
  },
  {
   "cell_type": "code",
   "execution_count": 68,
   "metadata": {},
   "outputs": [
    {
     "name": "stdout",
     "output_type": "stream",
     "text": [
      "WARNING:tensorflow:Please add `keras.layers.InputLayer` instead of `keras.Input` to Sequential model. `keras.Input` is intended to be used by Functional model.\n"
     ]
    },
    {
     "name": "stderr",
     "output_type": "stream",
     "text": [
      "WARNING:tensorflow:Please add `keras.layers.InputLayer` instead of `keras.Input` to Sequential model. `keras.Input` is intended to be used by Functional model.\n"
     ]
    },
    {
     "name": "stdout",
     "output_type": "stream",
     "text": [
      "Model: \"sequential_14\"\n",
      "_________________________________________________________________\n",
      "Layer (type)                 Output Shape              Param #   \n",
      "=================================================================\n",
      "conv1d_106 (Conv1D)          (None, 100, 4)            24        \n",
      "_________________________________________________________________\n",
      "conv1d_107 (Conv1D)          (None, 100, 4)            84        \n",
      "_________________________________________________________________\n",
      "max_pooling1d_53 (MaxPooling (None, 48, 4)             0         \n",
      "_________________________________________________________________\n",
      "dropout_68 (Dropout)         (None, 48, 4)             0         \n",
      "_________________________________________________________________\n",
      "conv1d_108 (Conv1D)          (None, 48, 4)             84        \n",
      "_________________________________________________________________\n",
      "conv1d_109 (Conv1D)          (None, 48, 4)             84        \n",
      "_________________________________________________________________\n",
      "max_pooling1d_54 (MaxPooling (None, 22, 4)             0         \n",
      "_________________________________________________________________\n",
      "dropout_69 (Dropout)         (None, 22, 4)             0         \n",
      "_________________________________________________________________\n",
      "conv1d_110 (Conv1D)          (None, 22, 4)             84        \n",
      "_________________________________________________________________\n",
      "conv1d_111 (Conv1D)          (None, 22, 4)             84        \n",
      "_________________________________________________________________\n",
      "max_pooling1d_55 (MaxPooling (None, 9, 4)              0         \n",
      "_________________________________________________________________\n",
      "dropout_70 (Dropout)         (None, 9, 4)              0         \n",
      "_________________________________________________________________\n",
      "conv1d_112 (Conv1D)          (None, 9, 4)              84        \n",
      "_________________________________________________________________\n",
      "conv1d_113 (Conv1D)          (None, 9, 4)              84        \n",
      "_________________________________________________________________\n",
      "max_pooling1d_56 (MaxPooling (None, 3, 4)              0         \n",
      "_________________________________________________________________\n",
      "dropout_71 (Dropout)         (None, 3, 4)              0         \n",
      "_________________________________________________________________\n",
      "flatten_14 (Flatten)         (None, 12)                0         \n",
      "_________________________________________________________________\n",
      "dense_38 (Dense)             (None, 64)                832       \n",
      "_________________________________________________________________\n",
      "dropout_72 (Dropout)         (None, 64)                0         \n",
      "_________________________________________________________________\n",
      "dense_39 (Dense)             (None, 32)                2080      \n",
      "_________________________________________________________________\n",
      "dense_40 (Dense)             (None, 1)                 33        \n",
      "=================================================================\n",
      "Total params: 3,557\n",
      "Trainable params: 3,557\n",
      "Non-trainable params: 0\n",
      "_________________________________________________________________\n"
     ]
    }
   ],
   "source": [
    "model = Sequential()\n",
    "model.add(Input(shape=(features, depht)))\n",
    "model=group_layer(model)\n",
    "model.add(Dropout(0.2))\n",
    "model=group_layer(model)\n",
    "model.add(Dropout(0.2))\n",
    "model=group_layer(model)\n",
    "model.add(Dropout(0.2))\n",
    "model=group_layer(model)\n",
    "model.add(Dropout(0.2))\n",
    "model.add(Flatten())\n",
    "model.add(Dense(64, activation='relu'))\n",
    "model.add(Dropout(0.2))\n",
    "model.add(Dense(32, activation='relu'))\n",
    "model.add(Dense(1, activation='sigmoid'))\n",
    "model.summary()"
   ]
  },
  {
   "cell_type": "code",
   "execution_count": 69,
   "metadata": {},
   "outputs": [
    {
     "name": "stdout",
     "output_type": "stream",
     "text": [
      "Epoch 1/30\n",
      "658/658 [==============================] - 6s 7ms/step - loss: 0.5890 - accuracy: 0.6490 - val_loss: 0.5234 - val_accuracy: 0.7292\n",
      "Epoch 2/30\n",
      "658/658 [==============================] - 4s 6ms/step - loss: 0.5349 - accuracy: 0.7068 - val_loss: 0.5073 - val_accuracy: 0.7387\n",
      "Epoch 3/30\n",
      "658/658 [==============================] - 4s 6ms/step - loss: 0.5151 - accuracy: 0.7317 - val_loss: 0.5126 - val_accuracy: 0.7209\n",
      "Epoch 4/30\n",
      "658/658 [==============================] - 4s 6ms/step - loss: 0.5056 - accuracy: 0.7435 - val_loss: 0.6198 - val_accuracy: 0.6271\n",
      "Epoch 5/30\n",
      "658/658 [==============================] - 4s 6ms/step - loss: 0.4947 - accuracy: 0.7505 - val_loss: 0.6251 - val_accuracy: 0.6271\n",
      "Epoch 6/30\n",
      "658/658 [==============================] - 4s 6ms/step - loss: 0.4866 - accuracy: 0.7596 - val_loss: 0.6046 - val_accuracy: 0.6556\n",
      "Epoch 7/30\n",
      "658/658 [==============================] - 4s 6ms/step - loss: 0.4771 - accuracy: 0.7660 - val_loss: 0.6005 - val_accuracy: 0.6298\n",
      "Epoch 8/30\n",
      "658/658 [==============================] - 4s 6ms/step - loss: 0.4679 - accuracy: 0.7740 - val_loss: 0.5616 - val_accuracy: 0.6916\n",
      "Epoch 9/30\n",
      "658/658 [==============================] - 4s 6ms/step - loss: 0.4567 - accuracy: 0.7820 - val_loss: 0.5650 - val_accuracy: 0.6771\n",
      "Epoch 10/30\n",
      "658/658 [==============================] - 4s 6ms/step - loss: 0.4501 - accuracy: 0.7911 - val_loss: 0.5185 - val_accuracy: 0.7072\n",
      "Epoch 11/30\n",
      "658/658 [==============================] - 4s 7ms/step - loss: 0.4411 - accuracy: 0.7971 - val_loss: 0.4864 - val_accuracy: 0.7616\n",
      "Epoch 12/30\n",
      "658/658 [==============================] - 4s 6ms/step - loss: 0.4385 - accuracy: 0.7997 - val_loss: 0.5068 - val_accuracy: 0.7346\n",
      "Epoch 13/30\n",
      "658/658 [==============================] - 4s 7ms/step - loss: 0.4321 - accuracy: 0.8008 - val_loss: 0.5312 - val_accuracy: 0.7093\n",
      "Epoch 14/30\n",
      "658/658 [==============================] - 4s 6ms/step - loss: 0.4287 - accuracy: 0.8078 - val_loss: 0.4397 - val_accuracy: 0.8188\n",
      "Epoch 15/30\n",
      "658/658 [==============================] - 4s 6ms/step - loss: 0.4170 - accuracy: 0.8138 - val_loss: 0.5327 - val_accuracy: 0.7252\n",
      "Epoch 16/30\n",
      "658/658 [==============================] - 4s 6ms/step - loss: 0.4101 - accuracy: 0.8179 - val_loss: 0.4673 - val_accuracy: 0.7832\n",
      "Epoch 17/30\n",
      "658/658 [==============================] - 4s 6ms/step - loss: 0.4067 - accuracy: 0.8220 - val_loss: 0.5003 - val_accuracy: 0.7498\n",
      "Epoch 18/30\n",
      "658/658 [==============================] - 4s 6ms/step - loss: 0.4000 - accuracy: 0.8243 - val_loss: 0.4180 - val_accuracy: 0.8199\n",
      "Epoch 19/30\n",
      "658/658 [==============================] - 4s 6ms/step - loss: 0.3976 - accuracy: 0.8272 - val_loss: 0.4501 - val_accuracy: 0.7962\n",
      "Epoch 20/30\n",
      "658/658 [==============================] - 4s 6ms/step - loss: 0.3928 - accuracy: 0.8299 - val_loss: 0.3951 - val_accuracy: 0.8397\n",
      "Epoch 21/30\n",
      "658/658 [==============================] - 4s 6ms/step - loss: 0.3884 - accuracy: 0.8320 - val_loss: 0.4269 - val_accuracy: 0.8234\n",
      "Epoch 22/30\n",
      "658/658 [==============================] - 4s 6ms/step - loss: 0.3893 - accuracy: 0.8298 - val_loss: 0.4737 - val_accuracy: 0.7709\n",
      "Epoch 23/30\n",
      "658/658 [==============================] - 4s 6ms/step - loss: 0.3804 - accuracy: 0.8342 - val_loss: 0.4285 - val_accuracy: 0.8095\n",
      "Epoch 24/30\n",
      "658/658 [==============================] - 4s 6ms/step - loss: 0.3810 - accuracy: 0.8352 - val_loss: 0.4075 - val_accuracy: 0.8247\n",
      "Epoch 25/30\n",
      "658/658 [==============================] - 4s 6ms/step - loss: 0.3761 - accuracy: 0.8393 - val_loss: 0.3832 - val_accuracy: 0.8526\n",
      "Epoch 26/30\n",
      "658/658 [==============================] - 4s 6ms/step - loss: 0.3775 - accuracy: 0.8372 - val_loss: 0.4287 - val_accuracy: 0.8108\n",
      "Epoch 27/30\n",
      "658/658 [==============================] - 4s 6ms/step - loss: 0.3766 - accuracy: 0.8350 - val_loss: 0.5189 - val_accuracy: 0.7155\n",
      "Epoch 28/30\n",
      "658/658 [==============================] - 4s 7ms/step - loss: 0.3703 - accuracy: 0.8419 - val_loss: 0.3967 - val_accuracy: 0.8367\n",
      "Epoch 29/30\n",
      "658/658 [==============================] - 5s 8ms/step - loss: 0.3677 - accuracy: 0.8454 - val_loss: 0.4358 - val_accuracy: 0.8041\n",
      "Epoch 30/30\n",
      "658/658 [==============================] - 5s 7ms/step - loss: 0.3672 - accuracy: 0.8434 - val_loss: 0.3296 - val_accuracy: 0.8808\n"
     ]
    }
   ],
   "source": [
    "opt = Adam(beta_1=0.9, beta_2=0.999)\n",
    "model.compile(loss='binary_crossentropy',\n",
    "              optimizer=opt,\n",
    "              metrics=['accuracy'])\n",
    "\n",
    "\n",
    "EPOCHS = 30\n",
    "\n",
    "history = model.fit(X_train,\n",
    "                    y_train,\n",
    "                    epochs=EPOCHS,\n",
    "                    validation_split=0.2,\n",
    "                    verbose=1,\n",
    "                    callbacks=[early_stop])"
   ]
  },
  {
   "cell_type": "code",
   "execution_count": 29,
   "metadata": {},
   "outputs": [],
   "source": [
    "def group_layer(model):\n",
    "    model.add(\n",
    "        Conv1D(8,\n",
    "               kernel_size=7,\n",
    "               strides=1,\n",
    "               padding='same',\n",
    "               activation='relu'))\n",
    "    model.add(\n",
    "        Conv1D(8,\n",
    "               kernel_size=7,\n",
    "               strides=1,\n",
    "               padding='same',\n",
    "               activation='relu'))\n",
    "    model.add(MaxPooling1D(pool_size=5, strides=2))\n",
    "    return model"
   ]
  },
  {
   "cell_type": "code",
   "execution_count": 46,
   "metadata": {},
   "outputs": [
    {
     "name": "stdout",
     "output_type": "stream",
     "text": [
      "WARNING:tensorflow:Please add `keras.layers.InputLayer` instead of `keras.Input` to Sequential model. `keras.Input` is intended to be used by Functional model.\n"
     ]
    },
    {
     "name": "stderr",
     "output_type": "stream",
     "text": [
      "WARNING:tensorflow:Please add `keras.layers.InputLayer` instead of `keras.Input` to Sequential model. `keras.Input` is intended to be used by Functional model.\n"
     ]
    },
    {
     "name": "stdout",
     "output_type": "stream",
     "text": [
      "Model: \"sequential_6\"\n",
      "_________________________________________________________________\n",
      "Layer (type)                 Output Shape              Param #   \n",
      "=================================================================\n",
      "conv1d_30 (Conv1D)           (None, 100, 8)            64        \n",
      "_________________________________________________________________\n",
      "conv1d_31 (Conv1D)           (None, 100, 8)            456       \n",
      "_________________________________________________________________\n",
      "max_pooling1d_15 (MaxPooling (None, 48, 8)             0         \n",
      "_________________________________________________________________\n",
      "dropout_21 (Dropout)         (None, 48, 8)             0         \n",
      "_________________________________________________________________\n",
      "conv1d_32 (Conv1D)           (None, 48, 8)             456       \n",
      "_________________________________________________________________\n",
      "conv1d_33 (Conv1D)           (None, 48, 8)             456       \n",
      "_________________________________________________________________\n",
      "max_pooling1d_16 (MaxPooling (None, 22, 8)             0         \n",
      "_________________________________________________________________\n",
      "dropout_22 (Dropout)         (None, 22, 8)             0         \n",
      "_________________________________________________________________\n",
      "flatten_6 (Flatten)          (None, 176)               0         \n",
      "_________________________________________________________________\n",
      "dense_12 (Dense)             (None, 64)                11328     \n",
      "_________________________________________________________________\n",
      "dropout_23 (Dropout)         (None, 64)                0         \n",
      "_________________________________________________________________\n",
      "dense_13 (Dense)             (None, 1)                 65        \n",
      "=================================================================\n",
      "Total params: 12,825\n",
      "Trainable params: 12,825\n",
      "Non-trainable params: 0\n",
      "_________________________________________________________________\n"
     ]
    }
   ],
   "source": [
    "model = Sequential()\n",
    "model.add(Input(shape=(features, depht)))\n",
    "model=group_layer(model)\n",
    "model.add(Dropout(0.2))\n",
    "model=group_layer(model)\n",
    "model.add(Dropout(0.2))\n",
    "model.add(Flatten())\n",
    "model.add(Dense(64, activation='relu'))\n",
    "model.add(Dropout(0.2))\n",
    "model.add(Dense(1, activation='sigmoid'))\n",
    "model.summary()"
   ]
  },
  {
   "cell_type": "code",
   "execution_count": 31,
   "metadata": {},
   "outputs": [],
   "source": [
    "early_stop = EarlyStopping(monitor='val_loss', \n",
    "                           mode='min', \n",
    "                           verbose=1, \n",
    "                           patience=10)"
   ]
  },
  {
   "cell_type": "code",
   "execution_count": 47,
   "metadata": {},
   "outputs": [
    {
     "name": "stdout",
     "output_type": "stream",
     "text": [
      "Epoch 1/100\n",
      "658/658 [==============================] - 5s 7ms/step - loss: 0.3901 - accuracy: 0.8159 - val_loss: 0.2579 - val_accuracy: 0.9045\n",
      "Epoch 2/100\n",
      "658/658 [==============================] - 4s 7ms/step - loss: 0.2650 - accuracy: 0.8994 - val_loss: 0.2361 - val_accuracy: 0.9093\n",
      "Epoch 3/100\n",
      "658/658 [==============================] - 4s 6ms/step - loss: 0.2479 - accuracy: 0.9040 - val_loss: 0.2173 - val_accuracy: 0.9161\n",
      "Epoch 4/100\n",
      "658/658 [==============================] - 4s 6ms/step - loss: 0.2389 - accuracy: 0.9073 - val_loss: 0.2173 - val_accuracy: 0.9175\n",
      "Epoch 5/100\n",
      "658/658 [==============================] - 4s 6ms/step - loss: 0.2301 - accuracy: 0.9138 - val_loss: 0.2232 - val_accuracy: 0.9154\n",
      "Epoch 6/100\n",
      "658/658 [==============================] - 4s 6ms/step - loss: 0.2254 - accuracy: 0.9143 - val_loss: 0.2082 - val_accuracy: 0.9243\n",
      "Epoch 7/100\n",
      "658/658 [==============================] - 4s 6ms/step - loss: 0.2225 - accuracy: 0.9159 - val_loss: 0.2134 - val_accuracy: 0.9188\n",
      "Epoch 8/100\n",
      "658/658 [==============================] - 4s 6ms/step - loss: 0.2207 - accuracy: 0.9183 - val_loss: 0.2116 - val_accuracy: 0.9218\n",
      "Epoch 9/100\n",
      "658/658 [==============================] - 4s 6ms/step - loss: 0.2170 - accuracy: 0.9180 - val_loss: 0.1971 - val_accuracy: 0.9268\n",
      "Epoch 10/100\n",
      "658/658 [==============================] - 4s 6ms/step - loss: 0.2117 - accuracy: 0.9221 - val_loss: 0.2004 - val_accuracy: 0.9255\n",
      "Epoch 11/100\n",
      "658/658 [==============================] - 4s 6ms/step - loss: 0.2102 - accuracy: 0.9213 - val_loss: 0.1934 - val_accuracy: 0.9264\n",
      "Epoch 12/100\n",
      "658/658 [==============================] - 4s 6ms/step - loss: 0.2097 - accuracy: 0.9225 - val_loss: 0.2087 - val_accuracy: 0.9211\n",
      "Epoch 13/100\n",
      "658/658 [==============================] - 4s 6ms/step - loss: 0.2091 - accuracy: 0.9218 - val_loss: 0.2019 - val_accuracy: 0.9245\n",
      "Epoch 14/100\n",
      "658/658 [==============================] - 4s 6ms/step - loss: 0.2024 - accuracy: 0.9234 - val_loss: 0.1917 - val_accuracy: 0.9304\n",
      "Epoch 15/100\n",
      "658/658 [==============================] - 4s 6ms/step - loss: 0.2008 - accuracy: 0.9256 - val_loss: 0.1882 - val_accuracy: 0.9289\n",
      "Epoch 16/100\n",
      "658/658 [==============================] - 4s 6ms/step - loss: 0.1983 - accuracy: 0.9265 - val_loss: 0.2163 - val_accuracy: 0.9182\n",
      "Epoch 17/100\n",
      "658/658 [==============================] - 4s 6ms/step - loss: 0.2025 - accuracy: 0.9230 - val_loss: 0.1868 - val_accuracy: 0.9323\n",
      "Epoch 18/100\n",
      "658/658 [==============================] - 4s 7ms/step - loss: 0.1979 - accuracy: 0.9263 - val_loss: 0.1835 - val_accuracy: 0.9323\n",
      "Epoch 19/100\n",
      "658/658 [==============================] - 4s 7ms/step - loss: 0.1957 - accuracy: 0.9261 - val_loss: 0.1840 - val_accuracy: 0.9321\n",
      "Epoch 20/100\n",
      "658/658 [==============================] - 4s 7ms/step - loss: 0.1948 - accuracy: 0.9265 - val_loss: 0.1848 - val_accuracy: 0.9317\n",
      "Epoch 21/100\n",
      "658/658 [==============================] - 4s 7ms/step - loss: 0.1951 - accuracy: 0.9275 - val_loss: 0.1922 - val_accuracy: 0.9323\n",
      "Epoch 22/100\n",
      "658/658 [==============================] - 4s 6ms/step - loss: 0.1926 - accuracy: 0.9272 - val_loss: 0.1772 - val_accuracy: 0.9352\n",
      "Epoch 23/100\n",
      "658/658 [==============================] - 4s 7ms/step - loss: 0.1900 - accuracy: 0.9279 - val_loss: 0.1873 - val_accuracy: 0.9289\n",
      "Epoch 24/100\n",
      "658/658 [==============================] - 5s 7ms/step - loss: 0.1894 - accuracy: 0.9292 - val_loss: 0.1760 - val_accuracy: 0.9334\n",
      "Epoch 25/100\n",
      "658/658 [==============================] - 5s 8ms/step - loss: 0.1879 - accuracy: 0.9274 - val_loss: 0.1850 - val_accuracy: 0.9315\n",
      "Epoch 26/100\n",
      "658/658 [==============================] - 5s 7ms/step - loss: 0.1879 - accuracy: 0.9302 - val_loss: 0.1811 - val_accuracy: 0.9317\n",
      "Epoch 27/100\n",
      "658/658 [==============================] - 4s 6ms/step - loss: 0.1862 - accuracy: 0.9308 - val_loss: 0.1776 - val_accuracy: 0.9359\n",
      "Epoch 28/100\n",
      "658/658 [==============================] - 4s 6ms/step - loss: 0.1863 - accuracy: 0.9307 - val_loss: 0.1732 - val_accuracy: 0.9363\n",
      "Epoch 29/100\n",
      "658/658 [==============================] - 4s 6ms/step - loss: 0.1856 - accuracy: 0.9309 - val_loss: 0.1825 - val_accuracy: 0.9333\n",
      "Epoch 30/100\n",
      "658/658 [==============================] - 4s 6ms/step - loss: 0.1866 - accuracy: 0.9296 - val_loss: 0.1814 - val_accuracy: 0.9306\n",
      "Epoch 31/100\n",
      "658/658 [==============================] - 4s 6ms/step - loss: 0.1838 - accuracy: 0.9306 - val_loss: 0.1712 - val_accuracy: 0.9340\n",
      "Epoch 32/100\n",
      "658/658 [==============================] - 4s 6ms/step - loss: 0.1825 - accuracy: 0.9311 - val_loss: 0.1757 - val_accuracy: 0.9342\n",
      "Epoch 33/100\n",
      "658/658 [==============================] - 5s 8ms/step - loss: 0.1803 - accuracy: 0.9336 - val_loss: 0.1751 - val_accuracy: 0.9355\n",
      "Epoch 34/100\n",
      "658/658 [==============================] - 4s 7ms/step - loss: 0.1773 - accuracy: 0.9356 - val_loss: 0.1724 - val_accuracy: 0.9361\n",
      "Epoch 35/100\n",
      "658/658 [==============================] - 4s 6ms/step - loss: 0.1789 - accuracy: 0.9330 - val_loss: 0.1751 - val_accuracy: 0.9342\n",
      "Epoch 36/100\n",
      "658/658 [==============================] - 4s 6ms/step - loss: 0.1782 - accuracy: 0.9333 - val_loss: 0.1730 - val_accuracy: 0.9369\n",
      "Epoch 37/100\n",
      "658/658 [==============================] - 4s 6ms/step - loss: 0.1753 - accuracy: 0.9353 - val_loss: 0.1694 - val_accuracy: 0.9376\n",
      "Epoch 38/100\n",
      "658/658 [==============================] - 4s 7ms/step - loss: 0.1765 - accuracy: 0.9340 - val_loss: 0.1774 - val_accuracy: 0.9340\n",
      "Epoch 39/100\n",
      "658/658 [==============================] - 4s 7ms/step - loss: 0.1759 - accuracy: 0.9339 - val_loss: 0.1680 - val_accuracy: 0.9369\n",
      "Epoch 40/100\n",
      "658/658 [==============================] - 5s 7ms/step - loss: 0.1747 - accuracy: 0.9334 - val_loss: 0.1674 - val_accuracy: 0.9384\n",
      "Epoch 41/100\n",
      "658/658 [==============================] - 4s 7ms/step - loss: 0.1767 - accuracy: 0.9345 - val_loss: 0.1749 - val_accuracy: 0.9352\n",
      "Epoch 42/100\n",
      "658/658 [==============================] - 4s 7ms/step - loss: 0.1762 - accuracy: 0.9351 - val_loss: 0.1794 - val_accuracy: 0.9319\n",
      "Epoch 43/100\n",
      "658/658 [==============================] - 4s 6ms/step - loss: 0.1733 - accuracy: 0.9363 - val_loss: 0.1681 - val_accuracy: 0.9369\n",
      "Epoch 44/100\n",
      "658/658 [==============================] - 4s 6ms/step - loss: 0.1742 - accuracy: 0.9351 - val_loss: 0.1797 - val_accuracy: 0.9327\n",
      "Epoch 45/100\n",
      "658/658 [==============================] - 4s 6ms/step - loss: 0.1708 - accuracy: 0.9352 - val_loss: 0.1656 - val_accuracy: 0.9414\n",
      "Epoch 46/100\n",
      "658/658 [==============================] - 4s 6ms/step - loss: 0.1713 - accuracy: 0.9370 - val_loss: 0.1775 - val_accuracy: 0.9367\n",
      "Epoch 47/100\n",
      "658/658 [==============================] - 4s 6ms/step - loss: 0.1699 - accuracy: 0.9371 - val_loss: 0.1740 - val_accuracy: 0.9308\n",
      "Epoch 48/100\n",
      "658/658 [==============================] - 4s 6ms/step - loss: 0.1716 - accuracy: 0.9372 - val_loss: 0.1684 - val_accuracy: 0.9380\n",
      "Epoch 49/100\n",
      "658/658 [==============================] - 4s 6ms/step - loss: 0.1701 - accuracy: 0.9371 - val_loss: 0.1679 - val_accuracy: 0.9393\n",
      "Epoch 50/100\n",
      "658/658 [==============================] - 4s 6ms/step - loss: 0.1689 - accuracy: 0.9381 - val_loss: 0.1738 - val_accuracy: 0.9348\n",
      "Epoch 51/100\n",
      "658/658 [==============================] - 4s 6ms/step - loss: 0.1711 - accuracy: 0.9354 - val_loss: 0.1647 - val_accuracy: 0.9382\n",
      "Epoch 52/100\n",
      "658/658 [==============================] - 4s 6ms/step - loss: 0.1703 - accuracy: 0.9356 - val_loss: 0.1700 - val_accuracy: 0.9355\n",
      "Epoch 53/100\n",
      "658/658 [==============================] - 4s 6ms/step - loss: 0.1685 - accuracy: 0.9376 - val_loss: 0.1692 - val_accuracy: 0.9350\n",
      "Epoch 54/100\n",
      "658/658 [==============================] - 4s 6ms/step - loss: 0.1692 - accuracy: 0.9367 - val_loss: 0.1700 - val_accuracy: 0.9395\n",
      "Epoch 55/100\n",
      "658/658 [==============================] - 4s 6ms/step - loss: 0.1678 - accuracy: 0.9377 - val_loss: 0.1660 - val_accuracy: 0.9393\n",
      "Epoch 56/100\n",
      "658/658 [==============================] - 4s 6ms/step - loss: 0.1675 - accuracy: 0.9386 - val_loss: 0.1639 - val_accuracy: 0.9399\n",
      "Epoch 57/100\n",
      "658/658 [==============================] - 4s 6ms/step - loss: 0.1645 - accuracy: 0.9386 - val_loss: 0.1615 - val_accuracy: 0.9380\n"
     ]
    },
    {
     "name": "stdout",
     "output_type": "stream",
     "text": [
      "Epoch 58/100\n",
      "658/658 [==============================] - 4s 6ms/step - loss: 0.1663 - accuracy: 0.9394 - val_loss: 0.1721 - val_accuracy: 0.9367\n",
      "Epoch 59/100\n",
      "658/658 [==============================] - 4s 6ms/step - loss: 0.1641 - accuracy: 0.9388 - val_loss: 0.1708 - val_accuracy: 0.9369\n",
      "Epoch 60/100\n",
      "658/658 [==============================] - 4s 6ms/step - loss: 0.1633 - accuracy: 0.9392 - val_loss: 0.1628 - val_accuracy: 0.9412\n",
      "Epoch 61/100\n",
      "658/658 [==============================] - 4s 6ms/step - loss: 0.1663 - accuracy: 0.9394 - val_loss: 0.1656 - val_accuracy: 0.9407\n",
      "Epoch 62/100\n",
      "658/658 [==============================] - 4s 6ms/step - loss: 0.1626 - accuracy: 0.9389 - val_loss: 0.1626 - val_accuracy: 0.9392\n",
      "Epoch 63/100\n",
      "658/658 [==============================] - 4s 6ms/step - loss: 0.1638 - accuracy: 0.9390 - val_loss: 0.1676 - val_accuracy: 0.9359\n",
      "Epoch 64/100\n",
      "658/658 [==============================] - 4s 6ms/step - loss: 0.1669 - accuracy: 0.9392 - val_loss: 0.1776 - val_accuracy: 0.9319\n",
      "Epoch 65/100\n",
      "658/658 [==============================] - 4s 6ms/step - loss: 0.1618 - accuracy: 0.9408 - val_loss: 0.1608 - val_accuracy: 0.9412\n",
      "Epoch 66/100\n",
      "658/658 [==============================] - 4s 6ms/step - loss: 0.1651 - accuracy: 0.9392 - val_loss: 0.1636 - val_accuracy: 0.9397\n",
      "Epoch 67/100\n",
      "658/658 [==============================] - 4s 6ms/step - loss: 0.1625 - accuracy: 0.9384 - val_loss: 0.1617 - val_accuracy: 0.9393\n",
      "Epoch 68/100\n",
      "658/658 [==============================] - 4s 6ms/step - loss: 0.1613 - accuracy: 0.9395 - val_loss: 0.1597 - val_accuracy: 0.9407\n",
      "Epoch 69/100\n",
      "658/658 [==============================] - 4s 6ms/step - loss: 0.1633 - accuracy: 0.9390 - val_loss: 0.1609 - val_accuracy: 0.9416\n",
      "Epoch 70/100\n",
      "658/658 [==============================] - 4s 6ms/step - loss: 0.1624 - accuracy: 0.9392 - val_loss: 0.1606 - val_accuracy: 0.9428\n",
      "Epoch 71/100\n",
      "658/658 [==============================] - 4s 6ms/step - loss: 0.1602 - accuracy: 0.9411 - val_loss: 0.1629 - val_accuracy: 0.9407\n",
      "Epoch 72/100\n",
      "658/658 [==============================] - 4s 6ms/step - loss: 0.1605 - accuracy: 0.9401 - val_loss: 0.1617 - val_accuracy: 0.9407\n",
      "Epoch 73/100\n",
      "658/658 [==============================] - 4s 6ms/step - loss: 0.1603 - accuracy: 0.9409 - val_loss: 0.1776 - val_accuracy: 0.9315\n",
      "Epoch 74/100\n",
      "658/658 [==============================] - 4s 6ms/step - loss: 0.1597 - accuracy: 0.9407 - val_loss: 0.1581 - val_accuracy: 0.9418\n",
      "Epoch 75/100\n",
      "658/658 [==============================] - 4s 6ms/step - loss: 0.1601 - accuracy: 0.9407 - val_loss: 0.1675 - val_accuracy: 0.9418\n",
      "Epoch 76/100\n",
      "658/658 [==============================] - 4s 6ms/step - loss: 0.1628 - accuracy: 0.9398 - val_loss: 0.1630 - val_accuracy: 0.9416\n",
      "Epoch 77/100\n",
      "658/658 [==============================] - 4s 6ms/step - loss: 0.1535 - accuracy: 0.9427 - val_loss: 0.1604 - val_accuracy: 0.9412\n",
      "Epoch 78/100\n",
      "658/658 [==============================] - 4s 6ms/step - loss: 0.1584 - accuracy: 0.9411 - val_loss: 0.1605 - val_accuracy: 0.9420\n",
      "Epoch 79/100\n",
      "658/658 [==============================] - 4s 6ms/step - loss: 0.1560 - accuracy: 0.9423 - val_loss: 0.1591 - val_accuracy: 0.9447\n",
      "Epoch 80/100\n",
      "658/658 [==============================] - 4s 6ms/step - loss: 0.1559 - accuracy: 0.9430 - val_loss: 0.1590 - val_accuracy: 0.9422\n",
      "Epoch 81/100\n",
      "658/658 [==============================] - 4s 6ms/step - loss: 0.1537 - accuracy: 0.9440 - val_loss: 0.1599 - val_accuracy: 0.9431\n",
      "Epoch 82/100\n",
      "658/658 [==============================] - 4s 6ms/step - loss: 0.1550 - accuracy: 0.9437 - val_loss: 0.1767 - val_accuracy: 0.9350\n",
      "Epoch 83/100\n",
      "658/658 [==============================] - 4s 6ms/step - loss: 0.1567 - accuracy: 0.9418 - val_loss: 0.1613 - val_accuracy: 0.9395\n",
      "Epoch 84/100\n",
      "658/658 [==============================] - 4s 6ms/step - loss: 0.1569 - accuracy: 0.9418 - val_loss: 0.1537 - val_accuracy: 0.9430\n",
      "Epoch 85/100\n",
      "658/658 [==============================] - 4s 6ms/step - loss: 0.1550 - accuracy: 0.9421 - val_loss: 0.1595 - val_accuracy: 0.9420\n",
      "Epoch 86/100\n",
      "658/658 [==============================] - 4s 6ms/step - loss: 0.1575 - accuracy: 0.9414 - val_loss: 0.1587 - val_accuracy: 0.9414\n",
      "Epoch 87/100\n",
      "658/658 [==============================] - 4s 6ms/step - loss: 0.1533 - accuracy: 0.9436 - val_loss: 0.1583 - val_accuracy: 0.9437\n",
      "Epoch 88/100\n",
      "658/658 [==============================] - 4s 6ms/step - loss: 0.1521 - accuracy: 0.9435 - val_loss: 0.1638 - val_accuracy: 0.9392\n",
      "Epoch 89/100\n",
      "658/658 [==============================] - 4s 6ms/step - loss: 0.1536 - accuracy: 0.9445 - val_loss: 0.1577 - val_accuracy: 0.9418\n",
      "Epoch 90/100\n",
      "658/658 [==============================] - 4s 6ms/step - loss: 0.1568 - accuracy: 0.9423 - val_loss: 0.1594 - val_accuracy: 0.9443\n",
      "Epoch 91/100\n",
      "658/658 [==============================] - 4s 6ms/step - loss: 0.1545 - accuracy: 0.9418 - val_loss: 0.1555 - val_accuracy: 0.9418\n",
      "Epoch 92/100\n",
      "658/658 [==============================] - 4s 6ms/step - loss: 0.1521 - accuracy: 0.9432 - val_loss: 0.1577 - val_accuracy: 0.9460\n",
      "Epoch 93/100\n",
      "658/658 [==============================] - 4s 6ms/step - loss: 0.1503 - accuracy: 0.9429 - val_loss: 0.1584 - val_accuracy: 0.9435\n",
      "Epoch 94/100\n",
      "658/658 [==============================] - 4s 7ms/step - loss: 0.1555 - accuracy: 0.9435 - val_loss: 0.1560 - val_accuracy: 0.9443\n",
      "Epoch 00094: early stopping\n"
     ]
    }
   ],
   "source": [
    "opt = Adam(beta_1=0.9, beta_2=0.999)\n",
    "model.compile(loss='binary_crossentropy',\n",
    "              optimizer=opt,\n",
    "              metrics=['accuracy'])\n",
    "\n",
    "\n",
    "EPOCHS = 100\n",
    "\n",
    "history = model.fit(X_train,\n",
    "                    y_train,\n",
    "                    epochs=EPOCHS,\n",
    "                    validation_split=0.2,\n",
    "                    verbose=1,\n",
    "                    callbacks=[early_stop])"
   ]
  },
  {
   "cell_type": "code",
   "execution_count": 48,
   "metadata": {},
   "outputs": [
    {
     "name": "stdout",
     "output_type": "stream",
     "text": [
      "Model Accuraccy:  0.94\n"
     ]
    },
    {
     "data": {
      "image/png": "[encoded data removed]",
      "text/plain": [
       "<Figure size 576x432 with 1 Axes>"
      ]
     },
     "metadata": {
      "needs_background": "light"
     },
     "output_type": "display_data"
    }
   ],
   "source": [
    "_, model_accuracy = model.evaluate(X_test, y_test, verbose=0)\n",
    "print(\"Model Accuraccy: \", round(model_accuracy, 2))\n",
    "summarize_loss(history)"
   ]
  },
  {
   "cell_type": "code",
   "execution_count": 49,
   "metadata": {},
   "outputs": [
    {
     "name": "stdout",
     "output_type": "stream",
     "text": [
      "\n",
      "\t\tECG - CNN V1 - MODEL EVALUATION\n",
      "\n",
      "              precision    recall  f1-score   support\n",
      "\n",
      "          SR       0.93      0.94      0.93      2958\n",
      "        AFIB       0.95      0.94      0.95      3616\n",
      "\n",
      "    accuracy                           0.94      6574\n",
      "   macro avg       0.94      0.94      0.94      6574\n",
      "weighted avg       0.94      0.94      0.94      6574\n",
      "\n"
     ]
    },
    {
     "data": {
      "image/png": "[encoded data removed]",
      "text/plain": [
       "<Figure size 576x432 with 2 Axes>"
      ]
     },
     "metadata": {
      "needs_background": "light"
     },
     "output_type": "display_data"
    }
   ],
   "source": [
    "y_pred = model.predict(X_test)\n",
    "y_pred = y_pred > 0.5\n",
    "print('\\n\\t\\tECG - CNN V1 - MODEL EVALUATION\\n')\n",
    "print(classification_report(y_test, y_pred, target_names=['SR', 'AFIB']))\n",
    "plot_conf_matrix(y_test, y_pred)"
   ]
  },
  {
   "cell_type": "code",
   "execution_count": 50,
   "metadata": {},
   "outputs": [
    {
     "name": "stdout",
     "output_type": "stream",
     "text": [
      "INFO:tensorflow:Assets written to: ../models/cnn_1d_v5_ecg\\assets\n"
     ]
    },
    {
     "name": "stderr",
     "output_type": "stream",
     "text": [
      "INFO:tensorflow:Assets written to: ../models/cnn_1d_v5_ecg\\assets\n"
     ]
    },
    {
     "name": "stdout",
     "output_type": "stream",
     "text": [
      "INFO:tensorflow:Assets written to: C:\\Users\\GUILH\\AppData\\Local\\Temp\\tmpbsjeybpu\\assets\n"
     ]
    },
    {
     "name": "stderr",
     "output_type": "stream",
     "text": [
      "INFO:tensorflow:Assets written to: C:\\Users\\GUILH\\AppData\\Local\\Temp\\tmpbsjeybpu\\assets\n"
     ]
    },
    {
     "data": {
      "text/plain": [
       "25936"
      ]
     },
     "execution_count": 50,
     "metadata": {},
     "output_type": "execute_result"
    }
   ],
   "source": [
    "model.save('../models/cnn_1d_v5_ecg.h5')\n",
    "model.save('../models/cnn_1d_v5_ecg')\n",
    "# Convert TF model to a tflite model\n",
    "model_cnn_v5_ecg = load_model('../models/cnn_1d_v5_ecg')\n",
    "converter = tf.lite.TFLiteConverter.from_keras_model(model_cnn_v5_ecg)\n",
    "converter.optimizations = [tf.lite.Optimize.OPTIMIZE_FOR_SIZE]\n",
    "tflite_model = converter.convert()\n",
    "\n",
    "open(\"../models/model_cnn_v5_ecg.tflite\",\"wb\").write(tflite_model)"
   ]
  },
  {
   "cell_type": "code",
   "execution_count": 37,
   "metadata": {},
   "outputs": [],
   "source": [
    "# Function: Convert some hex value into an array for C programming\n",
    "def hex_to_c_array(hex_data, var_name):\n",
    "\n",
    "    c_str = ''\n",
    "\n",
    "    # Create header guard\n",
    "    c_str += '#ifndef ' + var_name.upper() + '_H\\n'\n",
    "    c_str += '#define ' + var_name.upper() + '_H\\n\\n'\n",
    "\n",
    "    # Add array length at top of file\n",
    "    c_str += '\\nunsigned int ' + var_name + '_len = ' + str(len(hex_data)) + ';\\n'\n",
    "\n",
    "    # Declare C variable\n",
    "    c_str += 'unsigned char ' + var_name + '[] = {'\n",
    "    hex_array = []\n",
    "    for i, val in enumerate(hex_data) :\n",
    "\n",
    "        # Construct string from hex\n",
    "        hex_str = format(val, '#04x')\n",
    "\n",
    "        # Add formatting so each line stays within 80 characters\n",
    "        if (i + 1) < len(hex_data):\n",
    "            hex_str += ','\n",
    "        if (i + 1) % 12 == 0:\n",
    "            hex_str += '\\n '\n",
    "        hex_array.append(hex_str)\n",
    "\n",
    "    # Add closing brace\n",
    "    c_str += '\\n ' + format(' '.join(hex_array)) + '\\n};\\n\\n'\n",
    "\n",
    "    # Close out header guard\n",
    "    c_str += '#endif //' + var_name.upper() + '_H'\n",
    "\n",
    "    return c_str"
   ]
  },
  {
   "cell_type": "code",
   "execution_count": 51,
   "metadata": {},
   "outputs": [],
   "source": [
    "c_model_name = '../models/model_cnn_v5_ecg'\n",
    "# Write TFLite model to a C source (or header) file\n",
    "with open(c_model_name + '.h', 'w') as file:\n",
    "    file.write(hex_to_c_array(tflite_model, c_model_name))"
   ]
  },
  {
   "cell_type": "markdown",
   "metadata": {},
   "source": [
    "Consultando o diretório onde se salvou os arquivos otimizados, percebe-se que há um gasto de memória de 159KB"
   ]
  },
  {
   "cell_type": "code",
   "execution_count": 52,
   "metadata": {},
   "outputs": [
    {
     "name": "stdout",
     "output_type": "stream",
     "text": [
      "WARNING:tensorflow:Please add `keras.layers.InputLayer` instead of `keras.Input` to Sequential model. `keras.Input` is intended to be used by Functional model.\n"
     ]
    },
    {
     "name": "stderr",
     "output_type": "stream",
     "text": [
      "WARNING:tensorflow:Please add `keras.layers.InputLayer` instead of `keras.Input` to Sequential model. `keras.Input` is intended to be used by Functional model.\n"
     ]
    },
    {
     "name": "stdout",
     "output_type": "stream",
     "text": [
      "Model: \"sequential_7\"\n",
      "_________________________________________________________________\n",
      "Layer (type)                 Output Shape              Param #   \n",
      "=================================================================\n",
      "conv1d_34 (Conv1D)           (None, 100, 8)            64        \n",
      "_________________________________________________________________\n",
      "conv1d_35 (Conv1D)           (None, 100, 8)            456       \n",
      "_________________________________________________________________\n",
      "max_pooling1d_17 (MaxPooling (None, 48, 8)             0         \n",
      "_________________________________________________________________\n",
      "dropout_24 (Dropout)         (None, 48, 8)             0         \n",
      "_________________________________________________________________\n",
      "conv1d_36 (Conv1D)           (None, 48, 8)             456       \n",
      "_________________________________________________________________\n",
      "conv1d_37 (Conv1D)           (None, 48, 8)             456       \n",
      "_________________________________________________________________\n",
      "max_pooling1d_18 (MaxPooling (None, 22, 8)             0         \n",
      "_________________________________________________________________\n",
      "dropout_25 (Dropout)         (None, 22, 8)             0         \n",
      "_________________________________________________________________\n",
      "flatten_7 (Flatten)          (None, 176)               0         \n",
      "_________________________________________________________________\n",
      "dense_14 (Dense)             (None, 32)                5664      \n",
      "_________________________________________________________________\n",
      "dropout_26 (Dropout)         (None, 32)                0         \n",
      "_________________________________________________________________\n",
      "dense_15 (Dense)             (None, 1)                 33        \n",
      "=================================================================\n",
      "Total params: 7,129\n",
      "Trainable params: 7,129\n",
      "Non-trainable params: 0\n",
      "_________________________________________________________________\n"
     ]
    }
   ],
   "source": [
    "model = Sequential()\n",
    "model.add(Input(shape=(features, depht)))\n",
    "model=group_layer(model)\n",
    "model.add(Dropout(0.2))\n",
    "model=group_layer(model)\n",
    "model.add(Dropout(0.2))\n",
    "model.add(Flatten())\n",
    "model.add(Dense(32, activation='relu'))\n",
    "model.add(Dropout(0.2))\n",
    "model.add(Dense(1, activation='sigmoid'))\n",
    "model.summary()"
   ]
  },
  {
   "cell_type": "code",
   "execution_count": 53,
   "metadata": {},
   "outputs": [
    {
     "name": "stdout",
     "output_type": "stream",
     "text": [
      "Epoch 1/100\n",
      "658/658 [==============================] - 5s 7ms/step - loss: 0.4351 - accuracy: 0.7885 - val_loss: 0.2616 - val_accuracy: 0.9034\n",
      "Epoch 2/100\n",
      "658/658 [==============================] - 4s 6ms/step - loss: 0.2709 - accuracy: 0.8986 - val_loss: 0.2368 - val_accuracy: 0.9091\n",
      "Epoch 3/100\n",
      "658/658 [==============================] - 4s 6ms/step - loss: 0.2507 - accuracy: 0.9040 - val_loss: 0.2225 - val_accuracy: 0.9173\n",
      "Epoch 4/100\n",
      "658/658 [==============================] - 4s 6ms/step - loss: 0.2458 - accuracy: 0.9085 - val_loss: 0.2152 - val_accuracy: 0.9207\n",
      "Epoch 5/100\n",
      "658/658 [==============================] - 4s 6ms/step - loss: 0.2333 - accuracy: 0.9118 - val_loss: 0.2191 - val_accuracy: 0.9201\n",
      "Epoch 6/100\n",
      "658/658 [==============================] - 4s 7ms/step - loss: 0.2314 - accuracy: 0.9146 - val_loss: 0.2169 - val_accuracy: 0.9199\n",
      "Epoch 7/100\n",
      "658/658 [==============================] - 4s 7ms/step - loss: 0.2259 - accuracy: 0.9157 - val_loss: 0.2043 - val_accuracy: 0.9281\n",
      "Epoch 8/100\n",
      "658/658 [==============================] - 5s 7ms/step - loss: 0.2197 - accuracy: 0.9189 - val_loss: 0.2004 - val_accuracy: 0.9260\n",
      "Epoch 9/100\n",
      "658/658 [==============================] - 5s 8ms/step - loss: 0.2146 - accuracy: 0.9192 - val_loss: 0.1954 - val_accuracy: 0.9287\n",
      "Epoch 10/100\n",
      "658/658 [==============================] - 5s 8ms/step - loss: 0.2132 - accuracy: 0.9202 - val_loss: 0.1943 - val_accuracy: 0.9293\n",
      "Epoch 11/100\n",
      "658/658 [==============================] - 5s 8ms/step - loss: 0.2124 - accuracy: 0.9198 - val_loss: 0.1930 - val_accuracy: 0.9285\n",
      "Epoch 12/100\n",
      "658/658 [==============================] - 5s 8ms/step - loss: 0.2092 - accuracy: 0.9219 - val_loss: 0.1975 - val_accuracy: 0.9257\n",
      "Epoch 13/100\n",
      "658/658 [==============================] - 5s 8ms/step - loss: 0.2100 - accuracy: 0.9214 - val_loss: 0.1999 - val_accuracy: 0.9274\n",
      "Epoch 14/100\n",
      "658/658 [==============================] - 5s 7ms/step - loss: 0.2071 - accuracy: 0.9225 - val_loss: 0.1934 - val_accuracy: 0.9293\n",
      "Epoch 15/100\n",
      "658/658 [==============================] - 5s 7ms/step - loss: 0.2032 - accuracy: 0.9259 - val_loss: 0.1826 - val_accuracy: 0.9342\n",
      "Epoch 16/100\n",
      "658/658 [==============================] - 5s 7ms/step - loss: 0.2014 - accuracy: 0.9247 - val_loss: 0.1818 - val_accuracy: 0.9321\n",
      "Epoch 17/100\n",
      "658/658 [==============================] - 5s 7ms/step - loss: 0.2009 - accuracy: 0.9265 - val_loss: 0.1822 - val_accuracy: 0.9350\n",
      "Epoch 18/100\n",
      "658/658 [==============================] - 5s 7ms/step - loss: 0.1996 - accuracy: 0.9266 - val_loss: 0.1910 - val_accuracy: 0.9298\n",
      "Epoch 19/100\n",
      "658/658 [==============================] - 5s 7ms/step - loss: 0.1994 - accuracy: 0.9267 - val_loss: 0.1778 - val_accuracy: 0.9338\n",
      "Epoch 20/100\n",
      "658/658 [==============================] - 5s 7ms/step - loss: 0.2010 - accuracy: 0.9270 - val_loss: 0.1821 - val_accuracy: 0.9338\n",
      "Epoch 21/100\n",
      "658/658 [==============================] - 5s 7ms/step - loss: 0.1970 - accuracy: 0.9274 - val_loss: 0.1772 - val_accuracy: 0.9333\n",
      "Epoch 22/100\n",
      "658/658 [==============================] - 5s 7ms/step - loss: 0.1930 - accuracy: 0.9290 - val_loss: 0.1819 - val_accuracy: 0.9327\n",
      "Epoch 23/100\n",
      "658/658 [==============================] - 5s 7ms/step - loss: 0.1906 - accuracy: 0.9276 - val_loss: 0.1796 - val_accuracy: 0.9295\n",
      "Epoch 24/100\n",
      "658/658 [==============================] - 5s 7ms/step - loss: 0.1918 - accuracy: 0.9295 - val_loss: 0.1831 - val_accuracy: 0.9338\n",
      "Epoch 25/100\n",
      "658/658 [==============================] - 5s 7ms/step - loss: 0.1940 - accuracy: 0.9266 - val_loss: 0.1764 - val_accuracy: 0.9340\n",
      "Epoch 26/100\n",
      "658/658 [==============================] - 4s 6ms/step - loss: 0.1891 - accuracy: 0.9312 - val_loss: 0.1831 - val_accuracy: 0.9296\n",
      "Epoch 27/100\n",
      "658/658 [==============================] - 4s 6ms/step - loss: 0.1901 - accuracy: 0.9292 - val_loss: 0.1915 - val_accuracy: 0.9308\n",
      "Epoch 28/100\n",
      "658/658 [==============================] - 4s 6ms/step - loss: 0.1892 - accuracy: 0.9294 - val_loss: 0.1860 - val_accuracy: 0.9304\n",
      "Epoch 29/100\n",
      "658/658 [==============================] - 4s 6ms/step - loss: 0.1857 - accuracy: 0.9320 - val_loss: 0.1751 - val_accuracy: 0.9373\n",
      "Epoch 30/100\n",
      "658/658 [==============================] - 4s 6ms/step - loss: 0.1847 - accuracy: 0.9317 - val_loss: 0.1747 - val_accuracy: 0.9346\n",
      "Epoch 31/100\n",
      "658/658 [==============================] - 4s 6ms/step - loss: 0.1867 - accuracy: 0.9306 - val_loss: 0.1780 - val_accuracy: 0.9333\n",
      "Epoch 32/100\n",
      "658/658 [==============================] - 4s 6ms/step - loss: 0.1860 - accuracy: 0.9306 - val_loss: 0.1737 - val_accuracy: 0.9357\n",
      "Epoch 33/100\n",
      "658/658 [==============================] - 4s 6ms/step - loss: 0.1852 - accuracy: 0.9303 - val_loss: 0.1688 - val_accuracy: 0.9361\n",
      "Epoch 34/100\n",
      "658/658 [==============================] - 4s 6ms/step - loss: 0.1867 - accuracy: 0.9310 - val_loss: 0.1748 - val_accuracy: 0.9334\n",
      "Epoch 35/100\n",
      "658/658 [==============================] - 4s 6ms/step - loss: 0.1859 - accuracy: 0.9305 - val_loss: 0.1721 - val_accuracy: 0.9350\n",
      "Epoch 36/100\n",
      "658/658 [==============================] - 4s 6ms/step - loss: 0.1823 - accuracy: 0.9310 - val_loss: 0.1842 - val_accuracy: 0.9293\n",
      "Epoch 37/100\n",
      "658/658 [==============================] - 4s 6ms/step - loss: 0.1799 - accuracy: 0.9344 - val_loss: 0.1684 - val_accuracy: 0.9382\n",
      "Epoch 38/100\n",
      "658/658 [==============================] - 4s 6ms/step - loss: 0.1842 - accuracy: 0.9316 - val_loss: 0.1653 - val_accuracy: 0.9369\n",
      "Epoch 39/100\n",
      "658/658 [==============================] - 4s 6ms/step - loss: 0.1815 - accuracy: 0.9321 - val_loss: 0.1726 - val_accuracy: 0.9336\n",
      "Epoch 40/100\n",
      "658/658 [==============================] - 4s 6ms/step - loss: 0.1824 - accuracy: 0.9322 - val_loss: 0.1678 - val_accuracy: 0.9378\n",
      "Epoch 41/100\n",
      "658/658 [==============================] - 4s 6ms/step - loss: 0.1824 - accuracy: 0.9322 - val_loss: 0.1680 - val_accuracy: 0.9390\n",
      "Epoch 42/100\n",
      "658/658 [==============================] - 4s 6ms/step - loss: 0.1786 - accuracy: 0.9328 - val_loss: 0.1718 - val_accuracy: 0.9380\n",
      "Epoch 43/100\n",
      "658/658 [==============================] - 4s 7ms/step - loss: 0.1803 - accuracy: 0.9319 - val_loss: 0.1699 - val_accuracy: 0.9390\n",
      "Epoch 44/100\n",
      "658/658 [==============================] - 4s 7ms/step - loss: 0.1792 - accuracy: 0.9335 - val_loss: 0.1726 - val_accuracy: 0.9352\n",
      "Epoch 45/100\n",
      "658/658 [==============================] - 5s 7ms/step - loss: 0.1799 - accuracy: 0.9340 - val_loss: 0.1698 - val_accuracy: 0.9367\n",
      "Epoch 46/100\n",
      "658/658 [==============================] - 4s 7ms/step - loss: 0.1783 - accuracy: 0.9347 - val_loss: 0.1659 - val_accuracy: 0.9407\n",
      "Epoch 47/100\n",
      "658/658 [==============================] - 4s 7ms/step - loss: 0.1756 - accuracy: 0.9346 - val_loss: 0.1681 - val_accuracy: 0.9390\n",
      "Epoch 48/100\n",
      "658/658 [==============================] - 4s 6ms/step - loss: 0.1756 - accuracy: 0.9337 - val_loss: 0.1640 - val_accuracy: 0.9388\n",
      "Epoch 49/100\n",
      "658/658 [==============================] - 4s 6ms/step - loss: 0.1765 - accuracy: 0.9327 - val_loss: 0.1719 - val_accuracy: 0.9369\n",
      "Epoch 50/100\n",
      "658/658 [==============================] - 4s 6ms/step - loss: 0.1731 - accuracy: 0.9365 - val_loss: 0.1739 - val_accuracy: 0.9361\n",
      "Epoch 51/100\n",
      "658/658 [==============================] - 4s 7ms/step - loss: 0.1766 - accuracy: 0.9344 - val_loss: 0.1679 - val_accuracy: 0.9378\n",
      "Epoch 52/100\n",
      "658/658 [==============================] - 4s 7ms/step - loss: 0.1739 - accuracy: 0.9353 - val_loss: 0.1684 - val_accuracy: 0.9392\n",
      "Epoch 53/100\n",
      "658/658 [==============================] - 5s 7ms/step - loss: 0.1726 - accuracy: 0.9353 - val_loss: 0.1657 - val_accuracy: 0.9393\n",
      "Epoch 54/100\n",
      "658/658 [==============================] - 4s 6ms/step - loss: 0.1696 - accuracy: 0.9372 - val_loss: 0.1635 - val_accuracy: 0.9384\n",
      "Epoch 55/100\n",
      "658/658 [==============================] - 4s 6ms/step - loss: 0.1738 - accuracy: 0.9352 - val_loss: 0.1635 - val_accuracy: 0.9403\n",
      "Epoch 56/100\n",
      "658/658 [==============================] - 4s 6ms/step - loss: 0.1722 - accuracy: 0.9373 - val_loss: 0.1649 - val_accuracy: 0.9369\n",
      "Epoch 57/100\n",
      "658/658 [==============================] - 4s 6ms/step - loss: 0.1708 - accuracy: 0.9374 - val_loss: 0.1622 - val_accuracy: 0.9407\n"
     ]
    },
    {
     "name": "stdout",
     "output_type": "stream",
     "text": [
      "Epoch 58/100\n",
      "658/658 [==============================] - 5s 7ms/step - loss: 0.1737 - accuracy: 0.9346 - val_loss: 0.1635 - val_accuracy: 0.9390\n",
      "Epoch 59/100\n",
      "658/658 [==============================] - 4s 6ms/step - loss: 0.1708 - accuracy: 0.9374 - val_loss: 0.1661 - val_accuracy: 0.9380\n",
      "Epoch 60/100\n",
      "658/658 [==============================] - 4s 7ms/step - loss: 0.1703 - accuracy: 0.9389 - val_loss: 0.1646 - val_accuracy: 0.9403\n",
      "Epoch 61/100\n",
      "658/658 [==============================] - 4s 6ms/step - loss: 0.1734 - accuracy: 0.9368 - val_loss: 0.1712 - val_accuracy: 0.9376\n",
      "Epoch 62/100\n",
      "658/658 [==============================] - 4s 6ms/step - loss: 0.1686 - accuracy: 0.9372 - val_loss: 0.1700 - val_accuracy: 0.9355\n",
      "Epoch 63/100\n",
      "658/658 [==============================] - 5s 7ms/step - loss: 0.1703 - accuracy: 0.9361 - val_loss: 0.1576 - val_accuracy: 0.9407\n",
      "Epoch 64/100\n",
      "658/658 [==============================] - 5s 7ms/step - loss: 0.1744 - accuracy: 0.9373 - val_loss: 0.1729 - val_accuracy: 0.9393\n",
      "Epoch 65/100\n",
      "658/658 [==============================] - 5s 7ms/step - loss: 0.1708 - accuracy: 0.9369 - val_loss: 0.1644 - val_accuracy: 0.9386\n",
      "Epoch 66/100\n",
      "658/658 [==============================] - 5s 7ms/step - loss: 0.1679 - accuracy: 0.9369 - val_loss: 0.1703 - val_accuracy: 0.9384\n",
      "Epoch 67/100\n",
      "658/658 [==============================] - 5s 7ms/step - loss: 0.1705 - accuracy: 0.9353 - val_loss: 0.1650 - val_accuracy: 0.9382\n",
      "Epoch 68/100\n",
      "658/658 [==============================] - 4s 7ms/step - loss: 0.1725 - accuracy: 0.9367 - val_loss: 0.1669 - val_accuracy: 0.9367\n",
      "Epoch 69/100\n",
      "658/658 [==============================] - 4s 6ms/step - loss: 0.1679 - accuracy: 0.9387 - val_loss: 0.1648 - val_accuracy: 0.9386\n",
      "Epoch 70/100\n",
      "658/658 [==============================] - 4s 6ms/step - loss: 0.1719 - accuracy: 0.9350 - val_loss: 0.1659 - val_accuracy: 0.9388\n",
      "Epoch 71/100\n",
      "658/658 [==============================] - 4s 7ms/step - loss: 0.1693 - accuracy: 0.9366 - val_loss: 0.1644 - val_accuracy: 0.9382\n",
      "Epoch 72/100\n",
      "658/658 [==============================] - 4s 6ms/step - loss: 0.1682 - accuracy: 0.9387 - val_loss: 0.1644 - val_accuracy: 0.9403\n",
      "Epoch 73/100\n",
      "658/658 [==============================] - 4s 6ms/step - loss: 0.1663 - accuracy: 0.9401 - val_loss: 0.1594 - val_accuracy: 0.9399\n",
      "Epoch 00073: early stopping\n"
     ]
    }
   ],
   "source": [
    "opt = Adam(beta_1=0.9, beta_2=0.999)\n",
    "model.compile(loss='binary_crossentropy',\n",
    "              optimizer=opt,\n",
    "              metrics=['accuracy'])\n",
    "\n",
    "\n",
    "EPOCHS = 100\n",
    "\n",
    "history = model.fit(X_train,\n",
    "                    y_train,\n",
    "                    epochs=EPOCHS,\n",
    "                    validation_split=0.2,\n",
    "                    verbose=1,\n",
    "                    callbacks=[early_stop])"
   ]
  },
  {
   "cell_type": "code",
   "execution_count": 58,
   "metadata": {},
   "outputs": [
    {
     "name": "stdout",
     "output_type": "stream",
     "text": [
      "Model Accuraccy:  0.94\n"
     ]
    },
    {
     "data": {
      "image/png": "[encoded data removed]",
      "text/plain": [
       "<Figure size 576x432 with 1 Axes>"
      ]
     },
     "metadata": {
      "needs_background": "light"
     },
     "output_type": "display_data"
    }
   ],
   "source": [
    "_, model_accuracy = model.evaluate(X_test, y_test, verbose=0)\n",
    "print(\"Model Accuraccy: \", round(model_accuracy, 2))\n",
    "summarize_loss(history)"
   ]
  },
  {
   "cell_type": "code",
   "execution_count": 59,
   "metadata": {},
   "outputs": [
    {
     "name": "stdout",
     "output_type": "stream",
     "text": [
      "\n",
      "\t\tECG - CNN V1 - MODEL EVALUATION\n",
      "\n",
      "              precision    recall  f1-score   support\n",
      "\n",
      "          SR       0.94      0.91      0.93      2958\n",
      "        AFIB       0.93      0.95      0.94      3616\n",
      "\n",
      "    accuracy                           0.94      6574\n",
      "   macro avg       0.94      0.93      0.94      6574\n",
      "weighted avg       0.94      0.94      0.94      6574\n",
      "\n"
     ]
    },
    {
     "data": {
      "image/png": "[encoded data removed]",
      "text/plain": [
       "<Figure size 576x432 with 2 Axes>"
      ]
     },
     "metadata": {
      "needs_background": "light"
     },
     "output_type": "display_data"
    }
   ],
   "source": [
    "y_pred = model.predict(X_test)\n",
    "y_pred = y_pred > 0.5\n",
    "print('\\n\\t\\tECG - CNN V1 - MODEL EVALUATION\\n')\n",
    "print(classification_report(y_test, y_pred, target_names=['SR', 'AFIB']))\n",
    "plot_conf_matrix(y_test, y_pred)"
   ]
  },
  {
   "cell_type": "code",
   "execution_count": 56,
   "metadata": {},
   "outputs": [
    {
     "name": "stdout",
     "output_type": "stream",
     "text": [
      "INFO:tensorflow:Assets written to: ../models/cnn_1d_v6_ecg\\assets\n"
     ]
    },
    {
     "name": "stderr",
     "output_type": "stream",
     "text": [
      "INFO:tensorflow:Assets written to: ../models/cnn_1d_v6_ecg\\assets\n"
     ]
    },
    {
     "name": "stdout",
     "output_type": "stream",
     "text": [
      "INFO:tensorflow:Assets written to: C:\\Users\\GUILH\\AppData\\Local\\Temp\\tmpa_falkqa\\assets\n"
     ]
    },
    {
     "name": "stderr",
     "output_type": "stream",
     "text": [
      "INFO:tensorflow:Assets written to: C:\\Users\\GUILH\\AppData\\Local\\Temp\\tmpa_falkqa\\assets\n"
     ]
    },
    {
     "data": {
      "text/plain": [
       "20048"
      ]
     },
     "execution_count": 56,
     "metadata": {},
     "output_type": "execute_result"
    }
   ],
   "source": [
    "model.save('../models/cnn_1d_v6_ecg.h5')\n",
    "model.save('../models/cnn_1d_v6_ecg')\n",
    "# Convert TF model to a tflite model\n",
    "model_cnn_v6_ecg = load_model('../models/cnn_1d_v6_ecg')\n",
    "converter = tf.lite.TFLiteConverter.from_keras_model(model_cnn_v6_ecg)\n",
    "converter.optimizations = [tf.lite.Optimize.OPTIMIZE_FOR_SIZE]\n",
    "tflite_model = converter.convert()\n",
    "\n",
    "open(\"../models/model_cnn_v6_ecg.tflite\",\"wb\").write(tflite_model)"
   ]
  },
  {
   "cell_type": "code",
   "execution_count": 57,
   "metadata": {},
   "outputs": [],
   "source": [
    "c_model_name = '../models/model_cnn_v6_ecg'\n",
    "# Write TFLite model to a C source (or header) file\n",
    "with open(c_model_name + '.h', 'w') as file:\n",
    "    file.write(hex_to_c_array(tflite_model, c_model_name))"
   ]
  },
  {
   "cell_type": "markdown",
   "metadata": {},
   "source": [
    "Consultando o diretório onde se salvou os arquivos otimizados, percebe-se que há um gasto de memória de 123KB"
   ]
  },
  {
   "cell_type": "code",
   "execution_count": 60,
   "metadata": {},
   "outputs": [
    {
     "name": "stdout",
     "output_type": "stream",
     "text": [
      "WARNING:tensorflow:Please add `keras.layers.InputLayer` instead of `keras.Input` to Sequential model. `keras.Input` is intended to be used by Functional model.\n"
     ]
    },
    {
     "name": "stderr",
     "output_type": "stream",
     "text": [
      "WARNING:tensorflow:Please add `keras.layers.InputLayer` instead of `keras.Input` to Sequential model. `keras.Input` is intended to be used by Functional model.\n"
     ]
    },
    {
     "name": "stdout",
     "output_type": "stream",
     "text": [
      "Model: \"sequential_8\"\n",
      "_________________________________________________________________\n",
      "Layer (type)                 Output Shape              Param #   \n",
      "=================================================================\n",
      "conv1d_38 (Conv1D)           (None, 100, 8)            64        \n",
      "_________________________________________________________________\n",
      "conv1d_39 (Conv1D)           (None, 100, 8)            456       \n",
      "_________________________________________________________________\n",
      "max_pooling1d_19 (MaxPooling (None, 48, 8)             0         \n",
      "_________________________________________________________________\n",
      "dropout_27 (Dropout)         (None, 48, 8)             0         \n",
      "_________________________________________________________________\n",
      "flatten_8 (Flatten)          (None, 384)               0         \n",
      "_________________________________________________________________\n",
      "dense_16 (Dense)             (None, 32)                12320     \n",
      "_________________________________________________________________\n",
      "dropout_28 (Dropout)         (None, 32)                0         \n",
      "_________________________________________________________________\n",
      "dense_17 (Dense)             (None, 1)                 33        \n",
      "=================================================================\n",
      "Total params: 12,873\n",
      "Trainable params: 12,873\n",
      "Non-trainable params: 0\n",
      "_________________________________________________________________\n"
     ]
    }
   ],
   "source": [
    "model = Sequential()\n",
    "model.add(Input(shape=(features, depht)))\n",
    "model=group_layer(model)\n",
    "model.add(Dropout(0.2))\n",
    "model.add(Flatten())\n",
    "model.add(Dense(32, activation='relu'))\n",
    "model.add(Dropout(0.2))\n",
    "model.add(Dense(1, activation='sigmoid'))\n",
    "model.summary()"
   ]
  },
  {
   "cell_type": "code",
   "execution_count": 61,
   "metadata": {},
   "outputs": [
    {
     "name": "stdout",
     "output_type": "stream",
     "text": [
      "Epoch 1/100\n",
      "658/658 [==============================] - 4s 5ms/step - loss: 0.3693 - accuracy: 0.8454 - val_loss: 0.2615 - val_accuracy: 0.9083\n",
      "Epoch 2/100\n",
      "658/658 [==============================] - 3s 4ms/step - loss: 0.2683 - accuracy: 0.9015 - val_loss: 0.2295 - val_accuracy: 0.9201\n",
      "Epoch 3/100\n",
      "658/658 [==============================] - 3s 4ms/step - loss: 0.2471 - accuracy: 0.9101 - val_loss: 0.2231 - val_accuracy: 0.9217\n",
      "Epoch 4/100\n",
      "658/658 [==============================] - 3s 4ms/step - loss: 0.2393 - accuracy: 0.9126 - val_loss: 0.2154 - val_accuracy: 0.9239\n",
      "Epoch 5/100\n",
      "658/658 [==============================] - 3s 5ms/step - loss: 0.2277 - accuracy: 0.9155 - val_loss: 0.2102 - val_accuracy: 0.9270\n",
      "Epoch 6/100\n",
      "658/658 [==============================] - 3s 4ms/step - loss: 0.2225 - accuracy: 0.9186 - val_loss: 0.2098 - val_accuracy: 0.9255\n",
      "Epoch 7/100\n",
      "658/658 [==============================] - 3s 5ms/step - loss: 0.2203 - accuracy: 0.9191 - val_loss: 0.1991 - val_accuracy: 0.9308\n",
      "Epoch 8/100\n",
      "658/658 [==============================] - 3s 4ms/step - loss: 0.2155 - accuracy: 0.9225 - val_loss: 0.1996 - val_accuracy: 0.9295\n",
      "Epoch 9/100\n",
      "658/658 [==============================] - 3s 4ms/step - loss: 0.2099 - accuracy: 0.9248 - val_loss: 0.2011 - val_accuracy: 0.9268\n",
      "Epoch 10/100\n",
      "658/658 [==============================] - 3s 4ms/step - loss: 0.2087 - accuracy: 0.9233 - val_loss: 0.1950 - val_accuracy: 0.9300\n",
      "Epoch 11/100\n",
      "658/658 [==============================] - 3s 4ms/step - loss: 0.2058 - accuracy: 0.9256 - val_loss: 0.1918 - val_accuracy: 0.9312\n",
      "Epoch 12/100\n",
      "658/658 [==============================] - 3s 4ms/step - loss: 0.2023 - accuracy: 0.9269 - val_loss: 0.1966 - val_accuracy: 0.9276\n",
      "Epoch 13/100\n",
      "658/658 [==============================] - 3s 4ms/step - loss: 0.1991 - accuracy: 0.9271 - val_loss: 0.1901 - val_accuracy: 0.9319\n",
      "Epoch 14/100\n",
      "658/658 [==============================] - 3s 5ms/step - loss: 0.1984 - accuracy: 0.9263 - val_loss: 0.1883 - val_accuracy: 0.9329\n",
      "Epoch 15/100\n",
      "658/658 [==============================] - 3s 5ms/step - loss: 0.1973 - accuracy: 0.9285 - val_loss: 0.1879 - val_accuracy: 0.9323\n",
      "Epoch 16/100\n",
      "658/658 [==============================] - 3s 4ms/step - loss: 0.1944 - accuracy: 0.9286 - val_loss: 0.1857 - val_accuracy: 0.9321\n",
      "Epoch 17/100\n",
      "658/658 [==============================] - 3s 5ms/step - loss: 0.1927 - accuracy: 0.9297 - val_loss: 0.1913 - val_accuracy: 0.9298\n",
      "Epoch 18/100\n",
      "658/658 [==============================] - 3s 5ms/step - loss: 0.1911 - accuracy: 0.9308 - val_loss: 0.1822 - val_accuracy: 0.9336\n",
      "Epoch 19/100\n",
      "658/658 [==============================] - 3s 4ms/step - loss: 0.1910 - accuracy: 0.9312 - val_loss: 0.1771 - val_accuracy: 0.9367\n",
      "Epoch 20/100\n",
      "658/658 [==============================] - 3s 4ms/step - loss: 0.1883 - accuracy: 0.9296 - val_loss: 0.1841 - val_accuracy: 0.9321\n",
      "Epoch 21/100\n",
      "658/658 [==============================] - 3s 4ms/step - loss: 0.1856 - accuracy: 0.9323 - val_loss: 0.1768 - val_accuracy: 0.9346\n",
      "Epoch 22/100\n",
      "658/658 [==============================] - 3s 5ms/step - loss: 0.1824 - accuracy: 0.9338 - val_loss: 0.1747 - val_accuracy: 0.9369\n",
      "Epoch 23/100\n",
      "658/658 [==============================] - 3s 4ms/step - loss: 0.1837 - accuracy: 0.9321 - val_loss: 0.1754 - val_accuracy: 0.9380\n",
      "Epoch 24/100\n",
      "658/658 [==============================] - 3s 4ms/step - loss: 0.1821 - accuracy: 0.9324 - val_loss: 0.1778 - val_accuracy: 0.9359\n",
      "Epoch 25/100\n",
      "658/658 [==============================] - 3s 4ms/step - loss: 0.1821 - accuracy: 0.9330 - val_loss: 0.1706 - val_accuracy: 0.9380\n",
      "Epoch 26/100\n",
      "658/658 [==============================] - 3s 4ms/step - loss: 0.1777 - accuracy: 0.9347 - val_loss: 0.1778 - val_accuracy: 0.9338\n",
      "Epoch 27/100\n",
      "658/658 [==============================] - 3s 4ms/step - loss: 0.1752 - accuracy: 0.9353 - val_loss: 0.1745 - val_accuracy: 0.9365\n",
      "Epoch 28/100\n",
      "658/658 [==============================] - 3s 4ms/step - loss: 0.1775 - accuracy: 0.9347 - val_loss: 0.1721 - val_accuracy: 0.9373\n",
      "Epoch 29/100\n",
      "658/658 [==============================] - 3s 4ms/step - loss: 0.1733 - accuracy: 0.9368 - val_loss: 0.1771 - val_accuracy: 0.9365\n",
      "Epoch 30/100\n",
      "658/658 [==============================] - 3s 4ms/step - loss: 0.1739 - accuracy: 0.9360 - val_loss: 0.1691 - val_accuracy: 0.9403\n",
      "Epoch 31/100\n",
      "658/658 [==============================] - 3s 4ms/step - loss: 0.1714 - accuracy: 0.9380 - val_loss: 0.1858 - val_accuracy: 0.9333\n",
      "Epoch 32/100\n",
      "658/658 [==============================] - 3s 4ms/step - loss: 0.1702 - accuracy: 0.9367 - val_loss: 0.1741 - val_accuracy: 0.9369\n",
      "Epoch 33/100\n",
      "658/658 [==============================] - 3s 4ms/step - loss: 0.1709 - accuracy: 0.9360 - val_loss: 0.1698 - val_accuracy: 0.9392\n",
      "Epoch 34/100\n",
      "658/658 [==============================] - 3s 4ms/step - loss: 0.1686 - accuracy: 0.9371 - val_loss: 0.1681 - val_accuracy: 0.9401\n",
      "Epoch 35/100\n",
      "658/658 [==============================] - 3s 5ms/step - loss: 0.1702 - accuracy: 0.9364 - val_loss: 0.1689 - val_accuracy: 0.9376\n",
      "Epoch 36/100\n",
      "658/658 [==============================] - 3s 5ms/step - loss: 0.1686 - accuracy: 0.9389 - val_loss: 0.1692 - val_accuracy: 0.9378\n",
      "Epoch 37/100\n",
      "658/658 [==============================] - 3s 5ms/step - loss: 0.1650 - accuracy: 0.9398 - val_loss: 0.1692 - val_accuracy: 0.9378\n",
      "Epoch 38/100\n",
      "658/658 [==============================] - 3s 5ms/step - loss: 0.1662 - accuracy: 0.9392 - val_loss: 0.1672 - val_accuracy: 0.9386\n",
      "Epoch 39/100\n",
      "658/658 [==============================] - 4s 6ms/step - loss: 0.1672 - accuracy: 0.9384 - val_loss: 0.1734 - val_accuracy: 0.9373\n",
      "Epoch 40/100\n",
      "658/658 [==============================] - 3s 5ms/step - loss: 0.1651 - accuracy: 0.9382 - val_loss: 0.1655 - val_accuracy: 0.9403\n",
      "Epoch 41/100\n",
      "658/658 [==============================] - 3s 4ms/step - loss: 0.1630 - accuracy: 0.9381 - val_loss: 0.1699 - val_accuracy: 0.9382\n",
      "Epoch 42/100\n",
      "658/658 [==============================] - 3s 4ms/step - loss: 0.1634 - accuracy: 0.9400 - val_loss: 0.1657 - val_accuracy: 0.9405\n",
      "Epoch 43/100\n",
      "658/658 [==============================] - 3s 4ms/step - loss: 0.1635 - accuracy: 0.9394 - val_loss: 0.1656 - val_accuracy: 0.9393\n",
      "Epoch 44/100\n",
      "658/658 [==============================] - 3s 4ms/step - loss: 0.1606 - accuracy: 0.9409 - val_loss: 0.1662 - val_accuracy: 0.9378\n",
      "Epoch 45/100\n",
      "658/658 [==============================] - 3s 4ms/step - loss: 0.1603 - accuracy: 0.9433 - val_loss: 0.1640 - val_accuracy: 0.9403\n",
      "Epoch 46/100\n",
      "658/658 [==============================] - 3s 4ms/step - loss: 0.1618 - accuracy: 0.9405 - val_loss: 0.1672 - val_accuracy: 0.9401\n",
      "Epoch 47/100\n",
      "658/658 [==============================] - 3s 4ms/step - loss: 0.1575 - accuracy: 0.9413 - val_loss: 0.1729 - val_accuracy: 0.9380\n",
      "Epoch 48/100\n",
      "658/658 [==============================] - 3s 4ms/step - loss: 0.1550 - accuracy: 0.9426 - val_loss: 0.1710 - val_accuracy: 0.9380\n",
      "Epoch 49/100\n",
      "658/658 [==============================] - 3s 4ms/step - loss: 0.1578 - accuracy: 0.9411 - val_loss: 0.1685 - val_accuracy: 0.9420\n",
      "Epoch 50/100\n",
      "658/658 [==============================] - 3s 4ms/step - loss: 0.1591 - accuracy: 0.9413 - val_loss: 0.1713 - val_accuracy: 0.9399\n",
      "Epoch 51/100\n",
      "658/658 [==============================] - 3s 4ms/step - loss: 0.1546 - accuracy: 0.9427 - val_loss: 0.1714 - val_accuracy: 0.9397\n",
      "Epoch 52/100\n",
      "658/658 [==============================] - 3s 4ms/step - loss: 0.1555 - accuracy: 0.9406 - val_loss: 0.1616 - val_accuracy: 0.9439\n",
      "Epoch 53/100\n",
      "658/658 [==============================] - 3s 4ms/step - loss: 0.1559 - accuracy: 0.9422 - val_loss: 0.1623 - val_accuracy: 0.9407\n",
      "Epoch 54/100\n",
      "658/658 [==============================] - 3s 4ms/step - loss: 0.1541 - accuracy: 0.9412 - val_loss: 0.1722 - val_accuracy: 0.9390\n",
      "Epoch 55/100\n",
      "658/658 [==============================] - 3s 4ms/step - loss: 0.1541 - accuracy: 0.9428 - val_loss: 0.1691 - val_accuracy: 0.9411\n",
      "Epoch 56/100\n",
      "658/658 [==============================] - 3s 4ms/step - loss: 0.1522 - accuracy: 0.9435 - val_loss: 0.1681 - val_accuracy: 0.9411\n",
      "Epoch 57/100\n",
      "658/658 [==============================] - 3s 4ms/step - loss: 0.1490 - accuracy: 0.9448 - val_loss: 0.1637 - val_accuracy: 0.9418\n"
     ]
    },
    {
     "name": "stdout",
     "output_type": "stream",
     "text": [
      "Epoch 58/100\n",
      "658/658 [==============================] - 3s 4ms/step - loss: 0.1507 - accuracy: 0.9453 - val_loss: 0.1620 - val_accuracy: 0.9431\n",
      "Epoch 59/100\n",
      "658/658 [==============================] - 3s 4ms/step - loss: 0.1538 - accuracy: 0.9413 - val_loss: 0.1639 - val_accuracy: 0.9420\n",
      "Epoch 60/100\n",
      "658/658 [==============================] - 3s 4ms/step - loss: 0.1515 - accuracy: 0.9453 - val_loss: 0.1622 - val_accuracy: 0.9433\n",
      "Epoch 61/100\n",
      "658/658 [==============================] - 3s 4ms/step - loss: 0.1508 - accuracy: 0.9420 - val_loss: 0.1664 - val_accuracy: 0.9411\n",
      "Epoch 62/100\n",
      "658/658 [==============================] - 3s 5ms/step - loss: 0.1498 - accuracy: 0.9447 - val_loss: 0.1677 - val_accuracy: 0.9430\n",
      "Epoch 00062: early stopping\n"
     ]
    }
   ],
   "source": [
    "opt = Adam(beta_1=0.9, beta_2=0.999)\n",
    "model.compile(loss='binary_crossentropy',\n",
    "              optimizer=opt,\n",
    "              metrics=['accuracy'])\n",
    "\n",
    "\n",
    "EPOCHS = 100\n",
    "\n",
    "history = model.fit(X_train,\n",
    "                    y_train,\n",
    "                    epochs=EPOCHS,\n",
    "                    validation_split=0.2,\n",
    "                    verbose=1,\n",
    "                    callbacks=[early_stop])"
   ]
  },
  {
   "cell_type": "code",
   "execution_count": 62,
   "metadata": {},
   "outputs": [
    {
     "name": "stdout",
     "output_type": "stream",
     "text": [
      "Model Accuraccy:  0.94\n"
     ]
    },
    {
     "data": {
      "image/png": "[encoded data removed]",
      "text/plain": [
       "<Figure size 576x432 with 1 Axes>"
      ]
     },
     "metadata": {
      "needs_background": "light"
     },
     "output_type": "display_data"
    }
   ],
   "source": [
    "_, model_accuracy = model.evaluate(X_test, y_test, verbose=0)\n",
    "print(\"Model Accuraccy: \", round(model_accuracy, 2))\n",
    "summarize_loss(history)"
   ]
  },
  {
   "cell_type": "code",
   "execution_count": 63,
   "metadata": {},
   "outputs": [
    {
     "name": "stdout",
     "output_type": "stream",
     "text": [
      "\n",
      "\t\tECG - CNN V1 - MODEL EVALUATION\n",
      "\n",
      "              precision    recall  f1-score   support\n",
      "\n",
      "          SR       0.95      0.91      0.93      2958\n",
      "        AFIB       0.93      0.96      0.94      3616\n",
      "\n",
      "    accuracy                           0.94      6574\n",
      "   macro avg       0.94      0.94      0.94      6574\n",
      "weighted avg       0.94      0.94      0.94      6574\n",
      "\n"
     ]
    },
    {
     "data": {
      "image/png": "[encoded data removed]",
      "text/plain": [
       "<Figure size 576x432 with 2 Axes>"
      ]
     },
     "metadata": {
      "needs_background": "light"
     },
     "output_type": "display_data"
    }
   ],
   "source": [
    "y_pred = model.predict(X_test)\n",
    "y_pred = y_pred > 0.5\n",
    "print('\\n\\t\\tECG - CNN V1 - MODEL EVALUATION\\n')\n",
    "print(classification_report(y_test, y_pred, target_names=['SR', 'AFIB']))\n",
    "plot_conf_matrix(y_test, y_pred)"
   ]
  },
  {
   "cell_type": "code",
   "execution_count": 64,
   "metadata": {},
   "outputs": [
    {
     "name": "stdout",
     "output_type": "stream",
     "text": [
      "INFO:tensorflow:Assets written to: ../models/cnn_1d_v7_ecg\\assets\n"
     ]
    },
    {
     "name": "stderr",
     "output_type": "stream",
     "text": [
      "INFO:tensorflow:Assets written to: ../models/cnn_1d_v7_ecg\\assets\n"
     ]
    },
    {
     "name": "stdout",
     "output_type": "stream",
     "text": [
      "INFO:tensorflow:Assets written to: C:\\Users\\GUILH\\AppData\\Local\\Temp\\tmpp1rj13f1\\assets\n"
     ]
    },
    {
     "name": "stderr",
     "output_type": "stream",
     "text": [
      "INFO:tensorflow:Assets written to: C:\\Users\\GUILH\\AppData\\Local\\Temp\\tmpp1rj13f1\\assets\n"
     ]
    },
    {
     "data": {
      "text/plain": [
       "19760"
      ]
     },
     "execution_count": 64,
     "metadata": {},
     "output_type": "execute_result"
    }
   ],
   "source": [
    "model.save('../models/cnn_1d_v7_ecg.h5')\n",
    "model.save('../models/cnn_1d_v7_ecg')\n",
    "# Convert TF model to a tflite model\n",
    "model_cnn_v7_ecg = load_model('../models/cnn_1d_v7_ecg')\n",
    "converter = tf.lite.TFLiteConverter.from_keras_model(model_cnn_v7_ecg)\n",
    "converter.optimizations = [tf.lite.Optimize.OPTIMIZE_FOR_SIZE]\n",
    "tflite_model = converter.convert()\n",
    "\n",
    "open(\"../models/model_cnn_v7_ecg.tflite\",\"wb\").write(tflite_model)"
   ]
  },
  {
   "cell_type": "code",
   "execution_count": 65,
   "metadata": {},
   "outputs": [],
   "source": [
    "c_model_name = '../models/model_cnn_v7_ecg'\n",
    "# Write TFLite model to a C source (or header) file\n",
    "with open(c_model_name + '.h', 'w') as file:\n",
    "    file.write(hex_to_c_array(tflite_model, c_model_name))"
   ]
  },
  {
   "cell_type": "markdown",
   "metadata": {},
   "source": [
    "Consultando o diretório onde se salvou os arquivos otimizados, percebe-se que há um gasto de memória de 121KB"
   ]
  },
  {
   "cell_type": "code",
   "execution_count": 66,
   "metadata": {},
   "outputs": [
    {
     "name": "stdout",
     "output_type": "stream",
     "text": [
      "WARNING:tensorflow:Please add `keras.layers.InputLayer` instead of `keras.Input` to Sequential model. `keras.Input` is intended to be used by Functional model.\n"
     ]
    },
    {
     "name": "stderr",
     "output_type": "stream",
     "text": [
      "WARNING:tensorflow:Please add `keras.layers.InputLayer` instead of `keras.Input` to Sequential model. `keras.Input` is intended to be used by Functional model.\n"
     ]
    },
    {
     "name": "stdout",
     "output_type": "stream",
     "text": [
      "Model: \"sequential_9\"\n",
      "_________________________________________________________________\n",
      "Layer (type)                 Output Shape              Param #   \n",
      "=================================================================\n",
      "conv1d_40 (Conv1D)           (None, 100, 8)            64        \n",
      "_________________________________________________________________\n",
      "conv1d_41 (Conv1D)           (None, 100, 8)            456       \n",
      "_________________________________________________________________\n",
      "max_pooling1d_20 (MaxPooling (None, 48, 8)             0         \n",
      "_________________________________________________________________\n",
      "dropout_29 (Dropout)         (None, 48, 8)             0         \n",
      "_________________________________________________________________\n",
      "flatten_9 (Flatten)          (None, 384)               0         \n",
      "_________________________________________________________________\n",
      "dense_18 (Dense)             (None, 16)                6160      \n",
      "_________________________________________________________________\n",
      "dropout_30 (Dropout)         (None, 16)                0         \n",
      "_________________________________________________________________\n",
      "dense_19 (Dense)             (None, 1)                 17        \n",
      "=================================================================\n",
      "Total params: 6,697\n",
      "Trainable params: 6,697\n",
      "Non-trainable params: 0\n",
      "_________________________________________________________________\n"
     ]
    }
   ],
   "source": [
    "model = Sequential()\n",
    "model.add(Input(shape=(features, depht)))\n",
    "model=group_layer(model)\n",
    "model.add(Dropout(0.2))\n",
    "model.add(Flatten())\n",
    "model.add(Dense(16, activation='relu'))\n",
    "model.add(Dropout(0.2))\n",
    "model.add(Dense(1, activation='sigmoid'))\n",
    "model.summary()"
   ]
  },
  {
   "cell_type": "code",
   "execution_count": 67,
   "metadata": {},
   "outputs": [
    {
     "name": "stdout",
     "output_type": "stream",
     "text": [
      "Epoch 1/100\n",
      "658/658 [==============================] - 4s 5ms/step - loss: 0.4177 - accuracy: 0.8126 - val_loss: 0.2777 - val_accuracy: 0.9053\n",
      "Epoch 2/100\n",
      "658/658 [==============================] - 3s 4ms/step - loss: 0.2791 - accuracy: 0.8954 - val_loss: 0.2377 - val_accuracy: 0.9116\n",
      "Epoch 3/100\n",
      "658/658 [==============================] - 3s 5ms/step - loss: 0.2543 - accuracy: 0.9053 - val_loss: 0.2281 - val_accuracy: 0.9163\n",
      "Epoch 4/100\n",
      "658/658 [==============================] - 3s 5ms/step - loss: 0.2437 - accuracy: 0.9084 - val_loss: 0.2327 - val_accuracy: 0.9173\n",
      "Epoch 5/100\n",
      "658/658 [==============================] - 3s 5ms/step - loss: 0.2414 - accuracy: 0.9121 - val_loss: 0.2208 - val_accuracy: 0.9207\n",
      "Epoch 6/100\n",
      "658/658 [==============================] - 3s 4ms/step - loss: 0.2351 - accuracy: 0.9134 - val_loss: 0.2153 - val_accuracy: 0.9230\n",
      "Epoch 7/100\n",
      "658/658 [==============================] - 3s 4ms/step - loss: 0.2350 - accuracy: 0.9132 - val_loss: 0.2122 - val_accuracy: 0.9237\n",
      "Epoch 8/100\n",
      "658/658 [==============================] - 3s 4ms/step - loss: 0.2292 - accuracy: 0.9166 - val_loss: 0.2129 - val_accuracy: 0.9239\n",
      "Epoch 9/100\n",
      "658/658 [==============================] - 3s 4ms/step - loss: 0.2272 - accuracy: 0.9169 - val_loss: 0.2097 - val_accuracy: 0.9239\n",
      "Epoch 10/100\n",
      "658/658 [==============================] - 3s 4ms/step - loss: 0.2249 - accuracy: 0.9180 - val_loss: 0.2080 - val_accuracy: 0.9268\n",
      "Epoch 11/100\n",
      "658/658 [==============================] - 3s 4ms/step - loss: 0.2213 - accuracy: 0.9196 - val_loss: 0.2035 - val_accuracy: 0.9262\n",
      "Epoch 12/100\n",
      "658/658 [==============================] - 3s 4ms/step - loss: 0.2190 - accuracy: 0.9191 - val_loss: 0.2067 - val_accuracy: 0.9230\n",
      "Epoch 13/100\n",
      "658/658 [==============================] - 3s 4ms/step - loss: 0.2201 - accuracy: 0.9202 - val_loss: 0.2009 - val_accuracy: 0.9279\n",
      "Epoch 14/100\n",
      "658/658 [==============================] - 3s 4ms/step - loss: 0.2186 - accuracy: 0.9188 - val_loss: 0.1991 - val_accuracy: 0.9277\n",
      "Epoch 15/100\n",
      "658/658 [==============================] - 3s 4ms/step - loss: 0.2151 - accuracy: 0.9202 - val_loss: 0.1944 - val_accuracy: 0.9293\n",
      "Epoch 16/100\n",
      "658/658 [==============================] - 3s 4ms/step - loss: 0.2154 - accuracy: 0.9215 - val_loss: 0.1957 - val_accuracy: 0.9304\n",
      "Epoch 17/100\n",
      "658/658 [==============================] - 3s 4ms/step - loss: 0.2120 - accuracy: 0.9238 - val_loss: 0.1926 - val_accuracy: 0.9281\n",
      "Epoch 18/100\n",
      "658/658 [==============================] - 3s 4ms/step - loss: 0.2119 - accuracy: 0.9220 - val_loss: 0.1946 - val_accuracy: 0.9291\n",
      "Epoch 19/100\n",
      "658/658 [==============================] - 3s 4ms/step - loss: 0.2111 - accuracy: 0.9224 - val_loss: 0.1909 - val_accuracy: 0.9289\n",
      "Epoch 20/100\n",
      "658/658 [==============================] - 3s 5ms/step - loss: 0.2060 - accuracy: 0.9234 - val_loss: 0.1921 - val_accuracy: 0.9293\n",
      "Epoch 21/100\n",
      "658/658 [==============================] - 3s 5ms/step - loss: 0.2046 - accuracy: 0.9249 - val_loss: 0.1946 - val_accuracy: 0.9255\n",
      "Epoch 22/100\n",
      "658/658 [==============================] - 3s 4ms/step - loss: 0.2050 - accuracy: 0.9246 - val_loss: 0.1987 - val_accuracy: 0.9281\n",
      "Epoch 23/100\n",
      "658/658 [==============================] - 3s 4ms/step - loss: 0.2066 - accuracy: 0.9234 - val_loss: 0.1935 - val_accuracy: 0.9266\n",
      "Epoch 24/100\n",
      "658/658 [==============================] - 3s 4ms/step - loss: 0.2007 - accuracy: 0.9259 - val_loss: 0.1891 - val_accuracy: 0.9298\n",
      "Epoch 25/100\n",
      "658/658 [==============================] - 3s 4ms/step - loss: 0.2020 - accuracy: 0.9264 - val_loss: 0.1903 - val_accuracy: 0.9304\n",
      "Epoch 26/100\n",
      "658/658 [==============================] - 3s 4ms/step - loss: 0.2046 - accuracy: 0.9246 - val_loss: 0.1905 - val_accuracy: 0.9296\n",
      "Epoch 27/100\n",
      "658/658 [==============================] - 3s 4ms/step - loss: 0.1985 - accuracy: 0.9273 - val_loss: 0.1910 - val_accuracy: 0.9314\n",
      "Epoch 28/100\n",
      "658/658 [==============================] - 3s 5ms/step - loss: 0.2012 - accuracy: 0.9262 - val_loss: 0.1885 - val_accuracy: 0.9304\n",
      "Epoch 29/100\n",
      "658/658 [==============================] - 3s 5ms/step - loss: 0.2014 - accuracy: 0.9249 - val_loss: 0.1963 - val_accuracy: 0.9279\n",
      "Epoch 30/100\n",
      "658/658 [==============================] - 3s 4ms/step - loss: 0.1959 - accuracy: 0.9275 - val_loss: 0.1867 - val_accuracy: 0.9312\n",
      "Epoch 31/100\n",
      "658/658 [==============================] - 3s 5ms/step - loss: 0.1956 - accuracy: 0.9276 - val_loss: 0.1852 - val_accuracy: 0.9336\n",
      "Epoch 32/100\n",
      "658/658 [==============================] - 3s 5ms/step - loss: 0.1946 - accuracy: 0.9292 - val_loss: 0.1850 - val_accuracy: 0.9336\n",
      "Epoch 33/100\n",
      "658/658 [==============================] - 3s 4ms/step - loss: 0.1970 - accuracy: 0.9279 - val_loss: 0.1814 - val_accuracy: 0.9338\n",
      "Epoch 34/100\n",
      "658/658 [==============================] - 3s 4ms/step - loss: 0.1970 - accuracy: 0.9266 - val_loss: 0.1858 - val_accuracy: 0.9312\n",
      "Epoch 35/100\n",
      "658/658 [==============================] - 3s 4ms/step - loss: 0.1963 - accuracy: 0.9285 - val_loss: 0.1969 - val_accuracy: 0.9277\n",
      "Epoch 36/100\n",
      "658/658 [==============================] - 3s 4ms/step - loss: 0.1927 - accuracy: 0.9284 - val_loss: 0.1855 - val_accuracy: 0.9336\n",
      "Epoch 37/100\n",
      "658/658 [==============================] - 3s 4ms/step - loss: 0.1883 - accuracy: 0.9301 - val_loss: 0.1818 - val_accuracy: 0.9329\n",
      "Epoch 38/100\n",
      "658/658 [==============================] - 3s 4ms/step - loss: 0.1920 - accuracy: 0.9301 - val_loss: 0.1779 - val_accuracy: 0.9338\n",
      "Epoch 39/100\n",
      "658/658 [==============================] - 3s 4ms/step - loss: 0.1934 - accuracy: 0.9299 - val_loss: 0.1791 - val_accuracy: 0.9346\n",
      "Epoch 40/100\n",
      "658/658 [==============================] - 3s 4ms/step - loss: 0.1942 - accuracy: 0.9296 - val_loss: 0.1781 - val_accuracy: 0.9355\n",
      "Epoch 41/100\n",
      "658/658 [==============================] - 3s 4ms/step - loss: 0.1888 - accuracy: 0.9306 - val_loss: 0.1771 - val_accuracy: 0.9365\n",
      "Epoch 42/100\n",
      "658/658 [==============================] - 3s 4ms/step - loss: 0.1897 - accuracy: 0.9312 - val_loss: 0.1775 - val_accuracy: 0.9352\n",
      "Epoch 43/100\n",
      "658/658 [==============================] - 3s 4ms/step - loss: 0.1867 - accuracy: 0.9309 - val_loss: 0.1781 - val_accuracy: 0.9346\n",
      "Epoch 44/100\n",
      "658/658 [==============================] - 3s 4ms/step - loss: 0.1881 - accuracy: 0.9299 - val_loss: 0.1775 - val_accuracy: 0.9353\n",
      "Epoch 45/100\n",
      "658/658 [==============================] - 3s 4ms/step - loss: 0.1865 - accuracy: 0.9311 - val_loss: 0.1849 - val_accuracy: 0.9361\n",
      "Epoch 46/100\n",
      "658/658 [==============================] - 3s 4ms/step - loss: 0.1869 - accuracy: 0.9305 - val_loss: 0.1796 - val_accuracy: 0.9348\n",
      "Epoch 47/100\n",
      "658/658 [==============================] - 3s 4ms/step - loss: 0.1863 - accuracy: 0.9324 - val_loss: 0.1750 - val_accuracy: 0.9359\n",
      "Epoch 48/100\n",
      "658/658 [==============================] - 3s 4ms/step - loss: 0.1848 - accuracy: 0.9319 - val_loss: 0.1772 - val_accuracy: 0.9367\n",
      "Epoch 49/100\n",
      "658/658 [==============================] - 3s 4ms/step - loss: 0.1836 - accuracy: 0.9346 - val_loss: 0.1743 - val_accuracy: 0.9357\n",
      "Epoch 50/100\n",
      "658/658 [==============================] - 3s 4ms/step - loss: 0.1834 - accuracy: 0.9320 - val_loss: 0.1785 - val_accuracy: 0.9355\n",
      "Epoch 51/100\n",
      "658/658 [==============================] - 3s 4ms/step - loss: 0.1818 - accuracy: 0.9315 - val_loss: 0.1764 - val_accuracy: 0.9367\n",
      "Epoch 52/100\n",
      "658/658 [==============================] - 3s 5ms/step - loss: 0.1844 - accuracy: 0.9331 - val_loss: 0.1739 - val_accuracy: 0.9367\n",
      "Epoch 53/100\n",
      "658/658 [==============================] - 3s 5ms/step - loss: 0.1823 - accuracy: 0.9330 - val_loss: 0.1737 - val_accuracy: 0.9365\n",
      "Epoch 54/100\n",
      "658/658 [==============================] - 3s 4ms/step - loss: 0.1787 - accuracy: 0.9359 - val_loss: 0.1732 - val_accuracy: 0.9352\n",
      "Epoch 55/100\n",
      "658/658 [==============================] - 3s 5ms/step - loss: 0.1808 - accuracy: 0.9353 - val_loss: 0.1723 - val_accuracy: 0.9374\n",
      "Epoch 56/100\n",
      "658/658 [==============================] - 3s 5ms/step - loss: 0.1811 - accuracy: 0.9332 - val_loss: 0.1811 - val_accuracy: 0.9352\n",
      "Epoch 57/100\n",
      "658/658 [==============================] - 3s 4ms/step - loss: 0.1806 - accuracy: 0.9332 - val_loss: 0.1765 - val_accuracy: 0.9371\n"
     ]
    },
    {
     "name": "stdout",
     "output_type": "stream",
     "text": [
      "Epoch 58/100\n",
      "658/658 [==============================] - 3s 4ms/step - loss: 0.1791 - accuracy: 0.9319 - val_loss: 0.1777 - val_accuracy: 0.9336\n",
      "Epoch 59/100\n",
      "658/658 [==============================] - 3s 4ms/step - loss: 0.1816 - accuracy: 0.9339 - val_loss: 0.1746 - val_accuracy: 0.9344\n",
      "Epoch 60/100\n",
      "658/658 [==============================] - 3s 4ms/step - loss: 0.1802 - accuracy: 0.9341 - val_loss: 0.1757 - val_accuracy: 0.9367\n",
      "Epoch 61/100\n",
      "658/658 [==============================] - 3s 4ms/step - loss: 0.1820 - accuracy: 0.9327 - val_loss: 0.1724 - val_accuracy: 0.9367\n",
      "Epoch 62/100\n",
      "658/658 [==============================] - 3s 4ms/step - loss: 0.1804 - accuracy: 0.9340 - val_loss: 0.1727 - val_accuracy: 0.9376\n",
      "Epoch 63/100\n",
      "658/658 [==============================] - 3s 4ms/step - loss: 0.1772 - accuracy: 0.9349 - val_loss: 0.1757 - val_accuracy: 0.9353\n",
      "Epoch 64/100\n",
      "658/658 [==============================] - 3s 4ms/step - loss: 0.1747 - accuracy: 0.9359 - val_loss: 0.1679 - val_accuracy: 0.9373\n",
      "Epoch 65/100\n",
      "658/658 [==============================] - 3s 4ms/step - loss: 0.1730 - accuracy: 0.9357 - val_loss: 0.1714 - val_accuracy: 0.9376\n",
      "Epoch 66/100\n",
      "658/658 [==============================] - 3s 4ms/step - loss: 0.1750 - accuracy: 0.9371 - val_loss: 0.1697 - val_accuracy: 0.9369\n",
      "Epoch 67/100\n",
      "658/658 [==============================] - 3s 4ms/step - loss: 0.1727 - accuracy: 0.9342 - val_loss: 0.1775 - val_accuracy: 0.9344\n",
      "Epoch 68/100\n",
      "658/658 [==============================] - 3s 4ms/step - loss: 0.1756 - accuracy: 0.9334 - val_loss: 0.1712 - val_accuracy: 0.9373\n",
      "Epoch 69/100\n",
      "658/658 [==============================] - 3s 4ms/step - loss: 0.1752 - accuracy: 0.9359 - val_loss: 0.1713 - val_accuracy: 0.9373\n",
      "Epoch 70/100\n",
      "658/658 [==============================] - 3s 4ms/step - loss: 0.1773 - accuracy: 0.9352 - val_loss: 0.1685 - val_accuracy: 0.9382\n",
      "Epoch 71/100\n",
      "658/658 [==============================] - 3s 4ms/step - loss: 0.1767 - accuracy: 0.9361 - val_loss: 0.1730 - val_accuracy: 0.9382\n",
      "Epoch 72/100\n",
      "658/658 [==============================] - 3s 4ms/step - loss: 0.1749 - accuracy: 0.9361 - val_loss: 0.1727 - val_accuracy: 0.9376\n",
      "Epoch 73/100\n",
      "658/658 [==============================] - 3s 4ms/step - loss: 0.1747 - accuracy: 0.9358 - val_loss: 0.1778 - val_accuracy: 0.9321\n",
      "Epoch 74/100\n",
      "658/658 [==============================] - 3s 4ms/step - loss: 0.1718 - accuracy: 0.9375 - val_loss: 0.1732 - val_accuracy: 0.9393\n",
      "Epoch 00074: early stopping\n"
     ]
    }
   ],
   "source": [
    "opt = Adam(beta_1=0.9, beta_2=0.999)\n",
    "model.compile(loss='binary_crossentropy',\n",
    "              optimizer=opt,\n",
    "              metrics=['accuracy'])\n",
    "\n",
    "\n",
    "EPOCHS = 100\n",
    "\n",
    "history = model.fit(X_train,\n",
    "                    y_train,\n",
    "                    epochs=EPOCHS,\n",
    "                    validation_split=0.2,\n",
    "                    verbose=1,\n",
    "                    callbacks=[early_stop])"
   ]
  },
  {
   "cell_type": "code",
   "execution_count": 68,
   "metadata": {},
   "outputs": [
    {
     "name": "stdout",
     "output_type": "stream",
     "text": [
      "Model Accuraccy:  0.94\n"
     ]
    },
    {
     "data": {
      "image/png": "[encoded data removed]",
      "text/plain": [
       "<Figure size 576x432 with 1 Axes>"
      ]
     },
     "metadata": {
      "needs_background": "light"
     },
     "output_type": "display_data"
    }
   ],
   "source": [
    "_, model_accuracy = model.evaluate(X_test, y_test, verbose=0)\n",
    "print(\"Model Accuraccy: \", round(model_accuracy, 2))\n",
    "summarize_loss(history)"
   ]
  },
  {
   "cell_type": "code",
   "execution_count": 69,
   "metadata": {},
   "outputs": [
    {
     "name": "stdout",
     "output_type": "stream",
     "text": [
      "\n",
      "\t\tECG - CNN V1 - MODEL EVALUATION\n",
      "\n",
      "              precision    recall  f1-score   support\n",
      "\n",
      "          SR       0.95      0.91      0.93      2958\n",
      "        AFIB       0.93      0.96      0.94      3616\n",
      "\n",
      "    accuracy                           0.94      6574\n",
      "   macro avg       0.94      0.93      0.94      6574\n",
      "weighted avg       0.94      0.94      0.94      6574\n",
      "\n"
     ]
    },
    {
     "data": {
      "image/png": "[encoded data removed]",
      "text/plain": [
       "<Figure size 576x432 with 2 Axes>"
      ]
     },
     "metadata": {
      "needs_background": "light"
     },
     "output_type": "display_data"
    }
   ],
   "source": [
    "y_pred = model.predict(X_test)\n",
    "y_pred = y_pred > 0.5\n",
    "print('\\n\\t\\tECG - CNN V1 - MODEL EVALUATION\\n')\n",
    "print(classification_report(y_test, y_pred, target_names=['SR', 'AFIB']))\n",
    "plot_conf_matrix(y_test, y_pred)"
   ]
  },
  {
   "cell_type": "code",
   "execution_count": 70,
   "metadata": {},
   "outputs": [
    {
     "name": "stdout",
     "output_type": "stream",
     "text": [
      "INFO:tensorflow:Assets written to: ../models/cnn_1d_v8_ecg\\assets\n"
     ]
    },
    {
     "name": "stderr",
     "output_type": "stream",
     "text": [
      "INFO:tensorflow:Assets written to: ../models/cnn_1d_v8_ecg\\assets\n"
     ]
    },
    {
     "name": "stdout",
     "output_type": "stream",
     "text": [
      "INFO:tensorflow:Assets written to: C:\\Users\\GUILH\\AppData\\Local\\Temp\\tmprlwwengm\\assets\n"
     ]
    },
    {
     "name": "stderr",
     "output_type": "stream",
     "text": [
      "INFO:tensorflow:Assets written to: C:\\Users\\GUILH\\AppData\\Local\\Temp\\tmprlwwengm\\assets\n"
     ]
    },
    {
     "data": {
      "text/plain": [
       "13504"
      ]
     },
     "execution_count": 70,
     "metadata": {},
     "output_type": "execute_result"
    }
   ],
   "source": [
    "model.save('../models/cnn_1d_v8_ecg.h5')\n",
    "model.save('../models/cnn_1d_v8_ecg')\n",
    "# Convert TF model to a tflite model\n",
    "model_cnn_v8_ecg = load_model('../models/cnn_1d_v8_ecg')\n",
    "converter = tf.lite.TFLiteConverter.from_keras_model(model_cnn_v8_ecg)\n",
    "converter.optimizations = [tf.lite.Optimize.OPTIMIZE_FOR_SIZE]\n",
    "tflite_model = converter.convert()\n",
    "\n",
    "open(\"../models/model_cnn_v8_ecg.tflite\",\"wb\").write(tflite_model)"
   ]
  },
  {
   "cell_type": "code",
   "execution_count": 71,
   "metadata": {},
   "outputs": [],
   "source": [
    "c_model_name = '../models/model_cnn_v8_ecg'\n",
    "# Write TFLite model to a C source (or header) file\n",
    "with open(c_model_name + '.h', 'w') as file:\n",
    "    file.write(hex_to_c_array(tflite_model, c_model_name))"
   ]
  },
  {
   "cell_type": "markdown",
   "metadata": {},
   "source": [
    "Consultando o diretório onde se salvou os arquivos otimizados, percebe-se que há um gasto de memória de 83KB"
   ]
  },
  {
   "cell_type": "code",
   "execution_count": 72,
   "metadata": {},
   "outputs": [
    {
     "name": "stdout",
     "output_type": "stream",
     "text": [
      "WARNING:tensorflow:Please add `keras.layers.InputLayer` instead of `keras.Input` to Sequential model. `keras.Input` is intended to be used by Functional model.\n"
     ]
    },
    {
     "name": "stderr",
     "output_type": "stream",
     "text": [
      "WARNING:tensorflow:Please add `keras.layers.InputLayer` instead of `keras.Input` to Sequential model. `keras.Input` is intended to be used by Functional model.\n"
     ]
    },
    {
     "name": "stdout",
     "output_type": "stream",
     "text": [
      "Model: \"sequential_10\"\n",
      "_________________________________________________________________\n",
      "Layer (type)                 Output Shape              Param #   \n",
      "=================================================================\n",
      "conv1d_42 (Conv1D)           (None, 100, 8)            64        \n",
      "_________________________________________________________________\n",
      "conv1d_43 (Conv1D)           (None, 100, 8)            456       \n",
      "_________________________________________________________________\n",
      "max_pooling1d_21 (MaxPooling (None, 48, 8)             0         \n",
      "_________________________________________________________________\n",
      "dropout_31 (Dropout)         (None, 48, 8)             0         \n",
      "_________________________________________________________________\n",
      "flatten_10 (Flatten)         (None, 384)               0         \n",
      "_________________________________________________________________\n",
      "dense_20 (Dense)             (None, 8)                 3080      \n",
      "_________________________________________________________________\n",
      "dropout_32 (Dropout)         (None, 8)                 0         \n",
      "_________________________________________________________________\n",
      "dense_21 (Dense)             (None, 1)                 9         \n",
      "=================================================================\n",
      "Total params: 3,609\n",
      "Trainable params: 3,609\n",
      "Non-trainable params: 0\n",
      "_________________________________________________________________\n"
     ]
    }
   ],
   "source": [
    "model = Sequential()\n",
    "model.add(Input(shape=(features, depht)))\n",
    "model=group_layer(model)\n",
    "model.add(Dropout(0.2))\n",
    "model.add(Flatten())\n",
    "model.add(Dense(8, activation='relu'))\n",
    "model.add(Dropout(0.2))\n",
    "model.add(Dense(1, activation='sigmoid'))\n",
    "model.summary()"
   ]
  },
  {
   "cell_type": "code",
   "execution_count": 73,
   "metadata": {},
   "outputs": [
    {
     "name": "stdout",
     "output_type": "stream",
     "text": [
      "Epoch 1/100\n",
      "658/658 [==============================] - 4s 5ms/step - loss: 0.4213 - accuracy: 0.8138 - val_loss: 0.2914 - val_accuracy: 0.9040\n",
      "Epoch 2/100\n",
      "658/658 [==============================] - 3s 4ms/step - loss: 0.2940 - accuracy: 0.8929 - val_loss: 0.2554 - val_accuracy: 0.9034\n",
      "Epoch 3/100\n",
      "658/658 [==============================] - 3s 4ms/step - loss: 0.2751 - accuracy: 0.8998 - val_loss: 0.2345 - val_accuracy: 0.9144\n",
      "Epoch 4/100\n",
      "658/658 [==============================] - 3s 4ms/step - loss: 0.2653 - accuracy: 0.9024 - val_loss: 0.2414 - val_accuracy: 0.9097\n",
      "Epoch 5/100\n",
      "658/658 [==============================] - 3s 4ms/step - loss: 0.2652 - accuracy: 0.9050 - val_loss: 0.2270 - val_accuracy: 0.9182\n",
      "Epoch 6/100\n",
      "658/658 [==============================] - 3s 4ms/step - loss: 0.2564 - accuracy: 0.9072 - val_loss: 0.2373 - val_accuracy: 0.9169\n",
      "Epoch 7/100\n",
      "658/658 [==============================] - 3s 4ms/step - loss: 0.2517 - accuracy: 0.9073 - val_loss: 0.2265 - val_accuracy: 0.9194\n",
      "Epoch 8/100\n",
      "658/658 [==============================] - 3s 4ms/step - loss: 0.2496 - accuracy: 0.9104 - val_loss: 0.2226 - val_accuracy: 0.9177\n",
      "Epoch 9/100\n",
      "658/658 [==============================] - 3s 4ms/step - loss: 0.2490 - accuracy: 0.9096 - val_loss: 0.2192 - val_accuracy: 0.9205\n",
      "Epoch 10/100\n",
      "658/658 [==============================] - 3s 4ms/step - loss: 0.2455 - accuracy: 0.9125 - val_loss: 0.2285 - val_accuracy: 0.9209\n",
      "Epoch 11/100\n",
      "658/658 [==============================] - 4s 6ms/step - loss: 0.2411 - accuracy: 0.9137 - val_loss: 0.2224 - val_accuracy: 0.9199\n",
      "Epoch 12/100\n",
      "658/658 [==============================] - 3s 5ms/step - loss: 0.2430 - accuracy: 0.9127 - val_loss: 0.2100 - val_accuracy: 0.9245\n",
      "Epoch 13/100\n",
      "658/658 [==============================] - 4s 6ms/step - loss: 0.2375 - accuracy: 0.9146 - val_loss: 0.2113 - val_accuracy: 0.9243\n",
      "Epoch 14/100\n",
      "658/658 [==============================] - 4s 6ms/step - loss: 0.2366 - accuracy: 0.9151 - val_loss: 0.2086 - val_accuracy: 0.9258\n",
      "Epoch 15/100\n",
      "658/658 [==============================] - 4s 6ms/step - loss: 0.2349 - accuracy: 0.9157 - val_loss: 0.2080 - val_accuracy: 0.9255\n",
      "Epoch 16/100\n",
      "658/658 [==============================] - 4s 5ms/step - loss: 0.2338 - accuracy: 0.9153 - val_loss: 0.2109 - val_accuracy: 0.9218\n",
      "Epoch 17/100\n",
      "658/658 [==============================] - 4s 5ms/step - loss: 0.2324 - accuracy: 0.9163 - val_loss: 0.2069 - val_accuracy: 0.9264\n",
      "Epoch 18/100\n",
      "658/658 [==============================] - 4s 5ms/step - loss: 0.2307 - accuracy: 0.9165 - val_loss: 0.2076 - val_accuracy: 0.9253\n",
      "Epoch 19/100\n",
      "658/658 [==============================] - 3s 5ms/step - loss: 0.2268 - accuracy: 0.9168 - val_loss: 0.2074 - val_accuracy: 0.9239\n",
      "Epoch 20/100\n",
      "658/658 [==============================] - 3s 5ms/step - loss: 0.2276 - accuracy: 0.9170 - val_loss: 0.2054 - val_accuracy: 0.9245\n",
      "Epoch 21/100\n",
      "658/658 [==============================] - 3s 5ms/step - loss: 0.2297 - accuracy: 0.9159 - val_loss: 0.2031 - val_accuracy: 0.9260\n",
      "Epoch 22/100\n",
      "658/658 [==============================] - 3s 5ms/step - loss: 0.2241 - accuracy: 0.9174 - val_loss: 0.2003 - val_accuracy: 0.9258\n",
      "Epoch 23/100\n",
      "658/658 [==============================] - 3s 5ms/step - loss: 0.2255 - accuracy: 0.9191 - val_loss: 0.2006 - val_accuracy: 0.9268\n",
      "Epoch 24/100\n",
      "658/658 [==============================] - 3s 5ms/step - loss: 0.2211 - accuracy: 0.9190 - val_loss: 0.2026 - val_accuracy: 0.9281\n",
      "Epoch 25/100\n",
      "658/658 [==============================] - 3s 5ms/step - loss: 0.2207 - accuracy: 0.9206 - val_loss: 0.1975 - val_accuracy: 0.9272\n",
      "Epoch 26/100\n",
      "658/658 [==============================] - 3s 4ms/step - loss: 0.2223 - accuracy: 0.9179 - val_loss: 0.2053 - val_accuracy: 0.9215\n",
      "Epoch 27/100\n",
      "658/658 [==============================] - 3s 4ms/step - loss: 0.2206 - accuracy: 0.9197 - val_loss: 0.1982 - val_accuracy: 0.9289\n",
      "Epoch 28/100\n",
      "658/658 [==============================] - 3s 4ms/step - loss: 0.2194 - accuracy: 0.9205 - val_loss: 0.1976 - val_accuracy: 0.9257\n",
      "Epoch 29/100\n",
      "658/658 [==============================] - 3s 4ms/step - loss: 0.2149 - accuracy: 0.9209 - val_loss: 0.1942 - val_accuracy: 0.9274\n",
      "Epoch 30/100\n",
      "658/658 [==============================] - 3s 4ms/step - loss: 0.2173 - accuracy: 0.9214 - val_loss: 0.1945 - val_accuracy: 0.9283\n",
      "Epoch 31/100\n",
      "658/658 [==============================] - 3s 4ms/step - loss: 0.2173 - accuracy: 0.9207 - val_loss: 0.1945 - val_accuracy: 0.9291\n",
      "Epoch 32/100\n",
      "658/658 [==============================] - 3s 4ms/step - loss: 0.2161 - accuracy: 0.9223 - val_loss: 0.2014 - val_accuracy: 0.9279\n",
      "Epoch 33/100\n",
      "658/658 [==============================] - 3s 5ms/step - loss: 0.2157 - accuracy: 0.9210 - val_loss: 0.2029 - val_accuracy: 0.9270\n",
      "Epoch 34/100\n",
      "658/658 [==============================] - 3s 5ms/step - loss: 0.2134 - accuracy: 0.9232 - val_loss: 0.1969 - val_accuracy: 0.9279\n",
      "Epoch 35/100\n",
      "658/658 [==============================] - 3s 4ms/step - loss: 0.2158 - accuracy: 0.9222 - val_loss: 0.1979 - val_accuracy: 0.9283\n",
      "Epoch 36/100\n",
      "658/658 [==============================] - 3s 4ms/step - loss: 0.2128 - accuracy: 0.9219 - val_loss: 0.1920 - val_accuracy: 0.9300\n",
      "Epoch 37/100\n",
      "658/658 [==============================] - 3s 4ms/step - loss: 0.2141 - accuracy: 0.9226 - val_loss: 0.1969 - val_accuracy: 0.9287\n",
      "Epoch 38/100\n",
      "658/658 [==============================] - 3s 4ms/step - loss: 0.2109 - accuracy: 0.9229 - val_loss: 0.1934 - val_accuracy: 0.9308\n",
      "Epoch 39/100\n",
      "658/658 [==============================] - 3s 4ms/step - loss: 0.2109 - accuracy: 0.9227 - val_loss: 0.1966 - val_accuracy: 0.9289\n",
      "Epoch 40/100\n",
      "658/658 [==============================] - 3s 5ms/step - loss: 0.2116 - accuracy: 0.9230 - val_loss: 0.1985 - val_accuracy: 0.9279\n",
      "Epoch 41/100\n",
      "658/658 [==============================] - 3s 4ms/step - loss: 0.2089 - accuracy: 0.9227 - val_loss: 0.1902 - val_accuracy: 0.9291\n",
      "Epoch 42/100\n",
      "658/658 [==============================] - 3s 5ms/step - loss: 0.2114 - accuracy: 0.9215 - val_loss: 0.1972 - val_accuracy: 0.9260\n",
      "Epoch 43/100\n",
      "658/658 [==============================] - 3s 5ms/step - loss: 0.2111 - accuracy: 0.9238 - val_loss: 0.1889 - val_accuracy: 0.9331\n",
      "Epoch 44/100\n",
      "658/658 [==============================] - 3s 5ms/step - loss: 0.2071 - accuracy: 0.9235 - val_loss: 0.1910 - val_accuracy: 0.9295\n",
      "Epoch 45/100\n",
      "658/658 [==============================] - 3s 5ms/step - loss: 0.2070 - accuracy: 0.9230 - val_loss: 0.1944 - val_accuracy: 0.9272 - loss: 0.2131 - accura - ETA: 1s - l - ETA: 0s - loss: 0.209\n",
      "Epoch 46/100\n",
      "658/658 [==============================] - 3s 5ms/step - loss: 0.2065 - accuracy: 0.9241 - val_loss: 0.1895 - val_accuracy: 0.9296\n",
      "Epoch 47/100\n",
      "658/658 [==============================] - 3s 4ms/step - loss: 0.2068 - accuracy: 0.9223 - val_loss: 0.1925 - val_accuracy: 0.9304\n",
      "Epoch 48/100\n",
      "658/658 [==============================] - 3s 4ms/step - loss: 0.2058 - accuracy: 0.9260 - val_loss: 0.1933 - val_accuracy: 0.9287\n",
      "Epoch 49/100\n",
      "658/658 [==============================] - 3s 4ms/step - loss: 0.2077 - accuracy: 0.9241 - val_loss: 0.1958 - val_accuracy: 0.9289\n",
      "Epoch 50/100\n",
      "658/658 [==============================] - 3s 4ms/step - loss: 0.2070 - accuracy: 0.9250 - val_loss: 0.1911 - val_accuracy: 0.9281\n",
      "Epoch 51/100\n",
      "658/658 [==============================] - 3s 4ms/step - loss: 0.2054 - accuracy: 0.9230 - val_loss: 0.1909 - val_accuracy: 0.9306\n",
      "Epoch 52/100\n",
      "658/658 [==============================] - 3s 4ms/step - loss: 0.2060 - accuracy: 0.9236 - val_loss: 0.1889 - val_accuracy: 0.9296\n",
      "Epoch 53/100\n",
      "658/658 [==============================] - 3s 4ms/step - loss: 0.2027 - accuracy: 0.9253 - val_loss: 0.1858 - val_accuracy: 0.9300\n",
      "Epoch 54/100\n",
      "658/658 [==============================] - 3s 5ms/step - loss: 0.2050 - accuracy: 0.9240 - val_loss: 0.1877 - val_accuracy: 0.9312\n",
      "Epoch 55/100\n",
      "658/658 [==============================] - 3s 5ms/step - loss: 0.2038 - accuracy: 0.9251 - val_loss: 0.1852 - val_accuracy: 0.9323\n",
      "Epoch 56/100\n",
      "658/658 [==============================] - 3s 5ms/step - loss: 0.2046 - accuracy: 0.9247 - val_loss: 0.1855 - val_accuracy: 0.9331\n",
      "Epoch 57/100\n",
      "658/658 [==============================] - 3s 4ms/step - loss: 0.2057 - accuracy: 0.9235 - val_loss: 0.1901 - val_accuracy: 0.9306\n",
      "Epoch 58/100\n",
      "658/658 [==============================] - 3s 4ms/step - loss: 0.2052 - accuracy: 0.9244 - val_loss: 0.1851 - val_accuracy: 0.9319\n",
      "Epoch 59/100\n",
      "658/658 [==============================] - 3s 4ms/step - loss: 0.2040 - accuracy: 0.9256 - val_loss: 0.1894 - val_accuracy: 0.9315\n",
      "Epoch 60/100\n",
      "658/658 [==============================] - 3s 4ms/step - loss: 0.1984 - accuracy: 0.9287 - val_loss: 0.1874 - val_accuracy: 0.9331\n",
      "Epoch 61/100\n",
      "658/658 [==============================] - 3s 4ms/step - loss: 0.2048 - accuracy: 0.9244 - val_loss: 0.1902 - val_accuracy: 0.9298\n",
      "Epoch 62/100\n",
      "658/658 [==============================] - 3s 5ms/step - loss: 0.2034 - accuracy: 0.9265 - val_loss: 0.1921 - val_accuracy: 0.9283\n",
      "Epoch 63/100\n",
      "658/658 [==============================] - 4s 6ms/step - loss: 0.2025 - accuracy: 0.9242 - val_loss: 0.1897 - val_accuracy: 0.9315\n",
      "Epoch 64/100\n",
      "658/658 [==============================] - 4s 6ms/step - loss: 0.2049 - accuracy: 0.9245 - val_loss: 0.1904 - val_accuracy: 0.9315\n",
      "Epoch 65/100\n",
      "658/658 [==============================] - 4s 5ms/step - loss: 0.1981 - accuracy: 0.9272 - val_loss: 0.1850 - val_accuracy: 0.9329\n",
      "Epoch 66/100\n",
      "658/658 [==============================] - 3s 5ms/step - loss: 0.1990 - accuracy: 0.9268 - val_loss: 0.1907 - val_accuracy: 0.9287\n",
      "Epoch 67/100\n",
      "658/658 [==============================] - 3s 5ms/step - loss: 0.2005 - accuracy: 0.9258 - val_loss: 0.1910 - val_accuracy: 0.9336\n",
      "Epoch 68/100\n",
      "658/658 [==============================] - 3s 5ms/step - loss: 0.1997 - accuracy: 0.9276 - val_loss: 0.1835 - val_accuracy: 0.9336\n",
      "Epoch 69/100\n",
      "658/658 [==============================] - 3s 5ms/step - loss: 0.1959 - accuracy: 0.9292 - val_loss: 0.1867 - val_accuracy: 0.9312\n",
      "Epoch 70/100\n",
      "658/658 [==============================] - 3s 4ms/step - loss: 0.1999 - accuracy: 0.9270 - val_loss: 0.1842 - val_accuracy: 0.9323\n",
      "Epoch 71/100\n",
      "658/658 [==============================] - 3s 4ms/step - loss: 0.2000 - accuracy: 0.9264 - val_loss: 0.1868 - val_accuracy: 0.9336\n",
      "Epoch 72/100\n",
      "658/658 [==============================] - 3s 4ms/step - loss: 0.1990 - accuracy: 0.9257 - val_loss: 0.1838 - val_accuracy: 0.9333\n",
      "Epoch 73/100\n",
      "658/658 [==============================] - 3s 4ms/step - loss: 0.1993 - accuracy: 0.9261 - val_loss: 0.1870 - val_accuracy: 0.9353\n",
      "Epoch 74/100\n",
      "658/658 [==============================] - 3s 4ms/step - loss: 0.1988 - accuracy: 0.9254 - val_loss: 0.1874 - val_accuracy: 0.9295\n",
      "Epoch 75/100\n",
      "658/658 [==============================] - 3s 4ms/step - loss: 0.1990 - accuracy: 0.9275 - val_loss: 0.1888 - val_accuracy: 0.9314\n",
      "Epoch 76/100\n",
      "658/658 [==============================] - 3s 4ms/step - loss: 0.1965 - accuracy: 0.9274 - val_loss: 0.1806 - val_accuracy: 0.9317\n",
      "Epoch 77/100\n",
      "658/658 [==============================] - 3s 5ms/step - loss: 0.1978 - accuracy: 0.9273 - val_loss: 0.1842 - val_accuracy: 0.9333\n",
      "Epoch 78/100\n",
      "658/658 [==============================] - 3s 5ms/step - loss: 0.1961 - accuracy: 0.9285 - val_loss: 0.1858 - val_accuracy: 0.9334\n",
      "Epoch 79/100\n",
      "658/658 [==============================] - 3s 4ms/step - loss: 0.1985 - accuracy: 0.9266 - val_loss: 0.1924 - val_accuracy: 0.9274\n",
      "Epoch 80/100\n",
      "658/658 [==============================] - 3s 4ms/step - loss: 0.1948 - accuracy: 0.9275 - val_loss: 0.1908 - val_accuracy: 0.9272\n",
      "Epoch 81/100\n",
      "658/658 [==============================] - 3s 4ms/step - loss: 0.1959 - accuracy: 0.9269 - val_loss: 0.1861 - val_accuracy: 0.9329\n",
      "Epoch 82/100\n",
      "658/658 [==============================] - 3s 4ms/step - loss: 0.1950 - accuracy: 0.9280 - val_loss: 0.1860 - val_accuracy: 0.9325\n",
      "Epoch 83/100\n",
      "658/658 [==============================] - 3s 4ms/step - loss: 0.1971 - accuracy: 0.9300 - val_loss: 0.1838 - val_accuracy: 0.9308\n",
      "Epoch 84/100\n",
      "658/658 [==============================] - 3s 4ms/step - loss: 0.1925 - accuracy: 0.9266 - val_loss: 0.1838 - val_accuracy: 0.9333\n",
      "Epoch 85/100\n",
      "658/658 [==============================] - 3s 4ms/step - loss: 0.1947 - accuracy: 0.9275 - val_loss: 0.1926 - val_accuracy: 0.9306\n",
      "Epoch 86/100\n",
      "658/658 [==============================] - 3s 4ms/step - loss: 0.1915 - accuracy: 0.9289 - val_loss: 0.1827 - val_accuracy: 0.9338\n",
      "Epoch 00086: early stopping\n"
     ]
    }
   ],
   "source": [
    "opt = Adam(beta_1=0.9, beta_2=0.999)\n",
    "model.compile(loss='binary_crossentropy',\n",
    "              optimizer=opt,\n",
    "              metrics=['accuracy'])\n",
    "\n",
    "\n",
    "EPOCHS = 100\n",
    "\n",
    "history = model.fit(X_train,\n",
    "                    y_train,\n",
    "                    epochs=EPOCHS,\n",
    "                    validation_split=0.2,\n",
    "                    verbose=1,\n",
    "                    callbacks=[early_stop])"
   ]
  },
  {
   "cell_type": "code",
   "execution_count": 74,
   "metadata": {},
   "outputs": [
    {
     "name": "stdout",
     "output_type": "stream",
     "text": [
      "Model Accuraccy:  0.93\n"
     ]
    },
    {
     "data": {
      "image/png": "[encoded data removed]",
      "text/plain": [
       "<Figure size 576x432 with 1 Axes>"
      ]
     },
     "metadata": {
      "needs_background": "light"
     },
     "output_type": "display_data"
    }
   ],
   "source": [
    "_, model_accuracy = model.evaluate(X_test, y_test, verbose=0)\n",
    "print(\"Model Accuraccy: \", round(model_accuracy, 2))\n",
    "summarize_loss(history)"
   ]
  },
  {
   "cell_type": "code",
   "execution_count": 75,
   "metadata": {},
   "outputs": [
    {
     "name": "stdout",
     "output_type": "stream",
     "text": [
      "\n",
      "\t\tECG - CNN V1 - MODEL EVALUATION\n",
      "\n",
      "              precision    recall  f1-score   support\n",
      "\n",
      "          SR       0.94      0.91      0.92      2958\n",
      "        AFIB       0.93      0.95      0.94      3616\n",
      "\n",
      "    accuracy                           0.93      6574\n",
      "   macro avg       0.93      0.93      0.93      6574\n",
      "weighted avg       0.93      0.93      0.93      6574\n",
      "\n"
     ]
    },
    {
     "data": {
      "image/png": "[encoded data removed]",
      "text/plain": [
       "<Figure size 576x432 with 2 Axes>"
      ]
     },
     "metadata": {
      "needs_background": "light"
     },
     "output_type": "display_data"
    }
   ],
   "source": [
    "y_pred = model.predict(X_test)\n",
    "y_pred = y_pred > 0.5\n",
    "print('\\n\\t\\tECG - CNN V1 - MODEL EVALUATION\\n')\n",
    "print(classification_report(y_test, y_pred, target_names=['SR', 'AFIB']))\n",
    "plot_conf_matrix(y_test, y_pred)"
   ]
  },
  {
   "cell_type": "code",
   "execution_count": 76,
   "metadata": {},
   "outputs": [
    {
     "name": "stdout",
     "output_type": "stream",
     "text": [
      "INFO:tensorflow:Assets written to: ../models/cnn_1d_v9_ecg\\assets\n"
     ]
    },
    {
     "name": "stderr",
     "output_type": "stream",
     "text": [
      "INFO:tensorflow:Assets written to: ../models/cnn_1d_v9_ecg\\assets\n"
     ]
    },
    {
     "name": "stdout",
     "output_type": "stream",
     "text": [
      "INFO:tensorflow:Assets written to: C:\\Users\\GUILH\\AppData\\Local\\Temp\\tmpao8fsu1t\\assets\n"
     ]
    },
    {
     "name": "stderr",
     "output_type": "stream",
     "text": [
      "INFO:tensorflow:Assets written to: C:\\Users\\GUILH\\AppData\\Local\\Temp\\tmpao8fsu1t\\assets\n"
     ]
    },
    {
     "data": {
      "text/plain": [
       "10400"
      ]
     },
     "execution_count": 76,
     "metadata": {},
     "output_type": "execute_result"
    }
   ],
   "source": [
    "model.save('../models/cnn_1d_v9_ecg.h5')\n",
    "model.save('../models/cnn_1d_v9_ecg')\n",
    "# Convert TF model to a tflite model\n",
    "model_cnn_v9_ecg = load_model('../models/cnn_1d_v9_ecg')\n",
    "converter = tf.lite.TFLiteConverter.from_keras_model(model_cnn_v9_ecg)\n",
    "converter.optimizations = [tf.lite.Optimize.OPTIMIZE_FOR_SIZE]\n",
    "tflite_model = converter.convert()\n",
    "\n",
    "open(\"../models/model_cnn_v9_ecg.tflite\",\"wb\").write(tflite_model)"
   ]
  },
  {
   "cell_type": "code",
   "execution_count": 77,
   "metadata": {},
   "outputs": [],
   "source": [
    "c_model_name = '../models/model_cnn_v9_ecg'\n",
    "# Write TFLite model to a C source (or header) file\n",
    "with open(c_model_name + '.h', 'w') as file:\n",
    "    file.write(hex_to_c_array(tflite_model, c_model_name))"
   ]
  },
  {
   "cell_type": "markdown",
   "metadata": {},
   "source": [
    "Consultando o diretório onde se salvou os arquivos otimizados, percebe-se que há um gasto de memória de 64KB"
   ]
  },
  {
   "cell_type": "code",
   "execution_count": 78,
   "metadata": {},
   "outputs": [
    {
     "name": "stdout",
     "output_type": "stream",
     "text": [
      "WARNING:tensorflow:Please add `keras.layers.InputLayer` instead of `keras.Input` to Sequential model. `keras.Input` is intended to be used by Functional model.\n"
     ]
    },
    {
     "name": "stderr",
     "output_type": "stream",
     "text": [
      "WARNING:tensorflow:Please add `keras.layers.InputLayer` instead of `keras.Input` to Sequential model. `keras.Input` is intended to be used by Functional model.\n"
     ]
    },
    {
     "name": "stdout",
     "output_type": "stream",
     "text": [
      "Model: \"sequential_11\"\n",
      "_________________________________________________________________\n",
      "Layer (type)                 Output Shape              Param #   \n",
      "=================================================================\n",
      "conv1d_44 (Conv1D)           (None, 100, 8)            64        \n",
      "_________________________________________________________________\n",
      "conv1d_45 (Conv1D)           (None, 100, 8)            456       \n",
      "_________________________________________________________________\n",
      "max_pooling1d_22 (MaxPooling (None, 48, 8)             0         \n",
      "_________________________________________________________________\n",
      "dropout_33 (Dropout)         (None, 48, 8)             0         \n",
      "_________________________________________________________________\n",
      "flatten_11 (Flatten)         (None, 384)               0         \n",
      "_________________________________________________________________\n",
      "dense_22 (Dense)             (None, 4)                 1540      \n",
      "_________________________________________________________________\n",
      "dropout_34 (Dropout)         (None, 4)                 0         \n",
      "_________________________________________________________________\n",
      "dense_23 (Dense)             (None, 1)                 5         \n",
      "=================================================================\n",
      "Total params: 2,065\n",
      "Trainable params: 2,065\n",
      "Non-trainable params: 0\n",
      "_________________________________________________________________\n"
     ]
    }
   ],
   "source": [
    "model = Sequential()\n",
    "model.add(Input(shape=(features, depht)))\n",
    "model=group_layer(model)\n",
    "model.add(Dropout(0.2))\n",
    "model.add(Flatten())\n",
    "model.add(Dense(4, activation='relu'))\n",
    "model.add(Dropout(0.2))\n",
    "model.add(Dense(1, activation='sigmoid'))\n",
    "model.summary()"
   ]
  },
  {
   "cell_type": "code",
   "execution_count": 79,
   "metadata": {},
   "outputs": [
    {
     "name": "stdout",
     "output_type": "stream",
     "text": [
      "Epoch 1/100\n",
      "658/658 [==============================] - 5s 6ms/step - loss: 0.4172 - accuracy: 0.8242 - val_loss: 0.2676 - val_accuracy: 0.9057\n",
      "Epoch 2/100\n",
      "658/658 [==============================] - 3s 5ms/step - loss: 0.3082 - accuracy: 0.8921 - val_loss: 0.2415 - val_accuracy: 0.9099\n",
      "Epoch 3/100\n",
      "658/658 [==============================] - 4s 6ms/step - loss: 0.2855 - accuracy: 0.8995 - val_loss: 0.2420 - val_accuracy: 0.9141\n",
      "Epoch 4/100\n",
      "658/658 [==============================] - 4s 6ms/step - loss: 0.2736 - accuracy: 0.9032 - val_loss: 0.2371 - val_accuracy: 0.9131\n",
      "Epoch 5/100\n",
      "658/658 [==============================] - 3s 5ms/step - loss: 0.2698 - accuracy: 0.9019 - val_loss: 0.2242 - val_accuracy: 0.9148\n",
      "Epoch 6/100\n",
      "658/658 [==============================] - 3s 5ms/step - loss: 0.2648 - accuracy: 0.9043 - val_loss: 0.2259 - val_accuracy: 0.9152\n",
      "Epoch 7/100\n",
      "658/658 [==============================] - 3s 5ms/step - loss: 0.2581 - accuracy: 0.9061 - val_loss: 0.2257 - val_accuracy: 0.9186\n",
      "Epoch 8/100\n",
      "658/658 [==============================] - 3s 5ms/step - loss: 0.2571 - accuracy: 0.9083 - val_loss: 0.2300 - val_accuracy: 0.9192\n",
      "Epoch 9/100\n",
      "658/658 [==============================] - 3s 5ms/step - loss: 0.2526 - accuracy: 0.9098 - val_loss: 0.2187 - val_accuracy: 0.9199\n",
      "Epoch 10/100\n",
      "658/658 [==============================] - 3s 5ms/step - loss: 0.2474 - accuracy: 0.9128 - val_loss: 0.2138 - val_accuracy: 0.9205\n",
      "Epoch 11/100\n",
      "658/658 [==============================] - 3s 5ms/step - loss: 0.2482 - accuracy: 0.9079 - val_loss: 0.2148 - val_accuracy: 0.9196\n",
      "Epoch 12/100\n",
      "658/658 [==============================] - 3s 5ms/step - loss: 0.2487 - accuracy: 0.9092 - val_loss: 0.2165 - val_accuracy: 0.9207\n",
      "Epoch 13/100\n",
      "658/658 [==============================] - 3s 5ms/step - loss: 0.2446 - accuracy: 0.9116 - val_loss: 0.2126 - val_accuracy: 0.9217\n",
      "Epoch 14/100\n",
      "658/658 [==============================] - 3s 5ms/step - loss: 0.2445 - accuracy: 0.9111 - val_loss: 0.2124 - val_accuracy: 0.9222\n",
      "Epoch 15/100\n",
      "658/658 [==============================] - 3s 5ms/step - loss: 0.2435 - accuracy: 0.9110 - val_loss: 0.2125 - val_accuracy: 0.9243\n",
      "Epoch 16/100\n",
      "658/658 [==============================] - 3s 5ms/step - loss: 0.2420 - accuracy: 0.9120 - val_loss: 0.2105 - val_accuracy: 0.9234\n",
      "Epoch 17/100\n",
      "658/658 [==============================] - 4s 6ms/step - loss: 0.2346 - accuracy: 0.9165 - val_loss: 0.2171 - val_accuracy: 0.9255\n",
      "Epoch 18/100\n",
      "658/658 [==============================] - 4s 6ms/step - loss: 0.2393 - accuracy: 0.9143 - val_loss: 0.2145 - val_accuracy: 0.9232\n",
      "Epoch 19/100\n",
      "658/658 [==============================] - 3s 5ms/step - loss: 0.2384 - accuracy: 0.9155 - val_loss: 0.2166 - val_accuracy: 0.9230\n",
      "Epoch 20/100\n",
      "658/658 [==============================] - 3s 5ms/step - loss: 0.2345 - accuracy: 0.9158 - val_loss: 0.2133 - val_accuracy: 0.9203\n",
      "Epoch 21/100\n",
      "658/658 [==============================] - 3s 5ms/step - loss: 0.2358 - accuracy: 0.9153 - val_loss: 0.2079 - val_accuracy: 0.9274\n",
      "Epoch 22/100\n",
      "658/658 [==============================] - 3s 5ms/step - loss: 0.2308 - accuracy: 0.9159 - val_loss: 0.2074 - val_accuracy: 0.9258\n",
      "Epoch 23/100\n",
      "658/658 [==============================] - 3s 5ms/step - loss: 0.2307 - accuracy: 0.9170 - val_loss: 0.2063 - val_accuracy: 0.9262\n",
      "Epoch 24/100\n",
      "658/658 [==============================] - 3s 5ms/step - loss: 0.2352 - accuracy: 0.9152 - val_loss: 0.2075 - val_accuracy: 0.9251\n",
      "Epoch 25/100\n",
      "658/658 [==============================] - 3s 5ms/step - loss: 0.2307 - accuracy: 0.9173 - val_loss: 0.2077 - val_accuracy: 0.9239\n",
      "Epoch 26/100\n",
      "658/658 [==============================] - 3s 5ms/step - loss: 0.2279 - accuracy: 0.9188 - val_loss: 0.2025 - val_accuracy: 0.9274\n",
      "Epoch 27/100\n",
      "658/658 [==============================] - 3s 5ms/step - loss: 0.2321 - accuracy: 0.9161 - val_loss: 0.2039 - val_accuracy: 0.9258\n",
      "Epoch 28/100\n",
      "658/658 [==============================] - 3s 5ms/step - loss: 0.2281 - accuracy: 0.9175 - val_loss: 0.1995 - val_accuracy: 0.9277\n",
      "Epoch 29/100\n",
      "658/658 [==============================] - 3s 5ms/step - loss: 0.2306 - accuracy: 0.9181 - val_loss: 0.2031 - val_accuracy: 0.9281\n",
      "Epoch 30/100\n",
      "658/658 [==============================] - 3s 5ms/step - loss: 0.2270 - accuracy: 0.9187 - val_loss: 0.1988 - val_accuracy: 0.9277\n",
      "Epoch 31/100\n",
      "658/658 [==============================] - 3s 5ms/step - loss: 0.2287 - accuracy: 0.9173 - val_loss: 0.2004 - val_accuracy: 0.9279\n",
      "Epoch 32/100\n",
      "658/658 [==============================] - 4s 6ms/step - loss: 0.2289 - accuracy: 0.9173 - val_loss: 0.1974 - val_accuracy: 0.9279\n",
      "Epoch 33/100\n",
      "658/658 [==============================] - 3s 5ms/step - loss: 0.2262 - accuracy: 0.9191 - val_loss: 0.2009 - val_accuracy: 0.9300\n",
      "Epoch 34/100\n",
      "658/658 [==============================] - 3s 5ms/step - loss: 0.2286 - accuracy: 0.9189 - val_loss: 0.1975 - val_accuracy: 0.9295\n",
      "Epoch 35/100\n",
      "658/658 [==============================] - 3s 5ms/step - loss: 0.2246 - accuracy: 0.9193 - val_loss: 0.1990 - val_accuracy: 0.9274\n",
      "Epoch 36/100\n",
      "658/658 [==============================] - 3s 5ms/step - loss: 0.2289 - accuracy: 0.9184 - val_loss: 0.1979 - val_accuracy: 0.9302\n",
      "Epoch 37/100\n",
      "658/658 [==============================] - 3s 5ms/step - loss: 0.2274 - accuracy: 0.9185 - val_loss: 0.1962 - val_accuracy: 0.9321\n",
      "Epoch 38/100\n",
      "658/658 [==============================] - 3s 5ms/step - loss: 0.2226 - accuracy: 0.9214 - val_loss: 0.2025 - val_accuracy: 0.9268\n",
      "Epoch 39/100\n",
      "658/658 [==============================] - 3s 5ms/step - loss: 0.2284 - accuracy: 0.9144 - val_loss: 0.2000 - val_accuracy: 0.9293\n",
      "Epoch 40/100\n",
      "658/658 [==============================] - 3s 5ms/step - loss: 0.2267 - accuracy: 0.9181 - val_loss: 0.2053 - val_accuracy: 0.9293\n",
      "Epoch 41/100\n",
      "658/658 [==============================] - 3s 5ms/step - loss: 0.2237 - accuracy: 0.9214 - val_loss: 0.1997 - val_accuracy: 0.9296\n",
      "Epoch 42/100\n",
      "658/658 [==============================] - 3s 5ms/step - loss: 0.2215 - accuracy: 0.9197 - val_loss: 0.1942 - val_accuracy: 0.9308\n",
      "Epoch 43/100\n",
      "658/658 [==============================] - 3s 5ms/step - loss: 0.2200 - accuracy: 0.9210 - val_loss: 0.1957 - val_accuracy: 0.9304\n",
      "Epoch 44/100\n",
      "658/658 [==============================] - 3s 5ms/step - loss: 0.2244 - accuracy: 0.9202 - val_loss: 0.2049 - val_accuracy: 0.9277\n",
      "Epoch 45/100\n",
      "658/658 [==============================] - 3s 5ms/step - loss: 0.2189 - accuracy: 0.9213 - val_loss: 0.2007 - val_accuracy: 0.9312\n",
      "Epoch 46/100\n",
      "658/658 [==============================] - 3s 5ms/step - loss: 0.2218 - accuracy: 0.9214 - val_loss: 0.2009 - val_accuracy: 0.9277\n",
      "Epoch 47/100\n",
      "658/658 [==============================] - 3s 5ms/step - loss: 0.2235 - accuracy: 0.9220 - val_loss: 0.1990 - val_accuracy: 0.9304\n",
      "Epoch 48/100\n",
      "658/658 [==============================] - 3s 5ms/step - loss: 0.2242 - accuracy: 0.9199 - val_loss: 0.1995 - val_accuracy: 0.9302\n",
      "Epoch 49/100\n",
      "658/658 [==============================] - 3s 5ms/step - loss: 0.2227 - accuracy: 0.9213 - val_loss: 0.1954 - val_accuracy: 0.9287\n",
      "Epoch 50/100\n",
      "658/658 [==============================] - 3s 5ms/step - loss: 0.2198 - accuracy: 0.9217 - val_loss: 0.1981 - val_accuracy: 0.9291\n",
      "Epoch 51/100\n",
      "658/658 [==============================] - 4s 5ms/step - loss: 0.2200 - accuracy: 0.9223 - val_loss: 0.1958 - val_accuracy: 0.9300\n",
      "Epoch 52/100\n",
      "658/658 [==============================] - 4s 5ms/step - loss: 0.2222 - accuracy: 0.9198 - val_loss: 0.2030 - val_accuracy: 0.9304\n",
      "Epoch 00052: early stopping\n"
     ]
    }
   ],
   "source": [
    "opt = Adam(beta_1=0.9, beta_2=0.999)\n",
    "model.compile(loss='binary_crossentropy',\n",
    "              optimizer=opt,\n",
    "              metrics=['accuracy'])\n",
    "\n",
    "\n",
    "EPOCHS = 100\n",
    "\n",
    "history = model.fit(X_train,\n",
    "                    y_train,\n",
    "                    epochs=EPOCHS,\n",
    "                    validation_split=0.2,\n",
    "                    verbose=1,\n",
    "                    callbacks=[early_stop])"
   ]
  },
  {
   "cell_type": "code",
   "execution_count": 80,
   "metadata": {},
   "outputs": [
    {
     "name": "stdout",
     "output_type": "stream",
     "text": [
      "Model Accuraccy:  0.93\n"
     ]
    },
    {
     "data": {
      "image/png": "[encoded data removed]",
      "text/plain": [
       "<Figure size 576x432 with 1 Axes>"
      ]
     },
     "metadata": {
      "needs_background": "light"
     },
     "output_type": "display_data"
    }
   ],
   "source": [
    "_, model_accuracy = model.evaluate(X_test, y_test, verbose=0)\n",
    "print(\"Model Accuraccy: \", round(model_accuracy, 2))\n",
    "summarize_loss(history)"
   ]
  },
  {
   "cell_type": "code",
   "execution_count": 81,
   "metadata": {},
   "outputs": [
    {
     "name": "stdout",
     "output_type": "stream",
     "text": [
      "\n",
      "\t\tECG - CNN V1 - MODEL EVALUATION\n",
      "\n",
      "              precision    recall  f1-score   support\n",
      "\n",
      "          SR       0.93      0.91      0.92      2958\n",
      "        AFIB       0.93      0.94      0.94      3616\n",
      "\n",
      "    accuracy                           0.93      6574\n",
      "   macro avg       0.93      0.93      0.93      6574\n",
      "weighted avg       0.93      0.93      0.93      6574\n",
      "\n"
     ]
    },
    {
     "data": {
      "image/png": "[encoded data removed]",
      "text/plain": [
       "<Figure size 576x432 with 2 Axes>"
      ]
     },
     "metadata": {
      "needs_background": "light"
     },
     "output_type": "display_data"
    }
   ],
   "source": [
    "y_pred = model.predict(X_test)\n",
    "y_pred = y_pred > 0.5\n",
    "print('\\n\\t\\tECG - CNN V1 - MODEL EVALUATION\\n')\n",
    "print(classification_report(y_test, y_pred, target_names=['SR', 'AFIB']))\n",
    "plot_conf_matrix(y_test, y_pred)"
   ]
  },
  {
   "cell_type": "code",
   "execution_count": 82,
   "metadata": {},
   "outputs": [
    {
     "name": "stdout",
     "output_type": "stream",
     "text": [
      "INFO:tensorflow:Assets written to: ../models/cnn_1d_v10_ecg\\assets\n"
     ]
    },
    {
     "name": "stderr",
     "output_type": "stream",
     "text": [
      "INFO:tensorflow:Assets written to: ../models/cnn_1d_v10_ecg\\assets\n"
     ]
    },
    {
     "name": "stdout",
     "output_type": "stream",
     "text": [
      "INFO:tensorflow:Assets written to: C:\\Users\\GUILH\\AppData\\Local\\Temp\\tmpp_evpeus\\assets\n"
     ]
    },
    {
     "name": "stderr",
     "output_type": "stream",
     "text": [
      "INFO:tensorflow:Assets written to: C:\\Users\\GUILH\\AppData\\Local\\Temp\\tmpp_evpeus\\assets\n"
     ]
    },
    {
     "data": {
      "text/plain": [
       "8832"
      ]
     },
     "execution_count": 82,
     "metadata": {},
     "output_type": "execute_result"
    }
   ],
   "source": [
    "model.save('../models/cnn_1d_v10_ecg.h5')\n",
    "model.save('../models/cnn_1d_v10_ecg')\n",
    "# Convert TF model to a tflite model\n",
    "model_cnn_v10_ecg = load_model('../models/cnn_1d_v10_ecg')\n",
    "converter = tf.lite.TFLiteConverter.from_keras_model(model_cnn_v10_ecg)\n",
    "converter.optimizations = [tf.lite.Optimize.OPTIMIZE_FOR_SIZE]\n",
    "tflite_model = converter.convert()\n",
    "\n",
    "open(\"../models/model_cnn_v10_ecg.tflite\",\"wb\").write(tflite_model)"
   ]
  },
  {
   "cell_type": "code",
   "execution_count": 83,
   "metadata": {},
   "outputs": [],
   "source": [
    "c_model_name = '../models/model_cnn_v10_ecg'\n",
    "# Write TFLite model to a C source (or header) file\n",
    "with open(c_model_name + '.h', 'w') as file:\n",
    "    file.write(hex_to_c_array(tflite_model, c_model_name))"
   ]
  },
  {
   "cell_type": "markdown",
   "metadata": {},
   "source": [
    "Consultando o diretório onde se salvou os arquivos otimizados, percebe-se que há um gasto de memória de 55KB"
   ]
  },
  {
   "cell_type": "code",
   "execution_count": 84,
   "metadata": {},
   "outputs": [
    {
     "name": "stdout",
     "output_type": "stream",
     "text": [
      "WARNING:tensorflow:Please add `keras.layers.InputLayer` instead of `keras.Input` to Sequential model. `keras.Input` is intended to be used by Functional model.\n"
     ]
    },
    {
     "name": "stderr",
     "output_type": "stream",
     "text": [
      "WARNING:tensorflow:Please add `keras.layers.InputLayer` instead of `keras.Input` to Sequential model. `keras.Input` is intended to be used by Functional model.\n"
     ]
    },
    {
     "name": "stdout",
     "output_type": "stream",
     "text": [
      "Model: \"sequential_12\"\n",
      "_________________________________________________________________\n",
      "Layer (type)                 Output Shape              Param #   \n",
      "=================================================================\n",
      "conv1d_46 (Conv1D)           (None, 100, 8)            64        \n",
      "_________________________________________________________________\n",
      "conv1d_47 (Conv1D)           (None, 100, 8)            456       \n",
      "_________________________________________________________________\n",
      "max_pooling1d_23 (MaxPooling (None, 48, 8)             0         \n",
      "_________________________________________________________________\n",
      "dropout_35 (Dropout)         (None, 48, 8)             0         \n",
      "_________________________________________________________________\n",
      "flatten_12 (Flatten)         (None, 384)               0         \n",
      "_________________________________________________________________\n",
      "dense_24 (Dense)             (None, 2)                 770       \n",
      "_________________________________________________________________\n",
      "dropout_36 (Dropout)         (None, 2)                 0         \n",
      "_________________________________________________________________\n",
      "dense_25 (Dense)             (None, 1)                 3         \n",
      "=================================================================\n",
      "Total params: 1,293\n",
      "Trainable params: 1,293\n",
      "Non-trainable params: 0\n",
      "_________________________________________________________________\n"
     ]
    }
   ],
   "source": [
    "model = Sequential()\n",
    "model.add(Input(shape=(features, depht)))\n",
    "model=group_layer(model)\n",
    "model.add(Dropout(0.2))\n",
    "model.add(Flatten())\n",
    "model.add(Dense(2, activation='relu'))\n",
    "model.add(Dropout(0.2))\n",
    "model.add(Dense(1, activation='sigmoid'))\n",
    "model.summary()"
   ]
  },
  {
   "cell_type": "code",
   "execution_count": 85,
   "metadata": {},
   "outputs": [
    {
     "name": "stdout",
     "output_type": "stream",
     "text": [
      "Epoch 1/100\n",
      "658/658 [==============================] - 4s 6ms/step - loss: 0.5473 - accuracy: 0.7401 - val_loss: 0.4362 - val_accuracy: 0.8827\n",
      "Epoch 2/100\n",
      "658/658 [==============================] - 3s 5ms/step - loss: 0.4241 - accuracy: 0.8636 - val_loss: 0.3522 - val_accuracy: 0.9091\n",
      "Epoch 3/100\n",
      "658/658 [==============================] - 3s 5ms/step - loss: 0.3757 - accuracy: 0.8755 - val_loss: 0.3129 - val_accuracy: 0.9091\n",
      "Epoch 4/100\n",
      "658/658 [==============================] - 3s 5ms/step - loss: 0.3537 - accuracy: 0.8783 - val_loss: 0.2929 - val_accuracy: 0.9104\n",
      "Epoch 5/100\n",
      "658/658 [==============================] - 3s 5ms/step - loss: 0.3467 - accuracy: 0.8759 - val_loss: 0.2833 - val_accuracy: 0.9129\n",
      "Epoch 6/100\n",
      "658/658 [==============================] - 3s 5ms/step - loss: 0.3362 - accuracy: 0.8813 - val_loss: 0.2789 - val_accuracy: 0.9078\n",
      "Epoch 7/100\n",
      "658/658 [==============================] - 3s 5ms/step - loss: 0.3320 - accuracy: 0.8810 - val_loss: 0.2679 - val_accuracy: 0.9158\n",
      "Epoch 8/100\n",
      "658/658 [==============================] - 3s 5ms/step - loss: 0.3256 - accuracy: 0.8818 - val_loss: 0.2860 - val_accuracy: 0.8950\n",
      "Epoch 9/100\n",
      "658/658 [==============================] - 3s 5ms/step - loss: 0.3283 - accuracy: 0.8798 - val_loss: 0.2615 - val_accuracy: 0.9180\n",
      "Epoch 10/100\n",
      "658/658 [==============================] - 3s 5ms/step - loss: 0.3276 - accuracy: 0.8815 - val_loss: 0.2638 - val_accuracy: 0.9150\n",
      "Epoch 11/100\n",
      "658/658 [==============================] - 3s 5ms/step - loss: 0.3246 - accuracy: 0.8809 - val_loss: 0.2591 - val_accuracy: 0.9135\n",
      "Epoch 12/100\n",
      "658/658 [==============================] - 3s 5ms/step - loss: 0.3207 - accuracy: 0.8834 - val_loss: 0.2546 - val_accuracy: 0.9177\n",
      "Epoch 13/100\n",
      "658/658 [==============================] - 3s 5ms/step - loss: 0.3150 - accuracy: 0.8887 - val_loss: 0.2549 - val_accuracy: 0.9167\n",
      "Epoch 14/100\n",
      "658/658 [==============================] - 3s 5ms/step - loss: 0.3187 - accuracy: 0.8843 - val_loss: 0.2562 - val_accuracy: 0.9194\n",
      "Epoch 15/100\n",
      "658/658 [==============================] - 3s 5ms/step - loss: 0.3241 - accuracy: 0.8823 - val_loss: 0.2555 - val_accuracy: 0.9101\n",
      "Epoch 16/100\n",
      "658/658 [==============================] - 3s 5ms/step - loss: 0.3191 - accuracy: 0.8861 - val_loss: 0.2520 - val_accuracy: 0.9186\n",
      "Epoch 17/100\n",
      "658/658 [==============================] - 4s 5ms/step - loss: 0.3179 - accuracy: 0.8846 - val_loss: 0.2533 - val_accuracy: 0.9139\n",
      "Epoch 18/100\n",
      "658/658 [==============================] - 3s 5ms/step - loss: 0.3147 - accuracy: 0.8880 - val_loss: 0.2493 - val_accuracy: 0.9201\n",
      "Epoch 19/100\n",
      "658/658 [==============================] - 3s 5ms/step - loss: 0.3164 - accuracy: 0.8862 - val_loss: 0.2501 - val_accuracy: 0.9198\n",
      "Epoch 20/100\n",
      "658/658 [==============================] - 3s 5ms/step - loss: 0.3123 - accuracy: 0.8881 - val_loss: 0.2470 - val_accuracy: 0.9215\n",
      "Epoch 21/100\n",
      "658/658 [==============================] - 3s 5ms/step - loss: 0.3142 - accuracy: 0.8880 - val_loss: 0.2507 - val_accuracy: 0.9154\n",
      "Epoch 22/100\n",
      "658/658 [==============================] - 3s 5ms/step - loss: 0.3141 - accuracy: 0.8882 - val_loss: 0.2510 - val_accuracy: 0.9160\n",
      "Epoch 23/100\n",
      "658/658 [==============================] - 3s 5ms/step - loss: 0.3089 - accuracy: 0.8889 - val_loss: 0.2513 - val_accuracy: 0.9220\n",
      "Epoch 24/100\n",
      "658/658 [==============================] - 3s 5ms/step - loss: 0.3044 - accuracy: 0.8920 - val_loss: 0.2429 - val_accuracy: 0.9171\n",
      "Epoch 25/100\n",
      "658/658 [==============================] - 3s 5ms/step - loss: 0.3071 - accuracy: 0.8895 - val_loss: 0.2501 - val_accuracy: 0.9207\n",
      "Epoch 26/100\n",
      "658/658 [==============================] - 3s 5ms/step - loss: 0.3093 - accuracy: 0.8893 - val_loss: 0.2415 - val_accuracy: 0.9215\n",
      "Epoch 27/100\n",
      "658/658 [==============================] - 3s 5ms/step - loss: 0.3025 - accuracy: 0.8922 - val_loss: 0.2461 - val_accuracy: 0.9209\n",
      "Epoch 28/100\n",
      "658/658 [==============================] - 3s 5ms/step - loss: 0.3021 - accuracy: 0.8911 - val_loss: 0.2406 - val_accuracy: 0.9237\n",
      "Epoch 29/100\n",
      "658/658 [==============================] - 3s 5ms/step - loss: 0.3090 - accuracy: 0.8899 - val_loss: 0.2397 - val_accuracy: 0.9232\n",
      "Epoch 30/100\n",
      "658/658 [==============================] - 3s 5ms/step - loss: 0.3053 - accuracy: 0.8926 - val_loss: 0.2539 - val_accuracy: 0.9160\n",
      "Epoch 31/100\n",
      "658/658 [==============================] - 3s 5ms/step - loss: 0.3079 - accuracy: 0.8900 - val_loss: 0.2472 - val_accuracy: 0.9237\n",
      "Epoch 32/100\n",
      "658/658 [==============================] - 3s 5ms/step - loss: 0.3034 - accuracy: 0.8946 - val_loss: 0.2465 - val_accuracy: 0.9158\n",
      "Epoch 33/100\n",
      "658/658 [==============================] - 3s 5ms/step - loss: 0.3026 - accuracy: 0.8943 - val_loss: 0.2438 - val_accuracy: 0.9251\n",
      "Epoch 34/100\n",
      "658/658 [==============================] - 3s 5ms/step - loss: 0.3074 - accuracy: 0.8894 - val_loss: 0.2443 - val_accuracy: 0.9226\n",
      "Epoch 35/100\n",
      "658/658 [==============================] - 3s 5ms/step - loss: 0.3019 - accuracy: 0.8930 - val_loss: 0.2427 - val_accuracy: 0.9180\n",
      "Epoch 36/100\n",
      "658/658 [==============================] - 3s 5ms/step - loss: 0.3056 - accuracy: 0.8919 - val_loss: 0.2530 - val_accuracy: 0.9177\n",
      "Epoch 37/100\n",
      "658/658 [==============================] - 3s 5ms/step - loss: 0.3012 - accuracy: 0.8931 - val_loss: 0.2436 - val_accuracy: 0.9184\n",
      "Epoch 38/100\n",
      "658/658 [==============================] - 3s 5ms/step - loss: 0.2991 - accuracy: 0.8943 - val_loss: 0.2401 - val_accuracy: 0.9230\n",
      "Epoch 39/100\n",
      "658/658 [==============================] - 3s 5ms/step - loss: 0.3001 - accuracy: 0.8930 - val_loss: 0.2392 - val_accuracy: 0.9209\n",
      "Epoch 40/100\n",
      "658/658 [==============================] - 3s 5ms/step - loss: 0.2997 - accuracy: 0.8933 - val_loss: 0.2416 - val_accuracy: 0.9196\n",
      "Epoch 41/100\n",
      "658/658 [==============================] - 3s 5ms/step - loss: 0.2980 - accuracy: 0.8933 - val_loss: 0.2449 - val_accuracy: 0.9129\n",
      "Epoch 42/100\n",
      "658/658 [==============================] - 3s 5ms/step - loss: 0.3028 - accuracy: 0.8935 - val_loss: 0.2376 - val_accuracy: 0.9239\n",
      "Epoch 43/100\n",
      "658/658 [==============================] - 3s 5ms/step - loss: 0.2991 - accuracy: 0.8953 - val_loss: 0.2404 - val_accuracy: 0.9262\n",
      "Epoch 44/100\n",
      "658/658 [==============================] - 3s 5ms/step - loss: 0.2962 - accuracy: 0.8950 - val_loss: 0.2466 - val_accuracy: 0.9125\n",
      "Epoch 45/100\n",
      "658/658 [==============================] - 3s 5ms/step - loss: 0.2893 - accuracy: 0.8983 - val_loss: 0.2369 - val_accuracy: 0.9291\n",
      "Epoch 46/100\n",
      "658/658 [==============================] - 3s 5ms/step - loss: 0.2981 - accuracy: 0.8937 - val_loss: 0.2378 - val_accuracy: 0.9243\n",
      "Epoch 47/100\n",
      "658/658 [==============================] - 3s 5ms/step - loss: 0.2992 - accuracy: 0.8936 - val_loss: 0.2427 - val_accuracy: 0.9160\n",
      "Epoch 48/100\n",
      "658/658 [==============================] - 3s 5ms/step - loss: 0.3004 - accuracy: 0.8944 - val_loss: 0.2369 - val_accuracy: 0.9237\n",
      "Epoch 49/100\n",
      "658/658 [==============================] - 3s 5ms/step - loss: 0.2959 - accuracy: 0.8956 - val_loss: 0.2393 - val_accuracy: 0.9274\n",
      "Epoch 50/100\n",
      "658/658 [==============================] - 3s 5ms/step - loss: 0.2985 - accuracy: 0.8937 - val_loss: 0.2366 - val_accuracy: 0.9249\n",
      "Epoch 51/100\n",
      "658/658 [==============================] - 3s 5ms/step - loss: 0.2972 - accuracy: 0.8931 - val_loss: 0.2390 - val_accuracy: 0.9217\n",
      "Epoch 52/100\n",
      "658/658 [==============================] - 3s 5ms/step - loss: 0.2941 - accuracy: 0.8957 - val_loss: 0.2415 - val_accuracy: 0.9218\n",
      "Epoch 53/100\n",
      "658/658 [==============================] - 3s 5ms/step - loss: 0.2960 - accuracy: 0.8961 - val_loss: 0.2361 - val_accuracy: 0.9245\n",
      "Epoch 54/100\n",
      "658/658 [==============================] - 3s 5ms/step - loss: 0.2948 - accuracy: 0.8947 - val_loss: 0.2451 - val_accuracy: 0.9175\n",
      "Epoch 55/100\n",
      "658/658 [==============================] - 3s 5ms/step - loss: 0.2926 - accuracy: 0.8949 - val_loss: 0.2438 - val_accuracy: 0.9135\n",
      "Epoch 56/100\n",
      "658/658 [==============================] - 3s 5ms/step - loss: 0.2940 - accuracy: 0.8974 - val_loss: 0.2341 - val_accuracy: 0.9270\n",
      "Epoch 57/100\n",
      "658/658 [==============================] - 3s 5ms/step - loss: 0.2978 - accuracy: 0.8950 - val_loss: 0.2337 - val_accuracy: 0.9217\n"
     ]
    },
    {
     "name": "stdout",
     "output_type": "stream",
     "text": [
      "Epoch 58/100\n",
      "658/658 [==============================] - 3s 5ms/step - loss: 0.2986 - accuracy: 0.8950 - val_loss: 0.2405 - val_accuracy: 0.9165\n",
      "Epoch 59/100\n",
      "658/658 [==============================] - 3s 5ms/step - loss: 0.2963 - accuracy: 0.8958 - val_loss: 0.2373 - val_accuracy: 0.9236\n",
      "Epoch 60/100\n",
      "658/658 [==============================] - 3s 5ms/step - loss: 0.2957 - accuracy: 0.8953 - val_loss: 0.2410 - val_accuracy: 0.9192\n",
      "Epoch 61/100\n",
      "658/658 [==============================] - 3s 5ms/step - loss: 0.2986 - accuracy: 0.8940 - val_loss: 0.2382 - val_accuracy: 0.9224\n",
      "Epoch 62/100\n",
      "658/658 [==============================] - 3s 5ms/step - loss: 0.2897 - accuracy: 0.8991 - val_loss: 0.2387 - val_accuracy: 0.9220\n",
      "Epoch 63/100\n",
      "658/658 [==============================] - 3s 5ms/step - loss: 0.2958 - accuracy: 0.8940 - val_loss: 0.2332 - val_accuracy: 0.9230\n",
      "Epoch 64/100\n",
      "658/658 [==============================] - 3s 5ms/step - loss: 0.2930 - accuracy: 0.8958 - val_loss: 0.2362 - val_accuracy: 0.9230\n",
      "Epoch 65/100\n",
      "658/658 [==============================] - 3s 5ms/step - loss: 0.2897 - accuracy: 0.8968 - val_loss: 0.2412 - val_accuracy: 0.9257\n",
      "Epoch 66/100\n",
      "658/658 [==============================] - 3s 5ms/step - loss: 0.2896 - accuracy: 0.8966 - val_loss: 0.2398 - val_accuracy: 0.9228\n",
      "Epoch 67/100\n",
      "658/658 [==============================] - 3s 5ms/step - loss: 0.2887 - accuracy: 0.8998 - val_loss: 0.2401 - val_accuracy: 0.9209\n",
      "Epoch 68/100\n",
      "658/658 [==============================] - 3s 5ms/step - loss: 0.2900 - accuracy: 0.8976 - val_loss: 0.2348 - val_accuracy: 0.9220\n",
      "Epoch 69/100\n",
      "658/658 [==============================] - 3s 5ms/step - loss: 0.2979 - accuracy: 0.8968 - val_loss: 0.2386 - val_accuracy: 0.9232\n",
      "Epoch 70/100\n",
      "658/658 [==============================] - 4s 6ms/step - loss: 0.2880 - accuracy: 0.8987 - val_loss: 0.2399 - val_accuracy: 0.9179\n",
      "Epoch 71/100\n",
      "658/658 [==============================] - 4s 5ms/step - loss: 0.2879 - accuracy: 0.8994 - val_loss: 0.2374 - val_accuracy: 0.9249\n",
      "Epoch 72/100\n",
      "658/658 [==============================] - 4s 5ms/step - loss: 0.2950 - accuracy: 0.8963 - val_loss: 0.2373 - val_accuracy: 0.9255\n",
      "Epoch 73/100\n",
      "658/658 [==============================] - 3s 5ms/step - loss: 0.2886 - accuracy: 0.8988 - val_loss: 0.2352 - val_accuracy: 0.9251\n",
      "Epoch 00073: early stopping\n"
     ]
    }
   ],
   "source": [
    "opt = Adam(beta_1=0.9, beta_2=0.999)\n",
    "model.compile(loss='binary_crossentropy',\n",
    "              optimizer=opt,\n",
    "              metrics=['accuracy'])\n",
    "\n",
    "\n",
    "EPOCHS = 100\n",
    "\n",
    "history = model.fit(X_train,\n",
    "                    y_train,\n",
    "                    epochs=EPOCHS,\n",
    "                    validation_split=0.2,\n",
    "                    verbose=1,\n",
    "                    callbacks=[early_stop])"
   ]
  },
  {
   "cell_type": "code",
   "execution_count": 86,
   "metadata": {},
   "outputs": [
    {
     "name": "stdout",
     "output_type": "stream",
     "text": [
      "Model Accuraccy:  0.92\n"
     ]
    },
    {
     "data": {
      "image/png": "[encoded data removed]",
      "text/plain": [
       "<Figure size 576x432 with 1 Axes>"
      ]
     },
     "metadata": {
      "needs_background": "light"
     },
     "output_type": "display_data"
    }
   ],
   "source": [
    "_, model_accuracy = model.evaluate(X_test, y_test, verbose=0)\n",
    "print(\"Model Accuraccy: \", round(model_accuracy, 2))\n",
    "summarize_loss(history)"
   ]
  },
  {
   "cell_type": "code",
   "execution_count": 87,
   "metadata": {},
   "outputs": [
    {
     "name": "stdout",
     "output_type": "stream",
     "text": [
      "\n",
      "\t\tECG - CNN V1 - MODEL EVALUATION\n",
      "\n",
      "              precision    recall  f1-score   support\n",
      "\n",
      "          SR       0.92      0.91      0.91      2958\n",
      "        AFIB       0.93      0.93      0.93      3616\n",
      "\n",
      "    accuracy                           0.92      6574\n",
      "   macro avg       0.92      0.92      0.92      6574\n",
      "weighted avg       0.92      0.92      0.92      6574\n",
      "\n"
     ]
    },
    {
     "data": {
      "image/png": "[encoded data removed]",
      "text/plain": [
       "<Figure size 576x432 with 2 Axes>"
      ]
     },
     "metadata": {
      "needs_background": "light"
     },
     "output_type": "display_data"
    }
   ],
   "source": [
    "y_pred = model.predict(X_test)\n",
    "y_pred = y_pred > 0.5\n",
    "print('\\n\\t\\tECG - CNN V1 - MODEL EVALUATION\\n')\n",
    "print(classification_report(y_test, y_pred, target_names=['SR', 'AFIB']))\n",
    "plot_conf_matrix(y_test, y_pred)"
   ]
  },
  {
   "cell_type": "code",
   "execution_count": 88,
   "metadata": {},
   "outputs": [
    {
     "name": "stdout",
     "output_type": "stream",
     "text": [
      "INFO:tensorflow:Assets written to: ../models/cnn_1d_v11_ecg\\assets\n"
     ]
    },
    {
     "name": "stderr",
     "output_type": "stream",
     "text": [
      "INFO:tensorflow:Assets written to: ../models/cnn_1d_v11_ecg\\assets\n"
     ]
    },
    {
     "name": "stdout",
     "output_type": "stream",
     "text": [
      "INFO:tensorflow:Assets written to: C:\\Users\\GUILH\\AppData\\Local\\Temp\\tmpmr7jq8_3\\assets\n"
     ]
    },
    {
     "name": "stderr",
     "output_type": "stream",
     "text": [
      "INFO:tensorflow:Assets written to: C:\\Users\\GUILH\\AppData\\Local\\Temp\\tmpmr7jq8_3\\assets\n"
     ]
    },
    {
     "data": {
      "text/plain": [
       "10320"
      ]
     },
     "execution_count": 88,
     "metadata": {},
     "output_type": "execute_result"
    }
   ],
   "source": [
    "model.save('../models/cnn_1d_v11_ecg.h5')\n",
    "model.save('../models/cnn_1d_v11_ecg')\n",
    "# Convert TF model to a tflite model\n",
    "model_cnn_v11_ecg = load_model('../models/cnn_1d_v11_ecg')\n",
    "converter = tf.lite.TFLiteConverter.from_keras_model(model_cnn_v11_ecg)\n",
    "converter.optimizations = [tf.lite.Optimize.OPTIMIZE_FOR_SIZE]\n",
    "tflite_model = converter.convert()\n",
    "\n",
    "open(\"../models/model_cnn_v11_ecg.tflite\",\"wb\").write(tflite_model)"
   ]
  },
  {
   "cell_type": "code",
   "execution_count": 89,
   "metadata": {},
   "outputs": [],
   "source": [
    "c_model_name = '../models/model_cnn_v11_ecg'\n",
    "# Write TFLite model to a C source (or header) file\n",
    "with open(c_model_name + '.h', 'w') as file:\n",
    "    file.write(hex_to_c_array(tflite_model, c_model_name))"
   ]
  },
  {
   "cell_type": "markdown",
   "metadata": {},
   "source": [
    "Consultando o diretório onde se salvou os arquivos otimizados, percebe-se que há um gasto de memória de 62KB"
   ]
  },
  {
   "cell_type": "code",
   "execution_count": 91,
   "metadata": {},
   "outputs": [
    {
     "name": "stdout",
     "output_type": "stream",
     "text": [
      "WARNING:tensorflow:Please add `keras.layers.InputLayer` instead of `keras.Input` to Sequential model. `keras.Input` is intended to be used by Functional model.\n"
     ]
    },
    {
     "name": "stderr",
     "output_type": "stream",
     "text": [
      "WARNING:tensorflow:Please add `keras.layers.InputLayer` instead of `keras.Input` to Sequential model. `keras.Input` is intended to be used by Functional model.\n"
     ]
    },
    {
     "name": "stdout",
     "output_type": "stream",
     "text": [
      "Model: \"sequential_14\"\n",
      "_________________________________________________________________\n",
      "Layer (type)                 Output Shape              Param #   \n",
      "=================================================================\n",
      "conv1d_50 (Conv1D)           (None, 100, 8)            64        \n",
      "_________________________________________________________________\n",
      "conv1d_51 (Conv1D)           (None, 100, 8)            456       \n",
      "_________________________________________________________________\n",
      "max_pooling1d_25 (MaxPooling (None, 48, 8)             0         \n",
      "_________________________________________________________________\n",
      "dropout_39 (Dropout)         (None, 48, 8)             0         \n",
      "_________________________________________________________________\n",
      "flatten_14 (Flatten)         (None, 384)               0         \n",
      "_________________________________________________________________\n",
      "dense_28 (Dense)             (None, 1)                 385       \n",
      "_________________________________________________________________\n",
      "dropout_40 (Dropout)         (None, 1)                 0         \n",
      "_________________________________________________________________\n",
      "dense_29 (Dense)             (None, 1)                 2         \n",
      "=================================================================\n",
      "Total params: 907\n",
      "Trainable params: 907\n",
      "Non-trainable params: 0\n",
      "_________________________________________________________________\n"
     ]
    }
   ],
   "source": [
    "model = Sequential()\n",
    "model.add(Input(shape=(features, depht)))\n",
    "model=group_layer(model)\n",
    "model.add(Dropout(0.2))\n",
    "model.add(Flatten())\n",
    "model.add(Dense(1, activation='relu'))\n",
    "model.add(Dropout(0.2))\n",
    "model.add(Dense(1, activation='sigmoid'))\n",
    "model.summary()"
   ]
  },
  {
   "cell_type": "code",
   "execution_count": 92,
   "metadata": {},
   "outputs": [
    {
     "name": "stdout",
     "output_type": "stream",
     "text": [
      "Epoch 1/100\n",
      "658/658 [==============================] - 4s 5ms/step - loss: 0.5913 - accuracy: 0.6673 - val_loss: 0.4815 - val_accuracy: 0.8703\n",
      "Epoch 2/100\n",
      "658/658 [==============================] - 3s 5ms/step - loss: 0.4923 - accuracy: 0.7875 - val_loss: 0.3959 - val_accuracy: 0.8979\n",
      "Epoch 3/100\n",
      "658/658 [==============================] - 4s 6ms/step - loss: 0.4574 - accuracy: 0.8035 - val_loss: 0.3685 - val_accuracy: 0.9028\n",
      "Epoch 4/100\n",
      "658/658 [==============================] - 4s 5ms/step - loss: 0.4439 - accuracy: 0.8067 - val_loss: 0.3527 - val_accuracy: 0.8986\n",
      "Epoch 5/100\n",
      "658/658 [==============================] - 3s 5ms/step - loss: 0.4394 - accuracy: 0.8109 - val_loss: 0.3429 - val_accuracy: 0.9023\n",
      "Epoch 6/100\n",
      "658/658 [==============================] - 3s 5ms/step - loss: 0.4351 - accuracy: 0.8135 - val_loss: 0.3254 - val_accuracy: 0.9093\n",
      "Epoch 7/100\n",
      "658/658 [==============================] - 3s 5ms/step - loss: 0.4382 - accuracy: 0.8124 - val_loss: 0.3331 - val_accuracy: 0.9070\n",
      "Epoch 8/100\n",
      "658/658 [==============================] - 3s 5ms/step - loss: 0.4376 - accuracy: 0.8091 - val_loss: 0.3224 - val_accuracy: 0.9131\n",
      "Epoch 9/100\n",
      "658/658 [==============================] - 3s 5ms/step - loss: 0.4308 - accuracy: 0.8140 - val_loss: 0.3258 - val_accuracy: 0.9142\n",
      "Epoch 10/100\n",
      "658/658 [==============================] - 3s 5ms/step - loss: 0.4331 - accuracy: 0.8109 - val_loss: 0.3229 - val_accuracy: 0.9097\n",
      "Epoch 11/100\n",
      "658/658 [==============================] - 3s 5ms/step - loss: 0.4214 - accuracy: 0.8205 - val_loss: 0.3098 - val_accuracy: 0.9150\n",
      "Epoch 12/100\n",
      "658/658 [==============================] - 3s 5ms/step - loss: 0.4318 - accuracy: 0.8152 - val_loss: 0.3077 - val_accuracy: 0.9180\n",
      "Epoch 13/100\n",
      "658/658 [==============================] - 3s 5ms/step - loss: 0.4289 - accuracy: 0.8135 - val_loss: 0.3124 - val_accuracy: 0.9161\n",
      "Epoch 14/100\n",
      "658/658 [==============================] - 3s 5ms/step - loss: 0.4201 - accuracy: 0.8222 - val_loss: 0.3117 - val_accuracy: 0.9154\n",
      "Epoch 15/100\n",
      "658/658 [==============================] - 3s 5ms/step - loss: 0.4263 - accuracy: 0.8160 - val_loss: 0.3074 - val_accuracy: 0.9184\n",
      "Epoch 16/100\n",
      "658/658 [==============================] - 3s 5ms/step - loss: 0.4201 - accuracy: 0.8206 - val_loss: 0.3053 - val_accuracy: 0.9196\n",
      "Epoch 17/100\n",
      "658/658 [==============================] - 4s 6ms/step - loss: 0.4207 - accuracy: 0.8189 - val_loss: 0.3089 - val_accuracy: 0.9171\n",
      "Epoch 18/100\n",
      "658/658 [==============================] - 4s 6ms/step - loss: 0.4204 - accuracy: 0.8198 - val_loss: 0.3124 - val_accuracy: 0.9158\n",
      "Epoch 19/100\n",
      "658/658 [==============================] - 3s 5ms/step - loss: 0.4228 - accuracy: 0.8166 - val_loss: 0.3034 - val_accuracy: 0.9224\n",
      "Epoch 20/100\n",
      "658/658 [==============================] - 3s 5ms/step - loss: 0.4188 - accuracy: 0.8204 - val_loss: 0.3044 - val_accuracy: 0.9184\n",
      "Epoch 21/100\n",
      "658/658 [==============================] - 3s 5ms/step - loss: 0.4227 - accuracy: 0.8181 - val_loss: 0.3048 - val_accuracy: 0.9177\n",
      "Epoch 22/100\n",
      "658/658 [==============================] - 3s 5ms/step - loss: 0.4179 - accuracy: 0.8215 - val_loss: 0.3081 - val_accuracy: 0.9167\n",
      "Epoch 23/100\n",
      "658/658 [==============================] - 3s 5ms/step - loss: 0.4168 - accuracy: 0.8218 - val_loss: 0.3080 - val_accuracy: 0.9146\n",
      "Epoch 24/100\n",
      "658/658 [==============================] - 3s 5ms/step - loss: 0.4204 - accuracy: 0.8172 - val_loss: 0.3123 - val_accuracy: 0.9135\n",
      "Epoch 25/100\n",
      "658/658 [==============================] - 3s 5ms/step - loss: 0.4124 - accuracy: 0.8250 - val_loss: 0.2931 - val_accuracy: 0.9211\n",
      "Epoch 26/100\n",
      "658/658 [==============================] - 4s 6ms/step - loss: 0.4155 - accuracy: 0.8215 - val_loss: 0.3050 - val_accuracy: 0.9179\n",
      "Epoch 27/100\n",
      "658/658 [==============================] - 4s 6ms/step - loss: 0.4211 - accuracy: 0.8187 - val_loss: 0.2998 - val_accuracy: 0.9234\n",
      "Epoch 28/100\n",
      "658/658 [==============================] - 4s 6ms/step - loss: 0.4205 - accuracy: 0.8188 - val_loss: 0.3049 - val_accuracy: 0.9190\n",
      "Epoch 29/100\n",
      "658/658 [==============================] - 4s 6ms/step - loss: 0.4115 - accuracy: 0.8251 - val_loss: 0.3014 - val_accuracy: 0.9180\n",
      "Epoch 30/100\n",
      "658/658 [==============================] - 3s 5ms/step - loss: 0.4130 - accuracy: 0.8243 - val_loss: 0.2963 - val_accuracy: 0.9222\n",
      "Epoch 31/100\n",
      "658/658 [==============================] - 3s 5ms/step - loss: 0.4154 - accuracy: 0.8222 - val_loss: 0.2913 - val_accuracy: 0.9237\n",
      "Epoch 32/100\n",
      "658/658 [==============================] - 3s 5ms/step - loss: 0.4182 - accuracy: 0.8193 - val_loss: 0.3017 - val_accuracy: 0.9215\n",
      "Epoch 33/100\n",
      "658/658 [==============================] - 4s 6ms/step - loss: 0.4111 - accuracy: 0.8249 - val_loss: 0.2881 - val_accuracy: 0.9236\n",
      "Epoch 34/100\n",
      "658/658 [==============================] - 5s 8ms/step - loss: 0.4143 - accuracy: 0.8223 - val_loss: 0.3038 - val_accuracy: 0.9180\n",
      "Epoch 35/100\n",
      "658/658 [==============================] - 4s 7ms/step - loss: 0.4166 - accuracy: 0.8198 - val_loss: 0.2981 - val_accuracy: 0.9205\n",
      "Epoch 36/100\n",
      "658/658 [==============================] - 5s 7ms/step - loss: 0.4141 - accuracy: 0.8222 - val_loss: 0.2897 - val_accuracy: 0.9237\n",
      "Epoch 37/100\n",
      "658/658 [==============================] - 4s 6ms/step - loss: 0.4158 - accuracy: 0.8210 - val_loss: 0.2888 - val_accuracy: 0.9262\n",
      "Epoch 38/100\n",
      "658/658 [==============================] - 4s 6ms/step - loss: 0.4108 - accuracy: 0.8261 - val_loss: 0.3034 - val_accuracy: 0.9190\n",
      "Epoch 39/100\n",
      "658/658 [==============================] - 5s 7ms/step - loss: 0.4175 - accuracy: 0.8194 - val_loss: 0.2975 - val_accuracy: 0.9205\n",
      "Epoch 40/100\n",
      "658/658 [==============================] - 4s 5ms/step - loss: 0.4085 - accuracy: 0.8254 - val_loss: 0.2989 - val_accuracy: 0.9224\n",
      "Epoch 41/100\n",
      "658/658 [==============================] - 3s 5ms/step - loss: 0.4088 - accuracy: 0.8259 - val_loss: 0.2972 - val_accuracy: 0.9188\n",
      "Epoch 42/100\n",
      "658/658 [==============================] - 3s 5ms/step - loss: 0.4148 - accuracy: 0.8218 - val_loss: 0.2944 - val_accuracy: 0.9228\n",
      "Epoch 43/100\n",
      "658/658 [==============================] - 4s 5ms/step - loss: 0.4061 - accuracy: 0.8265 - val_loss: 0.2877 - val_accuracy: 0.9257\n",
      "Epoch 44/100\n",
      "658/658 [==============================] - 4s 7ms/step - loss: 0.4138 - accuracy: 0.8214 - val_loss: 0.2906 - val_accuracy: 0.9245\n",
      "Epoch 45/100\n",
      "658/658 [==============================] - 3s 5ms/step - loss: 0.4096 - accuracy: 0.8236 - val_loss: 0.2876 - val_accuracy: 0.9251\n",
      "Epoch 46/100\n",
      "658/658 [==============================] - 3s 5ms/step - loss: 0.4079 - accuracy: 0.8248 - val_loss: 0.2893 - val_accuracy: 0.9234\n",
      "Epoch 47/100\n",
      "658/658 [==============================] - 3s 5ms/step - loss: 0.4107 - accuracy: 0.8229 - val_loss: 0.2876 - val_accuracy: 0.9264\n",
      "Epoch 48/100\n",
      "658/658 [==============================] - 3s 5ms/step - loss: 0.4094 - accuracy: 0.8247 - val_loss: 0.2949 - val_accuracy: 0.9205\n",
      "Epoch 49/100\n",
      "658/658 [==============================] - 3s 5ms/step - loss: 0.4164 - accuracy: 0.8205 - val_loss: 0.2928 - val_accuracy: 0.9211\n",
      "Epoch 50/100\n",
      "658/658 [==============================] - 3s 5ms/step - loss: 0.4071 - accuracy: 0.8250 - val_loss: 0.2917 - val_accuracy: 0.9199\n",
      "Epoch 51/100\n",
      "658/658 [==============================] - 3s 5ms/step - loss: 0.4111 - accuracy: 0.8209 - val_loss: 0.2924 - val_accuracy: 0.9236\n",
      "Epoch 52/100\n",
      "658/658 [==============================] - 3s 5ms/step - loss: 0.4143 - accuracy: 0.8196 - val_loss: 0.2919 - val_accuracy: 0.9239\n",
      "Epoch 53/100\n",
      "658/658 [==============================] - 3s 5ms/step - loss: 0.4109 - accuracy: 0.8238 - val_loss: 0.2902 - val_accuracy: 0.9218\n",
      "Epoch 54/100\n",
      "658/658 [==============================] - 3s 5ms/step - loss: 0.4076 - accuracy: 0.8248 - val_loss: 0.2903 - val_accuracy: 0.9251\n",
      "Epoch 55/100\n",
      "658/658 [==============================] - 3s 5ms/step - loss: 0.4065 - accuracy: 0.8272 - val_loss: 0.2997 - val_accuracy: 0.9160\n",
      "Epoch 00055: early stopping\n"
     ]
    }
   ],
   "source": [
    "opt = Adam(beta_1=0.9, beta_2=0.999)\n",
    "model.compile(loss='binary_crossentropy',\n",
    "              optimizer=opt,\n",
    "              metrics=['accuracy'])\n",
    "\n",
    "\n",
    "EPOCHS = 100\n",
    "\n",
    "history = model.fit(X_train,\n",
    "                    y_train,\n",
    "                    epochs=EPOCHS,\n",
    "                    validation_split=0.2,\n",
    "                    verbose=1,\n",
    "                    callbacks=[early_stop])"
   ]
  },
  {
   "cell_type": "code",
   "execution_count": 93,
   "metadata": {},
   "outputs": [
    {
     "name": "stdout",
     "output_type": "stream",
     "text": [
      "Model Accuraccy:  0.92\n"
     ]
    },
    {
     "data": {
      "image/png": "[encoded data removed]",
      "text/plain": [
       "<Figure size 576x432 with 1 Axes>"
      ]
     },
     "metadata": {
      "needs_background": "light"
     },
     "output_type": "display_data"
    }
   ],
   "source": [
    "_, model_accuracy = model.evaluate(X_test, y_test, verbose=0)\n",
    "print(\"Model Accuraccy: \", round(model_accuracy, 2))\n",
    "summarize_loss(history)"
   ]
  },
  {
   "cell_type": "code",
   "execution_count": 94,
   "metadata": {},
   "outputs": [
    {
     "name": "stdout",
     "output_type": "stream",
     "text": [
      "\n",
      "\t\tECG - CNN V1 - MODEL EVALUATION\n",
      "\n",
      "              precision    recall  f1-score   support\n",
      "\n",
      "          SR       0.89      0.93      0.91      2958\n",
      "        AFIB       0.94      0.90      0.92      3616\n",
      "\n",
      "    accuracy                           0.92      6574\n",
      "   macro avg       0.91      0.92      0.92      6574\n",
      "weighted avg       0.92      0.92      0.92      6574\n",
      "\n"
     ]
    },
    {
     "data": {
      "image/png": "[encoded data removed]",
      "text/plain": [
       "<Figure size 576x432 with 2 Axes>"
      ]
     },
     "metadata": {
      "needs_background": "light"
     },
     "output_type": "display_data"
    }
   ],
   "source": [
    "y_pred = model.predict(X_test)\n",
    "y_pred = y_pred > 0.5\n",
    "print('\\n\\t\\tECG - CNN V1 - MODEL EVALUATION\\n')\n",
    "print(classification_report(y_test, y_pred, target_names=['SR', 'AFIB']))\n",
    "plot_conf_matrix(y_test, y_pred)"
   ]
  },
  {
   "cell_type": "code",
   "execution_count": 95,
   "metadata": {},
   "outputs": [
    {
     "name": "stdout",
     "output_type": "stream",
     "text": [
      "INFO:tensorflow:Assets written to: ../models/cnn_1d_v12_ecg\\assets\n"
     ]
    },
    {
     "name": "stderr",
     "output_type": "stream",
     "text": [
      "INFO:tensorflow:Assets written to: ../models/cnn_1d_v12_ecg\\assets\n"
     ]
    },
    {
     "name": "stdout",
     "output_type": "stream",
     "text": [
      "INFO:tensorflow:Assets written to: C:\\Users\\GUILH\\AppData\\Local\\Temp\\tmpffaj_w7u\\assets\n"
     ]
    },
    {
     "name": "stderr",
     "output_type": "stream",
     "text": [
      "INFO:tensorflow:Assets written to: C:\\Users\\GUILH\\AppData\\Local\\Temp\\tmpffaj_w7u\\assets\n"
     ]
    },
    {
     "data": {
      "text/plain": [
       "8752"
      ]
     },
     "execution_count": 95,
     "metadata": {},
     "output_type": "execute_result"
    }
   ],
   "source": [
    "model.save('../models/cnn_1d_v12_ecg.h5')\n",
    "model.save('../models/cnn_1d_v12_ecg')\n",
    "# Convert TF model to a tflite model\n",
    "model_cnn_v12_ecg = load_model('../models/cnn_1d_v12_ecg')\n",
    "converter = tf.lite.TFLiteConverter.from_keras_model(model_cnn_v12_ecg)\n",
    "converter.optimizations = [tf.lite.Optimize.OPTIMIZE_FOR_SIZE]\n",
    "tflite_model = converter.convert()\n",
    "\n",
    "open(\"../models/model_cnn_v12_ecg.tflite\",\"wb\").write(tflite_model)"
   ]
  },
  {
   "cell_type": "code",
   "execution_count": 96,
   "metadata": {},
   "outputs": [],
   "source": [
    "c_model_name = '../models/model_cnn_v12_ecg'\n",
    "# Write TFLite model to a C source (or header) file\n",
    "with open(c_model_name + '.h', 'w') as file:\n",
    "    file.write(hex_to_c_array(tflite_model, c_model_name))"
   ]
  },
  {
   "cell_type": "markdown",
   "metadata": {},
   "source": [
    "Consultando o diretório onde se salvou os arquivos otimizados, percebe-se que há um gasto de memória de 54KB"
   ]
  },
  {
   "cell_type": "markdown",
   "metadata": {},
   "source": [
    "`The model has 36K trainable params and uses 320Kb of memory`"
   ]
  }
 ],
 "metadata": {
  "hide_input": false,
  "kernelspec": {
   "display_name": "Python 3",
   "language": "python",
   "name": "python3"
  },
  "language_info": {
   "codemirror_mode": {
    "name": "ipython",
    "version": 3
   },
   "file_extension": ".py",
   "mimetype": "text/x-python",
   "name": "python",
   "nbconvert_exporter": "python",
   "pygments_lexer": "ipython3",
   "version": "3.8.3"
  },
  "nbTranslate": {
   "displayLangs": [
    "*"
   ],
   "hotkey": "alt-t",
   "langInMainMenu": true,
   "sourceLang": "en",
   "targetLang": "fr",
   "useGoogleTranslate": true
  },
  "toc": {
   "base_numbering": 1,
   "nav_menu": {},
   "number_sections": true,
   "sideBar": true,
   "skip_h1_title": true,
   "title_cell": "Table of Contents",
   "title_sidebar": "Contents",
   "toc_cell": false,
   "toc_position": {},
   "toc_section_display": true,
   "toc_window_display": true
  },
  "varInspector": {
   "cols": {
    "lenName": 16,
    "lenType": 16,
    "lenVar": 40
   },
   "kernels_config": {
    "python": {
     "delete_cmd_postfix": "",
     "delete_cmd_prefix": "del ",
     "library": "var_list.py",
     "varRefreshCmd": "print(var_dic_list())"
    },
    "r": {
     "delete_cmd_postfix": ") ",
     "delete_cmd_prefix": "rm(",
     "library": "var_list.r",
     "varRefreshCmd": "cat(var_dic_list()) "
    }
   },
   "types_to_exclude": [
    "module",
    "function",
    "builtin_function_or_method",
    "instance",
    "_Feature"
   ],
   "window_display": false
  }
 },
 "nbformat": 4,
 "nbformat_minor": 4
}
