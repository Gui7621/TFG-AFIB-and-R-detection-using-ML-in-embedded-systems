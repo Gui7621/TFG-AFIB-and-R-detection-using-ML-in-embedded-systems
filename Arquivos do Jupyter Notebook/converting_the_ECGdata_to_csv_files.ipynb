{
 "cells": [
  {
   "cell_type": "code",
   "execution_count": 1,
   "id": "detected-tyler",
   "metadata": {},
   "outputs": [],
   "source": [
    "import math\n",
    "import numpy as np\n",
    "import pandas as pd\n",
    "import matplotlib.pyplot as plt\n",
    "import seaborn as sns\n",
    "from scipy.signal import butter, iirnotch, sosfilt, sosfreqz, lfilter, filtfilt\n",
    "import biosppy\n",
    "\n",
    "import tensorflow as tf\n",
    "from tensorflow.keras import Sequential,utils\n",
    "from tensorflow.keras.layers import Input, Flatten, Dense, Conv1D, MaxPooling1D, Dropout\n",
    "from tensorflow.keras.optimizers import Adam\n",
    "from tensorflow.keras.callbacks import EarlyStopping, LearningRateScheduler\n",
    "from tensorflow.keras.models import load_model\n",
    "\n",
    "from sklearn.utils import resample\n",
    "from sklearn.model_selection import train_test_split\n",
    "from sklearn.metrics import classification_report, confusion_matrix\n",
    "\n",
    "plt.rcParams[\"figure.figsize\"] = (10,5)"
   ]
  },
  {
   "cell_type": "code",
   "execution_count": 2,
   "id": "advisory-lithuania",
   "metadata": {},
   "outputs": [],
   "source": [
    "def butter_highpass(cutoff, sample_rate, order, data):\n",
    "    nyq = 0.5 * sample_rate\n",
    "    normal_cutoff = cutoff / nyq\n",
    "    b, a = butter(order, normal_cutoff, btype='high', analog=False)\n",
    "    final_filtered_highpass = filtfilt(b, a, data)\n",
    "    return final_filtered_highpass\n",
    "\n",
    "\n",
    "def butter_lowpass(cutoff, sample_rate, order, data, slice=-1):\n",
    "    nyq = 0.5 * sample_rate\n",
    "    normal_cutoff = cutoff / nyq\n",
    "    b, a = butter(order, normal_cutoff, btype='low', analog=False)\n",
    "    filtered_lowpass = lfilter(b, a, data)\n",
    "    return filtered_lowpass\n",
    "\n",
    "\n",
    "def moving_average_filter(x, w):\n",
    "    m_a_filtered = np.convolve(x, np.ones(w), 'same') / w\n",
    "    return m_a_filtered\n",
    "\n",
    "\n",
    "def filter_data(data, sample_rate=100):\n",
    "    filtered_data_low = butter_lowpass(41.09, sample_rate, 5, data)\n",
    "    filtered_data_high = butter_highpass(0.48, sample_rate, 2, filtered_data_low)\n",
    "    #final_filtered_data = moving_average_filter(filtered_data_high, 3)\n",
    "    return filtered_data_high"
   ]
  },
  {
   "cell_type": "code",
   "execution_count": 3,
   "id": "future-stopping",
   "metadata": {},
   "outputs": [],
   "source": [
    "def plot_conf_matrix(y_test, y_pred):\n",
    "    plt.figure(figsize=(8,6))\n",
    "    sns.heatmap(confusion_matrix(y_test,y_pred), cmap='Blues', annot=True, fmt='g');\n",
    "    plt.title('Confusion Matrix')\n",
    "    plt.xlabel(\"Predictions\")\n",
    "    plt.ylabel(\"Real values\")\n",
    "    plt.show()"
   ]
  },
  {
   "cell_type": "code",
   "execution_count": 4,
   "id": "premier-client",
   "metadata": {},
   "outputs": [
    {
     "data": {
      "text/plain": [
       "(21837, 1006)"
      ]
     },
     "execution_count": 4,
     "metadata": {},
     "output_type": "execute_result"
    }
   ],
   "source": [
    "df = pd.read_csv(\"ECG_Rhythm_Lead_I.csv\")\n",
    "del df[\"Unnamed: 0\"]\n",
    "df.shape"
   ]
  },
  {
   "cell_type": "code",
   "execution_count": 5,
   "id": "banned-center",
   "metadata": {},
   "outputs": [
    {
     "data": {
      "text/plain": [
       "(1514, 1000)"
      ]
     },
     "execution_count": 5,
     "metadata": {},
     "output_type": "execute_result"
    }
   ],
   "source": [
    "df = df.loc[df.rhythm_diag != 'OTHER']\n",
    "df['rhythm_diag'] = df['rhythm_diag'].map(dict(AFIB=1, SR=0))\n",
    "df_minority = df[df['rhythm_diag']==1]\n",
    "df_majority = df[df['rhythm_diag']==0]\n",
    "maj_class = resample(df_majority,\n",
    "                     replace=True,\n",
    "                     n_samples=1514,\n",
    "                     random_state=123)\n",
    "df=pd.concat([df_minority,maj_class])\n",
    "df.rhythm_diag.value_counts()\n",
    "df_sr = df[df.rhythm_diag == 0]\n",
    "df_sr = df_sr.drop(['ecg_id', 'age', 'sex', 'height',\n",
    "                    'weight', 'rhythm_diag'], axis=1)\n",
    "df_sr.reset_index(drop= True ,inplace=True)\n",
    "df_sr.shape\n",
    "df_afib = df[df.rhythm_diag == 1]\n",
    "df_afib = df_afib.drop(\n",
    "    ['ecg_id', 'age', 'sex', 'height', 'weight', 'rhythm_diag'], axis=1)\n",
    "df_afib.reset_index(drop=True, inplace=True)\n",
    "df_afib.shape"
   ]
  },
  {
   "cell_type": "code",
   "execution_count": 6,
   "id": "thick-direction",
   "metadata": {},
   "outputs": [
    {
     "data": {
      "text/html": [
       "<div>\n",
       "<style scoped>\n",
       "    .dataframe tbody tr th:only-of-type {\n",
       "        vertical-align: middle;\n",
       "    }\n",
       "\n",
       "    .dataframe tbody tr th {\n",
       "        vertical-align: top;\n",
       "    }\n",
       "\n",
       "    .dataframe thead th {\n",
       "        text-align: right;\n",
       "    }\n",
       "</style>\n",
       "<table border=\"1\" class=\"dataframe\">\n",
       "  <thead>\n",
       "    <tr style=\"text-align: right;\">\n",
       "      <th></th>\n",
       "      <th>ecg_id</th>\n",
       "      <th>age</th>\n",
       "      <th>sex</th>\n",
       "      <th>height</th>\n",
       "      <th>weight</th>\n",
       "      <th>rhythm_diag</th>\n",
       "      <th>0</th>\n",
       "      <th>1</th>\n",
       "      <th>2</th>\n",
       "      <th>3</th>\n",
       "      <th>...</th>\n",
       "      <th>990</th>\n",
       "      <th>991</th>\n",
       "      <th>992</th>\n",
       "      <th>993</th>\n",
       "      <th>994</th>\n",
       "      <th>995</th>\n",
       "      <th>996</th>\n",
       "      <th>997</th>\n",
       "      <th>998</th>\n",
       "      <th>999</th>\n",
       "    </tr>\n",
       "  </thead>\n",
       "  <tbody>\n",
       "    <tr>\n",
       "      <th>16</th>\n",
       "      <td>17</td>\n",
       "      <td>56.0</td>\n",
       "      <td>0</td>\n",
       "      <td>NaN</td>\n",
       "      <td>NaN</td>\n",
       "      <td>1</td>\n",
       "      <td>-0.041</td>\n",
       "      <td>-0.025</td>\n",
       "      <td>0.041</td>\n",
       "      <td>0.036</td>\n",
       "      <td>...</td>\n",
       "      <td>-0.074</td>\n",
       "      <td>-0.054</td>\n",
       "      <td>-0.036</td>\n",
       "      <td>-0.027</td>\n",
       "      <td>0.020</td>\n",
       "      <td>0.028</td>\n",
       "      <td>0.055</td>\n",
       "      <td>0.063</td>\n",
       "      <td>0.058</td>\n",
       "      <td>0.079</td>\n",
       "    </tr>\n",
       "    <tr>\n",
       "      <th>151</th>\n",
       "      <td>152</td>\n",
       "      <td>70.0</td>\n",
       "      <td>1</td>\n",
       "      <td>NaN</td>\n",
       "      <td>NaN</td>\n",
       "      <td>1</td>\n",
       "      <td>-0.008</td>\n",
       "      <td>-0.029</td>\n",
       "      <td>-0.026</td>\n",
       "      <td>-0.006</td>\n",
       "      <td>...</td>\n",
       "      <td>0.067</td>\n",
       "      <td>0.055</td>\n",
       "      <td>0.037</td>\n",
       "      <td>0.038</td>\n",
       "      <td>0.060</td>\n",
       "      <td>0.084</td>\n",
       "      <td>0.113</td>\n",
       "      <td>0.097</td>\n",
       "      <td>0.076</td>\n",
       "      <td>0.058</td>\n",
       "    </tr>\n",
       "    <tr>\n",
       "      <th>281</th>\n",
       "      <td>282</td>\n",
       "      <td>91.0</td>\n",
       "      <td>0</td>\n",
       "      <td>175.0</td>\n",
       "      <td>NaN</td>\n",
       "      <td>1</td>\n",
       "      <td>-0.262</td>\n",
       "      <td>-0.285</td>\n",
       "      <td>-0.293</td>\n",
       "      <td>-0.271</td>\n",
       "      <td>...</td>\n",
       "      <td>-0.160</td>\n",
       "      <td>-0.173</td>\n",
       "      <td>-0.238</td>\n",
       "      <td>-0.268</td>\n",
       "      <td>-0.270</td>\n",
       "      <td>-0.238</td>\n",
       "      <td>-0.204</td>\n",
       "      <td>-0.230</td>\n",
       "      <td>-0.247</td>\n",
       "      <td>-0.214</td>\n",
       "    </tr>\n",
       "    <tr>\n",
       "      <th>306</th>\n",
       "      <td>307</td>\n",
       "      <td>63.0</td>\n",
       "      <td>0</td>\n",
       "      <td>174.0</td>\n",
       "      <td>64.0</td>\n",
       "      <td>1</td>\n",
       "      <td>-0.043</td>\n",
       "      <td>-0.056</td>\n",
       "      <td>-0.071</td>\n",
       "      <td>-0.105</td>\n",
       "      <td>...</td>\n",
       "      <td>-0.010</td>\n",
       "      <td>-0.021</td>\n",
       "      <td>-0.013</td>\n",
       "      <td>-0.018</td>\n",
       "      <td>-0.010</td>\n",
       "      <td>-0.014</td>\n",
       "      <td>-0.010</td>\n",
       "      <td>-0.064</td>\n",
       "      <td>-0.128</td>\n",
       "      <td>-0.144</td>\n",
       "    </tr>\n",
       "    <tr>\n",
       "      <th>317</th>\n",
       "      <td>318</td>\n",
       "      <td>56.0</td>\n",
       "      <td>0</td>\n",
       "      <td>163.0</td>\n",
       "      <td>94.0</td>\n",
       "      <td>1</td>\n",
       "      <td>-0.199</td>\n",
       "      <td>-0.115</td>\n",
       "      <td>0.145</td>\n",
       "      <td>0.372</td>\n",
       "      <td>...</td>\n",
       "      <td>0.040</td>\n",
       "      <td>0.062</td>\n",
       "      <td>0.082</td>\n",
       "      <td>0.116</td>\n",
       "      <td>0.112</td>\n",
       "      <td>0.115</td>\n",
       "      <td>0.112</td>\n",
       "      <td>0.112</td>\n",
       "      <td>0.074</td>\n",
       "      <td>0.077</td>\n",
       "    </tr>\n",
       "  </tbody>\n",
       "</table>\n",
       "<p>5 rows × 1006 columns</p>\n",
       "</div>"
      ],
      "text/plain": [
       "     ecg_id   age  sex  height  weight  rhythm_diag      0      1      2  \\\n",
       "16       17  56.0    0     NaN     NaN            1 -0.041 -0.025  0.041   \n",
       "151     152  70.0    1     NaN     NaN            1 -0.008 -0.029 -0.026   \n",
       "281     282  91.0    0   175.0     NaN            1 -0.262 -0.285 -0.293   \n",
       "306     307  63.0    0   174.0    64.0            1 -0.043 -0.056 -0.071   \n",
       "317     318  56.0    0   163.0    94.0            1 -0.199 -0.115  0.145   \n",
       "\n",
       "         3  ...    990    991    992    993    994    995    996    997  \\\n",
       "16   0.036  ... -0.074 -0.054 -0.036 -0.027  0.020  0.028  0.055  0.063   \n",
       "151 -0.006  ...  0.067  0.055  0.037  0.038  0.060  0.084  0.113  0.097   \n",
       "281 -0.271  ... -0.160 -0.173 -0.238 -0.268 -0.270 -0.238 -0.204 -0.230   \n",
       "306 -0.105  ... -0.010 -0.021 -0.013 -0.018 -0.010 -0.014 -0.010 -0.064   \n",
       "317  0.372  ...  0.040  0.062  0.082  0.116  0.112  0.115  0.112  0.112   \n",
       "\n",
       "       998    999  \n",
       "16   0.058  0.079  \n",
       "151  0.076  0.058  \n",
       "281 -0.247 -0.214  \n",
       "306 -0.128 -0.144  \n",
       "317  0.074  0.077  \n",
       "\n",
       "[5 rows x 1006 columns]"
      ]
     },
     "execution_count": 6,
     "metadata": {},
     "output_type": "execute_result"
    }
   ],
   "source": [
    "df.head()"
   ]
  },
  {
   "cell_type": "code",
   "execution_count": 6,
   "id": "confirmed-princess",
   "metadata": {},
   "outputs": [
    {
     "data": {
      "text/plain": [
       "0    16782\n",
       "2     3541\n",
       "1     1514\n",
       "Name: rhythm_diag, dtype: int64"
      ]
     },
     "execution_count": 6,
     "metadata": {},
     "output_type": "execute_result"
    }
   ],
   "source": [
    "df['rhythm_diag'] = df['rhythm_diag'].map(dict(OTHER=2,AFIB=1, SR=0))\n",
    "df.rhythm_diag.value_counts()"
   ]
  },
  {
   "cell_type": "code",
   "execution_count": 7,
   "id": "conventional-refund",
   "metadata": {},
   "outputs": [],
   "source": [
    "df_minority = df[df['rhythm_diag']==1]\n",
    "df_majority_SR = df[df['rhythm_diag']==0]\n",
    "df_majority_OTHER = df[df['rhythm_diag']==2]\n",
    "maj_class_SR = resample(df_majority_SR,\n",
    "                         replace=True,\n",
    "                         n_samples=1514,\n",
    "                         random_state=123)\n",
    "maj_class_OTHER = resample(df_majority_OTHER,\n",
    "                             replace=True,\n",
    "                             n_samples=1514,\n",
    "                             random_state=123)\n",
    "df=pd.concat([df_minority,maj_class_SR,maj_class_OTHER])"
   ]
  },
  {
   "cell_type": "code",
   "execution_count": 8,
   "id": "brilliant-aggregate",
   "metadata": {},
   "outputs": [
    {
     "data": {
      "text/plain": [
       "(1514, 1000)"
      ]
     },
     "execution_count": 8,
     "metadata": {},
     "output_type": "execute_result"
    }
   ],
   "source": [
    "df_sr = df[df.rhythm_diag == 0]\n",
    "df_sr = df_sr.drop(['ecg_id', 'age', 'sex', 'height',\n",
    "                    'weight', 'rhythm_diag'], axis=1)\n",
    "df_sr.reset_index(drop= True ,inplace=True)\n",
    "df_sr.shape"
   ]
  },
  {
   "cell_type": "code",
   "execution_count": 9,
   "id": "qualified-pocket",
   "metadata": {},
   "outputs": [
    {
     "data": {
      "text/plain": [
       "(1514, 1000)"
      ]
     },
     "execution_count": 9,
     "metadata": {},
     "output_type": "execute_result"
    }
   ],
   "source": [
    "df_afib = df[df.rhythm_diag == 1]\n",
    "df_afib = df_afib.drop(\n",
    "    ['ecg_id', 'age', 'sex', 'height', 'weight', 'rhythm_diag'], axis=1)\n",
    "df_afib.reset_index(drop=True, inplace=True)\n",
    "df_afib.shape"
   ]
  },
  {
   "cell_type": "code",
   "execution_count": 10,
   "id": "junior-vehicle",
   "metadata": {},
   "outputs": [
    {
     "data": {
      "text/plain": [
       "(1514, 1000)"
      ]
     },
     "execution_count": 10,
     "metadata": {},
     "output_type": "execute_result"
    }
   ],
   "source": [
    "df_other = df[df.rhythm_diag == 2]\n",
    "df_other = df_other.drop(\n",
    "    ['ecg_id', 'age', 'sex', 'height', 'weight', 'rhythm_diag'], axis=1)\n",
    "df_other.reset_index(drop=True, inplace=True)\n",
    "df_other.shape"
   ]
  },
  {
   "cell_type": "code",
   "execution_count": 11,
   "id": "protective-shopping",
   "metadata": {},
   "outputs": [],
   "source": [
    "X_sr = df_sr.values\n",
    "X_afib = df_afib.values\n",
    "X_other = df_other.values"
   ]
  },
  {
   "cell_type": "code",
   "execution_count": 12,
   "id": "selective-directory",
   "metadata": {},
   "outputs": [],
   "source": [
    "def maior_valor_sinal(sinal):\n",
    "    maior_valor = 0\n",
    "    for i in range(len(sinal)):\n",
    "        if(sinal[i] > maior_valor):\n",
    "            maior_valor = sinal[i]\n",
    "    return maior_valor"
   ]
  },
  {
   "cell_type": "code",
   "execution_count": 13,
   "id": "solid-commons",
   "metadata": {},
   "outputs": [],
   "source": [
    "def R_peak_detection(sinal):\n",
    "    sinal = filter_data(sinal,100)\n",
    "    indice_aux = 0\n",
    "    indice_maximo = []\n",
    "    valor_aux = 0\n",
    "    valor_maximo = []\n",
    "    flag_contagem = 0\n",
    "    indice_temp = 0\n",
    "    valor_temp = 0\n",
    "    i = 0\n",
    "    valor_referencia = maior_valor_sinal(sinal)*0.5\n",
    "    #print(valor_referencia)\n",
    "    while i < len(sinal):\n",
    "        if(sinal[i] > (valor_referencia)):\n",
    "            indice_aux = i;\n",
    "            valor_aux = sinal[i];\n",
    "            if((indice_aux + 5) > len(sinal)):\n",
    "                pass\n",
    "            else:\n",
    "                for x in range(5):\n",
    "                    if(sinal[indice_aux+x] > valor_aux):\n",
    "                        indice_temp = indice_aux + x\n",
    "                        valor_temp = sinal[indice_aux + x]\n",
    "                        valor_aux = sinal[indice_aux+x]\n",
    "                    else:\n",
    "                        flag_contagem = flag_contagem + 1\n",
    "                indice_maximo.append(indice_temp) \n",
    "                valor_maximo.append(valor_temp) \n",
    "                if(flag_contagem == 5):\n",
    "                    indice_maximo.append(i) \n",
    "                    valor_maximo.append(sinal[i]) \n",
    "                flag_contagem = 0\n",
    "                indice_temp = 0\n",
    "                valor_temp = 0\n",
    "                indice_aux = 0\n",
    "                valor_aux = 0\n",
    "                #print(indice_temp+i)\n",
    "                #print(indice_maximo)\n",
    "                i = i + 30\n",
    "        i = i + 1\n",
    "    contador_zeros = 0\n",
    "    for j in range (len(indice_maximo)):\n",
    "        if(indice_maximo[j] == 0):\n",
    "            contador_zeros = contador_zeros + 1\n",
    "    for k in range (len(indice_maximo) - contador_zeros):\n",
    "        if(indice_maximo[k] == 0):\n",
    "            indice_maximo = np.delete(indice_maximo, k)\n",
    "    return indice_maximo"
   ]
  },
  {
   "cell_type": "code",
   "execution_count": 14,
   "id": "honest-gilbert",
   "metadata": {},
   "outputs": [],
   "source": [
    "def Get_Heartbeats(sinal, frequencia_amostragem, plot = True):\n",
    "    picos_R = R_peak_detection(sinal)\n",
    "    heartbeats = []\n",
    "    indice_min = 0\n",
    "    indice_max = 0\n",
    "    zero_points_after = 0\n",
    "    zero_points_before = 0\n",
    "    zero_points_aux = 0\n",
    "    zero_points_aux_1 = 0\n",
    "    zero_points_aux_2 = 0\n",
    "    hb = []\n",
    "    tamanho_sinal = len(sinal)\n",
    "    tamanho_picos = len(picos_R)-1\n",
    "    for i in range(1,tamanho_picos):\n",
    "        difference_peaks_before = picos_R[i]-picos_R[i-1]\n",
    "        difference_peaks_after = picos_R[i+1]-picos_R[i]\n",
    "        if((difference_peaks_before >= 25) and (difference_peaks_after >= 35)):\n",
    "            indice_min = picos_R[i] - (0.25*frequencia_amostragem)\n",
    "            indice_max = picos_R[i] + (0.35*frequencia_amostragem)\n",
    "            heartbeats.append(sinal[int(indice_min):int(indice_max)])\n",
    "        elif((difference_peaks_before) >= 25 and (difference_peaks_after < 35)):\n",
    "            zero_points_after = 35 - int(difference_peaks_after/2)\n",
    "            zero_points_aux = np.zeros(zero_points_after)\n",
    "            indice_min = picos_R[i] - (0.25*frequencia_amostragem)\n",
    "            indice_max = picos_R[i] + int(difference_peaks_after/2)\n",
    "            heartbeats.append(np.concatenate((sinal[int(indice_min):int(indice_max)],zero_points_aux), axis=None))\n",
    "        elif((difference_peaks_before < 25) and (difference_peaks_after >= 35)):\n",
    "            zero_points_before = 25 - int(difference_peaks_before/2)\n",
    "            zero_points_aux = np.zeros(zero_points_before)\n",
    "            indice_min = picos_R[i] - int(difference_peaks_before/2)\n",
    "            indice_max = picos_R[i] + (0.35*frequencia_amostragem) \n",
    "            heartbeats.append(np.concatenate((zero_points_aux, sinal[int(indice_min):int(indice_max)]), axis=None))\n",
    "        elif((difference_peaks_before < 25) and (difference_peaks_after < 35)):\n",
    "            zero_points_before = 25 - int(difference_peaks_before/2)\n",
    "            zero_points_after = 35 - int(difference_peaks_after/2)\n",
    "            zero_points_aux_1 = np.zeros(zero_points_before)\n",
    "            zero_points_aux_2 = np.zeros(zero_points_after)\n",
    "            indice_min = picos_R[i] - int(difference_peaks_before/2)\n",
    "            indice_max = picos_R[i] + int(difference_peaks_after/2)\n",
    "            heartbeats.append(np.concatenate((zero_points_aux_1, sinal[int(indice_min):int(indice_max)], zero_points_aux_2), axis=None))\n",
    "    heartbeats = np.array(heartbeats)\n",
    "    #print(heartbeats.shape)\n",
    "    if plot:\n",
    "        for j in range(len(heartbeats)):\n",
    "            plt.plot(heartbeats[j])\n",
    "    return heartbeats"
   ]
  },
  {
   "cell_type": "code",
   "execution_count": 15,
   "id": "legal-ethiopia",
   "metadata": {},
   "outputs": [],
   "source": [
    "def Get_Complete_Heartbeats(sinal, frequencia_amostragem, plot = True):\n",
    "    templates = []\n",
    "    templates_aux = []\n",
    "    hb = []\n",
    "    hb_aux = []\n",
    "    for i in range(len(sinal)): \n",
    "        hb_aux = Get_Heartbeats(sinal[i], 100, False)\n",
    "        for j in range(len(hb_aux)):\n",
    "            hb.append(hb_aux[j])\n",
    "    return np.array(hb)"
   ]
  },
  {
   "cell_type": "code",
   "execution_count": 16,
   "id": "younger-subcommittee",
   "metadata": {},
   "outputs": [
    {
     "data": {
      "text/plain": [
       "(14965, 100)"
      ]
     },
     "execution_count": 16,
     "metadata": {},
     "output_type": "execute_result"
    }
   ],
   "source": [
    "X_sr = Get_Complete_Heartbeats(X_sr, 100, plot = False)\n",
    "X_sr.shape"
   ]
  },
  {
   "cell_type": "code",
   "execution_count": 17,
   "id": "unavailable-enough",
   "metadata": {},
   "outputs": [
    {
     "data": {
      "text/plain": [
       "(14965, 3)"
      ]
     },
     "execution_count": 17,
     "metadata": {},
     "output_type": "execute_result"
    }
   ],
   "source": [
    "y_sr = []\n",
    "y_sr_content = [0,1,0]\n",
    "for i in range(len(X_sr)):\n",
    "    y_sr.append(y_sr_content)\n",
    "y_sr = np.array(y_sr)\n",
    "y_sr.shape"
   ]
  },
  {
   "cell_type": "code",
   "execution_count": 18,
   "id": "sustained-ghost",
   "metadata": {},
   "outputs": [
    {
     "data": {
      "text/plain": [
       "(18567, 100)"
      ]
     },
     "execution_count": 18,
     "metadata": {},
     "output_type": "execute_result"
    }
   ],
   "source": [
    "X_afib = Get_Complete_Heartbeats(X_afib, 100, plot = False)\n",
    "X_afib.shape"
   ]
  },
  {
   "cell_type": "code",
   "execution_count": 19,
   "id": "fixed-invitation",
   "metadata": {},
   "outputs": [
    {
     "data": {
      "text/plain": [
       "(18567, 3)"
      ]
     },
     "execution_count": 19,
     "metadata": {},
     "output_type": "execute_result"
    }
   ],
   "source": [
    "y_afib = []\n",
    "y_afib_content = [0,0,1]\n",
    "for i in range(len(X_afib)):\n",
    "    y_afib.append(y_afib_content)\n",
    "y_afib = np.array(y_afib)\n",
    "y_afib.shape"
   ]
  },
  {
   "cell_type": "code",
   "execution_count": 20,
   "id": "subjective-chassis",
   "metadata": {},
   "outputs": [
    {
     "data": {
      "text/plain": [
       "(16186, 100)"
      ]
     },
     "execution_count": 20,
     "metadata": {},
     "output_type": "execute_result"
    }
   ],
   "source": [
    "X_other = Get_Complete_Heartbeats(X_other, 100, plot = False)\n",
    "X_other.shape"
   ]
  },
  {
   "cell_type": "code",
   "execution_count": 21,
   "id": "alert-corrections",
   "metadata": {},
   "outputs": [
    {
     "data": {
      "text/plain": [
       "(16186, 3)"
      ]
     },
     "execution_count": 21,
     "metadata": {},
     "output_type": "execute_result"
    }
   ],
   "source": [
    "y_other = []\n",
    "y_other_content = [1,0,0]\n",
    "for i in range(len(X_other)):\n",
    "    y_other.append(y_other_content)\n",
    "y_other = np.array(y_other)\n",
    "y_other.shape"
   ]
  },
  {
   "cell_type": "code",
   "execution_count": 23,
   "id": "directed-drama",
   "metadata": {},
   "outputs": [
    {
     "data": {
      "image/png": "[encoded data removed]",
      "text/plain": [
       "<Figure size 720x360 with 1 Axes>"
      ]
     },
     "metadata": {
      "needs_background": "light"
     },
     "output_type": "display_data"
    }
   ],
   "source": [
    "for i in range(100):\n",
    "    plt.plot(X_other[i])"
   ]
  },
  {
   "cell_type": "code",
   "execution_count": 26,
   "id": "hired-nurse",
   "metadata": {},
   "outputs": [],
   "source": [
    "X_other = X_other[0:50]"
   ]
  },
  {
   "cell_type": "code",
   "execution_count": 27,
   "id": "regulated-milton",
   "metadata": {},
   "outputs": [
    {
     "data": {
      "text/plain": [
       "(50, 100)"
      ]
     },
     "execution_count": 27,
     "metadata": {},
     "output_type": "execute_result"
    }
   ],
   "source": [
    "X_other.shape"
   ]
  },
  {
   "cell_type": "code",
   "execution_count": 30,
   "id": "flush-affiliation",
   "metadata": {},
   "outputs": [],
   "source": [
    "from numpy import savetxt\n",
    "\n",
    "for i in range(len(X_other)):\n",
    "    savetxt('../data/heart_beat_out_data/other/afib_' +\n",
    "            str(i)+'.csv', X_other[i], delimiter=',')"
   ]
  },
  {
   "cell_type": "code",
   "execution_count": 31,
   "id": "acute-attraction",
   "metadata": {},
   "outputs": [],
   "source": [
    "for i in range(len(X_other)):\n",
    "    filename_in = \"../data/heart_beat_out_data/other/afib_\"+str(i)+\".csv\"\n",
    "    filename_out = \"../data/heart_beat_out_data/other_out/afib.afib_\"+str(i)+\".csv\"\n",
    "    df_sr = pd.read_csv(filename_in, names=['ecg'])\n",
    "    df_sr.reset_index(inplace=True)\n",
    "    savetxt(filename_out, df_sr, delimiter=',',\n",
    "            header=\"timestamp, ecg\", comments='')"
   ]
  }
 ],
 "metadata": {
  "kernelspec": {
   "display_name": "Python 3",
   "language": "python",
   "name": "python3"
  },
  "language_info": {
   "codemirror_mode": {
    "name": "ipython",
    "version": 3
   },
   "file_extension": ".py",
   "mimetype": "text/x-python",
   "name": "python",
   "nbconvert_exporter": "python",
   "pygments_lexer": "ipython3",
   "version": "3.8.3"
  }
 },
 "nbformat": 4,
 "nbformat_minor": 5
}
